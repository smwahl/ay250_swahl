{
 "metadata": {
  "name": ""
 },
 "nbformat": 3,
 "nbformat_minor": 0,
 "worksheets": [
  {
   "cells": [
    {
     "cell_type": "code",
     "collapsed": false,
     "input": [
      "# Testing google image search api\n",
      "\n",
      "import urllib2\n",
      "import simplejson\n",
      "\n",
      "searchstr=\"barack obama\"\n",
      "userip=\"50.148.162.235\"\n",
      "searchstr=searchstr.replace(' ','%20')\n",
      "\n",
      "\n",
      "url = ('https://ajax.googleapis.com/ajax/services/search/images?' +\n",
      "       'v=1.0&q={0}&userip={1}'.format(searchstr,userip) )\n",
      "print url\n",
      "\n",
      "request = urllib2.Request(url, None)\n",
      "response = urllib2.urlopen(request)\n",
      "\n",
      "# Process the JSON string.\n",
      "results = simplejson.load(response)"
     ],
     "language": "python",
     "metadata": {},
     "outputs": [
      {
       "output_type": "stream",
       "stream": "stdout",
       "text": [
        "https://ajax.googleapis.com/ajax/services/search/images?v=1.0&q=barack%20obama&userip=50.148.162.235\n"
       ]
      }
     ],
     "prompt_number": 22
    },
    {
     "cell_type": "code",
     "collapsed": false,
     "input": [
      "# now have some fun with the results...\n",
      "results['responseData']['results'][0]['url']"
     ],
     "language": "python",
     "metadata": {},
     "outputs": [
      {
       "metadata": {},
       "output_type": "pyout",
       "prompt_number": 31,
       "text": [
        "'http://upload.wikimedia.org/wikipedia/commons/8/8d/President_Barack_Obama.jpg'"
       ]
      }
     ],
     "prompt_number": 31
    },
    {
     "cell_type": "code",
     "collapsed": false,
     "input": [
      "import matplotlib, sys\n",
      "import Tkinter as Tk\n",
      "matplotlib.use('TkAgg')\n",
      "from matplotlib.backends.backend_tkagg import FigureCanvasTkAgg, NavigationToolbar2TkAgg\n",
      "import matplotlib.image as mpimg\n",
      "from scipy import ndimage\n",
      "from matplotlib import pylab as plt\n",
      "#if sys.version_info[0] < 3:\n",
      "#\u00a0 \u00a0 import Tkinter as Tk\n",
      "#else:\n",
      "#\u00a0 \u00a0 import tkinter as Tk\n",
      "root = Tk.Tk()\n",
      "root.image = mpimg.imread('owl_0010.jpg')\n",
      "type(root.image)"
     ],
     "language": "python",
     "metadata": {},
     "outputs": [
      {
       "metadata": {},
       "output_type": "pyout",
       "prompt_number": 2,
       "text": [
        "numpy.ndarray"
       ]
      }
     ],
     "prompt_number": 2
    },
    {
     "cell_type": "code",
     "collapsed": false,
     "input": [
      "fig = plt.figure()\n",
      "im = plt.imshow(root.image)\n",
      "ax = plt.gca()\n",
      "canvas = FigureCanvasTkAgg(fig, master=root)\n",
      "canvas.show()\n",
      "canvas.get_tk_widget().pack(side=Tk.TOP, fill=Tk.BOTH, expand=1)\n",
      "toolbar = NavigationToolbar2TkAgg( canvas, root )\n",
      "toolbar.update()\n",
      "canvas._tkcanvas.pack(side=Tk.TOP, fill=Tk.BOTH, expand=1)"
     ],
     "language": "python",
     "metadata": {},
     "outputs": [],
     "prompt_number": 4
    },
    {
     "cell_type": "code",
     "collapsed": false,
     "input": [
      "%load embedding_in_tk.py\n"
     ],
     "language": "python",
     "metadata": {},
     "outputs": [],
     "prompt_number": 3
    },
    {
     "cell_type": "code",
     "collapsed": false,
     "input": [
      "# Modifying code for including matplotlib figures in Tkinter guis\n",
      "# from \n",
      "\n",
      "import matplotlib\n",
      "matplotlib.use('TkAgg')\n",
      "\n",
      "from matplotlib.backends.backend_tkagg import FigureCanvasTkAgg, NavigationToolbar2TkAgg\n",
      "# implement the default mpl key bindings\n",
      "from matplotlib.backend_bases import key_press_handler\n",
      "from matplotlib.figure import Figure\n",
      "import matplotlib.image as mpimg\n",
      "from scipy import ndimage\n",
      "from matplotlib import pylab as plt\n",
      "\n",
      "from Tkinter import *\n",
      "import numpy as np\n",
      "import scipy as sp\n",
      "import urllib2\n",
      "import simplejson\n",
      "from matplotlib import pyplot as plt"
     ],
     "language": "python",
     "metadata": {},
     "outputs": [],
     "prompt_number": 6
    },
    {
     "cell_type": "code",
     "collapsed": false,
     "input": [
      "import sys\n",
      "if sys.version_info[0] < 3:\n",
      "    import Tkinter as Tk\n",
      "else:\n",
      "    import tkinter as Tk\n",
      "\n",
      "root = Tk.Tk()\n",
      "root.wm_title(\"Embedding in TK\")\n",
      "\n",
      "f = Figure(figsize=(5,4), dpi=100)\n",
      "a = f.add_subplot(111)\n",
      "\n",
      "# load image\n",
      "root.image = mpimg.imread('owl_0010.jpg')\n",
      "#root.image = np.zeros([500,400])\n",
      "\n",
      "# display image in subplot\n",
      "a.imshow(root.image)\n",
      "\n",
      "# a tk.DrawingArea\n",
      "canvas = FigureCanvasTkAgg(f, master=root)\n",
      "canvas.show()\n",
      "#canvas.get_tk_widget().pack(side=Tk.TOP, fill=Tk.BOTH, expand=1)\n",
      "\n",
      "toolbar = NavigationToolbar2TkAgg( canvas, root )\n",
      "toolbar.update()\n",
      "#canvas._tkcanvas.pack(side=Tk.TOP, fill=Tk.BOTH, expand=1)\n",
      "\n",
      "#def on_key_event(event):\n",
      "#    print('you pressed %s'%event.key)\n",
      "#    key_press_handler(event, canvas, toolbar)\n",
      "\n",
      "#canvas.mpl_connect('key_press_event', on_key_event)\n",
      "\n",
      "def _quit():\n",
      "    root.quit()     # stops mainloop\n",
      "    root.destroy()  # this is necessary on Windows to prevent\n",
      "                    # Fatal Python Error: PyEval_RestoreThread: NULL tstate\n",
      "\n",
      "q = Tk.Button(master=root, text='Quit', command=_quit)\n",
      "#q.pack(side=Tk.BOTTOM)\n",
      "\n",
      "#Tk.mainloop()\n",
      "# If you put root.destroy() here, it will cause an error if\n",
      "# the window is closed with the window manager.\n",
      "\n",
      "\n",
      "\n",
      "\n",
      "#root = Tk()\n",
      "searchstr = StringVar()\n",
      "imurl = StringVar()\n",
      "searchstr.set(\"Enter search terms\")\n",
      "imurl.set(\"\")\n",
      "\n",
      "def changing(*args):\n",
      "    print \"new value for myvar:\", searchstr.get()\n",
      "\n",
      "def do_search(*args):\n",
      "  # Find an image using Google image search api\n",
      "    s.configure(state=DISABLED)\n",
      "    e.configure(state=DISABLED)\n",
      "\n",
      "    \n",
      "    mystr = searchstr.get()\n",
      "    userip=\"50.148.162.235\"\n",
      "    mystr = mystr.replace(' ','%20')\n",
      "    #print mystr\n",
      "\n",
      "    search_url = ('https://ajax.googleapis.com/ajax/services/search/images?' +\n",
      "            'v=1.0&q={0}&userip={1}'.format(mystr,userip) )\n",
      "    print \"Search Url:\",search_url\n",
      "\n",
      "    try:\n",
      "        request = urllib2.Request(search_url, None)\n",
      "        response = urllib2.urlopen(request)\n",
      "\n",
      "        # Process the JSON string.\n",
      "        results = simplejson.load(response)\n",
      "        #print results\n",
      "        url = results['responseData']['results'][0]['url']\n",
      "        print \"Source Url:\", url\n",
      "        \n",
      "        imgData = urllib2.urlopen(url).read()\n",
      "        \n",
      "        fout = open('dl_image.jpg','wb')\n",
      "        fout.write(imgData)\n",
      "        fout.close()\n",
      "   \n",
      "    except:\n",
      "        url = \"No images found.\"\n",
      "        img_data = np.zeros([500,400])\n",
      "        sp.misc.imsave('dl_image.jpg', img_data)\n",
      "    \n",
      "    # display the source url\n",
      "    imurl.set(str(url))\n",
      "\n",
      "    # load image\n",
      "    root.image = sp.misc.imread('dl_image.jpg')\n",
      "    print root.image.shape\n",
      "    \n",
      "    # display image in subplot\n",
      "    a.imshow(root.image)\n",
      "    canvas.show()\n",
      "    toolbar.update()\n",
      "\n",
      "    \n",
      "    # set the button state back to normal (enabled) and update all the Event Loop Tasks\n",
      "    e.configure(state=NORMAL)\n",
      "    s.configure(state=NORMAL)\n",
      "    root.update()\n",
      "    \n",
      "\n",
      "e = Entry(root, width=50, textvariable=searchstr)\n",
      "s  = Button(root, text=\"Search\",command=do_search)\n",
      "u  = Label(root,width=100,height=5, textvariable=imurl)\n",
      "\n",
      "searchstr.trace(\"w\",changing) ; print 'Tkinter calls myvar:', searchstr._name\n",
      "\n",
      "e.pack()\n",
      "s.pack()\n",
      "u.pack()\n",
      "\n",
      "canvas.get_tk_widget().pack(side=TOP, fill=BOTH, expand=1)\n",
      "canvas._tkcanvas.pack(side=TOP, fill=BOTH, expand=1)\n",
      "q.pack(side=BOTTOM)\n",
      "\n",
      "\n",
      "root.mainloop()"
     ],
     "language": "python",
     "metadata": {},
     "outputs": [
      {
       "output_type": "stream",
       "stream": "stdout",
       "text": [
        "Tkinter calls myvar: PY_VAR7\n",
        "new value for myvar:"
       ]
      },
      {
       "output_type": "stream",
       "stream": "stdout",
       "text": [
        " \n",
        "new value for myvar: o\n",
        "new value for myvar:"
       ]
      },
      {
       "output_type": "stream",
       "stream": "stdout",
       "text": [
        " ob\n",
        "new value for myvar:"
       ]
      },
      {
       "output_type": "stream",
       "stream": "stdout",
       "text": [
        " oba\n",
        "new value for myvar:"
       ]
      },
      {
       "output_type": "stream",
       "stream": "stdout",
       "text": [
        " obam\n",
        "new value for myvar:"
       ]
      },
      {
       "output_type": "stream",
       "stream": "stdout",
       "text": [
        " obama\n",
        "new value for myvar:"
       ]
      },
      {
       "output_type": "stream",
       "stream": "stdout",
       "text": [
        " \n",
        "new value for myvar:"
       ]
      },
      {
       "output_type": "stream",
       "stream": "stdout",
       "text": [
        " d\n",
        "new value for myvar:"
       ]
      },
      {
       "output_type": "stream",
       "stream": "stdout",
       "text": [
        " dr\n",
        "new value for myvar:"
       ]
      },
      {
       "output_type": "stream",
       "stream": "stdout",
       "text": [
        " dro\n",
        "new value for myvar:"
       ]
      },
      {
       "output_type": "stream",
       "stream": "stdout",
       "text": [
        " drow\n",
        "new value for myvar:"
       ]
      },
      {
       "output_type": "stream",
       "stream": "stdout",
       "text": [
        " drow \n",
        "new value for myvar:"
       ]
      },
      {
       "output_type": "stream",
       "stream": "stdout",
       "text": [
        " drow r\n",
        "new value for myvar:"
       ]
      },
      {
       "output_type": "stream",
       "stream": "stdout",
       "text": [
        " drow ra\n",
        "new value for myvar:"
       ]
      },
      {
       "output_type": "stream",
       "stream": "stdout",
       "text": [
        " drow ran\n",
        "new value for myvar:"
       ]
      },
      {
       "output_type": "stream",
       "stream": "stdout",
       "text": [
        " drow rang\n",
        "new value for myvar:"
       ]
      },
      {
       "output_type": "stream",
       "stream": "stdout",
       "text": [
        " drow range\n",
        "new value for myvar:"
       ]
      },
      {
       "output_type": "stream",
       "stream": "stdout",
       "text": [
        " drow ranger\n",
        "Search Url:"
       ]
      },
      {
       "output_type": "stream",
       "stream": "stdout",
       "text": [
        " https://ajax.googleapis.com/ajax/services/search/images?v=1.0&q=drow%20ranger&userip=50.148.162.235\n",
        "Source Url:"
       ]
      },
      {
       "output_type": "stream",
       "stream": "stdout",
       "text": [
        " http://th01.deviantart.net/fs70/PRE/f/2011/335/8/3/836beb1d2ad773e54dc4023d4eb68b07-d4hqbzk.jpg\n",
        "(1101, 725, 3)"
       ]
      },
      {
       "output_type": "stream",
       "stream": "stdout",
       "text": [
        "\n",
        "new value for myvar:"
       ]
      },
      {
       "output_type": "stream",
       "stream": "stdout",
       "text": [
        " \n",
        "new value for myvar: s\n",
        "new value for myvar:"
       ]
      },
      {
       "output_type": "stream",
       "stream": "stdout",
       "text": [
        " si\n",
        "new value for myvar:"
       ]
      },
      {
       "output_type": "stream",
       "stream": "stdout",
       "text": [
        " sib\n",
        "new value for myvar:"
       ]
      },
      {
       "output_type": "stream",
       "stream": "stdout",
       "text": [
        " sibe\n",
        "new value for myvar:"
       ]
      },
      {
       "output_type": "stream",
       "stream": "stdout",
       "text": [
        " sibel\n",
        "new value for myvar:"
       ]
      },
      {
       "output_type": "stream",
       "stream": "stdout",
       "text": [
        " sibel \n",
        "new value for myvar:"
       ]
      },
      {
       "output_type": "stream",
       "stream": "stdout",
       "text": [
        " sibel k\n",
        "new value for myvar:"
       ]
      },
      {
       "output_type": "stream",
       "stream": "stdout",
       "text": [
        " sibel ke\n",
        "new value for myvar:"
       ]
      },
      {
       "output_type": "stream",
       "stream": "stdout",
       "text": [
        " sibel kek\n",
        "new value for myvar:"
       ]
      },
      {
       "output_type": "stream",
       "stream": "stdout",
       "text": [
        " sibel keki\n",
        "new value for myvar:"
       ]
      },
      {
       "output_type": "stream",
       "stream": "stdout",
       "text": [
        " sibel kekil\n",
        "new value for myvar:"
       ]
      },
      {
       "output_type": "stream",
       "stream": "stdout",
       "text": [
        " sibel kekill\n",
        "new value for myvar:"
       ]
      },
      {
       "output_type": "stream",
       "stream": "stdout",
       "text": [
        " sibel kekilli\n",
        "Search Url:"
       ]
      },
      {
       "output_type": "stream",
       "stream": "stdout",
       "text": [
        " https://ajax.googleapis.com/ajax/services/search/images?v=1.0&q=sibel%20kekilli&userip=50.148.162.235\n",
        "Source Url:"
       ]
      },
      {
       "output_type": "stream",
       "stream": "stdout",
       "text": [
        " http://images1.wikia.nocookie.net/__cb20110422003121/gameofthrones/images/8/80/Sibel_Kekilli_0001.jpg\n",
        "(367, 250, 3)"
       ]
      },
      {
       "output_type": "stream",
       "stream": "stdout",
       "text": [
        "\n",
        "new value for myvar:"
       ]
      },
      {
       "output_type": "stream",
       "stream": "stdout",
       "text": [
        " \n",
        "new value for myvar: b\n",
        "new value for myvar:"
       ]
      },
      {
       "output_type": "stream",
       "stream": "stdout",
       "text": [
        " br\n",
        "new value for myvar:"
       ]
      },
      {
       "output_type": "stream",
       "stream": "stdout",
       "text": [
        " bra\n",
        "new value for myvar:"
       ]
      },
      {
       "output_type": "stream",
       "stream": "stdout",
       "text": [
        " brad\n",
        "new value for myvar:"
       ]
      },
      {
       "output_type": "stream",
       "stream": "stdout",
       "text": [
        " brad \n",
        "new value for myvar:"
       ]
      },
      {
       "output_type": "stream",
       "stream": "stdout",
       "text": [
        " brad p\n",
        "new value for myvar:"
       ]
      },
      {
       "output_type": "stream",
       "stream": "stdout",
       "text": [
        " brad pi\n",
        "new value for myvar:"
       ]
      },
      {
       "output_type": "stream",
       "stream": "stdout",
       "text": [
        " brad pit\n",
        "new value for myvar:"
       ]
      },
      {
       "output_type": "stream",
       "stream": "stdout",
       "text": [
        " brad pitt\n",
        "Search Url:"
       ]
      },
      {
       "output_type": "stream",
       "stream": "stdout",
       "text": [
        " https://ajax.googleapis.com/ajax/services/search/images?v=1.0&q=brad%20pitt&userip=50.148.162.235\n",
        "Source Url:"
       ]
      },
      {
       "output_type": "stream",
       "stream": "stdout",
       "text": [
        " http://www.hdwallpapers3d.com/wp-content/uploads/2013/05/Brad-Pitt-Facial-Hair.jpg\n",
        "(1600, 1163, 3)"
       ]
      },
      {
       "output_type": "stream",
       "stream": "stdout",
       "text": [
        "\n",
        "new value for myvar:"
       ]
      },
      {
       "output_type": "stream",
       "stream": "stdout",
       "text": [
        " \n",
        "new value for myvar: M\n",
        "new value for myvar:"
       ]
      },
      {
       "output_type": "stream",
       "stream": "stdout",
       "text": [
        " Me\n",
        "new value for myvar:"
       ]
      },
      {
       "output_type": "stream",
       "stream": "stdout",
       "text": [
        " Mer\n",
        "new value for myvar:"
       ]
      },
      {
       "output_type": "stream",
       "stream": "stdout",
       "text": [
        " Merc\n",
        "new value for myvar:"
       ]
      },
      {
       "output_type": "stream",
       "stream": "stdout",
       "text": [
        " Mercu\n",
        "new value for myvar:"
       ]
      },
      {
       "output_type": "stream",
       "stream": "stdout",
       "text": [
        " Mercur\n",
        "new value for myvar:"
       ]
      },
      {
       "output_type": "stream",
       "stream": "stdout",
       "text": [
        " Mercury\n",
        "Search Url:"
       ]
      },
      {
       "output_type": "stream",
       "stream": "stdout",
       "text": [
        " https://ajax.googleapis.com/ajax/services/search/images?v=1.0&q=Mercury&userip=50.148.162.235\n",
        "Source Url:"
       ]
      },
      {
       "output_type": "stream",
       "stream": "stdout",
       "text": [
        " http://upload.wikimedia.org/wikipedia/commons/3/3f/Mercury_Globe-MESSENGER_mosaic_centered_at_0degN-0degE.jpg\n",
        "(2147, 2147, 3)"
       ]
      },
      {
       "output_type": "stream",
       "stream": "stdout",
       "text": [
        "\n",
        "new value for myvar:"
       ]
      },
      {
       "output_type": "stream",
       "stream": "stdout",
       "text": [
        " Mercur\n",
        "new value for myvar:"
       ]
      },
      {
       "output_type": "stream",
       "stream": "stdout",
       "text": [
        " Mercu\n",
        "new value for myvar:"
       ]
      },
      {
       "output_type": "stream",
       "stream": "stdout",
       "text": [
        " Merc\n",
        "new value for myvar:"
       ]
      },
      {
       "output_type": "stream",
       "stream": "stdout",
       "text": [
        " Mer\n",
        "new value for myvar:"
       ]
      },
      {
       "output_type": "stream",
       "stream": "stdout",
       "text": [
        " Me\n",
        "new value for myvar:"
       ]
      },
      {
       "output_type": "stream",
       "stream": "stdout",
       "text": [
        " M\n",
        "new value for myvar:"
       ]
      },
      {
       "output_type": "stream",
       "stream": "stdout",
       "text": [
        " \n",
        "new value for myvar:"
       ]
      },
      {
       "output_type": "stream",
       "stream": "stdout",
       "text": [
        " S\n",
        "new value for myvar:"
       ]
      },
      {
       "output_type": "stream",
       "stream": "stdout",
       "text": [
        " SH\n",
        "new value for myvar:"
       ]
      },
      {
       "output_type": "stream",
       "stream": "stdout",
       "text": [
        " SHa\n",
        "new value for myvar:"
       ]
      },
      {
       "output_type": "stream",
       "stream": "stdout",
       "text": [
        " SHak\n",
        "new value for myvar:"
       ]
      },
      {
       "output_type": "stream",
       "stream": "stdout",
       "text": [
        " SHaki\n",
        "new value for myvar:"
       ]
      },
      {
       "output_type": "stream",
       "stream": "stdout",
       "text": [
        " SHakir\n",
        "new value for myvar:"
       ]
      },
      {
       "output_type": "stream",
       "stream": "stdout",
       "text": [
        " SHaki\n",
        "new value for myvar:"
       ]
      },
      {
       "output_type": "stream",
       "stream": "stdout",
       "text": [
        " SHak\n",
        "new value for myvar:"
       ]
      },
      {
       "output_type": "stream",
       "stream": "stdout",
       "text": [
        " SHa\n",
        "new value for myvar:"
       ]
      },
      {
       "output_type": "stream",
       "stream": "stdout",
       "text": [
        " SH\n",
        "new value for myvar:"
       ]
      },
      {
       "output_type": "stream",
       "stream": "stdout",
       "text": [
        " S\n",
        "new value for myvar:"
       ]
      },
      {
       "output_type": "stream",
       "stream": "stdout",
       "text": [
        " Sh\n",
        "new value for myvar:"
       ]
      },
      {
       "output_type": "stream",
       "stream": "stdout",
       "text": [
        " Sha\n",
        "new value for myvar:"
       ]
      },
      {
       "output_type": "stream",
       "stream": "stdout",
       "text": [
        " Shak\n",
        "new value for myvar:"
       ]
      },
      {
       "output_type": "stream",
       "stream": "stdout",
       "text": [
        " Shaki\n",
        "new value for myvar:"
       ]
      },
      {
       "output_type": "stream",
       "stream": "stdout",
       "text": [
        " Shakir\n",
        "new value for myvar:"
       ]
      },
      {
       "output_type": "stream",
       "stream": "stdout",
       "text": [
        " Shakira\n",
        "Search Url:"
       ]
      },
      {
       "output_type": "stream",
       "stream": "stdout",
       "text": [
        " https://ajax.googleapis.com/ajax/services/search/images?v=1.0&q=Shakira&userip=50.148.162.235\n",
        "Source Url:"
       ]
      },
      {
       "output_type": "stream",
       "stream": "stdout",
       "text": [
        " http://hdwallpapersuk.com/wp-content/uploads/2013/07/Shakira-Photos.jpg\n",
        "(1283, 1541, 3)"
       ]
      },
      {
       "output_type": "stream",
       "stream": "stdout",
       "text": [
        "\n",
        "new value for myvar:"
       ]
      },
      {
       "output_type": "stream",
       "stream": "stdout",
       "text": [
        " \n",
        "new value for myvar: c\n",
        "new value for myvar:"
       ]
      },
      {
       "output_type": "stream",
       "stream": "stdout",
       "text": [
        " cy\n",
        "new value for myvar:"
       ]
      },
      {
       "output_type": "stream",
       "stream": "stdout",
       "text": [
        " cyp\n",
        "new value for myvar:"
       ]
      },
      {
       "output_type": "stream",
       "stream": "stdout",
       "text": [
        " cype\n",
        "new value for myvar:"
       ]
      },
      {
       "output_type": "stream",
       "stream": "stdout",
       "text": [
        " cyper\n",
        "new value for myvar:"
       ]
      },
      {
       "output_type": "stream",
       "stream": "stdout",
       "text": [
        " cyperp\n",
        "new value for myvar:"
       ]
      },
      {
       "output_type": "stream",
       "stream": "stdout",
       "text": [
        " cyper\n",
        "new value for myvar:"
       ]
      },
      {
       "output_type": "stream",
       "stream": "stdout",
       "text": [
        " cyperp\n",
        "new value for myvar:"
       ]
      },
      {
       "output_type": "stream",
       "stream": "stdout",
       "text": [
        " cyperpu\n",
        "new value for myvar:"
       ]
      },
      {
       "output_type": "stream",
       "stream": "stdout",
       "text": [
        " cyperpun\n",
        "new value for myvar:"
       ]
      },
      {
       "output_type": "stream",
       "stream": "stdout",
       "text": [
        " cyperpunk\n",
        "Search Url:"
       ]
      },
      {
       "output_type": "stream",
       "stream": "stdout",
       "text": [
        " https://ajax.googleapis.com/ajax/services/search/images?v=1.0&q=cyperpunk&userip=50.148.162.235\n",
        "Source Url:"
       ]
      },
      {
       "output_type": "stream",
       "stream": "stdout",
       "text": [
        " http://elitechoice.org/wp-content/uploads/2008/01/cyperpunk.jpg\n",
        "(450, 450, 3)"
       ]
      },
      {
       "output_type": "stream",
       "stream": "stdout",
       "text": [
        "\n",
        "new value for myvar:"
       ]
      },
      {
       "output_type": "stream",
       "stream": "stdout",
       "text": [
        " cyerpunk\n",
        "new value for myvar:"
       ]
      },
      {
       "output_type": "stream",
       "stream": "stdout",
       "text": [
        " cyberpunk\n",
        "Search Url:"
       ]
      },
      {
       "output_type": "stream",
       "stream": "stdout",
       "text": [
        " https://ajax.googleapis.com/ajax/services/search/images?v=1.0&q=cyberpunk&userip=50.148.162.235\n",
        "Source Url:"
       ]
      },
      {
       "output_type": "stream",
       "stream": "stdout",
       "text": [
        " http://cdn3.wccftech.com/wp-content/uploads/2013/01/Cyberpunk-2077.jpg\n",
        "(1068, 2560, 3)"
       ]
      },
      {
       "output_type": "stream",
       "stream": "stdout",
       "text": [
        "\n",
        "new value for myvar:"
       ]
      },
      {
       "output_type": "stream",
       "stream": "stdout",
       "text": [
        " \n",
        "new value for myvar: s\n",
        "new value for myvar:"
       ]
      },
      {
       "output_type": "stream",
       "stream": "stdout",
       "text": [
        " sa\n",
        "new value for myvar:"
       ]
      },
      {
       "output_type": "stream",
       "stream": "stdout",
       "text": [
        " sah\n",
        "new value for myvar:"
       ]
      },
      {
       "output_type": "stream",
       "stream": "stdout",
       "text": [
        " saha\n",
        "new value for myvar:"
       ]
      },
      {
       "output_type": "stream",
       "stream": "stdout",
       "text": [
        " sahar\n",
        "new value for myvar:"
       ]
      },
      {
       "output_type": "stream",
       "stream": "stdout",
       "text": [
        " sahara\n",
        "new value for myvar:"
       ]
      },
      {
       "output_type": "stream",
       "stream": "stdout",
       "text": [
        " sahara \n",
        "new value for myvar:"
       ]
      },
      {
       "output_type": "stream",
       "stream": "stdout",
       "text": [
        " sahara k\n",
        "new value for myvar:"
       ]
      },
      {
       "output_type": "stream",
       "stream": "stdout",
       "text": [
        " sahara kn\n",
        "new value for myvar:"
       ]
      },
      {
       "output_type": "stream",
       "stream": "stdout",
       "text": [
        " sahara kni\n",
        "new value for myvar:"
       ]
      },
      {
       "output_type": "stream",
       "stream": "stdout",
       "text": [
        " sahara knit\n",
        "new value for myvar:"
       ]
      },
      {
       "output_type": "stream",
       "stream": "stdout",
       "text": [
        " sahara knite\n",
        "Search Url:"
       ]
      },
      {
       "output_type": "stream",
       "stream": "stdout",
       "text": [
        " https://ajax.googleapis.com/ajax/services/search/images?v=1.0&q=sahara%20knite&userip=50.148.162.235\n",
        "Source Url:"
       ]
      },
      {
       "output_type": "stream",
       "stream": "stdout",
       "text": [
        " http://westeros.ru/wp-content/uploads/sahara-knite.jpg\n",
        "(1200, 800, 3)"
       ]
      },
      {
       "output_type": "stream",
       "stream": "stdout",
       "text": [
        "\n",
        "new value for myvar:"
       ]
      },
      {
       "output_type": "stream",
       "stream": "stdout",
       "text": [
        " \n",
        "new value for myvar:"
       ]
      },
      {
       "output_type": "stream",
       "stream": "stdout",
       "text": [
        " d\n",
        "new value for myvar:"
       ]
      },
      {
       "output_type": "stream",
       "stream": "stdout",
       "text": [
        " de\n",
        "new value for myvar:"
       ]
      },
      {
       "output_type": "stream",
       "stream": "stdout",
       "text": [
        " den\n",
        "new value for myvar:"
       ]
      },
      {
       "output_type": "stream",
       "stream": "stdout",
       "text": [
        " dend\n",
        "new value for myvar:"
       ]
      },
      {
       "output_type": "stream",
       "stream": "stdout",
       "text": [
        " dendi\n",
        "Search Url:"
       ]
      },
      {
       "output_type": "stream",
       "stream": "stdout",
       "text": [
        " https://ajax.googleapis.com/ajax/services/search/images?v=1.0&q=dendi&userip=50.148.162.235\n",
        "Source Url:"
       ]
      },
      {
       "output_type": "stream",
       "stream": "stdout",
       "text": [
        " http://www.gosugamers.net/dota2/images/DotA/dendifeaturesteel.png\n",
        "(500, 400)"
       ]
      },
      {
       "output_type": "stream",
       "stream": "stdout",
       "text": [
        "\n",
        "new value for myvar:"
       ]
      },
      {
       "output_type": "stream",
       "stream": "stdout",
       "text": [
        " \n",
        "new value for myvar: D\n",
        "new value for myvar:"
       ]
      },
      {
       "output_type": "stream",
       "stream": "stdout",
       "text": [
        " De\n",
        "new value for myvar:"
       ]
      },
      {
       "output_type": "stream",
       "stream": "stdout",
       "text": [
        " Den\n",
        "new value for myvar:"
       ]
      },
      {
       "output_type": "stream",
       "stream": "stdout",
       "text": [
        " Dend\n",
        "new value for myvar:"
       ]
      },
      {
       "output_type": "stream",
       "stream": "stdout",
       "text": [
        " Dendi\n",
        "Search Url:"
       ]
      },
      {
       "output_type": "stream",
       "stream": "stdout",
       "text": [
        " https://ajax.googleapis.com/ajax/services/search/images?v=1.0&q=Dendi&userip=50.148.162.235\n",
        "Source Url:"
       ]
      },
      {
       "output_type": "stream",
       "stream": "stdout",
       "text": [
        " http://www.gosugamers.net/dota2/images/DotA/dendifeaturesteel.png\n",
        "(500, 400)"
       ]
      },
      {
       "output_type": "stream",
       "stream": "stdout",
       "text": [
        "\n",
        "Search Url:"
       ]
      },
      {
       "output_type": "stream",
       "stream": "stdout",
       "text": [
        " https://ajax.googleapis.com/ajax/services/search/images?v=1.0&q=Dendi&userip=50.148.162.235\n",
        "Source Url:"
       ]
      },
      {
       "output_type": "stream",
       "stream": "stdout",
       "text": [
        " http://www.gosugamers.net/dota2/images/DotA/dendifeaturesteel.png\n",
        "(500, 400)"
       ]
      },
      {
       "output_type": "stream",
       "stream": "stdout",
       "text": [
        "\n",
        "new value for myvar:"
       ]
      },
      {
       "output_type": "stream",
       "stream": "stdout",
       "text": [
        " \n",
        "new value for myvar:"
       ]
      },
      {
       "output_type": "stream",
       "stream": "stdout",
       "text": [
        " N\n",
        "new value for myvar:"
       ]
      },
      {
       "output_type": "stream",
       "stream": "stdout",
       "text": [
        " Na\n",
        "new value for myvar:"
       ]
      },
      {
       "output_type": "stream",
       "stream": "stdout",
       "text": [
        " Nav\n",
        "new value for myvar:"
       ]
      },
      {
       "output_type": "stream",
       "stream": "stdout",
       "text": [
        " Navi\n",
        "Search Url:"
       ]
      },
      {
       "output_type": "stream",
       "stream": "stdout",
       "text": [
        " https://ajax.googleapis.com/ajax/services/search/images?v=1.0&q=Navi&userip=50.148.162.235\n",
        "Source Url:"
       ]
      },
      {
       "output_type": "stream",
       "stream": "stdout",
       "text": [
        " http://images4.wikia.nocookie.net/__cb20090319134159/zelda/images/2/2c/Navi_Artwork.png\n",
        "(330, 347, 4)"
       ]
      },
      {
       "output_type": "stream",
       "stream": "stdout",
       "text": [
        "\n",
        "new value for myvar:"
       ]
      },
      {
       "output_type": "stream",
       "stream": "stdout",
       "text": [
        " \n",
        "new value for myvar: o\n",
        "new value for myvar: op\n",
        "new value for myvar:"
       ]
      },
      {
       "output_type": "stream",
       "stream": "stdout",
       "text": [
        " o\n",
        "new value for myvar:"
       ]
      },
      {
       "output_type": "stream",
       "stream": "stdout",
       "text": [
        " \n",
        "new value for myvar:"
       ]
      },
      {
       "output_type": "stream",
       "stream": "stdout",
       "text": [
        " o\n",
        "new value for myvar:"
       ]
      },
      {
       "output_type": "stream",
       "stream": "stdout",
       "text": [
        " op\n",
        "new value for myvar:"
       ]
      },
      {
       "output_type": "stream",
       "stream": "stdout",
       "text": [
        " opa\n",
        "new value for myvar:"
       ]
      },
      {
       "output_type": "stream",
       "stream": "stdout",
       "text": [
        " opad\n",
        "new value for myvar:"
       ]
      },
      {
       "output_type": "stream",
       "stream": "stdout",
       "text": [
        " opade\n",
        "new value for myvar:"
       ]
      },
      {
       "output_type": "stream",
       "stream": "stdout",
       "text": [
        " opaden\n",
        "new value for myvar:"
       ]
      },
      {
       "output_type": "stream",
       "stream": "stdout",
       "text": [
        " opade\n",
        "new value for myvar:"
       ]
      },
      {
       "output_type": "stream",
       "stream": "stdout",
       "text": [
        " opad\n",
        "new value for myvar:"
       ]
      },
      {
       "output_type": "stream",
       "stream": "stdout",
       "text": [
        " opa\n",
        "new value for myvar:"
       ]
      },
      {
       "output_type": "stream",
       "stream": "stdout",
       "text": [
        " opa \n",
        "new value for myvar:"
       ]
      },
      {
       "output_type": "stream",
       "stream": "stdout",
       "text": [
        " opa d\n",
        "new value for myvar:"
       ]
      },
      {
       "output_type": "stream",
       "stream": "stdout",
       "text": [
        " opa de\n",
        "new value for myvar:"
       ]
      },
      {
       "output_type": "stream",
       "stream": "stdout",
       "text": [
        " opa den\n",
        "new value for myvar:"
       ]
      },
      {
       "output_type": "stream",
       "stream": "stdout",
       "text": [
        " opa dend\n",
        "new value for myvar:"
       ]
      },
      {
       "output_type": "stream",
       "stream": "stdout",
       "text": [
        " opa dendi\n",
        "Search Url:"
       ]
      },
      {
       "output_type": "stream",
       "stream": "stdout",
       "text": [
        " https://ajax.googleapis.com/ajax/services/search/images?v=1.0&q=opa%20dendi&userip=50.148.162.235\n",
        "Source Url:"
       ]
      },
      {
       "output_type": "stream",
       "stream": "stdout",
       "text": [
        " http://dendifacts.com/img/quote/opa-dendi-style.jpg\n",
        "(600, 450, 3)"
       ]
      },
      {
       "output_type": "stream",
       "stream": "stdout",
       "text": [
        "\n",
        "new value for myvar:"
       ]
      },
      {
       "output_type": "stream",
       "stream": "stdout",
       "text": [
        " \n",
        "new value for myvar:"
       ]
      },
      {
       "output_type": "stream",
       "stream": "stdout",
       "text": [
        " J\n",
        "new value for myvar:"
       ]
      },
      {
       "output_type": "stream",
       "stream": "stdout",
       "text": [
        " Ja\n",
        "new value for myvar:"
       ]
      },
      {
       "output_type": "stream",
       "stream": "stdout",
       "text": [
        " Jae\n",
        "new value for myvar:"
       ]
      },
      {
       "output_type": "stream",
       "stream": "stdout",
       "text": [
        " Jaed\n",
        "new value for myvar:"
       ]
      },
      {
       "output_type": "stream",
       "stream": "stdout",
       "text": [
        " Jaedo\n",
        "new value for myvar:"
       ]
      },
      {
       "output_type": "stream",
       "stream": "stdout",
       "text": [
        " Jaedon\n",
        "new value for myvar:"
       ]
      },
      {
       "output_type": "stream",
       "stream": "stdout",
       "text": [
        " Jaedong\n",
        "Search Url:"
       ]
      },
      {
       "output_type": "stream",
       "stream": "stdout",
       "text": [
        " https://ajax.googleapis.com/ajax/services/search/images?v=1.0&q=Jaedong&userip=50.148.162.235\n",
        "Source Url:"
       ]
      },
      {
       "output_type": "stream",
       "stream": "stdout",
       "text": [
        " http://www.gosugamers.net/starcraft/images/news/jaedong11.jpg\n",
        "(500, 400)"
       ]
      },
      {
       "output_type": "stream",
       "stream": "stdout",
       "text": [
        "\n",
        "new value for myvar:"
       ]
      },
      {
       "output_type": "stream",
       "stream": "stdout",
       "text": [
        " \n",
        "new value for myvar:"
       ]
      },
      {
       "output_type": "stream",
       "stream": "stdout",
       "text": [
        " S\n",
        "new value for myvar:"
       ]
      },
      {
       "output_type": "stream",
       "stream": "stdout",
       "text": [
        " Sh\n",
        "new value for myvar:"
       ]
      },
      {
       "output_type": "stream",
       "stream": "stdout",
       "text": [
        " Sha\n",
        "new value for myvar:"
       ]
      },
      {
       "output_type": "stream",
       "stream": "stdout",
       "text": [
        " Shai\n",
        "new value for myvar:"
       ]
      },
      {
       "output_type": "stream",
       "stream": "stdout",
       "text": [
        " Shain\n",
        "new value for myvar:"
       ]
      },
      {
       "output_type": "stream",
       "stream": "stdout",
       "text": [
        " Shaina\n",
        "Search Url:"
       ]
      },
      {
       "output_type": "stream",
       "stream": "stdout",
       "text": [
        " https://ajax.googleapis.com/ajax/services/search/images?v=1.0&q=Shaina&userip=50.148.162.235\n",
        "Source Url:"
       ]
      },
      {
       "output_type": "stream",
       "stream": "stdout",
       "text": [
        " http://upload.wikimedia.org/wikipedia/en/6/6b/Shaina%40ASAP.jpg\n",
        "(455, 393, 3)"
       ]
      },
      {
       "output_type": "stream",
       "stream": "stdout",
       "text": [
        "\n",
        "new value for myvar:"
       ]
      },
      {
       "output_type": "stream",
       "stream": "stdout",
       "text": [
        " \n",
        "new value for myvar:"
       ]
      },
      {
       "output_type": "stream",
       "stream": "stdout",
       "text": [
        " F\n",
        "new value for myvar:"
       ]
      },
      {
       "output_type": "stream",
       "stream": "stdout",
       "text": [
        " Fe\n",
        "new value for myvar:"
       ]
      },
      {
       "output_type": "stream",
       "stream": "stdout",
       "text": [
        " Fed\n",
        "new value for myvar:"
       ]
      },
      {
       "output_type": "stream",
       "stream": "stdout",
       "text": [
        " Fedo\n",
        "new value for myvar:"
       ]
      },
      {
       "output_type": "stream",
       "stream": "stdout",
       "text": [
        " Fedor\n",
        "new value for myvar:"
       ]
      },
      {
       "output_type": "stream",
       "stream": "stdout",
       "text": [
        " Fedora\n",
        "Search Url:"
       ]
      },
      {
       "output_type": "stream",
       "stream": "stdout",
       "text": [
        " https://ajax.googleapis.com/ajax/services/search/images?v=1.0&q=Fedora&userip=50.148.162.235\n",
        "Source Url:"
       ]
      },
      {
       "output_type": "stream",
       "stream": "stdout",
       "text": [
        " http://linux-noob.com/review/fedora/fcrh/images/fcr5.png\n",
        "(1050, 1400, 3)"
       ]
      },
      {
       "output_type": "stream",
       "stream": "stdout",
       "text": [
        "\n"
       ]
      }
     ],
     "prompt_number": 7
    }
   ],
   "metadata": {}
  }
 ]
}