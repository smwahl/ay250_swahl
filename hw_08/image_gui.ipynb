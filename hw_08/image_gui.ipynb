{
 "metadata": {
  "name": ""
 },
 "nbformat": 3,
 "nbformat_minor": 0,
 "worksheets": [
  {
   "cells": [
    {
     "cell_type": "code",
     "collapsed": false,
     "input": [
      "# Testing google image search api\n",
      "\n",
      "import urllib2\n",
      "import simplejson\n",
      "\n",
      "searchstr=\"barack obama\"\n",
      "userip=\"50.148.162.235\"\n",
      "searchstr=searchstr.replace(' ','%20')\n",
      "\n",
      "\n",
      "url = ('https://ajax.googleapis.com/ajax/services/search/images?' +\n",
      "       'v=1.0&q={0}&userip={1}'.format(searchstr,userip) )\n",
      "print url\n",
      "\n",
      "request = urllib2.Request(url, None)\n",
      "response = urllib2.urlopen(request)\n",
      "\n",
      "# Process the JSON string.\n",
      "results = simplejson.load(response)"
     ],
     "language": "python",
     "metadata": {},
     "outputs": [
      {
       "output_type": "stream",
       "stream": "stdout",
       "text": [
        "https://ajax.googleapis.com/ajax/services/search/images?v=1.0&q=barack%20obama&userip=50.148.162.235\n"
       ]
      }
     ],
     "prompt_number": 22
    },
    {
     "cell_type": "code",
     "collapsed": false,
     "input": [
      "# now have some fun with the results...\n",
      "results['responseData']['results'][0]['url']"
     ],
     "language": "python",
     "metadata": {},
     "outputs": [
      {
       "metadata": {},
       "output_type": "pyout",
       "prompt_number": 31,
       "text": [
        "'http://upload.wikimedia.org/wikipedia/commons/8/8d/President_Barack_Obama.jpg'"
       ]
      }
     ],
     "prompt_number": 31
    },
    {
     "cell_type": "code",
     "collapsed": false,
     "input": [
      "import matplotlib, sys\n",
      "import Tkinter as Tk\n",
      "matplotlib.use('TkAgg')\n",
      "from matplotlib.backends.backend_tkagg import FigureCanvasTkAgg, NavigationToolbar2TkAgg\n",
      "import matplotlib.image as mpimg\n",
      "from scipy import ndimage\n",
      "from matplotlib import pylab as plt\n",
      "#if sys.version_info[0] < 3:\n",
      "#\u00a0 \u00a0 import Tkinter as Tk\n",
      "#else:\n",
      "#\u00a0 \u00a0 import tkinter as Tk\n",
      "root = Tk.Tk()\n",
      "root.image = mpimg.imread('owl_0010.jpg')\n",
      "type(root.image)"
     ],
     "language": "python",
     "metadata": {},
     "outputs": [
      {
       "metadata": {},
       "output_type": "pyout",
       "prompt_number": 2,
       "text": [
        "numpy.ndarray"
       ]
      }
     ],
     "prompt_number": 2
    },
    {
     "cell_type": "code",
     "collapsed": false,
     "input": [
      "fig = plt.figure()\n",
      "im = plt.imshow(root.image)\n",
      "ax = plt.gca()\n",
      "canvas = FigureCanvasTkAgg(fig, master=root)\n",
      "canvas.show()\n",
      "canvas.get_tk_widget().pack(side=Tk.TOP, fill=Tk.BOTH, expand=1)\n",
      "toolbar = NavigationToolbar2TkAgg( canvas, root )\n",
      "toolbar.update()\n",
      "canvas._tkcanvas.pack(side=Tk.TOP, fill=Tk.BOTH, expand=1)"
     ],
     "language": "python",
     "metadata": {},
     "outputs": [],
     "prompt_number": 4
    },
    {
     "cell_type": "code",
     "collapsed": false,
     "input": [
      "%load embedding_in_tk.py\n"
     ],
     "language": "python",
     "metadata": {},
     "outputs": [],
     "prompt_number": 3
    },
    {
     "cell_type": "markdown",
     "metadata": {},
     "source": [
      "## GUI Application"
     ]
    },
    {
     "cell_type": "code",
     "collapsed": false,
     "input": [
      "# Image search application using Google's image search API\n",
      "#code for including matplotlib figures in Tkinter guis based on:\n",
      "#http://matplotlib.org/examples/user_interfaces/embedding_in_tk.html\n",
      "\n",
      "\n",
      "import matplotlib\n",
      "matplotlib.use('TkAgg')\n",
      "\n",
      "from matplotlib.backends.backend_tkagg import FigureCanvasTkAgg, NavigationToolbar2TkAgg\n",
      "# implement the default mpl key bindings\n",
      "from matplotlib.backend_bases import key_press_handler\n",
      "from matplotlib.figure import Figure\n",
      "import matplotlib.image as mpimg\n",
      "from scipy import ndimage\n",
      "from matplotlib import pylab as plt\n",
      "\n",
      "from Tkinter import *\n",
      "import numpy as np\n",
      "import scipy as sp\n",
      "import urllib2\n",
      "import simplejson\n",
      "from matplotlib import pyplot as plt"
     ],
     "language": "python",
     "metadata": {},
     "outputs": [],
     "prompt_number": 1
    },
    {
     "cell_type": "code",
     "collapsed": false,
     "input": [
      "import sys\n",
      "if sys.version_info[0] < 3:\n",
      "    import Tkinter as Tk\n",
      "else:\n",
      "    import tkinter as Tk\n",
      "\n",
      "root = Tk.Tk()\n",
      "root.wm_title(\"Image Search\")\n",
      "\n",
      "f = Figure(figsize=(5,4), dpi=100)\n",
      "a = f.add_subplot(111)\n",
      "\n",
      "# load a default image\n",
      "root.image = mpimg.imread('owl_0010.jpg')\n",
      "\n",
      "# display image in subplot\n",
      "a.imshow(root.image)\n",
      "\n",
      "# A tk.DrawingArea for the image\n",
      "canvas = FigureCanvasTkAgg(f, master=root)\n",
      "canvas.show()\n",
      "\n",
      "# Matplotlib toolbar\n",
      "toolbar = NavigationToolbar2TkAgg( canvas, root )\n",
      "toolbar.update()\n",
      "\n",
      "# Quit Button\n",
      "def _quit():\n",
      "    '''Gracefully shut down the GUI window.'''\n",
      "    root.quit()     # stops mainloop\n",
      "    root.destroy()  # this is necessary on Windows to prevent\n",
      "                    # Fatal Python Error: PyEval_RestoreThread: NULL tstate\n",
      "\n",
      "q = Tk.Button(master=root, text='Quit', command=_quit, bg='coral')\n",
      "\n",
      "# Define text boxes for the search bar and displaying the url\n",
      "searchstr = StringVar()\n",
      "imurl = StringVar()\n",
      "searchstr.set(\"Enter search terms\")\n",
      "imurl.set(\"\")\n",
      "\n",
      "def changing(*args):\n",
      "    '''Tracks changes to a text variable for the search bar.'''\n",
      "    print \"search bar value:\", searchstr.get()\n",
      "\n",
      "def do_search(*args):\n",
      "    '''Find an image using Google image search api. And load on screen.\n",
      "    Chooses the first image to come up on the image search, and disables\n",
      "    further input during the query.'''\n",
      "    \n",
      "    # Lock input while query is ongoing\n",
      "    s.configure(state=DISABLED)\n",
      "    e.configure(state=DISABLED)\n",
      "    d1.configure(state=DISABLED)\n",
      "    d2.configure(state=DISABLED)\n",
      "    d3.configure(state=DISABLED)\n",
      "\n",
      "    # Get the current string from the searchbar\n",
      "    mystr = searchstr.get()\n",
      "    userip=\"50.148.162.235\"\n",
      "    mystr = mystr.replace(' ','%20')\n",
      "\n",
      "    # Generate url for Google image API\n",
      "    search_url = ('https://ajax.googleapis.com/ajax/services/search/images?' +\n",
      "            'v=1.0&q={0}&userip={1}'.format(mystr,userip) )\n",
      "    print \"Search Url:\",search_url\n",
      "\n",
      "    try:\n",
      "        request = urllib2.Request(search_url, None)\n",
      "        response = urllib2.urlopen(request)\n",
      "\n",
      "        # Process the JSON string.\n",
      "        results = simplejson.load(response)\n",
      "        #print results\n",
      "        url = results['responseData']['results'][0]['url']\n",
      "        print \"Source Url:\", url\n",
      "        \n",
      "        imgData = urllib2.urlopen(url).read()\n",
      "        \n",
      "        fout = open('dl_image.jpg','wb')\n",
      "        fout.write(imgData)\n",
      "        fout.close()\n",
      "   \n",
      "    except:\n",
      "        url = \"No images found.\"\n",
      "        img_data = np.zeros([500,400])\n",
      "        sp.misc.imsave('dl_image.jpg', img_data)\n",
      "    \n",
      "    # display the source url\n",
      "    imurl.set(str(url))\n",
      "\n",
      "    # load image\n",
      "    root.image = sp.misc.imread('dl_image.jpg')\n",
      "    print root.image.shape\n",
      "    \n",
      "    # display image in subplot\n",
      "    a.imshow(root.image)\n",
      "    canvas.show()\n",
      "    toolbar.update()\n",
      "\n",
      "    \n",
      "    # set the button state back to normal (enabled) and update all the Event Loop Tasks\n",
      "    e.configure(state=NORMAL)\n",
      "    s.configure(state=NORMAL)\n",
      "    d1.configure(state=NORMAL)\n",
      "    d2.configure(state=NORMAL)\n",
      "    d3.configure(state=NORMAL)\n",
      "\n",
      "    root.update()\n",
      "    \n",
      "def dummy(*args):\n",
      "    ''' Dummy function. This is where image manipulation features would go.'''\n",
      "    return 0\n",
      "\n",
      "# GUI components\n",
      "pad1 = Label(height=1)\n",
      "pad2 = Label(height=1)\n",
      "e = Entry(root, width=50, textvariable=searchstr)\n",
      "s  = Button(root, text=\"Search\",command=do_search,bg='coral')\n",
      "u  = Label(root,width=100,height=3, textvariable=imurl,relief=GROOVE)\n",
      "d1 = Button(root,text=\"Dummy 1\",command=dummy,bg='light slate blue')\n",
      "d2 = Button(root,text=\"Dummy 2\",command=dummy,bg='light slate blue')\n",
      "d3 = Button(root,text=\"Dummy 3\",command=dummy,bg='light slate blue')\n",
      "\n",
      "\n",
      "# Track the status of the search bar\n",
      "searchstr.trace(\"w\",changing) ; print 'Current search:', searchstr._name\n",
      "\n",
      "# Define the location of GUI components\n",
      "pad1.pack()\n",
      "e.pack()\n",
      "pad2.pack()\n",
      "s.pack()\n",
      "u.pack()\n",
      "\n",
      "\n",
      "canvas.get_tk_widget().pack(side=TOP, fill=BOTH, expand=1)\n",
      "canvas._tkcanvas.pack(side=TOP, fill=BOTH, expand=1)\n",
      "d1.pack(side=LEFT,expand=1)\n",
      "d2.pack(side=LEFT,expand=1)\n",
      "d3.pack(side=LEFT,expand=1)\n",
      "q.pack(side=LEFT,expand=1)\n",
      "\n",
      "\n",
      "# Run loop\n",
      "root.mainloop()"
     ],
     "language": "python",
     "metadata": {},
     "outputs": [
      {
       "output_type": "stream",
       "stream": "stdout",
       "text": [
        "Current search: PY_VAR19\n",
        "search bar value:"
       ]
      },
      {
       "output_type": "stream",
       "stream": "stdout",
       "text": [
        " \n",
        "search bar value: n\n",
        "search bar value:"
       ]
      },
      {
       "output_type": "stream",
       "stream": "stdout",
       "text": [
        " ne\n",
        "search bar value:"
       ]
      },
      {
       "output_type": "stream",
       "stream": "stdout",
       "text": [
        " ney\n",
        "search bar value:"
       ]
      },
      {
       "output_type": "stream",
       "stream": "stdout",
       "text": [
        " neym\n",
        "search bar value:"
       ]
      },
      {
       "output_type": "stream",
       "stream": "stdout",
       "text": [
        " neyma\n",
        "search bar value:"
       ]
      },
      {
       "output_type": "stream",
       "stream": "stdout",
       "text": [
        " neymar\n",
        "search bar value:"
       ]
      },
      {
       "output_type": "stream",
       "stream": "stdout",
       "text": [
        " neymar \n",
        "search bar value:"
       ]
      },
      {
       "output_type": "stream",
       "stream": "stdout",
       "text": [
        " neymar b\n",
        "search bar value:"
       ]
      },
      {
       "output_type": "stream",
       "stream": "stdout",
       "text": [
        " neymar br\n",
        "search bar value:"
       ]
      },
      {
       "output_type": "stream",
       "stream": "stdout",
       "text": [
        " neymar bra\n",
        "search bar value:"
       ]
      },
      {
       "output_type": "stream",
       "stream": "stdout",
       "text": [
        " neymar bras\n",
        "search bar value:"
       ]
      },
      {
       "output_type": "stream",
       "stream": "stdout",
       "text": [
        " neymar brasi\n",
        "search bar value:"
       ]
      },
      {
       "output_type": "stream",
       "stream": "stdout",
       "text": [
        " neymar brasil\n",
        "Search Url:"
       ]
      },
      {
       "output_type": "stream",
       "stream": "stdout",
       "text": [
        " https://ajax.googleapis.com/ajax/services/search/images?v=1.0&q=neymar%20brasil&userip=50.148.162.235\n",
        "Source Url:"
       ]
      },
      {
       "output_type": "stream",
       "stream": "stdout",
       "text": [
        " http://upload.wikimedia.org/wikipedia/commons/6/62/Neymar.jpg\n",
        "(535, 799, 3)"
       ]
      },
      {
       "output_type": "stream",
       "stream": "stdout",
       "text": [
        "\n"
       ]
      }
     ],
     "prompt_number": 8
    },
    {
     "cell_type": "code",
     "collapsed": false,
     "input": [],
     "language": "python",
     "metadata": {},
     "outputs": [],
     "prompt_number": 5
    },
    {
     "cell_type": "code",
     "collapsed": false,
     "input": [],
     "language": "python",
     "metadata": {},
     "outputs": []
    }
   ],
   "metadata": {}
  }
 ]
}