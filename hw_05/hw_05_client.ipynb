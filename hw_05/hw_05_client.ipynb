{
 "metadata": {
  "name": ""
 },
 "nbformat": 3,
 "nbformat_minor": 0,
 "worksheets": [
  {
   "cells": [
    {
     "cell_type": "code",
     "collapsed": false,
     "input": [
      "import numpy as np\n",
      "import  matplotlib.pyplot as plt\n",
      "import matplotlib.image as mpimg\n",
      "from scipy.misc import imsave\n",
      "\n",
      "# set server information\n",
      "host='127.0.0.1'\n",
      "port=5022\n",
      "\n",
      "# define a directory to save images in\n",
      "clientDir = './client_images/'"
     ],
     "language": "python",
     "metadata": {},
     "outputs": [],
     "prompt_number": 1
    },
    {
     "cell_type": "code",
     "collapsed": false,
     "input": [
      "# Client-side functions\n",
      "def saveImage(imarr, fname):\n",
      "    '''Save a copy of an image.'''\n",
      "    global clientDir # use pre-defined directory to save images\n",
      "    fpath = os.path.join(clientDir,fname)\n",
      "    imsave(fpath,imarr)\n",
      "    return True\n",
      "\n",
      "def uploadImage(fpath):\n",
      "    '''Upload an image with a given path to the server. Converts\n",
      "    image into an ndarray before sending, and saves a copy locally.\n",
      "    Converts image to a list before sending.'''\n",
      "    global server # use current server\n",
      "    print server\n",
      "    \n",
      "    # Check that image exists\n",
      "    if not os.path.exists(fpath):\n",
      "        raise Exception('Image file {} does not exist'.format(fpath) )\n",
      "    \n",
      "    # store a base name for the image\n",
      "    imArr = mpimg.imread(fpath)\n",
      "    \n",
      "    basename = ''.join(os.path.basename(fpath).split('.')[:-1])\n",
      "    savename = basename + '_before_upload.png'\n",
      "    \n",
      "    print basename\n",
      "\n",
      "    \n",
      "    # save a copy of the image on the client\n",
      "    #print imArr.shape\n",
      "    saveImage(imArr,savename)\n",
      "    #print imArr.tolist()\n",
      "    \n",
      "    #testlist= [1., 2.]\n",
      "    # upload an image to the server\n",
      "    server.getImage(imArr.tolist(),basename)\n",
      "    #server.getImage(testlist)\n",
      "    \n",
      "def downloadImage(fname=None):\n",
      "    ''' Download current server image to client and save in 'clientDir'\n",
      "    in a file 'fname'. otherwise it will be saved in clientDir\n",
      "    with its associated name passed from the server.'''\n",
      "    global clientDir\n",
      "    \n",
      "    imlist, imname = server.exportImage()\n",
      "    imarray = np.array(imlist)\n",
      "    \n",
      "    if fpath is None:\n",
      "        savefile = imname+'_download'\n",
      "    else:\n",
      "        savefile = fname\n",
      "    \n",
      "    saveImage(imarray, savename)\n",
      "    "
     ],
     "language": "python",
     "metadata": {},
     "outputs": [],
     "prompt_number": 10
    },
    {
     "cell_type": "code",
     "collapsed": false,
     "input": [
      "# Create a ServerProxy object\n",
      "import xmlrpclib, sys, os\n",
      "server = xmlrpclib.ServerProxy(\"http://%s:%d\" % (host, port))"
     ],
     "language": "python",
     "metadata": {},
     "outputs": [],
     "prompt_number": 3
    },
    {
     "cell_type": "code",
     "collapsed": false,
     "input": [
      "# Query available methods\n",
      "available_methods = server.system.listMethods()\n",
      "for method in available_methods:\n",
      "    if not 'system' in method:\n",
      "        print method\n",
      "        print '---------------------------------------------------'\n",
      "        print server.system.methodHelp(method)\n",
      "        print ''"
     ],
     "language": "python",
     "metadata": {},
     "outputs": [
      {
       "output_type": "stream",
       "stream": "stdout",
       "text": [
        "exportImage\n",
        "---------------------------------------------------\n",
        "Return current image array in list form to client.\n",
        "\n",
        "getImage\n",
        "---------------------------------------------------\n",
        "Pull ndarray of image from client with along with name(or path). \n",
        "And save a copy of the image prior to any manipulations. Image is\n",
        "sent as and reassembled from a list.\n",
        "\n",
        "usage: server.getImage(newImageArray,(optional name)\n",
        "\n",
        "invertColorChannels\n",
        "---------------------------------------------------\n",
        "Crops current RBG image using fractional x-y coordinates\n",
        "\n",
        "Usage: server.crop(xdim=(x0,x1),ydim=(y0,y1),mode)\n",
        "(x0,x1) are the fractional x coordinates to crop image at.\n",
        "(y0,y1) are the fractional x coordinates to crop image at.\n",
        "\n",
        "revert\n",
        "---------------------------------------------------\n",
        "Revert current image to state before any manipulations.\n",
        "\n",
        "Usage: server.revert()\n",
        "\n",
        "saveImage\n",
        "---------------------------------------------------\n",
        "Save a copy of the current image on the server with a given\n",
        "name.\n",
        "\n",
        "Usage: server.saveImage(name)\n",
        "\n",
        "scaleColorChannels\n",
        "---------------------------------------------------\n",
        "Allows user to change relative intensity of colors in\n",
        "the image. Color channel is multiplied by a scale, and then\n",
        "rounded to the nearest integer value. A scale value of 1 means \n",
        "the color channel retains its initial intensity. If scaled pixel value\n",
        "exceeds maximum, it is set to the maximum value\n",
        "\n",
        "Usage: server.scaleColorChannels(rscale=1.,bscale=1.,gscale=1.)\n",
        "\n",
        "toGreyscale\n",
        "---------------------------------------------------\n",
        "Converts current RBG color image to a black and white image.\n",
        "\n",
        "Usage: server.toGreyscale()\n",
        "\n"
       ]
      }
     ],
     "prompt_number": 4
    },
    {
     "cell_type": "code",
     "collapsed": false,
     "input": [
      "# Try uploading an image\n",
      "imagepath = './owl_0010.jpg'\n",
      "uploadImage(imagepath)"
     ],
     "language": "python",
     "metadata": {},
     "outputs": [
      {
       "output_type": "stream",
       "stream": "stdout",
       "text": [
        "<ServerProxy for 127.0.0.1:5022/RPC2>\n",
        "owl_0010\n"
       ]
      }
     ],
     "prompt_number": 5
    },
    {
     "cell_type": "code",
     "collapsed": false,
     "input": [
      "server.toGreyscale()"
     ],
     "language": "python",
     "metadata": {},
     "outputs": [],
     "prompt_number": 6
    },
    {
     "cell_type": "code",
     "collapsed": false,
     "input": [
      "server.revert()"
     ],
     "language": "python",
     "metadata": {},
     "outputs": [],
     "prompt_number": 7
    },
    {
     "cell_type": "code",
     "collapsed": false,
     "input": [
      "server.scaleColorChannels(0.,1.,0.)"
     ],
     "language": "python",
     "metadata": {},
     "outputs": [],
     "prompt_number": 8
    },
    {
     "cell_type": "code",
     "collapsed": false,
     "input": [
      "server.revert()"
     ],
     "language": "python",
     "metadata": {},
     "outputs": [
      {
       "metadata": {},
       "output_type": "pyout",
       "prompt_number": 11,
       "text": [
        "True"
       ]
      }
     ],
     "prompt_number": 11
    },
    {
     "cell_type": "code",
     "collapsed": false,
     "input": [
      "server.invertColorChannels()"
     ],
     "language": "python",
     "metadata": {},
     "outputs": [
      {
       "metadata": {},
       "output_type": "pyout",
       "prompt_number": 12,
       "text": [
        "True"
       ]
      }
     ],
     "prompt_number": 12
    },
    {
     "cell_type": "code",
     "collapsed": false,
     "input": [
      "downloadImage()"
     ],
     "language": "python",
     "metadata": {},
     "outputs": [
      {
       "ename": "ValueError",
       "evalue": "too many values to unpack",
       "output_type": "pyerr",
       "traceback": [
        "\u001b[0;31m---------------------------------------------------------------------------\u001b[0m\n\u001b[0;31mValueError\u001b[0m                                Traceback (most recent call last)",
        "\u001b[0;32m<ipython-input-13-d3ee895c935e>\u001b[0m in \u001b[0;36m<module>\u001b[0;34m()\u001b[0m\n\u001b[0;32m----> 1\u001b[0;31m \u001b[0mdownloadImage\u001b[0m\u001b[0;34m(\u001b[0m\u001b[0;34m)\u001b[0m\u001b[0;34m\u001b[0m\u001b[0m\n\u001b[0m",
        "\u001b[0;32m<ipython-input-10-e25cb06bf1e4>\u001b[0m in \u001b[0;36mdownloadImage\u001b[0;34m(fname)\u001b[0m\n\u001b[1;32m     43\u001b[0m     \u001b[0;32mglobal\u001b[0m \u001b[0mclientDir\u001b[0m\u001b[0;34m\u001b[0m\u001b[0m\n\u001b[1;32m     44\u001b[0m \u001b[0;34m\u001b[0m\u001b[0m\n\u001b[0;32m---> 45\u001b[0;31m     \u001b[0mimlist\u001b[0m\u001b[0;34m,\u001b[0m \u001b[0mimname\u001b[0m \u001b[0;34m=\u001b[0m \u001b[0mserver\u001b[0m\u001b[0;34m.\u001b[0m\u001b[0mexportImage\u001b[0m\u001b[0;34m(\u001b[0m\u001b[0;34m)\u001b[0m\u001b[0;34m\u001b[0m\u001b[0m\n\u001b[0m\u001b[1;32m     46\u001b[0m     \u001b[0mimarray\u001b[0m \u001b[0;34m=\u001b[0m \u001b[0mnp\u001b[0m\u001b[0;34m.\u001b[0m\u001b[0marray\u001b[0m\u001b[0;34m(\u001b[0m\u001b[0mimlist\u001b[0m\u001b[0;34m)\u001b[0m\u001b[0;34m\u001b[0m\u001b[0m\n\u001b[1;32m     47\u001b[0m \u001b[0;34m\u001b[0m\u001b[0m\n",
        "\u001b[0;31mValueError\u001b[0m: too many values to unpack"
       ]
      }
     ],
     "prompt_number": 13
    },
    {
     "cell_type": "code",
     "collapsed": false,
     "input": [],
     "language": "python",
     "metadata": {},
     "outputs": []
    }
   ],
   "metadata": {}
  }
 ]
}