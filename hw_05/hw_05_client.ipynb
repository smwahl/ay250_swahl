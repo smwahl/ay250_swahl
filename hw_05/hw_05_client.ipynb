{
 "metadata": {
  "name": ""
 },
 "nbformat": 3,
 "nbformat_minor": 0,
 "worksheets": [
  {
   "cells": [
    {
     "cell_type": "code",
     "collapsed": false,
     "input": [
      "import numpy as np\n",
      "import  matplotlib.pyplot as plt\n",
      "import matplotlib.image as mpimg\n",
      "from scipy.misc import imsave\n",
      "\n",
      "# set server information\n",
      "host='127.0.0.1'\n",
      "port=5022\n",
      "\n",
      "# define a directory to save images in\n",
      "clientDir = './client_images/'"
     ],
     "language": "python",
     "metadata": {},
     "outputs": [],
     "prompt_number": 1
    },
    {
     "cell_type": "code",
     "collapsed": false,
     "input": [
      "# Client-side functions\n",
      "def saveImage(imarr, fname):\n",
      "    '''Save a copy of an image.'''\n",
      "    global clientDir # use pre-defined directory to save images\n",
      "    fpath = os.path.join(clientDir,fname)\n",
      "    imsave(fpath,imarr)\n",
      "    return True\n",
      "\n",
      "def uploadImage(fpath):\n",
      "    '''Upload an image with a given path to the server. Converts\n",
      "    image into an ndarray before sending, and saves a copy locally.\n",
      "    Converts image to a list before sending.'''\n",
      "    global server # use current server\n",
      "    print server\n",
      "    \n",
      "    # Check that image exists\n",
      "    if not os.path.exists(fpath):\n",
      "        raise Exception('Image file {} does not exist'.format(fpath) )\n",
      "    \n",
      "    # store a base name for the image\n",
      "    imArr = mpimg.imread(fpath)\n",
      "    basename = ''.join(os.path.basename(fpath).split('.')[:-1])\n",
      "    savename = basename + '_before_upload.png'\n",
      "    \n",
      "    # save a copy of the image on the client\n",
      "    #print imArr.shape\n",
      "    saveImage(imArr,savename)\n",
      "    #print imArr.tolist()\n",
      "    \n",
      "    #testlist= [1., 2.]\n",
      "    # upload an image to the server\n",
      "    server.getImage(imArr.tolist(),basename)\n",
      "    #server.getImage(testlist)\n",
      "    \n",
      "    "
     ],
     "language": "python",
     "metadata": {},
     "outputs": [],
     "prompt_number": 2
    },
    {
     "cell_type": "code",
     "collapsed": false,
     "input": [
      "# Create a ServerProxy object\n",
      "import xmlrpclib, sys, os\n",
      "server = xmlrpclib.ServerProxy(\"http://%s:%d\" % (host, port))"
     ],
     "language": "python",
     "metadata": {},
     "outputs": [],
     "prompt_number": 3
    },
    {
     "cell_type": "code",
     "collapsed": false,
     "input": [
      "# Query available methods\n",
      "available_methods = server.system.listMethods()\n",
      "for method in available_methods:\n",
      "    if not 'system' in method:\n",
      "        print method\n",
      "        print '---------------------------------------------------'\n",
      "        print server.system.methodHelp(method)\n",
      "        print ''"
     ],
     "language": "python",
     "metadata": {},
     "outputs": [
      {
       "output_type": "stream",
       "stream": "stdout",
       "text": [
        "crop\n",
        "---------------------------------------------------\n",
        "Crops current RBG image using fractional x-y coordinates\n",
        "\n",
        "Usage: server.crop(xdim=(x0,x1),ydim=(y0,y1),mode)\n",
        "(x0,x1) are the fractional x coordinates to crop image at.\n",
        "(y0,y1) are the fractional x coordinates to crop image at.\n",
        "\n",
        "getImage\n",
        "---------------------------------------------------\n",
        "Pull ndarray of image from client with along with name(or path). \n",
        "And save a copy of the image prior to any manipulations. Image is\n",
        "sent as and reassembled from a list.\n",
        "\n",
        "usage: server.getImage(newImageArray,(optional name)\n",
        "\n",
        "resize\n",
        "---------------------------------------------------\n",
        "Change the dimensions of current RBG color image\n",
        "\n",
        "Usage: server.resize((xlen,ylen),mode)\n",
        "(x,y) are the new image lengths in the x,y direction\n",
        "mode='center' (default) cuts off edges in one dimension\n",
        "    when aspect ratio of new image is different from\n",
        "    original\n",
        "mode='stretch' stretches image when aspect ratio of the\n",
        "    new image is different than the original\n",
        "\n",
        "revert\n",
        "---------------------------------------------------\n",
        "Revert current image to state before any manipulations.\n",
        "\n",
        "Usage: server.revert()\n",
        "\n",
        "saveImage\n",
        "---------------------------------------------------\n",
        "Save a copy of the current image on the server with a given\n",
        "name.\n",
        "\n",
        "Usage: server.saveImage(name)\n",
        "\n",
        "toGreyscale\n",
        "---------------------------------------------------\n",
        "Converts current RBG color image to a black and white image.\n",
        "\n",
        "Usage: server.toGreyscale()\n",
        "\n"
       ]
      }
     ],
     "prompt_number": 4
    },
    {
     "cell_type": "code",
     "collapsed": false,
     "input": [
      "# Try uploading an image\n",
      "imagepath = './owl_0010.jpg'\n",
      "uploadImage(imagepath)"
     ],
     "language": "python",
     "metadata": {},
     "outputs": [
      {
       "output_type": "stream",
       "stream": "stdout",
       "text": [
        "<ServerProxy for 127.0.0.1:5022/RPC2>\n"
       ]
      }
     ],
     "prompt_number": 5
    },
    {
     "cell_type": "code",
     "collapsed": false,
     "input": [
      "%pdb"
     ],
     "language": "python",
     "metadata": {},
     "outputs": [],
     "prompt_number": "*"
    }
   ],
   "metadata": {}
  }
 ]
}