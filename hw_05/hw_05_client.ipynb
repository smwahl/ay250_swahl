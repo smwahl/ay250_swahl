{
 "metadata": {
  "name": ""
 },
 "nbformat": 3,
 "nbformat_minor": 0,
 "worksheets": [
  {
   "cells": [
    {
     "cell_type": "code",
     "collapsed": false,
     "input": [
      "import numpy as np\n",
      "import import matplotlib.pyplot as plt\n",
      "import matplotlib.image as mpimg\n",
      "\n",
      "clientDir = './client_images/' # define a directory to save images"
     ],
     "language": "python",
     "metadata": {},
     "outputs": []
    },
    {
     "cell_type": "code",
     "collapsed": false,
     "input": [
      "# Create a ServerProxy object\n",
      "import xmlrpclib, sys, os\n",
      "host, port = \"\", 5021\n",
      "server = xmlrpclib.ServerProxy(\"http://%s:%d\" % (host, port))\n",
      "\n",
      "def uploadImage(server,fpath):\n",
      "    '''Upload an image to the server.'''\n",
      "\n",
      "    imArr = mpimg.imread(fpath)\n",
      "    os.path.basename(fname)\n",
      "    \n",
      "    server.\n",
      "    \n"
     ],
     "language": "python",
     "metadata": {},
     "outputs": [],
     "prompt_number": 23
    },
    {
     "cell_type": "code",
     "collapsed": false,
     "input": [
      "available_methods = server.system.listMethods()\n",
      "for method in available_methods:\n",
      "    if not 'system' in method:\n",
      "        print method\n",
      "        print '---------------------------------------------------'\n",
      "        print server.system.methodHelp(method)\n",
      "        print ''"
     ],
     "language": "python",
     "metadata": {},
     "outputs": [
      {
       "output_type": "stream",
       "stream": "stdout",
       "text": [
        "crop\n",
        "---------------------------------------------------\n",
        "Crop a RBG image using fractional x-y coordinates\n",
        "\n",
        "Usage: crop(imarray,xdim=(x0,x1),ydim=(y0,y1),mode)\n",
        "imarray is an ndarray object of an RBG image\n",
        "(x0,x1) are the fractional x coordinates to crop image at.\n",
        "(y0,y1) are the fractional x coordinates to crop image at.\n",
        "\n",
        "resize\n",
        "---------------------------------------------------\n",
        "Change the dimensions of an RBG color image\n",
        "\n",
        "Usage: resize(imarray,(xlen,ylen),mode)\n",
        "imarray is an ndarray object of an RBG image\n",
        "(x,y) are the new image lengths in the x,y direction\n",
        "mode='center' (default) cuts off edges in one dimension\n",
        "    when aspect ratio of new image is different from\n",
        "    original\n",
        "mode='stretch' stretches image when aspect ratio of the\n",
        "    new image is different than the original\n",
        "\n",
        "saveImage\n",
        "---------------------------------------------------\n",
        "Save a copy of an image.\n",
        "\n",
        "toGreyscale\n",
        "---------------------------------------------------\n",
        "Convert and RBG color image to a black and white image.\n",
        "\n",
        "Usage: toGreyscale(imarray)\n",
        "imarray is an ndarray object of an RBG image\n",
        "\n"
       ]
      }
     ],
     "prompt_number": 22
    },
    {
     "cell_type": "code",
     "collapsed": false,
     "input": [
      "available_methods"
     ],
     "language": "python",
     "metadata": {},
     "outputs": [
      {
       "metadata": {},
       "output_type": "pyout",
       "prompt_number": 13,
       "text": [
        "['crop',\n",
        " 'resize',\n",
        " 'saveImage',\n",
        " 'system.listMethods',\n",
        " 'system.methodHelp',\n",
        " 'system.methodSignature',\n",
        " 'system.multicall',\n",
        " 'toGreyscale']"
       ]
      }
     ],
     "prompt_number": 13
    }
   ],
   "metadata": {}
  }
 ]
}