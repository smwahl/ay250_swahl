{
 "metadata": {
  "name": ""
 },
 "nbformat": 3,
 "nbformat_minor": 0,
 "worksheets": [
  {
   "cells": [
    {
     "cell_type": "markdown",
     "metadata": {},
     "source": [
      "## Image Manipulation Class"
     ]
    },
    {
     "cell_type": "code",
     "collapsed": false,
     "input": [
      "import SimpleXMLRPCServer\n",
      "import numpy as np\n",
      "from scipy.misc import imsave\n",
      "import matplotlib.pyplot as plt\n",
      "import matplotlib.image as mpimg\n",
      "import os,sys\n",
      "import warnings \n",
      "\n",
      "class serverImageOperations(object):\n",
      "    ''' Object to run a server for simple image manipulations. Keeps\n",
      "    track of one 'current image', which is uploaded via getImage().\n",
      "    Successive manipulation can then be called on that image. Saves \n",
      "    an image file upon initial upload, as well as each manipulation.'''\n",
      "    \n",
      "    def __init__(self):\n",
      "        self.saveDir = './server_images'\n",
      "        self.imArr = None\n",
      "        self.basename = 'untitled'\n",
      "        \n",
      "    def revert(self):\n",
      "        ''' Revert current image to state before any manipulations.\n",
      "        \n",
      "        Usage: server.revert()'''\n",
      "        savename = os.path.join(self.saveDir,self.basename + '_before_maniputlation.png')\n",
      "        try:\n",
      "            self.imArr = mpimg.imread(savename)\n",
      "            print 'Reverting to most recent uploaded image.'\n",
      "        except:\n",
      "            raise Exception('No original image to revert to.')\n",
      "            return False\n",
      "        return True\n",
      "            \n",
      "        \n",
      "    def getImage(self,imlist,name):\n",
      "        ''' Pull ndarray of image from client with along with name(or path). \n",
      "        And save a copy of the image prior to any manipulations. Image is\n",
      "        sent as and reassembled from a list.\n",
      "        \n",
      "        usage: server.getImage(newImageArray,(optional name)'''\n",
      "        assert(isinstance(name,str))\n",
      "        \n",
      "        \n",
      "        # extract basename isf pase is a path.\n",
      "        basename = name\n",
      "        self.basename = basename\n",
      "        \n",
      "        # convert list to an ndarray and save as current image\n",
      "        #print imlist\n",
      "        #print type(imlist)\n",
      "        try:\n",
      "            imarray = np.array(imlist)\n",
      "            print 'Client uploading new image.'\n",
      "\n",
      "        except:\n",
      "            raise Exception('Problem converting data to ndarray')\n",
      "        \n",
      "        print type(imarray)\n",
      "        print imarray.shape\n",
      "        #assert(len(imarray.shape)==2 or len(imarray.shape)==3)\n",
      "        \n",
      "        # set current image\n",
      "        self.imArr = imarray\n",
      "        \n",
      "        # save a copy of the orignal image\n",
      "        savename = self.basename + '_before_maniputlation.png'\n",
      "        self.saveImage(savename)\n",
      "        \n",
      "    def exportImage(self):\n",
      "        ''' Return current image array in list form to client.'''\n",
      "        if not self.imArr is None:\n",
      "            return self.imArr.tolist(), self.basename\n",
      "        else:\n",
      "            print 'No image to export'\n",
      "            return False\n",
      "    \n",
      "    def toGreyscale(self):\n",
      "        '''Converts current RBG color image to a black and white image.\n",
      "        \n",
      "        Usage: server.toGreyscale()'''\n",
      "        \n",
      "        # Warn if image is already greyscale\n",
      "        if(len(self.imArr.shape)<3):\n",
      "            warnings.warn('Image does not contain 3 color channels.')\n",
      "            gs_image = self.imArr\n",
      "        else:\n",
      "            gs_image = np.mean(self.imArr,2)\n",
      "            \n",
      "        # update current image:\n",
      "        self.imArr = gs_image\n",
      "        \n",
      "        # save copy of manipulated image on server\n",
      "        savename = self.basename + '_greyscale.png'\n",
      "        self.saveImage(savename)\n",
      "    \n",
      "        return True\n",
      "    def scaleColorChannels(self, rscale=1.,bscale=1.,gscale=1.):\n",
      "        ''' Allows user to change relative intensity of colors in\n",
      "        the image. Color channel is multiplied by a scale, and then\n",
      "        rounded to the nearest integer value. A scale value of 1 means \n",
      "        the color channel retains its initial intensity. If scaled pixel value\n",
      "        exceeds maximum, it is set to the maximum value\n",
      "        \n",
      "        Usage: server.scaleColorChannels(rscale=1.,bscale=1.,gscale=1.)'''\n",
      "        \n",
      "        assert(rscale>=0. and bscale >=0. and gscale >=0.)\n",
      "        \n",
      "        \n",
      "        # Check that image has RGB channels\n",
      "        if len(self.imArr.shape) < 3:\n",
      "            print 'Image does not have required number of color channels. Aborting'\n",
      "            return False\n",
      "        \n",
      "        # Separate image into color channels\n",
      "        red_arr = self.imArr[:,:,0]\n",
      "        blue_arr = self.imArr[:,:,1]\n",
      "        green_arr = self.imArr[:,:,2]\n",
      "        \n",
      "        # Scale color channels\n",
      "        red_arr *= rscale\n",
      "        blue_arr *= bscale\n",
      "        green_arr *= gscale\n",
      "        \n",
      "        # limit maximum pixel value\n",
      "        np.where(red_arr>255,255,red_arr)\n",
      "        np.where(blue_arr>255,255,blue_arr)\n",
      "        np.where(green_arr>255,255,green_arr)\n",
      "\n",
      "        # save copy of manipulated image on server        \n",
      "        savename = self.basename + '_scale_color.png'\n",
      "        self.saveImage(savename)\n",
      "        \n",
      "        return True\n",
      "    def invertColorChannels(self, r_invert=True,b_invert=True,g_invert=True):\n",
      "        '''Crops current RBG image using fractional x-y coordinates\n",
      "        \n",
      "        Usage: server.crop(xdim=(x0,x1),ydim=(y0,y1),mode)\n",
      "        (x0,x1) are the fractional x coordinates to crop image at.\n",
      "        (y0,y1) are the fractional x coordinates to crop image at.'''\n",
      "        \n",
      "        # Check whether image has RGB channels\n",
      "        if len(self.imArr.shape) < 3:\n",
      "            if not r_invert*b_invert*g_invert:\n",
      "                print 'Image does not have separate color channels. Aborting'\n",
      "                return False\n",
      "            # invert black & white image\n",
      "            print 'Inverting greyscale image'\n",
      "            self.imArr = 255 - self.imArr\n",
      "        else:\n",
      "            # Separate image into color channels\n",
      "            red_arr = self.imArr[:,:,0]\n",
      "            blue_arr = self.imArr[:,:,1]\n",
      "            green_arr = self.imArr[:,:,2]\n",
      "            \n",
      "            # invert color channels\n",
      "            print 'Inverting color channels'\n",
      "\n",
      "            if r_invert:\n",
      "                red_arr = 255 - red_arr\n",
      "            if b_invert:\n",
      "                blue_arr = 255 - blue_arr\n",
      "            if g_invert:\n",
      "                green_arr = 255 - green_arr\n",
      "            \n",
      "            # save inverted channels\n",
      "            self.imArr[:,:,0] = red_arr\n",
      "            self.imArr[:,:,0] = blue_arr\n",
      "            self.imArr[:,:,0] = green_arr\n",
      "\n",
      "            \n",
      "        # save copy of manipulated image on server\n",
      "        savename = self.basename + '_invert.png'\n",
      "        self.saveImage(savename)\n",
      "        \n",
      "        return True\n",
      "    \n",
      "    def saveImage(self, fname):\n",
      "        '''Save a copy of the current image on the server with a given\n",
      "        name.\n",
      "        \n",
      "        Usage: server.saveImage(name)'''\n",
      "        fpath = os.path.join(self.saveDir,fname)\n",
      "        imsave(fpath,self.imArr)\n",
      "        \n",
      "        print 'Saving copy of image to {}'.format(fpath)\n",
      "        \n",
      "        return True"
     ],
     "language": "python",
     "metadata": {},
     "outputs": [],
     "prompt_number": 1
    },
    {
     "cell_type": "markdown",
     "metadata": {},
     "source": [
      "## Run server"
     ]
    },
    {
     "cell_type": "code",
     "collapsed": false,
     "input": [
      "host, port = \"\", 5022\n",
      "server = SimpleXMLRPCServer.SimpleXMLRPCServer((host, port), allow_none=True)\n",
      "server.register_instance(serverImageOperations())\n",
      "server.register_multicall_functions()\n",
      "server.register_introspection_functions()\n",
      "print \"XMLRPC Server is starting at:\", host, port\n",
      "server.serve_forever()"
     ],
     "language": "python",
     "metadata": {},
     "outputs": [
      {
       "output_type": "stream",
       "stream": "stdout",
       "text": [
        "XMLRPC Server is starting at:  5022\n",
        "Client uploading new image."
       ]
      },
      {
       "output_type": "stream",
       "stream": "stdout",
       "text": [
        "\n",
        "<type 'numpy.ndarray'>\n",
        "(489, 652, 3)\n",
        "Saving copy of image to ./server_images/owl_0010_before_maniputlation.png"
       ]
      },
      {
       "output_type": "stream",
       "stream": "stderr",
       "text": [
        "127.0.0.1 - - [10/Oct/2013 00:36:16] \"POST /RPC2 HTTP/1.1\" 200 -\n",
        "127.0.0.1 - - [10/Oct/2013 00:36:16] \"POST /RPC2 HTTP/1.1\" 200 -\n",
        "127.0.0.1 - - [10/Oct/2013 00:36:16] \"POST /RPC2 HTTP/1.1\" 200 -\n",
        "127.0.0.1 - - [10/Oct/2013 00:36:16] \"POST /RPC2 HTTP/1.1\" 200 -\n",
        "127.0.0.1 - - [10/Oct/2013 00:36:16] \"POST /RPC2 HTTP/1.1\" 200 -\n",
        "127.0.0.1 - - [10/Oct/2013 00:36:16] \"POST /RPC2 HTTP/1.1\" 200 -\n",
        "127.0.0.1 - - [10/Oct/2013 00:36:16] \"POST /RPC2 HTTP/1.1\" 200 -\n",
        "127.0.0.1 - - [10/Oct/2013 00:36:16] \"POST /RPC2 HTTP/1.1\" 200 -\n",
        "127.0.0.1 - - [10/Oct/2013 00:36:43] \"POST /RPC2 HTTP/1.1\" 200 -\n"
       ]
      },
      {
       "output_type": "stream",
       "stream": "stdout",
       "text": [
        "\n",
        "Inverting color channels"
       ]
      },
      {
       "output_type": "stream",
       "stream": "stdout",
       "text": [
        "\n",
        "Saving copy of image to ./server_images/owl_0010_invert.png"
       ]
      },
      {
       "output_type": "stream",
       "stream": "stderr",
       "text": [
        "127.0.0.1 - - [10/Oct/2013 00:36:43] \"POST /RPC2 HTTP/1.1\" 200 -\n",
        "127.0.0.1 - - [10/Oct/2013 00:36:45] \"POST /RPC2 HTTP/1.1\" 200 -\n"
       ]
      },
      {
       "output_type": "stream",
       "stream": "stdout",
       "text": [
        "\n",
        "Client uploading new image."
       ]
      },
      {
       "output_type": "stream",
       "stream": "stdout",
       "text": [
        "\n",
        "<type 'numpy.ndarray'>\n",
        "(489, 652, 3)\n",
        "Saving copy of image to ./server_images/owl_0010_before_maniputlation.png"
       ]
      },
      {
       "output_type": "stream",
       "stream": "stderr",
       "text": [
        "127.0.0.1 - - [10/Oct/2013 00:37:40] \"POST /RPC2 HTTP/1.1\" 200 -\n",
        "127.0.0.1 - - [10/Oct/2013 00:37:40] \"POST /RPC2 HTTP/1.1\" 200 -\n",
        "127.0.0.1 - - [10/Oct/2013 00:37:40] \"POST /RPC2 HTTP/1.1\" 200 -\n",
        "127.0.0.1 - - [10/Oct/2013 00:37:40] \"POST /RPC2 HTTP/1.1\" 200 -\n",
        "127.0.0.1 - - [10/Oct/2013 00:37:40] \"POST /RPC2 HTTP/1.1\" 200 -\n",
        "127.0.0.1 - - [10/Oct/2013 00:37:40] \"POST /RPC2 HTTP/1.1\" 200 -\n",
        "127.0.0.1 - - [10/Oct/2013 00:37:40] \"POST /RPC2 HTTP/1.1\" 200 -\n",
        "127.0.0.1 - - [10/Oct/2013 00:37:40] \"POST /RPC2 HTTP/1.1\" 200 -\n",
        "127.0.0.1 - - [10/Oct/2013 00:38:02] \"POST /RPC2 HTTP/1.1\" 200 -\n"
       ]
      },
      {
       "output_type": "stream",
       "stream": "stdout",
       "text": [
        "\n",
        "Saving copy of image to ./server_images/owl_0010_greyscale.png"
       ]
      },
      {
       "output_type": "stream",
       "stream": "stdout",
       "text": [
        "\n",
        "Reverting to most recent uploaded image."
       ]
      },
      {
       "output_type": "stream",
       "stream": "stderr",
       "text": [
        "127.0.0.1 - - [10/Oct/2013 00:38:02] \"POST /RPC2 HTTP/1.1\" 200 -\n",
        "127.0.0.1 - - [10/Oct/2013 00:38:02] \"POST /RPC2 HTTP/1.1\" 200 -\n"
       ]
      },
      {
       "output_type": "stream",
       "stream": "stdout",
       "text": [
        "\n",
        "Saving copy of image to ./server_images/owl_0010_scale_color.png"
       ]
      },
      {
       "output_type": "stream",
       "stream": "stdout",
       "text": [
        "\n",
        "Reverting to most recent uploaded image.\n",
        "Inverting color channels"
       ]
      },
      {
       "output_type": "stream",
       "stream": "stdout",
       "text": [
        "\n",
        "Saving copy of image to ./server_images/owl_0010_invert.png"
       ]
      },
      {
       "output_type": "stream",
       "stream": "stderr",
       "text": [
        "127.0.0.1 - - [10/Oct/2013 00:38:03] \"POST /RPC2 HTTP/1.1\" 200 -\n",
        "127.0.0.1 - - [10/Oct/2013 00:38:03] \"POST /RPC2 HTTP/1.1\" 200 -\n",
        "127.0.0.1 - - [10/Oct/2013 00:38:03] \"POST /RPC2 HTTP/1.1\" 200 -\n"
       ]
      },
      {
       "output_type": "stream",
       "stream": "stderr",
       "text": [
        "127.0.0.1 - - [10/Oct/2013 00:38:06] \"POST /RPC2 HTTP/1.1\" 200 -\n",
        "127.0.0.1 - - [10/Oct/2013 00:40:56] \"POST /RPC2 HTTP/1.1\" 200 -\n"
       ]
      },
      {
       "output_type": "stream",
       "stream": "stdout",
       "text": [
        "\n",
        "Client uploading new image."
       ]
      },
      {
       "output_type": "stream",
       "stream": "stdout",
       "text": [
        "\n",
        "<type 'numpy.ndarray'>\n",
        "(489, 652, 3)\n",
        "Saving copy of image to ./server_images/owl_0010_before_maniputlation.png"
       ]
      },
      {
       "output_type": "stream",
       "stream": "stderr",
       "text": [
        "127.0.0.1 - - [10/Oct/2013 00:40:56] \"POST /RPC2 HTTP/1.1\" 200 -\n",
        "127.0.0.1 - - [10/Oct/2013 00:40:56] \"POST /RPC2 HTTP/1.1\" 200 -\n",
        "127.0.0.1 - - [10/Oct/2013 00:40:56] \"POST /RPC2 HTTP/1.1\" 200 -\n",
        "127.0.0.1 - - [10/Oct/2013 00:40:56] \"POST /RPC2 HTTP/1.1\" 200 -\n",
        "127.0.0.1 - - [10/Oct/2013 00:40:56] \"POST /RPC2 HTTP/1.1\" 200 -\n",
        "127.0.0.1 - - [10/Oct/2013 00:40:56] \"POST /RPC2 HTTP/1.1\" 200 -\n",
        "127.0.0.1 - - [10/Oct/2013 00:40:56] \"POST /RPC2 HTTP/1.1\" 200 -\n",
        "127.0.0.1 - - [10/Oct/2013 00:41:21] \"POST /RPC2 HTTP/1.1\" 200 -\n"
       ]
      },
      {
       "output_type": "stream",
       "stream": "stdout",
       "text": [
        "\n",
        "Inverting color channels"
       ]
      },
      {
       "output_type": "stream",
       "stream": "stdout",
       "text": [
        "\n",
        "Saving copy of image to ./server_images/owl_0010_invert.png"
       ]
      },
      {
       "output_type": "stream",
       "stream": "stdout",
       "text": [
        "\n",
        "Reverting to most recent uploaded image.\n",
        "Saving copy of image to ./server_images/owl_0010_greyscale.png"
       ]
      },
      {
       "output_type": "stream",
       "stream": "stderr",
       "text": [
        "127.0.0.1 - - [10/Oct/2013 00:41:21] \"POST /RPC2 HTTP/1.1\" 200 -\n",
        "127.0.0.1 - - [10/Oct/2013 00:41:21] \"POST /RPC2 HTTP/1.1\" 200 -\n",
        "127.0.0.1 - - [10/Oct/2013 00:41:22] \"POST /RPC2 HTTP/1.1\" 200 -\n"
       ]
      },
      {
       "output_type": "stream",
       "stream": "stdout",
       "text": [
        "\n",
        "Reverting to most recent uploaded image.\n",
        "Saving copy of image to ./server_images/owl_0010_scale_color.png"
       ]
      },
      {
       "output_type": "stream",
       "stream": "stderr",
       "text": [
        "127.0.0.1 - - [10/Oct/2013 00:41:22] \"POST /RPC2 HTTP/1.1\" 200 -\n",
        "127.0.0.1 - - [10/Oct/2013 00:41:22] \"POST /RPC2 HTTP/1.1\" 200 -\n"
       ]
      },
      {
       "output_type": "stream",
       "stream": "stderr",
       "text": [
        "127.0.0.1 - - [10/Oct/2013 00:41:22] \"POST /RPC2 HTTP/1.1\" 200 -\n",
        "127.0.0.1 - - [10/Oct/2013 00:41:26] \"POST /RPC2 HTTP/1.1\" 200 -\n"
       ]
      },
      {
       "output_type": "stream",
       "stream": "stdout",
       "text": [
        "\n",
        "Reverting to most recent uploaded image.\n",
        "Client uploading new image."
       ]
      },
      {
       "output_type": "stream",
       "stream": "stdout",
       "text": [
        "\n",
        "<type 'numpy.ndarray'>\n",
        "(489, 652, 3)\n",
        "Saving copy of image to ./server_images/owl_0010_before_maniputlation.png"
       ]
      },
      {
       "output_type": "stream",
       "stream": "stderr",
       "text": [
        "127.0.0.1 - - [10/Oct/2013 00:46:54] \"POST /RPC2 HTTP/1.1\" 200 -\n",
        "127.0.0.1 - - [10/Oct/2013 00:46:54] \"POST /RPC2 HTTP/1.1\" 200 -\n",
        "127.0.0.1 - - [10/Oct/2013 00:46:54] \"POST /RPC2 HTTP/1.1\" 200 -\n",
        "127.0.0.1 - - [10/Oct/2013 00:46:54] \"POST /RPC2 HTTP/1.1\" 200 -\n",
        "127.0.0.1 - - [10/Oct/2013 00:46:54] \"POST /RPC2 HTTP/1.1\" 200 -\n",
        "127.0.0.1 - - [10/Oct/2013 00:46:54] \"POST /RPC2 HTTP/1.1\" 200 -\n",
        "127.0.0.1 - - [10/Oct/2013 00:46:54] \"POST /RPC2 HTTP/1.1\" 200 -\n",
        "127.0.0.1 - - [10/Oct/2013 00:46:54] \"POST /RPC2 HTTP/1.1\" 200 -\n",
        "127.0.0.1 - - [10/Oct/2013 00:47:17] \"POST /RPC2 HTTP/1.1\" 200 -\n"
       ]
      },
      {
       "output_type": "stream",
       "stream": "stdout",
       "text": [
        "\n",
        "Inverting color channels"
       ]
      },
      {
       "output_type": "stream",
       "stream": "stdout",
       "text": [
        "\n",
        "Saving copy of image to ./server_images/owl_0010_invert.png"
       ]
      },
      {
       "output_type": "stream",
       "stream": "stdout",
       "text": [
        "\n",
        "Reverting to most recent uploaded image.\n",
        "Saving copy of image to ./server_images/owl_0010_greyscale.png"
       ]
      },
      {
       "output_type": "stream",
       "stream": "stderr",
       "text": [
        "127.0.0.1 - - [10/Oct/2013 00:47:17] \"POST /RPC2 HTTP/1.1\" 200 -\n",
        "127.0.0.1 - - [10/Oct/2013 00:47:17] \"POST /RPC2 HTTP/1.1\" 200 -\n",
        "127.0.0.1 - - [10/Oct/2013 00:47:17] \"POST /RPC2 HTTP/1.1\" 200 -\n"
       ]
      },
      {
       "output_type": "stream",
       "stream": "stdout",
       "text": [
        "\n",
        "Reverting to most recent uploaded image.\n",
        "Saving copy of image to ./server_images/owl_0010_scale_color.png"
       ]
      },
      {
       "output_type": "stream",
       "stream": "stderr",
       "text": [
        "127.0.0.1 - - [10/Oct/2013 00:47:17] \"POST /RPC2 HTTP/1.1\" 200 -\n",
        "127.0.0.1 - - [10/Oct/2013 00:47:18] \"POST /RPC2 HTTP/1.1\" 200 -\n"
       ]
      }
     ],
     "prompt_number": "*"
    },
    {
     "cell_type": "code",
     "collapsed": false,
     "input": [
      "server.shutdown()"
     ],
     "language": "python",
     "metadata": {},
     "outputs": [],
     "prompt_number": "*"
    }
   ],
   "metadata": {}
  }
 ]
}