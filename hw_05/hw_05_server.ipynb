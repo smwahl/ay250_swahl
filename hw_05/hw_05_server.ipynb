{
 "metadata": {
  "name": ""
 },
 "nbformat": 3,
 "nbformat_minor": 0,
 "worksheets": [
  {
   "cells": [
    {
     "cell_type": "code",
     "collapsed": false,
     "input": [
      "import SimpleXMLRPCServer\n",
      "import numpy as np\n",
      "import matplotlib.pyplot as plt\n",
      "import matplotlib.image as mpimg\n",
      "import os,sys\n",
      "\n",
      "class serverImageOperations:\n",
      "    def __init__(self):\n",
      "        self.saveDir = './server_images'\n",
      "        self.imArr = None\n",
      "        \n",
      "    def getImage(self,imarray,basename):\n",
      "        ''' Pull image from client with a name. And save a copy of the image\n",
      "        prior to any manipulations.'''\n",
      "        assert(isinstance(imarray,np.ndarray)) # check that the client is \n",
      "        assert(len(imarray.shape)==2 or len(imarray.shape)==3)\n",
      "        assert(isinstance(basename,str))\n",
      "        \n",
      "        self.imArr = imarray\n",
      "        savename = basename + '_before_maniputlation.png'\n",
      "        saveImage(savename)\n",
      "    \n",
      "    def toGreyscale(self, imarray):\n",
      "        '''Convert and RBG color image to a black and white image.\n",
      "        \n",
      "        Usage: toGreyscale(imarray)\n",
      "        imarray is an ndarray object of an RBG image'''\n",
      "        return imarray\n",
      "    def resize(self, imarray, size, mode='center'):\n",
      "        '''Change the dimensions of an RBG color image\n",
      "        \n",
      "        Usage: resize(imarray,(xlen,ylen),mode)\n",
      "        imarray is an ndarray object of an RBG image\n",
      "        (x,y) are the new image lengths in the x,y direction\n",
      "        mode='center' (default) cuts off edges in one dimension\n",
      "            when aspect ratio of new image is different from\n",
      "            original\n",
      "        mode='stretch' stretches image when aspect ratio of the\n",
      "            new image is different than the original'''\n",
      "        return imarray\n",
      "    def crop(self, imarray, xdim=(0.,1.), ydim=(0.,1.)):\n",
      "        '''Crop a RBG image using fractional x-y coordinates\n",
      "        \n",
      "        Usage: crop(imarray,xdim=(x0,x1),ydim=(y0,y1),mode)\n",
      "        imarray is an ndarray object of an RBG image\n",
      "        (x0,x1) are the fractional x coordinates to crop image at.\n",
      "        (y0,y1) are the fractional x coordinates to crop image at.'''\n",
      "        return imarray\n",
      "    \n",
      "    def saveImage(self, fname):\n",
      "        '''Save a copy of an image.'''\n",
      "        fpath = os.path.join(self.saveDir,fname)\n",
      "        return True"
     ],
     "language": "python",
     "metadata": {},
     "outputs": [],
     "prompt_number": 1
    },
    {
     "cell_type": "code",
     "collapsed": false,
     "input": [
      "        \n",
      "host, port = \"\", 5021\n",
      "server = SimpleXMLRPCServer.SimpleXMLRPCServer((host, port), allow_none=True)\n",
      "server.register_instance(serverImageOperations)\n",
      "server.register_multicall_functions()\n",
      "server.register_introspection_functions()\n",
      "print \"XMLRPC Server is starting at:\", host, port\n",
      "server.serve_forever()"
     ],
     "language": "python",
     "metadata": {},
     "outputs": [
      {
       "output_type": "stream",
       "stream": "stderr",
       "text": [
        "127.0.0.1 - - [06/Oct/2013 14:09:32] \"POST /RPC2 HTTP/1.1\" 200 -\n",
        "127.0.0.1 - - [06/Oct/2013 14:09:32] \"POST /RPC2 HTTP/1.1\" 200 -\n",
        "127.0.0.1 - - [06/Oct/2013 14:09:32] \"POST /RPC2 HTTP/1.1\" 200 -\n",
        "127.0.0.1 - - [06/Oct/2013 14:09:32] \"POST /RPC2 HTTP/1.1\" 200 -\n",
        "127.0.0.1 - - [06/Oct/2013 14:09:32] \"POST /RPC2 HTTP/1.1\" 200 -\n"
       ]
      },
      {
       "output_type": "stream",
       "stream": "stderr",
       "text": [
        "127.0.0.1 - - [06/Oct/2013 14:09:33] \"POST /RPC2 HTTP/1.1\" 200 -\n",
        "127.0.0.1 - - [06/Oct/2013 14:09:33] \"POST /RPC2 HTTP/1.1\" 200 -\n",
        "127.0.0.1 - - [06/Oct/2013 14:09:33] \"POST /RPC2 HTTP/1.1\" 200 -\n",
        "127.0.0.1 - - [06/Oct/2013 14:09:33] \"POST /RPC2 HTTP/1.1\" 200 -\n",
        "127.0.0.1 - - [06/Oct/2013 14:09:33] \"POST /RPC2 HTTP/1.1\" 200 -\n",
        "127.0.0.1 - - [06/Oct/2013 14:09:33] \"POST /RPC2 HTTP/1.1\" 200 -\n"
       ]
      },
      {
       "output_type": "stream",
       "stream": "stderr",
       "text": [
        "127.0.0.1 - - [06/Oct/2013 14:09:33] \"POST /RPC2 HTTP/1.1\" 200 -\n",
        "127.0.0.1 - - [06/Oct/2013 14:09:33] \"POST /RPC2 HTTP/1.1\" 200 -\n",
        "127.0.0.1 - - [06/Oct/2013 14:09:33] \"POST /RPC2 HTTP/1.1\" 200 -\n",
        "127.0.0.1 - - [06/Oct/2013 14:09:33] \"POST /RPC2 HTTP/1.1\" 200 -\n",
        "127.0.0.1 - - [06/Oct/2013 14:09:33] \"POST /RPC2 HTTP/1.1\" 200 -\n"
       ]
      },
      {
       "output_type": "stream",
       "stream": "stderr",
       "text": [
        "127.0.0.1 - - [06/Oct/2013 14:09:33] \"POST /RPC2 HTTP/1.1\" 200 -\n",
        "127.0.0.1 - - [06/Oct/2013 14:09:33] \"POST /RPC2 HTTP/1.1\" 200 -\n",
        "127.0.0.1 - - [06/Oct/2013 14:09:33] \"POST /RPC2 HTTP/1.1\" 200 -\n",
        "127.0.0.1 - - [06/Oct/2013 14:09:33] \"POST /RPC2 HTTP/1.1\" 200 -\n",
        "127.0.0.1 - - [06/Oct/2013 14:09:37] \"POST /RPC2 HTTP/1.1\" 200 -\n"
       ]
      },
      {
       "output_type": "stream",
       "stream": "stderr",
       "text": [
        "127.0.0.1 - - [06/Oct/2013 14:09:37] \"POST /RPC2 HTTP/1.1\" 200 -\n",
        "127.0.0.1 - - [06/Oct/2013 14:09:37] \"POST /RPC2 HTTP/1.1\" 200 -\n",
        "127.0.0.1 - - [06/Oct/2013 14:09:37] \"POST /RPC2 HTTP/1.1\" 200 -\n",
        "127.0.0.1 - - [06/Oct/2013 14:09:37] \"POST /RPC2 HTTP/1.1\" 200 -\n",
        "127.0.0.1 - - [06/Oct/2013 14:09:38] \"POST /RPC2 HTTP/1.1\" 200 -\n"
       ]
      },
      {
       "output_type": "stream",
       "stream": "stderr",
       "text": [
        "127.0.0.1 - - [06/Oct/2013 14:09:38] \"POST /RPC2 HTTP/1.1\" 200 -\n",
        "127.0.0.1 - - [06/Oct/2013 14:09:38] \"POST /RPC2 HTTP/1.1\" 200 -\n",
        "127.0.0.1 - - [06/Oct/2013 14:09:38] \"POST /RPC2 HTTP/1.1\" 200 -\n",
        "127.0.0.1 - - [06/Oct/2013 14:09:38] \"POST /RPC2 HTTP/1.1\" 200 -\n",
        "127.0.0.1 - - [06/Oct/2013 14:09:38] \"POST /RPC2 HTTP/1.1\" 200 -\n"
       ]
      },
      {
       "output_type": "stream",
       "stream": "stderr",
       "text": [
        "127.0.0.1 - - [06/Oct/2013 14:09:38] \"POST /RPC2 HTTP/1.1\" 200 -\n",
        "127.0.0.1 - - [06/Oct/2013 14:09:38] \"POST /RPC2 HTTP/1.1\" 200 -\n",
        "127.0.0.1 - - [06/Oct/2013 14:09:38] \"POST /RPC2 HTTP/1.1\" 200 -\n",
        "127.0.0.1 - - [06/Oct/2013 14:09:38] \"POST /RPC2 HTTP/1.1\" 200 -\n",
        "127.0.0.1 - - [06/Oct/2013 14:09:46] \"POST /RPC2 HTTP/1.1\" 200 -\n"
       ]
      },
      {
       "output_type": "stream",
       "stream": "stderr",
       "text": [
        "127.0.0.1 - - [06/Oct/2013 14:12:01] \"POST /RPC2 HTTP/1.1\" 200 -\n",
        "127.0.0.1 - - [06/Oct/2013 14:12:22] \"POST /RPC2 HTTP/1.1\" 200 -\n"
       ]
      },
      {
       "output_type": "stream",
       "stream": "stderr",
       "text": [
        "127.0.0.1 - - [06/Oct/2013 14:12:49] \"POST /RPC2 HTTP/1.1\" 200 -\n",
        "127.0.0.1 - - [06/Oct/2013 14:12:49] \"POST /RPC2 HTTP/1.1\" 200 -\n",
        "127.0.0.1 - - [06/Oct/2013 14:12:49] \"POST /RPC2 HTTP/1.1\" 200 -\n",
        "127.0.0.1 - - [06/Oct/2013 14:12:49] \"POST /RPC2 HTTP/1.1\" 200 -\n",
        "127.0.0.1 - - [06/Oct/2013 14:12:49] \"POST /RPC2 HTTP/1.1\" 200 -\n",
        "127.0.0.1 - - [06/Oct/2013 14:12:49] \"POST /RPC2 HTTP/1.1\" 200 -\n",
        "127.0.0.1 - - [06/Oct/2013 14:12:49] \"POST /RPC2 HTTP/1.1\" 200 -\n",
        "127.0.0.1 - - [06/Oct/2013 14:12:49] \"POST /RPC2 HTTP/1.1\" 200 -\n",
        "127.0.0.1 - - [06/Oct/2013 14:12:49] \"POST /RPC2 HTTP/1.1\" 200 -\n"
       ]
      },
      {
       "output_type": "stream",
       "stream": "stderr",
       "text": [
        "127.0.0.1 - - [06/Oct/2013 14:12:49] \"POST /RPC2 HTTP/1.1\" 200 -\n",
        "127.0.0.1 - - [06/Oct/2013 14:12:49] \"POST /RPC2 HTTP/1.1\" 200 -\n",
        "127.0.0.1 - - [06/Oct/2013 14:12:49] \"POST /RPC2 HTTP/1.1\" 200 -\n",
        "127.0.0.1 - - [06/Oct/2013 14:12:49] \"POST /RPC2 HTTP/1.1\" 200 -\n",
        "127.0.0.1 - - [06/Oct/2013 14:12:49] \"POST /RPC2 HTTP/1.1\" 200 -\n",
        "127.0.0.1 - - [06/Oct/2013 14:12:49] \"POST /RPC2 HTTP/1.1\" 200 -\n",
        "127.0.0.1 - - [06/Oct/2013 14:12:49] \"POST /RPC2 HTTP/1.1\" 200 -\n",
        "127.0.0.1 - - [06/Oct/2013 14:12:50] \"POST /RPC2 HTTP/1.1\" 200 -\n"
       ]
      },
      {
       "output_type": "stream",
       "stream": "stderr",
       "text": [
        "127.0.0.1 - - [06/Oct/2013 14:12:50] \"POST /RPC2 HTTP/1.1\" 200 -\n",
        "127.0.0.1 - - [06/Oct/2013 14:12:50] \"POST /RPC2 HTTP/1.1\" 200 -\n",
        "127.0.0.1 - - [06/Oct/2013 14:12:50] \"POST /RPC2 HTTP/1.1\" 200 -\n",
        "127.0.0.1 - - [06/Oct/2013 14:12:50] \"POST /RPC2 HTTP/1.1\" 200 -\n",
        "127.0.0.1 - - [06/Oct/2013 14:12:50] \"POST /RPC2 HTTP/1.1\" 200 -\n",
        "127.0.0.1 - - [06/Oct/2013 14:12:50] \"POST /RPC2 HTTP/1.1\" 200 -\n",
        "127.0.0.1 - - [06/Oct/2013 14:12:50] \"POST /RPC2 HTTP/1.1\" 200 -\n",
        "127.0.0.1 - - [06/Oct/2013 14:12:50] \"POST /RPC2 HTTP/1.1\" 200 -\n"
       ]
      },
      {
       "output_type": "stream",
       "stream": "stderr",
       "text": [
        "127.0.0.1 - - [06/Oct/2013 14:12:50] \"POST /RPC2 HTTP/1.1\" 200 -\n",
        "127.0.0.1 - - [06/Oct/2013 14:12:50] \"POST /RPC2 HTTP/1.1\" 200 -\n",
        "127.0.0.1 - - [06/Oct/2013 14:12:50] \"POST /RPC2 HTTP/1.1\" 200 -\n",
        "127.0.0.1 - - [06/Oct/2013 14:12:50] \"POST /RPC2 HTTP/1.1\" 200 -\n",
        "127.0.0.1 - - [06/Oct/2013 14:12:50] \"POST /RPC2 HTTP/1.1\" 200 -\n",
        "127.0.0.1 - - [06/Oct/2013 14:12:50] \"POST /RPC2 HTTP/1.1\" 200 -\n",
        "127.0.0.1 - - [06/Oct/2013 14:12:50] \"POST /RPC2 HTTP/1.1\" 200 -\n",
        "127.0.0.1 - - [06/Oct/2013 14:12:50] \"POST /RPC2 HTTP/1.1\" 200 -\n"
       ]
      },
      {
       "output_type": "stream",
       "stream": "stderr",
       "text": [
        "127.0.0.1 - - [06/Oct/2013 14:12:50] \"POST /RPC2 HTTP/1.1\" 200 -\n",
        "127.0.0.1 - - [06/Oct/2013 14:12:50] \"POST /RPC2 HTTP/1.1\" 200 -\n",
        "127.0.0.1 - - [06/Oct/2013 14:12:50] \"POST /RPC2 HTTP/1.1\" 200 -\n",
        "127.0.0.1 - - [06/Oct/2013 14:12:50] \"POST /RPC2 HTTP/1.1\" 200 -\n",
        "127.0.0.1 - - [06/Oct/2013 14:12:50] \"POST /RPC2 HTTP/1.1\" 200 -\n",
        "127.0.0.1 - - [06/Oct/2013 14:12:50] \"POST /RPC2 HTTP/1.1\" 200 -\n",
        "127.0.0.1 - - [06/Oct/2013 14:12:50] \"POST /RPC2 HTTP/1.1\" 200 -\n",
        "127.0.0.1 - - [06/Oct/2013 14:12:50] \"POST /RPC2 HTTP/1.1\" 200 -\n"
       ]
      },
      {
       "output_type": "stream",
       "stream": "stderr",
       "text": [
        "127.0.0.1 - - [06/Oct/2013 14:12:50] \"POST /RPC2 HTTP/1.1\" 200 -\n",
        "127.0.0.1 - - [06/Oct/2013 14:12:50] \"POST /RPC2 HTTP/1.1\" 200 -\n",
        "127.0.0.1 - - [06/Oct/2013 14:12:50] \"POST /RPC2 HTTP/1.1\" 200 -\n",
        "127.0.0.1 - - [06/Oct/2013 14:12:50] \"POST /RPC2 HTTP/1.1\" 200 -\n",
        "127.0.0.1 - - [06/Oct/2013 14:12:50] \"POST /RPC2 HTTP/1.1\" 200 -\n",
        "127.0.0.1 - - [06/Oct/2013 14:12:50] \"POST /RPC2 HTTP/1.1\" 200 -\n",
        "127.0.0.1 - - [06/Oct/2013 14:12:50] \"POST /RPC2 HTTP/1.1\" 200 -\n",
        "127.0.0.1 - - [06/Oct/2013 14:12:50] \"POST /RPC2 HTTP/1.1\" 200 -\n"
       ]
      },
      {
       "output_type": "stream",
       "stream": "stderr",
       "text": [
        "127.0.0.1 - - [06/Oct/2013 14:12:50] \"POST /RPC2 HTTP/1.1\" 200 -\n",
        "127.0.0.1 - - [06/Oct/2013 14:12:50] \"POST /RPC2 HTTP/1.1\" 200 -\n",
        "127.0.0.1 - - [06/Oct/2013 14:12:50] \"POST /RPC2 HTTP/1.1\" 200 -\n",
        "127.0.0.1 - - [06/Oct/2013 14:12:50] \"POST /RPC2 HTTP/1.1\" 200 -\n",
        "127.0.0.1 - - [06/Oct/2013 14:12:50] \"POST /RPC2 HTTP/1.1\" 200 -\n",
        "127.0.0.1 - - [06/Oct/2013 14:12:50] \"POST /RPC2 HTTP/1.1\" 200 -\n",
        "127.0.0.1 - - [06/Oct/2013 14:12:50] \"POST /RPC2 HTTP/1.1\" 200 -\n",
        "127.0.0.1 - - [06/Oct/2013 14:12:50] \"POST /RPC2 HTTP/1.1\" 200 -\n"
       ]
      },
      {
       "output_type": "stream",
       "stream": "stderr",
       "text": [
        "127.0.0.1 - - [06/Oct/2013 14:12:50] \"POST /RPC2 HTTP/1.1\" 200 -\n",
        "127.0.0.1 - - [06/Oct/2013 14:12:50] \"POST /RPC2 HTTP/1.1\" 200 -\n",
        "127.0.0.1 - - [06/Oct/2013 14:12:50] \"POST /RPC2 HTTP/1.1\" 200 -\n",
        "127.0.0.1 - - [06/Oct/2013 14:12:50] \"POST /RPC2 HTTP/1.1\" 200 -\n",
        "127.0.0.1 - - [06/Oct/2013 14:12:50] \"POST /RPC2 HTTP/1.1\" 200 -\n",
        "127.0.0.1 - - [06/Oct/2013 14:12:50] \"POST /RPC2 HTTP/1.1\" 200 -\n",
        "127.0.0.1 - - [06/Oct/2013 14:12:50] \"POST /RPC2 HTTP/1.1\" 200 -\n",
        "127.0.0.1 - - [06/Oct/2013 14:12:50] \"POST /RPC2 HTTP/1.1\" 200 -\n"
       ]
      },
      {
       "output_type": "stream",
       "stream": "stderr",
       "text": [
        "127.0.0.1 - - [06/Oct/2013 14:12:50] \"POST /RPC2 HTTP/1.1\" 200 -\n",
        "127.0.0.1 - - [06/Oct/2013 14:12:50] \"POST /RPC2 HTTP/1.1\" 200 -\n",
        "127.0.0.1 - - [06/Oct/2013 14:12:50] \"POST /RPC2 HTTP/1.1\" 200 -\n",
        "127.0.0.1 - - [06/Oct/2013 14:12:50] \"POST /RPC2 HTTP/1.1\" 200 -\n",
        "127.0.0.1 - - [06/Oct/2013 14:12:50] \"POST /RPC2 HTTP/1.1\" 200 -\n",
        "127.0.0.1 - - [06/Oct/2013 14:12:50] \"POST /RPC2 HTTP/1.1\" 200 -\n",
        "127.0.0.1 - - [06/Oct/2013 14:12:50] \"POST /RPC2 HTTP/1.1\" 200 -\n",
        "127.0.0.1 - - [06/Oct/2013 14:16:40] \"POST /RPC2 HTTP/1.1\" 200 -\n"
       ]
      },
      {
       "output_type": "stream",
       "stream": "stderr",
       "text": [
        "127.0.0.1 - - [06/Oct/2013 14:16:40] \"POST /RPC2 HTTP/1.1\" 200 -\n",
        "127.0.0.1 - - [06/Oct/2013 14:16:40] \"POST /RPC2 HTTP/1.1\" 200 -\n",
        "127.0.0.1 - - [06/Oct/2013 14:16:40] \"POST /RPC2 HTTP/1.1\" 200 -\n",
        "127.0.0.1 - - [06/Oct/2013 14:16:40] \"POST /RPC2 HTTP/1.1\" 200 -\n",
        "127.0.0.1 - - [06/Oct/2013 14:16:40] \"POST /RPC2 HTTP/1.1\" 200 -\n"
       ]
      },
      {
       "output_type": "stream",
       "stream": "stderr",
       "text": [
        "127.0.0.1 - - [06/Oct/2013 14:16:40] \"POST /RPC2 HTTP/1.1\" 200 -\n",
        "127.0.0.1 - - [06/Oct/2013 14:16:40] \"POST /RPC2 HTTP/1.1\" 200 -\n",
        "127.0.0.1 - - [06/Oct/2013 14:16:40] \"POST /RPC2 HTTP/1.1\" 200 -\n",
        "127.0.0.1 - - [06/Oct/2013 14:16:40] \"POST /RPC2 HTTP/1.1\" 200 -\n",
        "127.0.0.1 - - [06/Oct/2013 14:16:40] \"POST /RPC2 HTTP/1.1\" 200 -\n"
       ]
      },
      {
       "output_type": "stream",
       "stream": "stderr",
       "text": [
        "127.0.0.1 - - [06/Oct/2013 14:16:40] \"POST /RPC2 HTTP/1.1\" 200 -\n",
        "127.0.0.1 - - [06/Oct/2013 14:16:40] \"POST /RPC2 HTTP/1.1\" 200 -\n",
        "127.0.0.1 - - [06/Oct/2013 14:16:40] \"POST /RPC2 HTTP/1.1\" 200 -\n",
        "127.0.0.1 - - [06/Oct/2013 14:16:40] \"POST /RPC2 HTTP/1.1\" 200 -\n",
        "127.0.0.1 - - [06/Oct/2013 14:16:41] \"POST /RPC2 HTTP/1.1\" 200 -\n"
       ]
      },
      {
       "output_type": "stream",
       "stream": "stderr",
       "text": [
        "127.0.0.1 - - [06/Oct/2013 14:16:41] \"POST /RPC2 HTTP/1.1\" 200 -\n",
        "127.0.0.1 - - [06/Oct/2013 14:16:41] \"POST /RPC2 HTTP/1.1\" 200 -\n",
        "127.0.0.1 - - [06/Oct/2013 14:16:41] \"POST /RPC2 HTTP/1.1\" 200 -\n",
        "127.0.0.1 - - [06/Oct/2013 14:16:41] \"POST /RPC2 HTTP/1.1\" 200 -\n",
        "127.0.0.1 - - [06/Oct/2013 14:16:41] \"POST /RPC2 HTTP/1.1\" 200 -\n"
       ]
      },
      {
       "output_type": "stream",
       "stream": "stderr",
       "text": [
        "127.0.0.1 - - [06/Oct/2013 14:16:41] \"POST /RPC2 HTTP/1.1\" 200 -\n",
        "127.0.0.1 - - [06/Oct/2013 14:16:41] \"POST /RPC2 HTTP/1.1\" 200 -\n",
        "127.0.0.1 - - [06/Oct/2013 14:16:41] \"POST /RPC2 HTTP/1.1\" 200 -\n",
        "127.0.0.1 - - [06/Oct/2013 14:16:41] \"POST /RPC2 HTTP/1.1\" 200 -\n",
        "127.0.0.1 - - [06/Oct/2013 14:16:41] \"POST /RPC2 HTTP/1.1\" 200 -\n"
       ]
      },
      {
       "output_type": "stream",
       "stream": "stderr",
       "text": [
        "127.0.0.1 - - [06/Oct/2013 14:16:41] \"POST /RPC2 HTTP/1.1\" 200 -\n",
        "127.0.0.1 - - [06/Oct/2013 14:16:41] \"POST /RPC2 HTTP/1.1\" 200 -\n",
        "127.0.0.1 - - [06/Oct/2013 14:16:41] \"POST /RPC2 HTTP/1.1\" 200 -\n",
        "127.0.0.1 - - [06/Oct/2013 14:16:41] \"POST /RPC2 HTTP/1.1\" 200 -\n",
        "127.0.0.1 - - [06/Oct/2013 14:16:41] \"POST /RPC2 HTTP/1.1\" 200 -\n"
       ]
      },
      {
       "output_type": "stream",
       "stream": "stderr",
       "text": [
        "127.0.0.1 - - [06/Oct/2013 14:16:41] \"POST /RPC2 HTTP/1.1\" 200 -\n",
        "127.0.0.1 - - [06/Oct/2013 14:16:41] \"POST /RPC2 HTTP/1.1\" 200 -\n",
        "127.0.0.1 - - [06/Oct/2013 14:16:41] \"POST /RPC2 HTTP/1.1\" 200 -\n",
        "127.0.0.1 - - [06/Oct/2013 14:16:41] \"POST /RPC2 HTTP/1.1\" 200 -\n",
        "127.0.0.1 - - [06/Oct/2013 14:16:41] \"POST /RPC2 HTTP/1.1\" 200 -\n"
       ]
      },
      {
       "output_type": "stream",
       "stream": "stderr",
       "text": [
        "127.0.0.1 - - [06/Oct/2013 14:16:41] \"POST /RPC2 HTTP/1.1\" 200 -\n",
        "127.0.0.1 - - [06/Oct/2013 14:16:41] \"POST /RPC2 HTTP/1.1\" 200 -\n",
        "127.0.0.1 - - [06/Oct/2013 14:16:41] \"POST /RPC2 HTTP/1.1\" 200 -\n",
        "127.0.0.1 - - [06/Oct/2013 14:16:41] \"POST /RPC2 HTTP/1.1\" 200 -\n",
        "127.0.0.1 - - [06/Oct/2013 14:19:49] \"POST /RPC2 HTTP/1.1\" 200 -\n"
       ]
      },
      {
       "output_type": "stream",
       "stream": "stderr",
       "text": [
        "127.0.0.1 - - [06/Oct/2013 14:19:49] \"POST /RPC2 HTTP/1.1\" 200 -\n",
        "127.0.0.1 - - [06/Oct/2013 14:19:49] \"POST /RPC2 HTTP/1.1\" 200 -\n",
        "127.0.0.1 - - [06/Oct/2013 14:19:49] \"POST /RPC2 HTTP/1.1\" 200 -\n",
        "127.0.0.1 - - [06/Oct/2013 14:19:49] \"POST /RPC2 HTTP/1.1\" 200 -\n",
        "127.0.0.1 - - [06/Oct/2013 14:19:49] \"POST /RPC2 HTTP/1.1\" 200 -\n",
        "127.0.0.1 - - [06/Oct/2013 14:19:49] \"POST /RPC2 HTTP/1.1\" 200 -\n",
        "127.0.0.1 - - [06/Oct/2013 14:19:49] \"POST /RPC2 HTTP/1.1\" 200 -\n",
        "127.0.0.1 - - [06/Oct/2013 14:19:49] \"POST /RPC2 HTTP/1.1\" 200 -\n",
        "127.0.0.1 - - [06/Oct/2013 14:19:53] \"POST /RPC2 HTTP/1.1\" 200 -\n"
       ]
      },
      {
       "output_type": "stream",
       "stream": "stderr",
       "text": [
        "127.0.0.1 - - [06/Oct/2013 14:19:53] \"POST /RPC2 HTTP/1.1\" 200 -\n",
        "127.0.0.1 - - [06/Oct/2013 14:19:53] \"POST /RPC2 HTTP/1.1\" 200 -\n",
        "127.0.0.1 - - [06/Oct/2013 14:19:53] \"POST /RPC2 HTTP/1.1\" 200 -\n",
        "127.0.0.1 - - [06/Oct/2013 14:19:53] \"POST /RPC2 HTTP/1.1\" 200 -\n",
        "127.0.0.1 - - [06/Oct/2013 14:19:53] \"POST /RPC2 HTTP/1.1\" 200 -\n",
        "127.0.0.1 - - [06/Oct/2013 14:19:53] \"POST /RPC2 HTTP/1.1\" 200 -\n",
        "127.0.0.1 - - [06/Oct/2013 14:19:53] \"POST /RPC2 HTTP/1.1\" 200 -\n",
        "127.0.0.1 - - [06/Oct/2013 14:19:53] \"POST /RPC2 HTTP/1.1\" 200 -\n",
        "127.0.0.1 - - [06/Oct/2013 14:20:08] \"POST /RPC2 HTTP/1.1\" 200 -\n"
       ]
      },
      {
       "output_type": "stream",
       "stream": "stderr",
       "text": [
        "127.0.0.1 - - [06/Oct/2013 14:20:08] \"POST /RPC2 HTTP/1.1\" 200 -\n",
        "127.0.0.1 - - [06/Oct/2013 14:20:08] \"POST /RPC2 HTTP/1.1\" 200 -\n",
        "127.0.0.1 - - [06/Oct/2013 14:20:08] \"POST /RPC2 HTTP/1.1\" 200 -\n",
        "127.0.0.1 - - [06/Oct/2013 14:20:08] \"POST /RPC2 HTTP/1.1\" 200 -\n",
        "127.0.0.1 - - [06/Oct/2013 14:20:08] \"POST /RPC2 HTTP/1.1\" 200 -\n",
        "127.0.0.1 - - [06/Oct/2013 14:20:08] \"POST /RPC2 HTTP/1.1\" 200 -\n",
        "127.0.0.1 - - [06/Oct/2013 14:20:08] \"POST /RPC2 HTTP/1.1\" 200 -\n",
        "127.0.0.1 - - [06/Oct/2013 14:20:08] \"POST /RPC2 HTTP/1.1\" 200 -\n",
        "127.0.0.1 - - [06/Oct/2013 15:24:45] \"POST /RPC2 HTTP/1.1\" 200 -\n"
       ]
      },
      {
       "output_type": "stream",
       "stream": "stderr",
       "text": [
        "127.0.0.1 - - [06/Oct/2013 15:24:45] \"POST /RPC2 HTTP/1.1\" 200 -\n",
        "127.0.0.1 - - [06/Oct/2013 15:24:45] \"POST /RPC2 HTTP/1.1\" 200 -\n",
        "127.0.0.1 - - [06/Oct/2013 15:24:45] \"POST /RPC2 HTTP/1.1\" 200 -\n",
        "127.0.0.1 - - [06/Oct/2013 15:24:45] \"POST /RPC2 HTTP/1.1\" 200 -\n",
        "127.0.0.1 - - [06/Oct/2013 15:24:45] \"POST /RPC2 HTTP/1.1\" 200 -\n",
        "127.0.0.1 - - [06/Oct/2013 15:24:45] \"POST /RPC2 HTTP/1.1\" 200 -\n",
        "127.0.0.1 - - [06/Oct/2013 15:24:45] \"POST /RPC2 HTTP/1.1\" 200 -\n",
        "127.0.0.1 - - [06/Oct/2013 15:24:45] \"POST /RPC2 HTTP/1.1\" 200 -\n",
        "127.0.0.1 - - [06/Oct/2013 15:24:51] \"POST /RPC2 HTTP/1.1\" 200 -\n"
       ]
      },
      {
       "output_type": "stream",
       "stream": "stderr",
       "text": [
        "127.0.0.1 - - [06/Oct/2013 15:24:51] \"POST /RPC2 HTTP/1.1\" 200 -\n",
        "127.0.0.1 - - [06/Oct/2013 15:24:51] \"POST /RPC2 HTTP/1.1\" 200 -\n",
        "127.0.0.1 - - [06/Oct/2013 15:24:51] \"POST /RPC2 HTTP/1.1\" 200 -\n",
        "127.0.0.1 - - [06/Oct/2013 15:24:51] \"POST /RPC2 HTTP/1.1\" 200 -\n",
        "127.0.0.1 - - [06/Oct/2013 15:24:51] \"POST /RPC2 HTTP/1.1\" 200 -\n",
        "127.0.0.1 - - [06/Oct/2013 15:24:51] \"POST /RPC2 HTTP/1.1\" 200 -\n",
        "127.0.0.1 - - [06/Oct/2013 15:24:51] \"POST /RPC2 HTTP/1.1\" 200 -\n",
        "127.0.0.1 - - [06/Oct/2013 15:24:51] \"POST /RPC2 HTTP/1.1\" 200 -\n",
        "127.0.0.1 - - [06/Oct/2013 15:25:05] \"POST /RPC2 HTTP/1.1\" 200 -\n"
       ]
      },
      {
       "output_type": "stream",
       "stream": "stderr",
       "text": [
        "127.0.0.1 - - [06/Oct/2013 15:25:05] \"POST /RPC2 HTTP/1.1\" 200 -\n",
        "127.0.0.1 - - [06/Oct/2013 15:25:05] \"POST /RPC2 HTTP/1.1\" 200 -\n",
        "127.0.0.1 - - [06/Oct/2013 15:25:05] \"POST /RPC2 HTTP/1.1\" 200 -\n",
        "127.0.0.1 - - [06/Oct/2013 15:25:05] \"POST /RPC2 HTTP/1.1\" 200 -\n",
        "127.0.0.1 - - [06/Oct/2013 15:25:05] \"POST /RPC2 HTTP/1.1\" 200 -\n",
        "127.0.0.1 - - [06/Oct/2013 15:25:05] \"POST /RPC2 HTTP/1.1\" 200 -\n",
        "127.0.0.1 - - [06/Oct/2013 15:25:05] \"POST /RPC2 HTTP/1.1\" 200 -\n",
        "127.0.0.1 - - [06/Oct/2013 15:25:07] \"POST /RPC2 HTTP/1.1\" 200 -\n"
       ]
      },
      {
       "output_type": "stream",
       "stream": "stderr",
       "text": [
        "127.0.0.1 - - [06/Oct/2013 15:25:07] \"POST /RPC2 HTTP/1.1\" 200 -\n",
        "127.0.0.1 - - [06/Oct/2013 15:25:07] \"POST /RPC2 HTTP/1.1\" 200 -\n",
        "127.0.0.1 - - [06/Oct/2013 15:25:07] \"POST /RPC2 HTTP/1.1\" 200 -\n",
        "127.0.0.1 - - [06/Oct/2013 15:25:07] \"POST /RPC2 HTTP/1.1\" 200 -\n",
        "127.0.0.1 - - [06/Oct/2013 15:25:07] \"POST /RPC2 HTTP/1.1\" 200 -\n",
        "127.0.0.1 - - [06/Oct/2013 15:25:07] \"POST /RPC2 HTTP/1.1\" 200 -\n",
        "127.0.0.1 - - [06/Oct/2013 15:25:07] \"POST /RPC2 HTTP/1.1\" 200 -\n",
        "127.0.0.1 - - [06/Oct/2013 15:25:07] \"POST /RPC2 HTTP/1.1\" 200 -\n",
        "127.0.0.1 - - [06/Oct/2013 15:25:40] \"POST /RPC2 HTTP/1.1\" 200 -\n"
       ]
      },
      {
       "output_type": "stream",
       "stream": "stderr",
       "text": [
        "127.0.0.1 - - [06/Oct/2013 15:25:40] \"POST /RPC2 HTTP/1.1\" 200 -\n",
        "127.0.0.1 - - [06/Oct/2013 15:25:40] \"POST /RPC2 HTTP/1.1\" 200 -\n",
        "127.0.0.1 - - [06/Oct/2013 15:25:40] \"POST /RPC2 HTTP/1.1\" 200 -\n",
        "127.0.0.1 - - [06/Oct/2013 15:25:40] \"POST /RPC2 HTTP/1.1\" 200 -\n",
        "127.0.0.1 - - [06/Oct/2013 15:25:40] \"POST /RPC2 HTTP/1.1\" 200 -\n",
        "127.0.0.1 - - [06/Oct/2013 15:25:40] \"POST /RPC2 HTTP/1.1\" 200 -\n",
        "127.0.0.1 - - [06/Oct/2013 15:25:40] \"POST /RPC2 HTTP/1.1\" 200 -\n",
        "127.0.0.1 - - [06/Oct/2013 15:25:40] \"POST /RPC2 HTTP/1.1\" 200 -\n",
        "127.0.0.1 - - [06/Oct/2013 15:25:56] \"POST /RPC2 HTTP/1.1\" 200 -\n"
       ]
      },
      {
       "output_type": "stream",
       "stream": "stderr",
       "text": [
        "127.0.0.1 - - [06/Oct/2013 15:25:56] \"POST /RPC2 HTTP/1.1\" 200 -\n",
        "127.0.0.1 - - [06/Oct/2013 15:25:56] \"POST /RPC2 HTTP/1.1\" 200 -\n",
        "127.0.0.1 - - [06/Oct/2013 15:25:56] \"POST /RPC2 HTTP/1.1\" 200 -\n",
        "127.0.0.1 - - [06/Oct/2013 15:25:56] \"POST /RPC2 HTTP/1.1\" 200 -\n",
        "127.0.0.1 - - [06/Oct/2013 15:25:56] \"POST /RPC2 HTTP/1.1\" 200 -\n",
        "127.0.0.1 - - [06/Oct/2013 15:25:56] \"POST /RPC2 HTTP/1.1\" 200 -\n",
        "127.0.0.1 - - [06/Oct/2013 15:25:56] \"POST /RPC2 HTTP/1.1\" 200 -\n",
        "127.0.0.1 - - [06/Oct/2013 15:25:56] \"POST /RPC2 HTTP/1.1\" 200 -\n",
        "127.0.0.1 - - [06/Oct/2013 15:26:01] \"POST /RPC2 HTTP/1.1\" 200 -\n"
       ]
      },
      {
       "output_type": "stream",
       "stream": "stderr",
       "text": [
        "127.0.0.1 - - [06/Oct/2013 15:26:01] \"POST /RPC2 HTTP/1.1\" 200 -\n",
        "127.0.0.1 - - [06/Oct/2013 15:26:01] \"POST /RPC2 HTTP/1.1\" 200 -\n",
        "127.0.0.1 - - [06/Oct/2013 15:26:01] \"POST /RPC2 HTTP/1.1\" 200 -\n",
        "127.0.0.1 - - [06/Oct/2013 15:26:01] \"POST /RPC2 HTTP/1.1\" 200 -\n",
        "127.0.0.1 - - [06/Oct/2013 15:26:01] \"POST /RPC2 HTTP/1.1\" 200 -\n",
        "127.0.0.1 - - [06/Oct/2013 15:26:01] \"POST /RPC2 HTTP/1.1\" 200 -\n",
        "127.0.0.1 - - [06/Oct/2013 15:26:01] \"POST /RPC2 HTTP/1.1\" 200 -\n",
        "127.0.0.1 - - [06/Oct/2013 15:26:01] \"POST /RPC2 HTTP/1.1\" 200 -\n",
        "127.0.0.1 - - [06/Oct/2013 15:26:11] \"POST /RPC2 HTTP/1.1\" 200 -\n"
       ]
      },
      {
       "output_type": "stream",
       "stream": "stderr",
       "text": [
        "127.0.0.1 - - [06/Oct/2013 15:26:11] \"POST /RPC2 HTTP/1.1\" 200 -\n",
        "127.0.0.1 - - [06/Oct/2013 15:26:11] \"POST /RPC2 HTTP/1.1\" 200 -\n",
        "127.0.0.1 - - [06/Oct/2013 15:26:11] \"POST /RPC2 HTTP/1.1\" 200 -\n",
        "127.0.0.1 - - [06/Oct/2013 15:26:11] \"POST /RPC2 HTTP/1.1\" 200 -\n",
        "127.0.0.1 - - [06/Oct/2013 15:26:11] \"POST /RPC2 HTTP/1.1\" 200 -\n",
        "127.0.0.1 - - [06/Oct/2013 15:26:11] \"POST /RPC2 HTTP/1.1\" 200 -\n",
        "127.0.0.1 - - [06/Oct/2013 15:26:11] \"POST /RPC2 HTTP/1.1\" 200 -\n",
        "127.0.0.1 - - [06/Oct/2013 15:26:11] \"POST /RPC2 HTTP/1.1\" 200 -\n",
        "127.0.0.1 - - [06/Oct/2013 15:26:48] \"POST /RPC2 HTTP/1.1\" 200 -\n"
       ]
      },
      {
       "output_type": "stream",
       "stream": "stderr",
       "text": [
        "127.0.0.1 - - [06/Oct/2013 15:26:48] \"POST /RPC2 HTTP/1.1\" 200 -\n",
        "127.0.0.1 - - [06/Oct/2013 15:26:48] \"POST /RPC2 HTTP/1.1\" 200 -\n",
        "127.0.0.1 - - [06/Oct/2013 15:26:48] \"POST /RPC2 HTTP/1.1\" 200 -\n",
        "127.0.0.1 - - [06/Oct/2013 15:26:48] \"POST /RPC2 HTTP/1.1\" 200 -\n",
        "127.0.0.1 - - [06/Oct/2013 15:43:05] \"POST /RPC2 HTTP/1.1\" 200 -\n"
       ]
      },
      {
       "output_type": "stream",
       "stream": "stderr",
       "text": [
        "127.0.0.1 - - [06/Oct/2013 15:43:05] \"POST /RPC2 HTTP/1.1\" 200 -\n",
        "127.0.0.1 - - [06/Oct/2013 15:43:05] \"POST /RPC2 HTTP/1.1\" 200 -\n",
        "127.0.0.1 - - [06/Oct/2013 15:43:05] \"POST /RPC2 HTTP/1.1\" 200 -\n",
        "127.0.0.1 - - [06/Oct/2013 15:43:05] \"POST /RPC2 HTTP/1.1\" 200 -\n",
        "127.0.0.1 - - [06/Oct/2013 15:43:23] \"POST /RPC2 HTTP/1.1\" 200 -\n"
       ]
      }
     ],
     "prompt_number": "*"
    },
    {
     "cell_type": "code",
     "collapsed": false,
     "input": [
      "server.shutdown()"
     ],
     "language": "python",
     "metadata": {},
     "outputs": [],
     "prompt_number": "*"
    }
   ],
   "metadata": {}
  }
 ]
}