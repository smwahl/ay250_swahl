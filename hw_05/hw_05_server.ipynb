{
 "metadata": {
  "name": ""
 },
 "nbformat": 3,
 "nbformat_minor": 0,
 "worksheets": [
  {
   "cells": [
    {
     "cell_type": "code",
     "collapsed": false,
     "input": [
      "import SimpleXMLRPCServer\n",
      "import numpy as np\n",
      "import matplotlib.pyplot as plt\n",
      "import matplotlib.image as mpimg\n",
      "\n",
      "class serverImageOperations:\n",
      "    def __init__(self):\n",
      "        self.saveDir = './server_images'\n",
      "    \n",
      "    def toGreyscale(self, imarray):\n",
      "        '''Convert and RBG color image to a black and white image.\n",
      "        \n",
      "        Usage: toGreyscale(imarray)\n",
      "        imarray is an ndarray object of an RBG image'''\n",
      "        return imarray\n",
      "    def resize(self, imarray, size, mode='center'):\n",
      "        '''Change the dimensions of an RBG color image\n",
      "        \n",
      "        Usage: resize(imarray,(xlen,ylen),mode)\n",
      "        imarray is an ndarray object of an RBG image\n",
      "        (x,y) are the new image lengths in the x,y direction\n",
      "        mode='center' (default) cuts off edges in one dimension\n",
      "            when aspect ratio of new image is different from\n",
      "            original\n",
      "        mode='stretch' stretches image when aspect ratio of the\n",
      "            new image is different than the original'''\n",
      "        return imarray\n",
      "    def crop(self, imarray, xdim=(0.,1.), ydim=(0.,1.):\n",
      "        '''Crop a RBG image using fractional x-y coordinates\n",
      "        \n",
      "        Usage: crop(imarray,xdim=(x0,x1),ydim=(y0,y1),mode)\n",
      "        imarray is an ndarray object of an RBG image\n",
      "        (x0,x1) are the fractional x coordinates to crop image at.\n",
      "        (y0,y1) are the fractional x coordinates to crop image at.'''\n",
      "        return imarray\n",
      "    \n",
      "    def saveImage(self, imarray):\n",
      "        '''Save a copy of an image.'''\n",
      "        \n",
      "        return True\n",
      "        \n",
      "host, port = \"\", 5021\n",
      "server = SimpleXMLRPCServer.SimpleXMLRPCServer((host, port), allow_none=True)\n",
      "server.register_instance(serverImageOperations)\n",
      "server.register_multicall_functions()\n",
      "server.register_introspection_functions()\n",
      "print \"XMLRPC Server is starting at:\", host, port"
     ],
     "language": "python",
     "metadata": {},
     "outputs": []
    },
    {
     "cell_type": "code",
     "collapsed": false,
     "input": [],
     "language": "python",
     "metadata": {},
     "outputs": []
    }
   ],
   "metadata": {}
  }
 ]
}