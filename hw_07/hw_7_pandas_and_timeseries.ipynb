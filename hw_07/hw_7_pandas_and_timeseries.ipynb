{
 "metadata": {
  "name": ""
 },
 "nbformat": 3,
 "nbformat_minor": 0,
 "worksheets": [
  {
   "cells": [
    {
     "cell_type": "markdown",
     "metadata": {},
     "source": [
      "Pandas and Timeseries\n",
      "----------------------\n",
      "\n",
      "Due Thursday October 24 at 9am\n",
      "\n",
      "UC Berkeley \"Python for Data Science\" Seminar AY 250. Fall 2013.\n",
      "\n",
      "Created by Guest Lecturer [Wes McKinney](http://blog.wesmckinney.com/).\n",
      "\n",
      "<hr>"
     ]
    },
    {
     "cell_type": "markdown",
     "metadata": {},
     "source": [
      "Download a dump of data about closed GitHub issues for the pandas project here:\n",
      "\n",
      "https://www.dropbox.com/s/pe6dqooznrfynii/closed.json\n",
      "\n",
      "Use the built-in json library to read this file into memory. Each element in\n",
      "the list contains information about a GitHub issue and all developer comments\n",
      "that were made on it in the 'comments' field.\n",
      "\n",
      "<hr>"
     ]
    },
    {
     "cell_type": "markdown",
     "metadata": {},
     "source": [
      "1) Make a DataFrame with one row per issue with the following columns extracted\n",
      "from the issue data:\n",
      "\n",
      "   ``ntitle, created_at, labels, closed_at, user, id``\n",
      "\n",
      "Transform the user values to be simply the 'login' string, so that the user\n",
      "column contains only string usernames."
     ]
    },
    {
     "cell_type": "code",
     "collapsed": false,
     "input": [
      "import json\n",
      "f = open('./closed.json')\n",
      "s = f.read()\n",
      "#print s\n",
      "json_data = json.loads(s)"
     ],
     "language": "python",
     "metadata": {},
     "outputs": [],
     "prompt_number": 12
    },
    {
     "cell_type": "code",
     "collapsed": false,
     "input": [
      "import pandas as pd\n",
      "import numpy as np\n",
      "\n",
      "data = [ [x['title'],x['created_at'],x['labels'],x['closed_at'],x['user'],x['id']] for x in json_data ]\n",
      "\n",
      "df = pd.DataFrame(data,columns=['title','created_at','labels','closed_at','user','id'])\n",
      "df"
     ],
     "language": "python",
     "metadata": {},
     "outputs": [
      {
       "html": [
        "<pre>\n",
        "&lt;class 'pandas.core.frame.DataFrame'&gt;\n",
        "Int64Index: 2968 entries, 0 to 2967\n",
        "Data columns (total 6 columns):\n",
        "title         2968  non-null values\n",
        "created_at    2968  non-null values\n",
        "labels        2968  non-null values\n",
        "closed_at     2968  non-null values\n",
        "user          2968  non-null values\n",
        "id            2968  non-null values\n",
        "dtypes: int64(1), object(5)\n",
        "</pre>"
       ],
       "metadata": {},
       "output_type": "pyout",
       "prompt_number": 13,
       "text": [
        "<class 'pandas.core.frame.DataFrame'>\n",
        "Int64Index: 2968 entries, 0 to 2967\n",
        "Data columns (total 6 columns):\n",
        "title         2968  non-null values\n",
        "created_at    2968  non-null values\n",
        "labels        2968  non-null values\n",
        "closed_at     2968  non-null values\n",
        "user          2968  non-null values\n",
        "id            2968  non-null values\n",
        "dtypes: int64(1), object(5)"
       ]
      }
     ],
     "prompt_number": 13
    },
    {
     "cell_type": "markdown",
     "metadata": {},
     "source": [
      "2) Remove duplicate rows by id from the DataFrame you just created using the id\n",
      "column's duplicated method."
     ]
    },
    {
     "cell_type": "code",
     "collapsed": false,
     "input": [
      "df = df.drop_duplicates(cols='id',take_last=True)\n",
      "\n",
      "#dup = df.duplicated(cols='id',take_last=True)\n",
      "#df.drop(dup_idx) # why doesnt this have the same result\n",
      "\n",
      "df"
     ],
     "language": "python",
     "metadata": {},
     "outputs": [
      {
       "html": [
        "<pre>\n",
        "&lt;class 'pandas.core.frame.DataFrame'&gt;\n",
        "Int64Index: 2934 entries, 1 to 2967\n",
        "Data columns (total 6 columns):\n",
        "title         2934  non-null values\n",
        "created_at    2934  non-null values\n",
        "labels        2934  non-null values\n",
        "closed_at     2934  non-null values\n",
        "user          2934  non-null values\n",
        "id            2934  non-null values\n",
        "dtypes: int64(1), object(5)\n",
        "</pre>"
       ],
       "metadata": {},
       "output_type": "pyout",
       "prompt_number": 14,
       "text": [
        "<class 'pandas.core.frame.DataFrame'>\n",
        "Int64Index: 2934 entries, 1 to 2967\n",
        "Data columns (total 6 columns):\n",
        "title         2934  non-null values\n",
        "created_at    2934  non-null values\n",
        "labels        2934  non-null values\n",
        "closed_at     2934  non-null values\n",
        "user          2934  non-null values\n",
        "id            2934  non-null values\n",
        "dtypes: int64(1), object(5)"
       ]
      }
     ],
     "prompt_number": 14
    },
    {
     "cell_type": "markdown",
     "metadata": {},
     "source": [
      "4) Convert the ``created_at`` and ``closed_at columns`` from string to datetime type."
     ]
    },
    {
     "cell_type": "code",
     "collapsed": false,
     "input": [
      "#pd.to_datetime(df.created_at, format='%Y-%m-%d %H:%M:%S')\n",
      "df.created_at = pd.to_datetime(df.created_at)\n",
      "df.closed_at = pd.to_datetime(df.closed_at)\n",
      "df.closed_at"
     ],
     "language": "python",
     "metadata": {},
     "outputs": [
      {
       "metadata": {},
       "output_type": "pyout",
       "prompt_number": 15,
       "text": [
        "1    2011-02-19 23:13:48\n",
        "3    2010-12-17 02:57:33\n",
        "5    2011-01-01 23:50:12\n",
        "7    2010-12-11 06:14:32\n",
        "9    2010-12-17 02:46:34\n",
        "11   2010-12-11 06:05:26\n",
        "13   2010-12-11 06:12:00\n",
        "15   2011-06-23 04:50:05\n",
        "17   2011-05-18 02:43:33\n",
        "19   2011-06-23 19:38:51\n",
        "21   2011-02-19 23:46:00\n",
        "23   2010-12-11 22:53:14\n",
        "25   2012-12-12 21:35:57\n",
        "27   2011-02-19 16:13:00\n",
        "29   2010-12-11 06:19:58\n",
        "...\n",
        "2953   2013-04-25 15:25:49\n",
        "2954   2013-04-25 16:09:51\n",
        "2955   2013-04-25 14:38:06\n",
        "2956   2013-04-25 21:57:05\n",
        "2957   2013-04-29 14:37:13\n",
        "2958   2013-04-25 21:56:33\n",
        "2959   2013-04-26 18:52:57\n",
        "2960   2013-04-26 18:52:46\n",
        "2961   2013-04-28 00:55:20\n",
        "2962   2013-04-27 20:14:38\n",
        "2963   2013-04-29 17:43:37\n",
        "2964   2013-04-29 16:40:04\n",
        "2965   2013-04-29 21:54:45\n",
        "2966   2013-04-28 01:30:39\n",
        "2967   2013-04-29 01:04:52\n",
        "Name: closed_at, Length: 2934, dtype: datetime64[ns]"
       ]
      }
     ],
     "prompt_number": 15
    },
    {
     "cell_type": "markdown",
     "metadata": {},
     "source": [
      "5) Now construct appropriate time series and pandas functions to make the\n",
      "following plots:\n",
      "\n",
      "- Number of issues created by month\n",
      "\n",
      "- Number of distinct users creating issues each month (hint: you can pass a\n",
      "  function to resample's how argument, and there's nothing wrong with having\n",
      "  string values in a TimeSeries)"
     ]
    },
    {
     "cell_type": "code",
     "collapsed": false,
     "input": [
      "# set index to be the date created\n",
      "df.set_index('created_at',inplace=True,drop=False)\n",
      "df"
     ],
     "language": "python",
     "metadata": {},
     "outputs": [
      {
       "html": [
        "<pre>\n",
        "&lt;class 'pandas.core.frame.DataFrame'&gt;\n",
        "DatetimeIndex: 2934 entries, 2010-09-29 00:45:31 to 2013-04-28 15:27:23\n",
        "Data columns (total 6 columns):\n",
        "title         2934  non-null values\n",
        "created_at    2934  non-null values\n",
        "labels        2934  non-null values\n",
        "closed_at     2934  non-null values\n",
        "user          2934  non-null values\n",
        "id            2934  non-null values\n",
        "dtypes: datetime64[ns](2), int64(1), object(3)\n",
        "</pre>"
       ],
       "metadata": {},
       "output_type": "pyout",
       "prompt_number": 16,
       "text": [
        "<class 'pandas.core.frame.DataFrame'>\n",
        "DatetimeIndex: 2934 entries, 2010-09-29 00:45:31 to 2013-04-28 15:27:23\n",
        "Data columns (total 6 columns):\n",
        "title         2934  non-null values\n",
        "created_at    2934  non-null values\n",
        "labels        2934  non-null values\n",
        "closed_at     2934  non-null values\n",
        "user          2934  non-null values\n",
        "id            2934  non-null values\n",
        "dtypes: datetime64[ns](2), int64(1), object(3)"
       ]
      }
     ],
     "prompt_number": 16
    },
    {
     "cell_type": "code",
     "collapsed": false,
     "input": [
      "def nusers(x):\n",
      "    ''' Return the number of users with unique id numbers.'''\n",
      "    userids = np.array([ entry['id'] for entry in x ])\n",
      "    return np.unique(userids).size\n",
      "\n",
      "def nentry(x):\n",
      "    ''' Return the number of issues.'''\n",
      "    return len(x.index)\n",
      "\n",
      "df.user.values[0]['id']\n",
      "nusers(df.user)"
     ],
     "language": "python",
     "metadata": {},
     "outputs": [
      {
       "metadata": {},
       "output_type": "pyout",
       "prompt_number": 17,
       "text": [
        "471"
       ]
      }
     ],
     "prompt_number": 17
    },
    {
     "cell_type": "code",
     "collapsed": false,
     "input": [
      "# resample\n",
      "monthly = df.user.resample('M',how=[nentry,nusers])\n",
      "monthly.columns = ['N_issues','N_users']\n",
      "monthly"
     ],
     "language": "python",
     "metadata": {},
     "outputs": [
      {
       "html": [
        "<div style=\"max-height:1000px;max-width:1500px;overflow:auto;\">\n",
        "<table border=\"1\" class=\"dataframe\">\n",
        "  <thead>\n",
        "    <tr style=\"text-align: right;\">\n",
        "      <th></th>\n",
        "      <th>N_issues</th>\n",
        "      <th>N_users</th>\n",
        "    </tr>\n",
        "    <tr>\n",
        "      <th>created_at</th>\n",
        "      <th></th>\n",
        "      <th></th>\n",
        "    </tr>\n",
        "  </thead>\n",
        "  <tbody>\n",
        "    <tr>\n",
        "      <th>2010-09-30</th>\n",
        "      <td>  11</td>\n",
        "      <td>  2</td>\n",
        "    </tr>\n",
        "    <tr>\n",
        "      <th>2010-10-31</th>\n",
        "      <td>   8</td>\n",
        "      <td>  3</td>\n",
        "    </tr>\n",
        "    <tr>\n",
        "      <th>2010-11-30</th>\n",
        "      <td>   2</td>\n",
        "      <td>  2</td>\n",
        "    </tr>\n",
        "    <tr>\n",
        "      <th>2010-12-31</th>\n",
        "      <td>   4</td>\n",
        "      <td>  3</td>\n",
        "    </tr>\n",
        "    <tr>\n",
        "      <th>2011-01-31</th>\n",
        "      <td>   9</td>\n",
        "      <td>  5</td>\n",
        "    </tr>\n",
        "    <tr>\n",
        "      <th>2011-02-28</th>\n",
        "      <td>   2</td>\n",
        "      <td>  2</td>\n",
        "    </tr>\n",
        "    <tr>\n",
        "      <th>2011-03-31</th>\n",
        "      <td>   2</td>\n",
        "      <td>  1</td>\n",
        "    </tr>\n",
        "    <tr>\n",
        "      <th>2011-04-30</th>\n",
        "      <td>   0</td>\n",
        "      <td>  0</td>\n",
        "    </tr>\n",
        "    <tr>\n",
        "      <th>2011-05-31</th>\n",
        "      <td>   7</td>\n",
        "      <td>  3</td>\n",
        "    </tr>\n",
        "    <tr>\n",
        "      <th>2011-06-30</th>\n",
        "      <td>   9</td>\n",
        "      <td>  3</td>\n",
        "    </tr>\n",
        "    <tr>\n",
        "      <th>2011-07-31</th>\n",
        "      <td>  30</td>\n",
        "      <td>  9</td>\n",
        "    </tr>\n",
        "    <tr>\n",
        "      <th>2011-08-31</th>\n",
        "      <td>  31</td>\n",
        "      <td> 10</td>\n",
        "    </tr>\n",
        "    <tr>\n",
        "      <th>2011-09-30</th>\n",
        "      <td>  66</td>\n",
        "      <td> 14</td>\n",
        "    </tr>\n",
        "    <tr>\n",
        "      <th>2011-10-31</th>\n",
        "      <td> 118</td>\n",
        "      <td> 17</td>\n",
        "    </tr>\n",
        "    <tr>\n",
        "      <th>2011-11-30</th>\n",
        "      <td> 110</td>\n",
        "      <td> 25</td>\n",
        "    </tr>\n",
        "    <tr>\n",
        "      <th>2011-12-31</th>\n",
        "      <td> 125</td>\n",
        "      <td> 22</td>\n",
        "    </tr>\n",
        "    <tr>\n",
        "      <th>2012-01-31</th>\n",
        "      <td> 154</td>\n",
        "      <td> 41</td>\n",
        "    </tr>\n",
        "    <tr>\n",
        "      <th>2012-02-29</th>\n",
        "      <td> 101</td>\n",
        "      <td> 26</td>\n",
        "    </tr>\n",
        "    <tr>\n",
        "      <th>2012-03-31</th>\n",
        "      <td> 126</td>\n",
        "      <td> 47</td>\n",
        "    </tr>\n",
        "    <tr>\n",
        "      <th>2012-04-30</th>\n",
        "      <td> 171</td>\n",
        "      <td> 39</td>\n",
        "    </tr>\n",
        "    <tr>\n",
        "      <th>2012-05-31</th>\n",
        "      <td> 179</td>\n",
        "      <td> 26</td>\n",
        "    </tr>\n",
        "    <tr>\n",
        "      <th>2012-06-30</th>\n",
        "      <td> 169</td>\n",
        "      <td> 55</td>\n",
        "    </tr>\n",
        "    <tr>\n",
        "      <th>2012-07-31</th>\n",
        "      <td> 141</td>\n",
        "      <td> 52</td>\n",
        "    </tr>\n",
        "    <tr>\n",
        "      <th>2012-08-31</th>\n",
        "      <td> 102</td>\n",
        "      <td> 46</td>\n",
        "    </tr>\n",
        "    <tr>\n",
        "      <th>2012-09-30</th>\n",
        "      <td> 139</td>\n",
        "      <td> 53</td>\n",
        "    </tr>\n",
        "    <tr>\n",
        "      <th>2012-10-31</th>\n",
        "      <td> 113</td>\n",
        "      <td> 47</td>\n",
        "    </tr>\n",
        "    <tr>\n",
        "      <th>2012-11-30</th>\n",
        "      <td> 216</td>\n",
        "      <td> 63</td>\n",
        "    </tr>\n",
        "    <tr>\n",
        "      <th>2012-12-31</th>\n",
        "      <td> 175</td>\n",
        "      <td> 66</td>\n",
        "    </tr>\n",
        "    <tr>\n",
        "      <th>2013-01-31</th>\n",
        "      <td> 130</td>\n",
        "      <td> 55</td>\n",
        "    </tr>\n",
        "    <tr>\n",
        "      <th>2013-02-28</th>\n",
        "      <td> 130</td>\n",
        "      <td> 56</td>\n",
        "    </tr>\n",
        "    <tr>\n",
        "      <th>2013-03-31</th>\n",
        "      <td> 212</td>\n",
        "      <td> 56</td>\n",
        "    </tr>\n",
        "    <tr>\n",
        "      <th>2013-04-30</th>\n",
        "      <td> 142</td>\n",
        "      <td> 49</td>\n",
        "    </tr>\n",
        "  </tbody>\n",
        "</table>\n",
        "</div>"
       ],
       "metadata": {},
       "output_type": "pyout",
       "prompt_number": 18,
       "text": [
        "            N_issues  N_users\n",
        "created_at                   \n",
        "2010-09-30        11        2\n",
        "2010-10-31         8        3\n",
        "2010-11-30         2        2\n",
        "2010-12-31         4        3\n",
        "2011-01-31         9        5\n",
        "2011-02-28         2        2\n",
        "2011-03-31         2        1\n",
        "2011-04-30         0        0\n",
        "2011-05-31         7        3\n",
        "2011-06-30         9        3\n",
        "2011-07-31        30        9\n",
        "2011-08-31        31       10\n",
        "2011-09-30        66       14\n",
        "2011-10-31       118       17\n",
        "2011-11-30       110       25\n",
        "2011-12-31       125       22\n",
        "2012-01-31       154       41\n",
        "2012-02-29       101       26\n",
        "2012-03-31       126       47\n",
        "2012-04-30       171       39\n",
        "2012-05-31       179       26\n",
        "2012-06-30       169       55\n",
        "2012-07-31       141       52\n",
        "2012-08-31       102       46\n",
        "2012-09-30       139       53\n",
        "2012-10-31       113       47\n",
        "2012-11-30       216       63\n",
        "2012-12-31       175       66\n",
        "2013-01-31       130       55\n",
        "2013-02-28       130       56\n",
        "2013-03-31       212       56\n",
        "2013-04-30       142       49"
       ]
      }
     ],
     "prompt_number": 18
    },
    {
     "cell_type": "code",
     "collapsed": false,
     "input": [
      "%matplotlib\n",
      "import matplotlib.pyplot as plt\n",
      "\n",
      "plt.figure(1)\n",
      "monthly['N_issues'].plot(label='N_issues')\n",
      "monthly['N_users'].plot(label='N_users')\n",
      "plt.legend(loc='upper left')\n"
     ],
     "language": "python",
     "metadata": {},
     "outputs": [
      {
       "output_type": "stream",
       "stream": "stdout",
       "text": [
        "Using matplotlib backend: MacOSX\n"
       ]
      },
      {
       "metadata": {},
       "output_type": "pyout",
       "prompt_number": 19,
       "text": [
        "<matplotlib.legend.Legend at 0x107b0df50>"
       ]
      }
     ],
     "prompt_number": 19
    },
    {
     "cell_type": "markdown",
     "metadata": {},
     "source": [
      "6) Make a table and an accompanying plot illustrating:\n",
      "\n",
      "- The mean number of days it took for issues to be closed by the month they\n",
      "  were opened. In other words, for closed issues created in August 2012, how\n",
      "  long were they open on average? (hint: use the ``total_seconds`` function on the\n",
      "  timedelta objects computed when subtracting datetime objects). Also show the\n",
      "  number of issues in each month in the table."
     ]
    },
    {
     "cell_type": "code",
     "collapsed": false,
     "input": [
      "# Extract months and years of each entry\n",
      "months = df.index.month\n",
      "years = df.index.year\n",
      "\n",
      "Tdelta = df.closed_at.values - df.index.values\n",
      "tmp = Tdelta[0]\n",
      "type(tmp)"
     ],
     "language": "python",
     "metadata": {},
     "outputs": [
      {
       "metadata": {},
       "output_type": "pyout",
       "prompt_number": 20,
       "text": [
        "numpy.timedelta64"
       ]
      }
     ],
     "prompt_number": 20
    },
    {
     "cell_type": "code",
     "collapsed": false,
     "input": [
      "df['time_open'] = df['closed_at'] - df['created_at']\n",
      "df['days_open'] = df['time_open'].apply(lambda x: float( x / np.timedelta64(1, 'D') ) )\n",
      "#dt = df['time_open'][0]/ np.timedelta64(1, 'D')\n",
      "#dt\n",
      "\n",
      "response_time = df.days_open.groupby(months)\n",
      "num_issues = np.array(df.groupby(months).size())\n",
      "mean_response_time = pd.DataFrame(response_time.mean(),columns=[\"Mean_days_open\"])\n",
      "mean_response_time['month']= ['Jan','Feb','Mar','Apr','May','Jun','Jul', \\\n",
      "                                                         'Aug','Sep','Oct','Nov','Dec'] \n",
      "mean_response_time['Num_issues'] = num_issues\n",
      "\n",
      "mean_response_time.set_index('month')"
     ],
     "language": "python",
     "metadata": {},
     "outputs": [
      {
       "html": [
        "<div style=\"max-height:1000px;max-width:1500px;overflow:auto;\">\n",
        "<table border=\"1\" class=\"dataframe\">\n",
        "  <thead>\n",
        "    <tr style=\"text-align: right;\">\n",
        "      <th></th>\n",
        "      <th>Mean_days_open</th>\n",
        "      <th>Num_issues</th>\n",
        "    </tr>\n",
        "    <tr>\n",
        "      <th>month</th>\n",
        "      <th></th>\n",
        "      <th></th>\n",
        "    </tr>\n",
        "  </thead>\n",
        "  <tbody>\n",
        "    <tr>\n",
        "      <th>Jan</th>\n",
        "      <td> 21.039079</td>\n",
        "      <td> 293</td>\n",
        "    </tr>\n",
        "    <tr>\n",
        "      <th>Feb</th>\n",
        "      <td> 18.927644</td>\n",
        "      <td> 233</td>\n",
        "    </tr>\n",
        "    <tr>\n",
        "      <th>Mar</th>\n",
        "      <td> 14.152131</td>\n",
        "      <td> 340</td>\n",
        "    </tr>\n",
        "    <tr>\n",
        "      <th>Apr</th>\n",
        "      <td>  8.260407</td>\n",
        "      <td> 313</td>\n",
        "    </tr>\n",
        "    <tr>\n",
        "      <th>May</th>\n",
        "      <td> 14.670105</td>\n",
        "      <td> 186</td>\n",
        "    </tr>\n",
        "    <tr>\n",
        "      <th>Jun</th>\n",
        "      <td>  7.057445</td>\n",
        "      <td> 178</td>\n",
        "    </tr>\n",
        "    <tr>\n",
        "      <th>Jul</th>\n",
        "      <td> 23.226685</td>\n",
        "      <td> 171</td>\n",
        "    </tr>\n",
        "    <tr>\n",
        "      <th>Aug</th>\n",
        "      <td> 26.150168</td>\n",
        "      <td> 133</td>\n",
        "    </tr>\n",
        "    <tr>\n",
        "      <th>Sep</th>\n",
        "      <td> 33.248751</td>\n",
        "      <td> 216</td>\n",
        "    </tr>\n",
        "    <tr>\n",
        "      <th>Oct</th>\n",
        "      <td> 33.269475</td>\n",
        "      <td> 239</td>\n",
        "    </tr>\n",
        "    <tr>\n",
        "      <th>Nov</th>\n",
        "      <td> 11.840550</td>\n",
        "      <td> 328</td>\n",
        "    </tr>\n",
        "    <tr>\n",
        "      <th>Dec</th>\n",
        "      <td> 15.243899</td>\n",
        "      <td> 304</td>\n",
        "    </tr>\n",
        "  </tbody>\n",
        "</table>\n",
        "</div>"
       ],
       "metadata": {},
       "output_type": "pyout",
       "prompt_number": 21,
       "text": [
        "       Mean_days_open  Num_issues\n",
        "month                            \n",
        "Jan         21.039079         293\n",
        "Feb         18.927644         233\n",
        "Mar         14.152131         340\n",
        "Apr          8.260407         313\n",
        "May         14.670105         186\n",
        "Jun          7.057445         178\n",
        "Jul         23.226685         171\n",
        "Aug         26.150168         133\n",
        "Sep         33.248751         216\n",
        "Oct         33.269475         239\n",
        "Nov         11.840550         328\n",
        "Dec         15.243899         304"
       ]
      }
     ],
     "prompt_number": 21
    },
    {
     "cell_type": "code",
     "collapsed": false,
     "input": [
      "%matplotlib\n",
      "plt.figure(2)\n",
      "ax1 = mean_response_time['Mean_days_open'].plot(label='Mean_days_open')\n",
      "ax2 = mean_response_time['Num_issues'].plot(label='Num_issues',secondary_y=True)\n",
      "ax1.legend(loc='lower left')\n",
      "ax2.legend(loc='lower right')"
     ],
     "language": "python",
     "metadata": {},
     "outputs": [
      {
       "output_type": "stream",
       "stream": "stdout",
       "text": [
        "Using matplotlib backend: MacOSX\n"
       ]
      },
      {
       "metadata": {},
       "output_type": "pyout",
       "prompt_number": 22,
       "text": [
        "<matplotlib.legend.Legend at 0x10680a950>"
       ]
      }
     ],
     "prompt_number": 22
    },
    {
     "cell_type": "markdown",
     "metadata": {},
     "source": [
      "7) Make a DataFrame containing all the comments for all of the issues. You will\n",
      "want to add an ``id`` attribute to each comment while doing so so that each row\n",
      "contains a single comment and has the id of the issue it belongs to.\n",
      "\n",
      "Convert the ``created`` column to datetime format; note you will need to multiply\n",
      "the values (appropriately converted to integers) by 1000000 to get them in\n",
      "nanoseconds and pass to to_datetime.\n",
      "\n",
      "8) For each month, compute a table summarizing the following for each month:\n",
      "\n",
      "- Total number of issue comments\n",
      "- The \"chattiest\" user (most number of comments)\n",
      "- The percentage of total comments made by the chattiest users\n",
      "- The number of distinct participants in the issue comments\n",
      "\n",
      "9) Create a helper ``labels`` table from the issues data with two columns: id and\n",
      "label. If an issue has 3 elements in its 'labels' value, add 3 rows to the\n",
      "table. If an issue does not have any labels, place a single row with None as\n",
      "the label (hint: construct a list of tuples, then make the DataFrame).\n",
      "\n",
      "10) Now, join the issues data with the labels helper table (pandas.merge). Add\n",
      "a column to this table containing the number of days (as a floating point\n",
      "number) it took to close each issue.\n",
      "\n",
      "11) Compute a table containing the average time to close for each label\n",
      "type. Now make a plot comparing mean time to close by month for Enhancement\n",
      "versus Bug issue types."
     ]
    },
    {
     "cell_type": "code",
     "collapsed": false,
     "input": [],
     "language": "python",
     "metadata": {},
     "outputs": [],
     "prompt_number": 22
    }
   ],
   "metadata": {}
  }
 ]
}