{
 "metadata": {
  "name": ""
 },
 "nbformat": 3,
 "nbformat_minor": 0,
 "worksheets": [
  {
   "cells": [
    {
     "cell_type": "markdown",
     "metadata": {},
     "source": [
      "1) Create a table of the 50 most travelled airports in the\n",
      "US containing relevant information such as name, city,\n",
      "ICAO airport code, latitude, and longitude."
     ]
    },
    {
     "cell_type": "code",
     "collapsed": false,
     "input": [
      "# Create sqlalchemy Engine\n",
      "from sqlalchemy import create_engine\n",
      "#!rm ./airports.db\n",
      "engine = create_engine('sqlite:///airports.db')"
     ],
     "language": "python",
     "metadata": {},
     "outputs": [],
     "prompt_number": 112
    },
    {
     "cell_type": "code",
     "collapsed": false,
     "input": [
      "# Format and create airport table\n",
      "from sqlalchemy import *\n",
      "metadata1 = MetaData()\n",
      "\n",
      "airport_table = Table('airports', metadata1,\n",
      "\t\t\t\t       Column('name', String),\n",
      "                       Column('city', String),\n",
      "                       Column('region', String),\n",
      "                       Column('icao_code', String),\n",
      "                       Column('latitude', Float),\n",
      "                       Column('longitude', Float),\n",
      "                       Column('elevation',Float))\n",
      "\n",
      "airport_table.create(bind=engine)\n",
      "airport_table"
     ],
     "language": "python",
     "metadata": {},
     "outputs": [
      {
       "metadata": {},
       "output_type": "pyout",
       "prompt_number": 113,
       "text": [
        "Table('airports', MetaData(bind=None), Column('name', String(), table=<airports>), Column('city', String(), table=<airports>), Column('region', String(), table=<airports>), Column('icao_code', String(), table=<airports>), Column('latitude', Float(), table=<airports>), Column('longitude', Float(), table=<airports>), Column('elevation', Float(), table=<airports>), schema=None)"
       ]
      }
     ],
     "prompt_number": 113
    },
    {
     "cell_type": "code",
     "collapsed": false,
     "input": [
      "#!head ./hw_6_data/top_airports.csv"
     ],
     "language": "python",
     "metadata": {},
     "outputs": [],
     "prompt_number": 114
    },
    {
     "cell_type": "code",
     "collapsed": false,
     "input": [
      "#!head ./hw_6_data/ICAO_airports.csv"
     ],
     "language": "python",
     "metadata": {},
     "outputs": [],
     "prompt_number": 115
    },
    {
     "cell_type": "code",
     "collapsed": false,
     "input": [
      "# Create a dictionary with the 50 top airports, indexed by its icao value\n",
      "\n",
      "airport_dict = {}\n",
      "f = open('./hw_6_data/top_airports.csv')\n",
      "params1 = [ 'name','city','icao_code' ] # save parameter names we are keeping\n",
      "\n",
      "for line in f:\n",
      "    values = line.split(',')\n",
      "    alist = [values[4],values[0],values[3]]\n",
      "    airport_dict.update({alist[2]:alist})\n",
      "    \n",
      "\n",
      "f.close()\n",
      "airport_keys = airport_dict.keys()\n"
     ],
     "language": "python",
     "metadata": {},
     "outputs": [],
     "prompt_number": 4
    },
    {
     "cell_type": "code",
     "collapsed": false,
     "input": [
      "# Search large csv file for matching ICAO values and append data airport_list\n",
      "import re\n",
      "\n",
      "f = open('./hw_6_data/ICAO_airports.csv')\n",
      "params2 = ['latitute','longitude','elevation']\n",
      "\n",
      "airport_list = []\n",
      "for line in f:\n",
      "    values = line.split(',')\n",
      "    icao = re.sub(r'[\"]','',values[1])\n",
      "    if icao in airport_keys:\n",
      "        values = [re.sub(r'[\"]','',v) for v in values ]\n",
      "        oldlist = airport_dict[icao] # add latitude, longitude and elevation\n",
      "        newlist = [values[3],values[10],values[9],oldlist[2]]+values[4:6]\n",
      "        \n",
      "        # reformat region to be a state or territory\n",
      "        newlist[2] = re.sub(r'US-','', newlist[2])\n",
      "        newlist[2] = re.sub(r'-U-A','', newlist[2]) \n",
      "\n",
      "        airport_list.append(newlist)\n",
      "f.close()\n",
      "\n",
      "# Names of parameters stored in airport_list\n",
      "params = [ 'name','city','region','icao_code','latitute','longitude','elevation']\n",
      "len(airport_list)\n"
     ],
     "language": "python",
     "metadata": {},
     "outputs": [
      {
       "metadata": {},
       "output_type": "pyout",
       "prompt_number": 117,
       "text": [
        "50"
       ]
      }
     ],
     "prompt_number": 117
    },
    {
     "cell_type": "code",
     "collapsed": false,
     "input": [
      "# Add entries from list to database\n",
      "values = [ dict(zip(params,airport)) for airport in airport_list ]\n",
      "rows = engine.execute(airport_table.insert(), list(values)).rowcount\n",
      "print rows, \"rows inserted\"\n",
      "\n",
      "print values[0]"
     ],
     "language": "python",
     "metadata": {},
     "outputs": [
      {
       "output_type": "stream",
       "stream": "stdout",
       "text": [
        "50 rows inserted\n",
        "{'city': 'Atlanta', 'name': 'Hartsfield Jackson Atlanta International Airport', 'latitute': '33.6366996765137', 'icao_code': 'KATL', 'region': 'GA', 'longitude': '-84.4281005859375'}\n"
       ]
      }
     ],
     "prompt_number": 118
    },
    {
     "cell_type": "code",
     "collapsed": false,
     "input": [
      "# try a test query\n",
      "query = airport_table.select()\n",
      "query = query.where(airport_table.c.region == 'CA')\n",
      "print query\n",
      "results = engine.execute(query)\n",
      "for row in results:\n",
      "    print row"
     ],
     "language": "python",
     "metadata": {},
     "outputs": [
      {
       "output_type": "stream",
       "stream": "stdout",
       "text": [
        "SELECT airports.name, airports.city, airports.region, airports.icao_code, airports.latitude, airports.longitude, airports.elevation \n",
        "FROM airports \n",
        "WHERE airports.region = :region_1\n",
        "(u'Los Angeles International Airport', u'Los Angeles', u'CA', u'KLAX', None, -118.4079971, None)\n",
        "(u'Metropolitan Oakland International Airport', u'Oakland', u'CA', u'KOAK', None, -122.221000671387, None)\n",
        "(u'San Diego International Airport', u'San Diego', u'CA', u'KSAN', None, -117.190002441406, None)\n",
        "(u'San Francisco International Airport', u'San Francisco', u'CA', u'KSFO', None, -122.375, None)\n",
        "(u'Norman Y. Mineta San Jose International Airport', u'San Jose', u'CA', u'KSJC', None, -121.929000854492, None)\n",
        "(u'Sacramento International Airport', u'Sacramento', u'CA', u'KSMF', None, -121.591003417969, None)\n",
        "(u'John Wayne Airport-Orange County Airport', u'Santa Ana', u'CA', u'KSNA', None, -117.8679962, None)\n"
       ]
      }
     ],
     "prompt_number": 119
    },
    {
     "cell_type": "code",
     "collapsed": false,
     "input": [
      "!cp ./airports.db ./airports_part1.db"
     ],
     "language": "python",
     "metadata": {},
     "outputs": [],
     "prompt_number": 120
    },
    {
     "cell_type": "markdown",
     "metadata": {},
     "source": [
      "2) Build another table that will hold historical weather\n",
      "information, such as min/max temperature, humidity,\n",
      "precipitation, and cloud cover"
     ]
    },
    {
     "cell_type": "code",
     "collapsed": false,
     "input": [
      "# Create sqlalchemy Engine\n",
      "#!rm weather.db\n",
      "\n",
      "from sqlalchemy import create_engine\n",
      "#engine2 = create_engine('sqlite:///weather.db')"
     ],
     "language": "python",
     "metadata": {},
     "outputs": [],
     "prompt_number": 121
    },
    {
     "cell_type": "code",
     "collapsed": false,
     "input": [
      "# Information provided by weatherunderground :\n",
      "'''PDT,Max TemperatureF,Mean TemperatureF,Min TemperatureF,Max Dew PointF,MeanDew PointF,\n",
      "Min DewpointF,Max Humidity, Mean Humidity, Min Humidity, Max Sea Level PressureIn, \n",
      "Mean Sea Level PressureIn, Min Sea Level PressureIn, Max VisibilityMiles, Mean VisibilityMiles,\n",
      "Min VisibilityMiles, Max Wind SpeedMPH, Mean Wind SpeedMPH, Max Gust SpeedMPH,PrecipitationIn, \n",
      "CloudCover, Events, WindDirDegrees'''\n",
      "# Format and create airport table\n",
      "from sqlalchemy import *\n",
      "metadata2 = MetaData()\n",
      "\n",
      "weather_table = Table('weather', metadata2,\n",
      "                       Column('icao_code', String),\n",
      "                       Column('date',Date),\n",
      "                       Column('max_temperature', Integer),\n",
      "                       Column('mean_temperature', Integer),\n",
      "                       Column('min_temperature', Integer),\n",
      "                       Column('max_dewPoint', Integer),\n",
      "                       Column('mean_dewPoint', Integer),\n",
      "                       Column('min_dewPoint', Integer),\n",
      "                       Column('max_humidity', Integer),\n",
      "                       Column('mean_humidity', Integer),\n",
      "                       Column('min_humidity', Integer),\n",
      "                       Column('max_pressure', Float),\n",
      "                       Column('mean_pressure', Float),\n",
      "                       Column('min_pressure', Float),\n",
      "                       Column('max_visibility', Integer),\n",
      "                       Column('mean_visibility', Integer),\n",
      "                       Column('min_visibility', Integer),\n",
      "                       Column('max_windSpeed', Integer),\n",
      "                       Column('mean_windSpeed', Integer),\n",
      "                       Column('mean_gustSpeed', Integer),\n",
      "                       Column('precipitation',String),\n",
      "                       Column('cloudCover',Integer),\n",
      "                       Column('events',String),\n",
      "                       Column('windDir',Integer))\n",
      "\n",
      "weather_table.create(bind=engine)\n",
      "#airport_table"
     ],
     "language": "python",
     "metadata": {},
     "outputs": [],
     "prompt_number": 122
    },
    {
     "cell_type": "code",
     "collapsed": false,
     "input": [
      "# list of column names\n",
      "cnames = [c.name for c in weather_table.c ]\n",
      "print cnames\n",
      "len(cnames)"
     ],
     "language": "python",
     "metadata": {},
     "outputs": [
      {
       "output_type": "stream",
       "stream": "stdout",
       "text": [
        "['icao_code', 'date', 'max_temperature', 'mean_temperature', 'min_temperature', 'max_dewPoint', 'mean_dewPoint', 'min_dewPoint', 'max_humidity', 'mean_humidity', 'min_humidity', 'max_pressure', 'mean_pressure', 'min_pressure', 'max_visibility', 'mean_visibility', 'min_visibility', 'max_windSpeed', 'mean_windSpeed', 'mean_gustSpeed', 'precipitation', 'cloudCover', 'events', 'windDir']\n"
       ]
      },
      {
       "metadata": {},
       "output_type": "pyout",
       "prompt_number": 123,
       "text": [
        "24"
       ]
      }
     ],
     "prompt_number": 123
    },
    {
     "cell_type": "markdown",
     "metadata": {},
     "source": [
      "3) Grab historical data from weather underground from\n",
      "2008 until now and populate your tables accordingly"
     ]
    },
    {
     "cell_type": "code",
     "collapsed": false,
     "input": [
      "# weatherunderground url format\n",
      "icao = 'KOAK'\n",
      "year = 2013\n",
      "mon = 8\n",
      "url = 'http://www.wunderground.com/history/airport/{}/{}/{}/1'.format(icao,year,mon) \\\n",
      "+'/MonthlyHistory.html?format=1'\n",
      "\n",
      "print url"
     ],
     "language": "python",
     "metadata": {},
     "outputs": [
      {
       "output_type": "stream",
       "stream": "stdout",
       "text": [
        "http://www.wunderground.com/history/airport/KOAK/2013/8/1/MonthlyHistory.html?format=1\n"
       ]
      }
     ],
     "prompt_number": 93
    },
    {
     "cell_type": "code",
     "collapsed": false,
     "input": [
      "import datetime\n",
      "datetime.date(2013,8,1)"
     ],
     "language": "python",
     "metadata": {},
     "outputs": [
      {
       "metadata": {},
       "output_type": "pyout",
       "prompt_number": 94,
       "text": [
        "datetime.date(2013, 8, 1)"
       ]
      }
     ],
     "prompt_number": 94
    },
    {
     "cell_type": "code",
     "collapsed": false,
     "input": [
      "# Scrape data using beautifulsoup\n",
      "import urllib2\n",
      "response = urllib2.urlopen(url)\n",
      "html = response.read()\n",
      "response.close()\n",
      "\n",
      "# pip install beautifulsoup4\n",
      "from bs4 import BeautifulSoup\n",
      "soup = BeautifulSoup(html)\n"
     ],
     "language": "python",
     "metadata": {},
     "outputs": [],
     "prompt_number": 95
    },
    {
     "cell_type": "code",
     "collapsed": false,
     "input": [
      "lines = soup.getText().split('\\n')  \n",
      "#print str(lines[0]).split(',')\n",
      "values = [ dict(zip(cnames,[icao]+str(line).split(','))) for line in lines[1:-1] ]\n",
      "# use a datetime object for the date\n",
      "[ v.update({'date':datetime.date(year,mon,i+1)}) for i,v in enumerate(values) ]\n",
      "\n",
      "print values[0]\n",
      "\n",
      "\n",
      "rows = engine.execute(weather_table.insert(), list(values)).rowcount\n",
      "print rows"
     ],
     "language": "python",
     "metadata": {},
     "outputs": [
      {
       "output_type": "stream",
       "stream": "stdout",
       "text": [
        "{'max_pressure': '30.10', 'icao_code': 'KOAK', 'max_temperature': '68', 'cloudCover': '4', 'min_visibility': '10', 'min_pressure': '29.98', 'events': '', 'max_dewPoint': '58', 'mean_pressure': '30.05', 'mean_gustSpeed': '28', 'min_temperature': '54', 'mean_dewPoint': '57', 'max_humidity': '100', 'min_humidity': '68', 'max_visibility': '10', 'date': datetime.date(2013, 8, 1), 'mean_visibility': '10', 'precipitation': '0.00', 'mean_humidity': '84', 'mean_temperature': '61', 'mean_windSpeed': '9', 'windDir': '259', 'min_dewPoint': '55', 'max_windSpeed': '20'}\n",
        "31\n"
       ]
      }
     ],
     "prompt_number": 96
    },
    {
     "cell_type": "code",
     "collapsed": false,
     "input": [
      "query = weather_table.select()\n",
      "#query = query.where(airport_table.c.region == 'CA')\n",
      "print query\n",
      "results = engine.execute(query)\n",
      "for row in results:\n",
      "    print row"
     ],
     "language": "python",
     "metadata": {},
     "outputs": [
      {
       "output_type": "stream",
       "stream": "stdout",
       "text": [
        "SELECT weather.icao_code, weather.date, weather.max_temperature, weather.mean_temperature, weather.min_temperature, weather.\"max_dewPoint\", weather.\"mean_dewPoint\", weather.\"min_dewPoint\", weather.max_humidity, weather.mean_humidity, weather.min_humidity, weather.max_pressure, weather.mean_pressure, weather.min_pressure, weather.max_visibility, weather.mean_visibility, weather.min_visibility, weather.\"max_windSpeed\", weather.\"mean_windSpeed\", weather.\"mean_gustSpeed\", weather.precipitation, weather.\"cloudCover\", weather.events, weather.\"windDir\" \n",
        "FROM weather\n",
        "(u'KOAK', datetime.date(2013, 8, 1), 68, 61, 54, 58, 57, 55, 100, 84, 68, 30.1, 30.05, 29.98, 10, 10, 10, 20, 9, 28, u'0.00', 4, u'', 259)\n",
        "(u'KOAK', datetime.date(2013, 8, 2), 69, 62, 55, 60, 56, 55, 100, 81, 61, 30.0, 29.97, 29.94, 10, 10, 10, 18, 9, 22, u'0.00', 3, u'', 275)\n",
        "(u'KOAK', datetime.date(2013, 8, 3), 69, 62, 54, 60, 57, 54, 100, 83, 66, 30.0, 29.97, 29.94, 10, 10, 10, 20, 10, 23, u'0.00', 4, u'', 282)\n",
        "(u'KOAK', datetime.date(2013, 8, 4), 67, 61, 55, 58, 56, 55, 100, 84, 68, 30.03, 30.01, 29.99, 10, 9, 5, 20, 11, 24, u'T', 6, u'', 284)\n",
        "(u'KOAK', datetime.date(2013, 8, 5), 65, 60, 55, 58, 57, 55, 100, 87, 73, 30.05, 30.02, 29.98, 10, 10, 10, 18, 9, 29, u'0.00', 7, u'', 274)\n",
        "(u'KOAK', datetime.date(2013, 8, 6), 67, 61, 55, 61, 57, 54, 100, 87, 73, 30.06, 30.04, 30.0, 10, 10, 10, 20, 10, 29, u'0.00', 6, u'', 275)\n",
        "(u'KOAK', datetime.date(2013, 8, 7), 72, 64, 55, 61, 58, 55, 100, 79, 57, 30.12, 30.07, 30.05, 10, 9, 4, 17, 10, 26, u'T', 7, u'Rain', 271)\n",
        "(u'KOAK', datetime.date(2013, 8, 8), 72, 65, 57, 61, 59, 56, 100, 79, 57, 30.05, 30.01, 29.97, 10, 10, 10, 21, 11, 24, u'0.00', 6, u'', 278)\n",
        "(u'KOAK', datetime.date(2013, 8, 9), 69, 63, 56, 61, 58, 55, 100, 88, 76, 30.02, 29.97, 29.94, 10, 10, 9, 20, 10, 21, u'T', 7, u'Rain', 265)\n",
        "(u'KOAK', datetime.date(2013, 8, 10), 70, 65, 59, 63, 60, 58, 100, 83, 66, 30.08, 30.04, 30.01, 10, 10, 10, 20, 9, 29, u'T', 6, u'', 267)\n",
        "(u'KOAK', datetime.date(2013, 8, 11), 67, 62, 56, 61, 59, 57, 100, 89, 78, 30.05, 30.01, 29.97, 10, 9, 4, 18, 9, 32, u'T', 6, u'', 279)\n",
        "(u'KOAK', datetime.date(2013, 8, 12), 73, 66, 58, 61, 59, 56, 100, 79, 57, 30.01, 29.99, 29.96, 10, 10, 10, 17, 8, 20, u'0.00', 5, u'', 272)\n",
        "(u'KOAK', datetime.date(2013, 8, 13), 81, 69, 56, 61, 58, 56, 100, 71, 42, 30.0, 29.97, 29.93, 10, 10, 9, 22, 8, 28, u'0.00', 3, u'', 316)\n",
        "(u'KOAK', datetime.date(2013, 8, 14), 73, 65, 56, 65, 60, 57, 100, 81, 61, 30.0, 29.97, 29.94, 10, 10, 10, 20, 8, 28, u'0.00', 3, u'', 266)\n",
        "(u'KOAK', datetime.date(2013, 8, 15), 77, 69, 61, 68, 64, 59, 100, 87, 74, 29.99, 29.96, 29.93, 10, 10, 10, 17, 10, 21, u'0.00', 5, u'', 261)\n",
        "(u'KOAK', datetime.date(2013, 8, 16), 74, 66, 58, 64, 61, 57, 100, 84, 68, 30.01, 29.98, 29.96, 10, 10, 7, 20, 8, 24, u'0.00', 5, u'', 275)\n",
        "(u'KOAK', datetime.date(2013, 8, 17), 70, 65, 59, 65, 61, 57, 100, 88, 76, 30.0, 29.96, 29.9, 10, 10, 10, 23, 7, 26, u'0.00', 6, u'', 275)\n",
        "(u'KOAK', datetime.date(2013, 8, 18), 80, 70, 60, 65, 62, 60, 100, 77, 54, 29.9, 29.86, 29.78, 10, 10, 7, 16, 6, 20, u'0.00', 4, u'', 257)\n",
        "(u'KOAK', datetime.date(2013, 8, 19), 76, 66, 56, 65, 60, 55, 100, 82, 64, 29.9, 29.86, 29.79, 10, 10, 10, 22, 9, 39, u'0.00', 2, u'', 320)\n",
        "(u'KOAK', datetime.date(2013, 8, 20), 70, 62, 54, 62, 58, 55, 100, 85, 70, 29.91, 29.88, 29.84, 10, 10, 10, 20, 9, 25, u'0.00', 4, u'', 322)\n",
        "(u'KOAK', datetime.date(2013, 8, 21), 66, 60, 53, 60, 56, 54, 100, 84, 68, 29.96, 29.92, 29.88, 10, 10, 10, 20, 10, 25, u'0.00', 4, u'', 307)\n",
        "(u'KOAK', datetime.date(2013, 8, 22), 70, 62, 53, 59, 56, 54, 100, 81, 61, 30.0, 29.95, 29.91, 10, 10, 10, 21, 12, 29, u'0.00', 5, u'', 276)\n",
        "(u'KOAK', datetime.date(2013, 8, 23), 66, 62, 58, 61, 59, 57, 100, 89, 78, 29.95, 29.91, 29.84, 10, 10, 10, 18, 9, 28, u'0.00', 6, u'', 277)\n",
        "(u'KOAK', datetime.date(2013, 8, 24), 72, 66, 59, 64, 61, 59, 100, 83, 66, 29.92, 29.89, 29.86, 10, 10, 10, 20, 10, 23, u'0.00', 5, u'', 262)\n",
        "(u'KOAK', datetime.date(2013, 8, 25), 76, 70, 63, 66, 64, 62, 100, 84, 68, 29.96, 29.93, 29.91, 10, 8, 2, 21, 9, 33, u'T', 5, u'', 278)\n",
        "(u'KOAK', datetime.date(2013, 8, 26), 72, 67, 61, 63, 61, 57, 100, 81, 61, 30.02, 29.98, 29.92, 10, 10, 10, 18, 9, 43, u'0.00', 5, u'', 273)\n",
        "(u'KOAK', datetime.date(2013, 8, 27), 72, 66, 59, 64, 61, 58, 100, 83, 66, 29.93, 29.89, 29.84, 10, 10, 10, 25, 9, 30, u'0.00', 3, u'', 264)\n",
        "(u'KOAK', datetime.date(2013, 8, 28), 75, 68, 60, 67, 63, 56, 100, 87, 74, 29.96, 29.91, 29.88, 10, 10, 10, 20, 8, 29, u'0.00', 6, u'', 271)\n",
        "(u'KOAK', datetime.date(2013, 8, 29), 77, 70, 62, 67, 65, 62, 100, 85, 69, 30.08, 30.03, 29.97, 10, 10, 10, 15, 7, 21, u'0.00', 5, u'', 264)\n",
        "(u'KOAK', datetime.date(2013, 8, 30), 80, 70, 59, 66, 64, 60, 100, 79, 58, 30.05, 30.0, 29.93, 10, 10, 10, 17, 6, 20, u'0.00', 3, u'', 262)\n",
        "(u'KOAK', datetime.date(2013, 8, 31), 73, 66, 59, 64, 61, 56, 100, 87, 73, 30.0, 29.96, 29.92, 10, 10, 10, 20, 9, 24, u'0.00', 3, u'', 283)\n"
       ]
      }
     ],
     "prompt_number": 97
    },
    {
     "cell_type": "code",
     "collapsed": false,
     "input": [
      "today = datetime.datetime.now()\n",
      "today.year\n",
      "today.month"
     ],
     "language": "python",
     "metadata": {},
     "outputs": [
      {
       "metadata": {},
       "output_type": "pyout",
       "prompt_number": 98,
       "text": [
        "10"
       ]
      }
     ],
     "prompt_number": 98
    },
    {
     "cell_type": "code",
     "collapsed": false,
     "input": [],
     "language": "python",
     "metadata": {},
     "outputs": [],
     "prompt_number": 99
    },
    {
     "cell_type": "code",
     "collapsed": false,
     "input": [
      "import time\n",
      "import urllib2\n",
      "from bs4 import BeautifulSoup\n",
      "import datetime\n",
      "\n",
      "years = range(2008,today.year+1)\n",
      "airports = airport_keys\n",
      "\n",
      "# Iterate through montly data\n",
      "for year in years:\n",
      "    months = range(1,13)\n",
      "    for mon in months:\n",
      "        \n",
      "        # check that date is not in the future\n",
      "        if datetime.datetime(year,mon,1) < today: \n",
      "            \n",
      "            # iterate over all airports\n",
      "            for icao in airports:\n",
      "                url = 'http://www.wunderground.com' \\\n",
      "                +'/history/airport/{}/{}/{}/1'.format(icao,year,mon) \\\n",
      "                +'/MonthlyHistory.html?format=1'\n",
      "                \n",
      "                print icao, datetime.date(year,mon,1)\n",
      "                \n",
      "                # Open url and read html\n",
      "                response = urllib2.urlopen(url)\n",
      "                html = response.read()\n",
      "                response.close()\n",
      "                \n",
      "                # convert html to txt and break into lines\n",
      "                soup = BeautifulSoup(html)\n",
      "                lines = soup.getText().split('\\n')  \n",
      "\n",
      "                # split csv format into values to store in the db\n",
      "                values = [ dict(zip(cnames,[icao]+str(line).split(','))) \\\n",
      "                          for line in lines[1:-1] ]\n",
      "                \n",
      "                # use a datetime object for the date\n",
      "                [ v.update({'date':datetime.date(year,mon,i+1)}) for i,v in enumerate(values) ]\n",
      "\n",
      "                rows = 0\n",
      "                for val in values:\n",
      "                    try:\n",
      "                        rows += engine.execute(weather_table.insert(), list([val])).rowcount\n",
      "                    except: # if fails to add to database\n",
      "                        print val\n",
      "                        \n",
      "                print rows, \"rows inserted\"\n",
      "                \n",
      "                # delay for 1 sec\n",
      "                time.sleep(1)\n",
      "\n",
      "# save a copy upon completion                \n",
      "#!cp ./airports.db ./airports_part2.db               "
     ],
     "language": "python",
     "metadata": {},
     "outputs": [
      {
       "ename": "NameError",
       "evalue": "name 'today' is not defined",
       "output_type": "pyerr",
       "traceback": [
        "\u001b[0;31m---------------------------------------------------------------------------\u001b[0m\n\u001b[0;31mNameError\u001b[0m                                 Traceback (most recent call last)",
        "\u001b[0;32m<ipython-input-1-39164c2bd701>\u001b[0m in \u001b[0;36m<module>\u001b[0;34m()\u001b[0m\n\u001b[1;32m      4\u001b[0m \u001b[0;32mimport\u001b[0m \u001b[0mdatetime\u001b[0m\u001b[0;34m\u001b[0m\u001b[0m\n\u001b[1;32m      5\u001b[0m \u001b[0;34m\u001b[0m\u001b[0m\n\u001b[0;32m----> 6\u001b[0;31m \u001b[0myears\u001b[0m \u001b[0;34m=\u001b[0m \u001b[0mrange\u001b[0m\u001b[0;34m(\u001b[0m\u001b[0;36m2008\u001b[0m\u001b[0;34m,\u001b[0m\u001b[0mtoday\u001b[0m\u001b[0;34m.\u001b[0m\u001b[0myear\u001b[0m\u001b[0;34m+\u001b[0m\u001b[0;36m1\u001b[0m\u001b[0;34m)\u001b[0m\u001b[0;34m\u001b[0m\u001b[0m\n\u001b[0m\u001b[1;32m      7\u001b[0m \u001b[0mairports\u001b[0m \u001b[0;34m=\u001b[0m \u001b[0mairport_keys\u001b[0m\u001b[0;34m\u001b[0m\u001b[0m\n\u001b[1;32m      8\u001b[0m \u001b[0;34m\u001b[0m\u001b[0m\n",
        "\u001b[0;31mNameError\u001b[0m: name 'today' is not defined"
       ]
      }
     ],
     "prompt_number": 1
    },
    {
     "cell_type": "code",
     "collapsed": false,
     "input": [
      "print airport_keys"
     ],
     "language": "python",
     "metadata": {},
     "outputs": [
      {
       "output_type": "stream",
       "stream": "stdout",
       "text": [
        "['KCVG', 'KLAS', 'KRDU', 'KORD', 'KSLC', 'KMEM', 'KPHX', 'KLAX', 'KEWR', 'KATL', 'KPHL', 'KMCI', 'KPDX', 'KMCO', 'KLGA', 'KDTW', 'KFLL', 'KBOS', 'KMKE', 'KOAK', 'KDEN', 'KSEA', 'KIND', 'KDCA', 'KDAL', 'KAUS', 'KHOU', 'KSTL', 'KSAN', 'ICAO', 'KMSP', 'KMDW', 'KSAT', 'KMSY', 'KJFK', 'TJSJ', 'KPIT', 'KMIA', 'KIAH', 'KDFW', 'KIAD', 'KCLT', 'KBNA', 'KTPA', 'KSMF', 'KSJC', 'KBWI', 'KSNA', 'PHNL', 'KSFO', 'KCLE']\n"
       ]
      }
     ],
     "prompt_number": 70
    },
    {
     "cell_type": "code",
     "collapsed": false,
     "input": [
      "print airport_keys"
     ],
     "language": "python",
     "metadata": {},
     "outputs": [
      {
       "output_type": "stream",
       "stream": "stdout",
       "text": [
        "['KCVG', 'KLAS', 'KRDU', 'KORD', 'KSLC', 'KMEM', 'KPHX', 'KLAX', 'KEWR', 'KATL', 'KPHL', 'KMCI', 'KPDX', 'KMCO', 'KLGA', 'KDTW', 'KFLL', 'KBOS', 'KMKE', 'KOAK', 'KDEN', 'KSEA', 'KIND', 'KDCA', 'KDAL', 'KAUS', 'KHOU', 'KSTL', 'KSAN', 'ICAO', 'KMSP', 'KMDW', 'KSAT', 'KMSY', 'KJFK', 'TJSJ', 'KPIT', 'KMIA', 'KIAH', 'KDFW', 'KIAD', 'KCLT', 'KBNA', 'KTPA', 'KSMF', 'KSJC', 'KBWI', 'KSNA', 'PHNL', 'KSFO', 'KCLE']\n"
       ]
      }
     ],
     "prompt_number": 6
    },
    {
     "cell_type": "code",
     "collapsed": false,
     "input": [
      "# pickle a list of airport ids\n",
      "import pickle\n",
      "airports = airport_keys\n",
      "pickle.dump(airports,open('airport_keys.p','w'))"
     ],
     "language": "python",
     "metadata": {},
     "outputs": [],
     "prompt_number": 8
    },
    {
     "cell_type": "code",
     "collapsed": false,
     "input": [],
     "language": "python",
     "metadata": {},
     "outputs": []
    }
   ],
   "metadata": {}
  }
 ]
}