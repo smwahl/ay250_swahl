{
 "metadata": {
  "name": ""
 },
 "nbformat": 3,
 "nbformat_minor": 0,
 "worksheets": [
  {
   "cells": [
    {
     "cell_type": "markdown",
     "metadata": {},
     "source": [
      "Create a table of the 50 most travelled airports in the\n",
      "US containing relevant information such as name, city,\n",
      "ICAO airport code, latitude, and longitude."
     ]
    },
    {
     "cell_type": "code",
     "collapsed": false,
     "input": [
      "# Create Engine\n",
      "from sqlalchemy import create_engine\n",
      "engine = create_engine('sqlite:///:memory:')"
     ],
     "language": "python",
     "metadata": {},
     "outputs": [],
     "prompt_number": 1
    },
    {
     "cell_type": "code",
     "collapsed": false,
     "input": [
      "# Format and create airport table\n",
      "from sqlalchemy import *\n",
      "metadata = MetaData()\n",
      "\n",
      "airport_table = Table('airports', metadata,\n",
      "\t\t\t\t       Column('name', String),\n",
      "                       Column('city', String),\n",
      "                       Column('icao_code', String),\n",
      "                       Column('latitude', Float),\n",
      "                       Column('longitude', Float),\n",
      "                       Column('elevation',Float))\n",
      "\n",
      "airport_table.create(bind=engine)\n",
      "airport_table"
     ],
     "language": "python",
     "metadata": {},
     "outputs": [
      {
       "metadata": {},
       "output_type": "pyout",
       "prompt_number": 6,
       "text": [
        "Table('airports', MetaData(bind=None), Column('name', String(), table=<airports>), Column('city', String(), table=<airports>), Column('icao_code', String(), table=<airports>), Column('latitude', Float(), table=<airports>), Column('longitude', Float(), table=<airports>), Column('elevation', Float(), table=<airports>), schema=None)"
       ]
      }
     ],
     "prompt_number": 6
    },
    {
     "cell_type": "code",
     "collapsed": false,
     "input": [
      "!head ./hw_6_data/top_airports.csv"
     ],
     "language": "python",
     "metadata": {},
     "outputs": [
      {
       "output_type": "stream",
       "stream": "stdout",
       "text": [
        "City,FAA,IATA,ICAO,Airport,Role,Enplanements\r\n",
        "Atlanta,ATL,ATL,KATL,Hartsfield-Jackson Atlanta International Airport,P-L,43130585\r\n",
        "Chicago,ORD,ORD,KORD,Chicago O'Hare International Airport,P-L,32171831\r\n",
        "Los Angeles,LAX,LAX,KLAX,Los Angeles International Airport,P-L,30528737\r\n",
        "Dallas-Fort Worth,DFW,DFW,KDFW,Dallas/Fort Worth International Airport,P-L,27100656\r\n",
        "Denver,DEN,DEN,KDEN,Denver International Airport,P-L,25241962\r\n",
        "New York,JFK,JFK,KJFK,John F. Kennedy International Airport,P-L,22934047\r\n",
        "San Francisco,SFO,SFO,KSFO,San Francisco International Airport,P-L,20038679\r\n",
        "Houston,IAH,IAH,KIAH,George Bush Intercontinental Airport,P-L,19528631\r\n",
        "Las Vegas,LAS,LAS,KLAS,McCarran International Airport,P-L,18996738\r\n"
       ]
      }
     ],
     "prompt_number": 7
    },
    {
     "cell_type": "code",
     "collapsed": false,
     "input": [
      "!head ./hw_6_data/ICAO_airports.csv"
     ],
     "language": "python",
     "metadata": {},
     "outputs": [
      {
       "output_type": "stream",
       "stream": "stdout",
       "text": [
        "\"id\",\"ident\",\"type\",\"name\",\"latitude_deg\",\"longitude_deg\",\"elevation_ft\",\"continent\",\"iso_country\",\"iso_region\",\"municipality\",\"scheduled_service\",\"gps_code\",\"iata_code\",\"local_code\",\"home_link\",\"wikipedia_link\",\"keywords\"\r\n",
        "6523,\"00A\",\"heliport\",\"Total Rf Heliport\",40.07080078125,-74.9336013793945,11,\"NA\",\"US\",\"US-PA\",\"Bensalem\",\"no\",\"00A\",,\"00A\",,,\r\n",
        "6524,\"00AK\",\"small_airport\",\"Lowell Field\",59.94919968,-151.695999146,450,\"NA\",\"US\",\"US-AK\",\"Anchor Point\",\"no\",\"00AK\",,\"00AK\",,,\r\n",
        "6525,\"00AL\",\"small_airport\",\"Epps Airpark\",34.8647994995117,-86.7703018188477,820,\"NA\",\"US\",\"US-AL\",\"Harvest\",\"no\",\"00AL\",,\"00AL\",,,\r\n",
        "6526,\"00AR\",\"heliport\",\"Newport Hospital & Clinic Heliport\",35.608699798584,-91.2548980712891,237,\"NA\",\"US\",\"US-AR\",\"Newport\",\"no\",\"00AR\",,\"00AR\",,,\r\n",
        "6527,\"00AZ\",\"small_airport\",\"Cordes Airport\",34.3055992126465,-112.165000915527,3810,\"NA\",\"US\",\"US-AZ\",\"Cordes\",\"no\",\"00AZ\",,\"00AZ\",,,\r\n",
        "6528,\"00CA\",\"small_airport\",\"Goldstone /Gts/ Airport\",35.3504981995,-116.888000488,3038,\"NA\",\"US\",\"US-CA\",\"Barstow\",\"no\",\"00CA\",,\"00CA\",,,\r\n",
        "6529,\"00CO\",\"small_airport\",\"Cass Field\",40.622200012207,-104.34400177002,4830,\"NA\",\"US\",\"US-CO\",\"Briggsdale\",\"no\",\"00CO\",,\"00CO\",,,\r\n",
        "6531,\"00FA\",\"small_airport\",\"Grass Patch Airport\",28.6455001831055,-82.2190017700195,53,\"NA\",\"US\",\"US-FL\",\"Bushnell\",\"no\",\"00FA\",,\"00FA\",,,\r\n",
        "6532,\"00FD\",\"heliport\",\"Ringhaver Heliport\",28.8465995788574,-82.3453979492188,25,\"NA\",\"US\",\"US-FL\",\"Riverview\",\"no\",\"00FD\",,\"00FD\",,,\r\n"
       ]
      }
     ],
     "prompt_number": 8
    },
    {
     "cell_type": "code",
     "collapsed": false,
     "input": [
      "# Create a list with the 50 top airports\n",
      "airport_list = []\n",
      "f = open('./hw_6_data/top_airports.csv')\n",
      "key = f.readline().split(',')\n",
      "key1 = [ 'name','city','icao_code' ] # save parameter names we are keeping\n",
      "print key1\n",
      "\n",
      "for line in f:\n",
      "    values = line.split(',')\n",
      "    airport_list.append([values[4],values[0],values[3]])\n",
      "\n",
      "f.close()\n",
      "print airport_list"
     ],
     "language": "python",
     "metadata": {},
     "outputs": [
      {
       "output_type": "stream",
       "stream": "stdout",
       "text": [
        "['name', 'city', 'icao_code']\n",
        "[['Hartsfield-Jackson Atlanta International Airport', 'Atlanta', 'KATL'], [\"Chicago O'Hare International Airport\", 'Chicago', 'KORD'], ['Los Angeles International Airport', 'Los Angeles', 'KLAX'], ['Dallas/Fort Worth International Airport', 'Dallas-Fort Worth', 'KDFW'], ['Denver International Airport', 'Denver', 'KDEN'], ['John F. Kennedy International Airport', 'New York', 'KJFK'], ['San Francisco International Airport', 'San Francisco', 'KSFO'], ['George Bush Intercontinental Airport', 'Houston', 'KIAH'], ['McCarran International Airport', 'Las Vegas', 'KLAS'], ['Phoenix Sky Harbor International Airport', 'Phoenix', 'KPHX'], ['Charlotte/Douglas International Airport', 'Charlotte', 'KCLT'], ['Miami International Airport', 'Miami', 'KMIA'], ['Orlando International Airport', 'Orlando', 'KMCO'], ['Newark Liberty International Airport', 'Newark', 'KEWR'], ['Detroit Metropolitan Wayne County Airport', 'Detroit / Romulus', 'KDTW'], ['Minneapolis-St. Paul International Airport (Wold-Chamberlain Field)', 'Minneapolis', 'KMSP'], ['Seattle-Tacoma International Airport', 'Seattle / Tacoma (SeaTac)', 'KSEA'], ['Philadelphia International Airport', 'Philadelphia', 'KPHL'], ['Gen. Edward Lawrence Logan International Airport', 'Boston', 'KBOS'], ['LaGuardia Airport (and Marine Air Terminal)', 'New York', 'KLGA'], ['Washington Dulles International Airport', 'Washington D.C. / Chantilly / Dulles', 'KIAD'], ['Baltimore/Washington International Thurgood Marshall Airport', 'Baltimore / Glen Burnie', 'KBWI'], ['Fort Lauderdale\\xe2\\x80\\x93Hollywood International Airport', 'Fort Lauderdale', 'KFLL'], ['Salt Lake City International Airport', 'Salt Lake City', 'KSLC'], ['Honolulu International Airport / Hickam AFB', 'Honolulu', 'PHNL'], ['Ronald Reagan Washington National Airport', 'Washington D.C. / Arlington County', 'KDCA'], ['Chicago Midway International Airport', 'Chicago', 'KMDW'], ['San Diego International Airport', 'San Diego', 'KSAN'], ['Tampa International Airport', 'Tampa', 'KTPA'], ['Portland International Airport', 'Portland', 'KPDX'], ['Lambert-St. Louis International Airport', 'St. Louis', 'KSTL'], ['Kansas City International Airport', 'Kansas City', 'KMCI'], ['Memphis International Airport', 'Memphis', 'KMEM'], ['Cleveland-Hopkins International Airport', 'Cleveland', 'KCLE'], ['Oakland International Airport', 'Oakland', 'KOAK'], ['Luis Mu\\xc3\\xb1oz Mar\\xc3\\xadn International Airport', 'San Juan / Carolina', 'TJSJ'], ['Raleigh-Durham International Airport', 'Raleigh', 'KRDU'], ['Nashville International Airport (Berry Field)', 'Nashville', 'KBNA'], ['Sacramento International Airport', 'Sacramento', 'KSMF'], ['William P. Hobby Airport', 'Houston', 'KHOU'], ['John Wayne Airport \\xe2\\x80\\x93 Orange County (was Orange County Airport)', 'Santa Ana', 'KSNA'], ['Austin-Bergstrom International Airport', 'Austin', 'KAUS'], ['Norman Y. Mineta San Jos\\xc3\\xa9 International Airport', 'San Jose', 'KSJC'], ['Louis Armstrong New Orleans International Airport', 'New Orleans', 'KMSY'], ['Pittsburgh International Airport', 'Pittsburgh', 'KPIT'], ['San Antonio International Airport', 'San Antonio', 'KSAT'], ['Cincinnati/Northern Kentucky International Airport', 'Covington', 'KCVG'], ['General Mitchell International Airport', 'Milwaukee', 'KMKE'], ['Dallas Love Field', 'Dallas', 'KDAL'], ['Indianapolis International Airport', 'Indianapolis', 'KIND']]\n"
       ]
      }
     ],
     "prompt_number": 18
    },
    {
     "cell_type": "code",
     "collapsed": false,
     "input": [
      "# Search large csv file for matching ICAO values and append data airport_list\n",
      "f = open('./hw_6_data/ICAO_airports.csv')\n",
      "key = f.readline().split(',')\n",
      "print key"
     ],
     "language": "python",
     "metadata": {},
     "outputs": [
      {
       "output_type": "stream",
       "stream": "stdout",
       "text": [
        "['\"id\"', '\"ident\"', '\"type\"', '\"name\"', '\"latitude_deg\"', '\"longitude_deg\"', '\"elevation_ft\"', '\"continent\"', '\"iso_country\"', '\"iso_region\"', '\"municipality\"', '\"scheduled_service\"', '\"gps_code\"', '\"iata_code\"', '\"local_code\"', '\"home_link\"', '\"wikipedia_link\"', '\"keywords\"\\n']\n"
       ]
      }
     ],
     "prompt_number": 17
    }
   ],
   "metadata": {}
  }
 ]
}