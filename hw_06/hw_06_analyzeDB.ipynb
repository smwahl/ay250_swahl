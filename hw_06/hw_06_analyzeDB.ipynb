{
 "metadata": {
  "name": ""
 },
 "nbformat": 3,
 "nbformat_minor": 0,
 "worksheets": [
  {
   "cells": [
    {
     "cell_type": "markdown",
     "metadata": {},
     "source": [
      "4) For each pair of cities/airports determine how the\n",
      "daily change of high temperature and cloud\n",
      "cover from one city predicts the daily change of the\n",
      "other city 1,3, & 7 days in advance"
     ]
    },
    {
     "cell_type": "code",
     "collapsed": false,
     "input": [
      "# Method: load timeseries for for a pair of airports, using a join by date range. \n",
      "# Then shift arrays by 1,3 or 7 days to find the correlation\n",
      "\n",
      "# Create sqlalchemy Engine\n",
      "from sqlalchemy import create_engine\n",
      "from sqlalchemy import *\n",
      "engine = create_engine('sqlite:///airports.db')"
     ],
     "language": "python",
     "metadata": {},
     "outputs": [],
     "prompt_number": 8
    },
    {
     "cell_type": "code",
     "collapsed": false,
     "input": [
      "# pickle a list of airport ids\n",
      "import pickle\n",
      "airport_keys = pickle.load(open('airport_keys.p','r'))\n",
      "#print airport_keys"
     ],
     "language": "python",
     "metadata": {},
     "outputs": [],
     "prompt_number": 9
    },
    {
     "cell_type": "code",
     "collapsed": false,
     "input": [
      "engine.echo = True  # We want to see the SQL we're creating\n",
      "\n",
      "metadata = MetaData(engine)\n",
      "\n",
      "# The users table already exists, so no need to redefine it. Just\n",
      "# load it from the database using the \"autoload\" feature.\n",
      "airports = Table('airports', metadata, autoload=True)\n",
      "weather = Table('weather',metadata,autoload=True)\n",
      "\n",
      "def run(stmt):\n",
      "    rs = stmt.execute()\n",
      "    for row in rs:\n",
      "        print row"
     ],
     "language": "python",
     "metadata": {},
     "outputs": [
      {
       "output_type": "stream",
       "stream": "stdout",
       "text": [
        "2013-10-15 22:43:01,760 INFO sqlalchemy.engine.base.Engine PRAGMA table_info(\"airports\")\n"
       ]
      },
      {
       "output_type": "stream",
       "stream": "stdout",
       "text": [
        "2013-10-15 22:43:01,761 INFO sqlalchemy.engine.base.Engine ()\n"
       ]
      },
      {
       "output_type": "stream",
       "stream": "stdout",
       "text": [
        "2013-10-15 22:43:01,764 INFO sqlalchemy.engine.base.Engine PRAGMA foreign_key_list(\"airports\")\n"
       ]
      },
      {
       "output_type": "stream",
       "stream": "stdout",
       "text": [
        "2013-10-15 22:43:01,765 INFO sqlalchemy.engine.base.Engine ()\n"
       ]
      },
      {
       "output_type": "stream",
       "stream": "stdout",
       "text": [
        "2013-10-15 22:43:01,766 INFO sqlalchemy.engine.base.Engine PRAGMA index_list(\"airports\")\n"
       ]
      },
      {
       "output_type": "stream",
       "stream": "stdout",
       "text": [
        "2013-10-15 22:43:01,766 INFO sqlalchemy.engine.base.Engine ()\n"
       ]
      },
      {
       "output_type": "stream",
       "stream": "stdout",
       "text": [
        "2013-10-15 22:43:01,768 INFO sqlalchemy.engine.base.Engine PRAGMA table_info(\"weather\")\n"
       ]
      },
      {
       "output_type": "stream",
       "stream": "stdout",
       "text": [
        "2013-10-15 22:43:01,769 INFO sqlalchemy.engine.base.Engine ()\n"
       ]
      },
      {
       "output_type": "stream",
       "stream": "stdout",
       "text": [
        "2013-10-15 22:43:01,772 INFO sqlalchemy.engine.base.Engine PRAGMA foreign_key_list(\"weather\")\n"
       ]
      },
      {
       "output_type": "stream",
       "stream": "stdout",
       "text": [
        "2013-10-15 22:43:01,773 INFO sqlalchemy.engine.base.Engine ()\n"
       ]
      },
      {
       "output_type": "stream",
       "stream": "stdout",
       "text": [
        "2013-10-15 22:43:01,774 INFO sqlalchemy.engine.base.Engine PRAGMA index_list(\"weather\")\n"
       ]
      },
      {
       "output_type": "stream",
       "stream": "stdout",
       "text": [
        "2013-10-15 22:43:01,775 INFO sqlalchemy.engine.base.Engine ()\n"
       ]
      }
     ],
     "prompt_number": 7
    },
    {
     "cell_type": "code",
     "collapsed": false,
     "input": [
      "import datetime\n",
      "import numpy as np\n",
      "import scipy as sp\n",
      "# Returning results for a single airport\n",
      "icao1 = 'KSFO'; icao2 = 'KOAK'\n",
      "sql_maxT_cmd = \"SELECT weather.max_temperature as temp, weather.date AS date, \\\n",
      "airports.city AS city, airports.latitude AS lat, airports.longitude AS long \\\n",
      "FROM weather JOIN airports ON weather.icao_code = airports.icao_code \\\n",
      "WHERE airports.icao_code = '{}' \"\n",
      "sql_cloud_cmd = \"SELECT weather.cloudCover as cloud, weather.date AS date, \\\n",
      "airports.city AS city, airports.latitude AS lat, airports.longitude AS long \\\n",
      "FROM weather JOIN airports ON weather.icao_code = airports.icao_code \\\n",
      "WHERE airports.icao_code = '{}' \"\n",
      "\n",
      "result1 = engine.execute(sql_maxT_cmd.format(icao1) )\n",
      "result2 = engine.execute(sql_maxT_cmd.format(icao2) )\n",
      "\n"
     ],
     "language": "python",
     "metadata": {},
     "outputs": [
      {
       "output_type": "stream",
       "stream": "stdout",
       "text": [
        "\n"
       ]
      }
     ],
     "prompt_number": 55
    },
    {
     "cell_type": "code",
     "collapsed": false,
     "input": [
      "# Put data into array\n",
      "startDate = datetime.date(2008,1,1)\n",
      "today = datetime.date.today()\n",
      "# initialize arrays with NaNs\n",
      "#location1 = np.nan * np.ones((today - startDate).days)\n",
      "#location2 = np.nan * np.ones((today - startDate).days)\n",
      "\n",
      "# fill arrays with data, verifying that indexing of both locations correspond to \n",
      "# identical dates\n",
      "def query2Array(query_result):\n",
      "    '''Fill arrays with data from a query result, verifying that indexing \n",
      "    of both locations correspond to identical dates, and otherwise filling\n",
      "    with NaNs'''\n",
      "    startDate = datetime.date(2008,1,1)\n",
      "    today = datetime.date.today()\n",
      "    \n",
      "    # initialize array based on  startdate\n",
      "    newArr = np.nan * np.ones((today - startDate).days)\n",
      "    \n",
      "    for row in query_result:\n",
      "        #print row\n",
      "        dateStr = row[1]\n",
      "        datelist = [ int(val) for val in dateStr.split('-') ]\n",
      "        dataDate = datetime.date(datelist[0],datelist[1],datelist[2])\n",
      "        idx = (dataDate-startDate).days\n",
      "        try:\n",
      "            newArr[idx] = row[0] \n",
      "        except:\n",
      "            pass # just leave as NaN if query chokes\n",
      "                \n",
      "    return newArr\n",
      "    \n",
      "location1 = query2Array(result1)\n",
      "location2 = query2Array(result2)"
     ],
     "language": "python",
     "metadata": {},
     "outputs": [],
     "prompt_number": 56
    },
    {
     "cell_type": "code",
     "collapsed": false,
     "input": [
      "print location1"
     ],
     "language": "python",
     "metadata": {},
     "outputs": [
      {
       "output_type": "stream",
       "stream": "stdout",
       "text": [
        "[ 54.  53.  57. ...,  64.  73.  55.]\n"
       ]
      }
     ],
     "prompt_number": 57
    },
    {
     "cell_type": "code",
     "collapsed": false,
     "input": [
      "# find differences shifting results at location2 by 1,3,7\n",
      "# Should correspond to weather at location one moving to location2 in n days\n",
      "\n",
      "from scipy.stats import pearsonr\n",
      "\n",
      "# find difference in temperatures\n",
      "diff1 = location2[1:] - location1[:-1]\n",
      "diff3 = location2[3:] - location1[:-3]\n",
      "diff7 = location2[7:] - location1[:-7]\n",
      "\n",
      "# print mean and variance\n",
      "print diff1.mean(), diff3.mean(), diff7.mean()\n",
      "print diff1.var(), diff3.var(), diff7.var()\n",
      "print pearsonr(location1[1:],location2[:-1]),\n",
      "print pearsonr(location2[:-3],location1[3:]),\n",
      "print pearsonr(location1[:-7],location2[7:])\n",
      "\n",
      "print np.correlate(location1[1:],location2[:-1]),\n",
      "print np.correlate(location2[:-3],location1[:]),\n",
      "print np.correlate(location1[:-7],location2[7:])\n",
      "\n"
     ],
     "language": "python",
     "metadata": {},
     "outputs": [
      {
       "output_type": "stream",
       "stream": "stdout",
       "text": [
        "0.741599621391 0.753197536712 0.784527764594\n",
        "31.7666414545 68.094938852 78.9872689156\n",
        "(0.79708118388935911, 0.0) (0.54003129672029315, 4.0161911534931588e-160) (0.4614295518998629, 1.3704848734172895e-111)\n",
        "[ 9256756.] [ 9209317.] [ 9182061.]\n"
       ]
      }
     ],
     "prompt_number": 15
    },
    {
     "cell_type": "code",
     "collapsed": false,
     "input": [
      "# Store arrays with query results for all \n",
      "temp_arrays = []\n",
      "cloud_arrays = []\n",
      "\n",
      "N = len(airport_keys)\n",
      "for idx_loc1 in np.arange(N):\n",
      "    icao1 = airport_keys[idx_loc1]\n",
      "    \n",
      "    temp_1 = query2Array( engine.execute(sql_maxT_cmd.format(icao1) ) )\n",
      "    cloud_1 = query2Array( engine.execute(sql_cloud_cmd.format(icao1) ) )\n",
      "    temp_arrays.append(temp_1)\n",
      "    cloud_arrays.append(cloud_1)\n",
      "    print idx_loc1,"
     ],
     "language": "python",
     "metadata": {},
     "outputs": [
      {
       "output_type": "stream",
       "stream": "stdout",
       "text": [
        "0 "
       ]
      },
      {
       "output_type": "stream",
       "stream": "stdout",
       "text": [
        "1 "
       ]
      },
      {
       "output_type": "stream",
       "stream": "stdout",
       "text": [
        "2 "
       ]
      },
      {
       "output_type": "stream",
       "stream": "stdout",
       "text": [
        "3 "
       ]
      },
      {
       "output_type": "stream",
       "stream": "stdout",
       "text": [
        "4 "
       ]
      },
      {
       "output_type": "stream",
       "stream": "stdout",
       "text": [
        "5 "
       ]
      },
      {
       "output_type": "stream",
       "stream": "stdout",
       "text": [
        "6 "
       ]
      },
      {
       "output_type": "stream",
       "stream": "stdout",
       "text": [
        "7 "
       ]
      },
      {
       "output_type": "stream",
       "stream": "stdout",
       "text": [
        "8 "
       ]
      },
      {
       "output_type": "stream",
       "stream": "stdout",
       "text": [
        "9 "
       ]
      },
      {
       "output_type": "stream",
       "stream": "stdout",
       "text": [
        "10 "
       ]
      },
      {
       "output_type": "stream",
       "stream": "stdout",
       "text": [
        "11 "
       ]
      },
      {
       "output_type": "stream",
       "stream": "stdout",
       "text": [
        "12 "
       ]
      },
      {
       "output_type": "stream",
       "stream": "stdout",
       "text": [
        "13 "
       ]
      },
      {
       "output_type": "stream",
       "stream": "stdout",
       "text": [
        "14 "
       ]
      },
      {
       "output_type": "stream",
       "stream": "stdout",
       "text": [
        "15 "
       ]
      },
      {
       "output_type": "stream",
       "stream": "stdout",
       "text": [
        "16 "
       ]
      },
      {
       "output_type": "stream",
       "stream": "stdout",
       "text": [
        "17 "
       ]
      },
      {
       "output_type": "stream",
       "stream": "stdout",
       "text": [
        "18 "
       ]
      },
      {
       "output_type": "stream",
       "stream": "stdout",
       "text": [
        "19 "
       ]
      },
      {
       "output_type": "stream",
       "stream": "stdout",
       "text": [
        "20 "
       ]
      },
      {
       "output_type": "stream",
       "stream": "stdout",
       "text": [
        "21 "
       ]
      },
      {
       "output_type": "stream",
       "stream": "stdout",
       "text": [
        "22 "
       ]
      },
      {
       "output_type": "stream",
       "stream": "stdout",
       "text": [
        "23 "
       ]
      },
      {
       "output_type": "stream",
       "stream": "stdout",
       "text": [
        "24 "
       ]
      },
      {
       "output_type": "stream",
       "stream": "stdout",
       "text": [
        "25 "
       ]
      },
      {
       "output_type": "stream",
       "stream": "stdout",
       "text": [
        "26 "
       ]
      },
      {
       "output_type": "stream",
       "stream": "stdout",
       "text": [
        "27 "
       ]
      },
      {
       "output_type": "stream",
       "stream": "stdout",
       "text": [
        "28 "
       ]
      },
      {
       "output_type": "stream",
       "stream": "stdout",
       "text": [
        "29 "
       ]
      },
      {
       "output_type": "stream",
       "stream": "stdout",
       "text": [
        "30 "
       ]
      },
      {
       "output_type": "stream",
       "stream": "stdout",
       "text": [
        "31 "
       ]
      },
      {
       "output_type": "stream",
       "stream": "stdout",
       "text": [
        "32 "
       ]
      },
      {
       "output_type": "stream",
       "stream": "stdout",
       "text": [
        "33 "
       ]
      },
      {
       "output_type": "stream",
       "stream": "stdout",
       "text": [
        "34 "
       ]
      },
      {
       "output_type": "stream",
       "stream": "stdout",
       "text": [
        "35 "
       ]
      },
      {
       "output_type": "stream",
       "stream": "stdout",
       "text": [
        "36 "
       ]
      },
      {
       "output_type": "stream",
       "stream": "stdout",
       "text": [
        "37 "
       ]
      },
      {
       "output_type": "stream",
       "stream": "stdout",
       "text": [
        "38 "
       ]
      },
      {
       "output_type": "stream",
       "stream": "stdout",
       "text": [
        "39 "
       ]
      },
      {
       "output_type": "stream",
       "stream": "stdout",
       "text": [
        "40 "
       ]
      },
      {
       "output_type": "stream",
       "stream": "stdout",
       "text": [
        "41 "
       ]
      },
      {
       "output_type": "stream",
       "stream": "stdout",
       "text": [
        "42 "
       ]
      },
      {
       "output_type": "stream",
       "stream": "stdout",
       "text": [
        "43 "
       ]
      },
      {
       "output_type": "stream",
       "stream": "stdout",
       "text": [
        "44 "
       ]
      },
      {
       "output_type": "stream",
       "stream": "stdout",
       "text": [
        "45 "
       ]
      },
      {
       "output_type": "stream",
       "stream": "stdout",
       "text": [
        "46 "
       ]
      },
      {
       "output_type": "stream",
       "stream": "stdout",
       "text": [
        "47 "
       ]
      },
      {
       "output_type": "stream",
       "stream": "stdout",
       "text": [
        "48 "
       ]
      },
      {
       "output_type": "stream",
       "stream": "stdout",
       "text": [
        "49 "
       ]
      },
      {
       "output_type": "stream",
       "stream": "stdout",
       "text": [
        "50\n"
       ]
      }
     ],
     "prompt_number": 58
    },
    {
     "cell_type": "code",
     "collapsed": false,
     "input": [
      "# Generate full correlation matrices\n",
      "N = len(airport_keys)\n",
      "#N = 5\n",
      "\n",
      "# Allocate Correlation matrices for max temperature and cloud cover for 1,3,&7 day differences\n",
      "Ctemp_1 = np.nan * np.ones([N,N])\n",
      "Ctemp_3 = np.nan * np.ones([N,N])\n",
      "Ctemp_7 = np.nan * np.ones([N,N])\n",
      "Ccloud_1 = np.nan * np.ones([N,N])\n",
      "Ccloud_3 = np.nan * np.ones([N,N])\n",
      "Ccloud_7 = np.nan * np.ones([N,N])\n",
      "\n",
      "# Generate Correlation matrices using\n",
      "for idx_loc1 in np.arange(N): # location for weather at 0 days\n",
      "    for idx_loc2 in np.arange(N): # location to be shifted to n days later\n",
      "        \n",
      "        # Do not calculate correlation between identical locations\n",
      "        if not idx_loc1 == idx_loc2:\n",
      "\n",
      "            # reference by ICAO code\n",
      "            icao1 = airport_keys[idx_loc1]; icao2 = airport_keys[idx_loc2]\n",
      "        \n",
      "            # Query database for relevant data and convert to arrays ( was very slow)\n",
      "            #temp_1 = query2Array( engine.execute(sql_maxT_cmd.format(icao1) ) )\n",
      "            #temp_2 = query2Array( engine.execute(sql_maxT_cmd.format(icao2) ) )\n",
      "            #cloud_1 = query2Array( engine.execute(sql_cloud_cmd.format(icao1) ) )\n",
      "            #cloud_2 = query2Array( engine.execute(sql_cloud_cmd.format(icao2) ) )\n",
      "            \n",
      "            # access data saved from the query\n",
      "            temp_1 = temp_arrays[idx_loc1]\n",
      "            temp_2 = temp_arrays[idx_loc2]\n",
      "            cloud_1 = cloud_arrays[idx_loc1]\n",
      "            cloud_2 = cloud_arrays[idx_loc2]\n",
      "\n",
      "            # Store correlation of max temperature between pairs of airports\n",
      "            Ctemp_1[idx_loc1,idx_loc2] = pearsonr(temp_2[1:],temp_1[:-1])[0]\n",
      "            Ctemp_3[idx_loc1,idx_loc2] = pearsonr(temp_2[3:],temp_1[:-3])[0]\n",
      "            Ctemp_7[idx_loc1,idx_loc2] = pearsonr(temp_2[7:],temp_1[:-7])[0]\n",
      "        \n",
      "            # Store correlation of max temperature between pairs of airports\n",
      "            Ccloud_1[idx_loc1,idx_loc2] = pearsonr(cloud_2[1:],cloud_1[:-1])[0]\n",
      "            Ccloud_3[idx_loc1,idx_loc2] = pearsonr(cloud_2[3:],cloud_1[:-3])[0]\n",
      "            Ccloud_7[idx_loc1,idx_loc2] = pearsonr(cloud_2[7:],cloud_1[:-7])[0]\n",
      "        \n",
      "            #print idx_loc1,idx_loc2"
     ],
     "language": "python",
     "metadata": {},
     "outputs": [],
     "prompt_number": 62
    },
    {
     "cell_type": "code",
     "collapsed": false,
     "input": [
      "import scipy.stats.mstats as mstats\n",
      "\n",
      "def topIndices(matrix,n):\n",
      "    '''Return indices of the top n highest values from a 2darray'''\n",
      "    # Rank matrix while masking NaNs\n",
      "    ranked = mstats.rankdata(np.ma.masked_invalid(matrix))\n",
      "    \n",
      "    x, y = np.unravel_index(np.argsort(ranked, axis=None), matrix.shape)\n",
      "    # Zip together the x and y indices and re-order them from largest to smallest.\n",
      "    indices = zip(x, y)[::-1]\n",
      "    values = [ matrix[i,j] for i,j in indices ]\n",
      "    return indices[:n], values[:n]\n",
      "\n",
      "# store indicies and values of best correlated pairs (tuples with lists of indices and values)\n",
      "top_Ctemp_1 = topIndices(Ctemp_1,10)\n",
      "top_Ctemp_3 = topIndices(Ctemp_3,10)\n",
      "top_Ctemp_7 = topIndices(Ctemp_7,10)\n",
      "top_Ccloud_1 = topIndices(Ccloud_1,10)\n",
      "top_Ccloud_3 = topIndices(Ccloud_3,10)\n",
      "top_Ccloud_7 = topIndices(Ccloud_7,10)\n",
      "\n"
     ],
     "language": "python",
     "metadata": {},
     "outputs": [],
     "prompt_number": 140
    },
    {
     "cell_type": "code",
     "collapsed": false,
     "input": [
      "# haversine formula for conversion from:\n",
      "# http://stackoverflow.com/questions/4913349/haversine-formula-in-python-bearing-and-distance-between-two-gps-points\n",
      "from math import radians, cos, sin, asin, sqrt\n",
      "\n",
      "sql_coords=\"SELECT airports.latitude AS lat, airports.longitude AS long \\\n",
      "From airports WHERE airports.icao_code = '{}' \"\n",
      "\n",
      "def haversine( coord1, coord2):\n",
      "    \"\"\"\n",
      "    Calculate the great circle distance between two points \n",
      "    on the earth (specified in decimal degrees)\n",
      "    \"\"\"\n",
      "    # convert decimal degrees to radians \n",
      "    lon1, lat1, lon2, lat2 = map(radians, [coord1[1],coord1[0],coord2[1],coord2[0]])\n",
      "    # haversine formula \n",
      "    dlon = lon2 - lon1 \n",
      "    dlat = lat2 - lat1 \n",
      "    a = sin(dlat/2)**2 + cos(lat1) * cos(lat2) * sin(dlon/2)**2\n",
      "    c = 2 * asin(sqrt(a)) \n",
      "    km = 6367 * c\n",
      "    return km \n",
      "\n",
      "# store coordinates from each airport\n",
      "airport_coords = []\n",
      "i = 0\n",
      "for icao in airport_keys:\n",
      "    result = engine.execute(sql_coords.format(icao))\n",
      "    rows = []\n",
      "    for row in result:\n",
      "        #print icao,\n",
      "        rows.append(row)\n",
      "    if len(rows) > 0:\n",
      "        airport_coords.append(rows[0])\n",
      "    else:\n",
      "        airport_coords.append(None) # Fill with none if no result to query\n",
      "     \n",
      "# find distances\n",
      "dist_Ctemp_1 =   [ haversine( airport_coords[i], airport_coords[j] ) for (i,j)  in top_Ctemp_1[0]  ]\n",
      "dist_Ctemp_3 =   [ haversine( airport_coords[i], airport_coords[j] ) for (i,j)  in top_Ctemp_3[0]  ]\n",
      "dist_Ctemp_7 =   [ haversine( airport_coords[i], airport_coords[j] ) for (i,j)  in top_Ctemp_7[0]  ]\n",
      "dist_Ccloud_1 =   [ haversine( airport_coords[i], airport_coords[j] ) for (i,j)  in top_Ccloud_1[0]  ]\n",
      "dist_Ccloud_3 =   [ haversine( airport_coords[i], airport_coords[j] ) for (i,j)  in top_Ccloud_3[0]  ]\n",
      "dist_Ccloud_7 =   [ haversine( airport_coords[i], airport_coords[j] ) for (i,j)  in top_Ccloud_7[0]  ]\n",
      "\n",
      "# find differences in lati\n",
      "\n",
      "dlong_Ctemp_1 =   [ abs(airport_coords[i][1]- airport_coords[j][1] ) for (i,j)  in top_Ctemp_1[0]  ]\n",
      "dlong_Ctemp_3 =   [ abs(airport_coords[i][1]- airport_coords[j][1] ) for (i,j)  in top_Ctemp_3[0]  ]\n",
      "dlong_Ctemp_7 =   [ abs(airport_coords[i][1]- airport_coords[j][1] ) for (i,j)  in top_Ctemp_7[0]  ]\n",
      "dlong_Ccloud_1 =  [ abs(airport_coords[i][1]- airport_coords[j][1] ) for (i,j)  in top_Ccloud_1[0]  ]\n",
      "dlong_Ccloud_3 =  [ abs(airport_coords[i][1]- airport_coords[j][1] ) for (i,j)  in top_Ccloud_3[0]  ]\n",
      "dlong_Ccloud_7 =  [ abs(airport_coords[i][1]- airport_coords[j][1] ) for (i,j)  in top_Ccloud_7[0]  ]"
     ],
     "language": "python",
     "metadata": {},
     "outputs": [],
     "prompt_number": 144
    },
    {
     "cell_type": "code",
     "collapsed": false,
     "input": [
      "print len(airport_keys)\n",
      "len(airport_coords)\n",
      "print airport_keys"
     ],
     "language": "python",
     "metadata": {},
     "outputs": [
      {
       "output_type": "stream",
       "stream": "stdout",
       "text": [
        "51\n",
        "['KCVG', 'KLAS', 'KRDU', 'KORD', 'KSLC', 'KMEM', 'KPHX', 'KLAX', 'KEWR', 'KATL', 'KPHL', 'KMCI', 'KPDX', 'KMCO', 'KLGA', 'KDTW', 'KFLL', 'KBOS', 'KMKE', 'KOAK', 'KDEN', 'KSEA', 'KIND', 'KDCA', 'KDAL', 'KAUS', 'KHOU', 'KSTL', 'KSAN', 'ICAO', 'KMSP', 'KMDW', 'KSAT', 'KMSY', 'KJFK', 'TJSJ', 'KPIT', 'KMIA', 'KIAH', 'KDFW', 'KIAD', 'KCLT', 'KBNA', 'KTPA', 'KSMF', 'KSJC', 'KBWI', 'KSNA', 'PHNL', 'KSFO', 'KCLE']\n"
       ]
      }
     ],
     "prompt_number": 126
    },
    {
     "cell_type": "code",
     "collapsed": false,
     "input": [
      "print airport_coords\n",
      "print len(airport_coords)\n",
      "print airport_coords[29]"
     ],
     "language": "python",
     "metadata": {},
     "outputs": [
      {
       "output_type": "stream",
       "stream": "stdout",
       "text": [
        "[(39.0488014221, -84.6678009033), (36.08010101, -115.1520004), (35.8776016235352, -78.7874984741211), (41.97859955, -87.90480042), (40.7883987426758, -111.977996826172), (35.0424003601074, -89.9766998291016), (33.4342994689941, -112.012001037598), (33.94250107, -118.4079971), (40.6925010681152, -74.168701171875), (33.6366996765137, -84.4281005859375), (39.871898651123, -75.241096496582), (39.2975997924805, -94.7138977050781), (45.58869934, -122.5979996), (28.4293994903564, -81.3089981079102), (40.77719879, -73.87259674), (42.2123985290527, -83.353401184082), (26.0725994110107, -80.152702331543), (42.36429977, -71.00520325), (42.9472007751465, -87.896598815918), (37.7212982177734, -122.221000671387), (39.8616981506348, -104.672996520996), (47.4490013122559, -122.30899810791), (39.7173004150391, -86.2944030761719), (38.8521003723145, -77.0376968383789), (32.8470993041992, -96.8517990112305), (30.1944999694824, -97.6698989868164), (29.64539909, -95.27890015), (38.7486991882324, -90.370002746582), (32.7336006164551, -117.190002441406), None, (44.8819999695, -93.2218017578), (41.7859992980957, -87.7524032592773), (29.5337009429932, -98.4698028564453), (29.9934005737305, -90.2580032348633), (40.63980103, -73.77890015), (18.4393997192383, -66.0018005371094), (40.49150085, -80.23290253), (25.7931995391846, -80.2906036376953), (29.9843997955322, -95.3414001464844), (32.896800994873, -97.0380020141602), (38.94449997, -77.45580292), (35.2140007019043, -80.9430999755859), (36.1245002746582, -86.6781997680664), (27.9755001068115, -82.533203125), (38.6954002380371, -121.591003417969), (37.3625984191895, -121.929000854492), (39.17539978, -76.66829681), (33.67570114, -117.8679962), (21.3187007904053, -157.921997070312), (37.6189994812012, -122.375), (41.4117012024, -81.8498001099)]\n",
        "51\n",
        "None\n"
       ]
      }
     ],
     "prompt_number": 127
    },
    {
     "cell_type": "code",
     "collapsed": false,
     "input": [
      "# temperature correlation plots\n",
      "import matplotlib.pyplot as plt\n",
      "%matplotlib inline\n",
      "\n",
      "vals = top_Ctemp_1[1] + top_Ctemp_3[1] + top_Ctemp_7[1]\n",
      "dists = dist_Ctemp_1 + dist_Ctemp_3 + dist_Ctemp_7\n",
      "dlong = dlong_Ctemp_1 + dlong_Ctemp_3 + dlong_Ctemp_7\n",
      "dist_colors = [0. for x in dist_Ctemp_1 ] +  [0.5 for x in dist_Ctemp_3 ] + [1. for x in dist_Ctemp_7 ] \n",
      "dlong_colors = [0. for x in dlong_Ctemp_1 ] +  [0.5 for x in dlong_Ctemp_3 ] + [1. for x in dlong_Ctemp_7 ] \n",
      "\n",
      "# temperature correlation versus distance\n",
      "plt.close('all')\n",
      "plt.figure(1)\n",
      "plt.scatter(dists,vals,c=dist_colors)"
     ],
     "language": "python",
     "metadata": {},
     "outputs": [
      {
       "metadata": {},
       "output_type": "pyout",
       "prompt_number": 157,
       "text": [
        "<matplotlib.collections.PathCollection at 0x108acbd50>"
       ]
      },
      {
       "metadata": {},
       "output_type": "display_data",
       "png": "[encoded data removed]",
       "text": [
        "<matplotlib.figure.Figure at 0x109160510>"
       ]
      }
     ],
     "prompt_number": 157
    },
    {
     "cell_type": "code",
     "collapsed": false,
     "input": [
      "# temperature correlation versus separation in longitude\n",
      "plt.close('all')\n",
      "plt.figure(2)\n",
      "plt.scatter(dlong,vals,c=dlong_colors)"
     ],
     "language": "python",
     "metadata": {},
     "outputs": [
      {
       "metadata": {},
       "output_type": "pyout",
       "prompt_number": 158,
       "text": [
        "<matplotlib.collections.PathCollection at 0x109143490>"
       ]
      },
      {
       "metadata": {},
       "output_type": "display_data",
       "png": "[encoded data removed]",
       "text": [
        "<matplotlib.figure.Figure at 0x109160890>"
       ]
      }
     ],
     "prompt_number": 158
    },
    {
     "cell_type": "code",
     "collapsed": false,
     "input": [
      "# cloud cover correlation plots\n",
      "import matplotlib.pyplot as plt\n",
      "%matplotlib inline\n",
      "\n",
      "vals = top_Ccloud_1[1] + top_Ccloud_3[1] + top_Ccloud_7[1]\n",
      "dists = dist_Ccloud_1 + dist_Ccloud_3 + dist_Ccloud_7\n",
      "dlong = dlong_Ccloud_1 + dlong_Ccloud_3 + dlong_Ccloud_7\n",
      "dist_colors = [0. for x in dist_Ccloud_1 ] +  [0.5 for x in dist_Ccloud_3 ] + [1. for x in dist_Ccloud_7 ] \n",
      "dlong_colors = [0. for x in dlong_Ccloud_1 ] +  [0.5 for x in dlong_Ccloud_3 ] + [1. for x in dlong_Ccloud_7 ] \n",
      "\n",
      "# cloud cover correlation versus distance\n",
      "plt.close('all')\n",
      "plt.figure(1)\n",
      "plt.scatter(dists,vals,c=dist_colors)\n",
      "\n"
     ],
     "language": "python",
     "metadata": {},
     "outputs": [
      {
       "metadata": {},
       "output_type": "pyout",
       "prompt_number": 159,
       "text": [
        "<matplotlib.collections.PathCollection at 0x1091edc90>"
       ]
      },
      {
       "metadata": {},
       "output_type": "display_data",
       "png": "[encoded data removed]",
       "text": [
        "<matplotlib.figure.Figure at 0x109160e90>"
       ]
      }
     ],
     "prompt_number": 159
    },
    {
     "cell_type": "code",
     "collapsed": false,
     "input": [
      "# cloud cover correlation versus longitude separation\n",
      "plt.close('all')\n",
      "plt.figure(2)\n",
      "plt.scatter(dlong,vals,c=dlong_colors)"
     ],
     "language": "python",
     "metadata": {},
     "outputs": [
      {
       "metadata": {},
       "output_type": "pyout",
       "prompt_number": 160,
       "text": [
        "<matplotlib.collections.PathCollection at 0x1091e3310>"
       ]
      },
      {
       "metadata": {},
       "output_type": "display_data",
       "png": "[encoded data removed]",
       "text": [
        "<matplotlib.figure.Figure at 0x103ee9ad0>"
       ]
      }
     ],
     "prompt_number": 160
    },
    {
     "cell_type": "code",
     "collapsed": false,
     "input": [],
     "language": "python",
     "metadata": {},
     "outputs": []
    }
   ],
   "metadata": {}
  }
 ]
}