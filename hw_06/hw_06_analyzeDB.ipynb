{
 "metadata": {
  "name": ""
 },
 "nbformat": 3,
 "nbformat_minor": 0,
 "worksheets": [
  {
   "cells": [
    {
     "cell_type": "markdown",
     "metadata": {},
     "source": [
      "## Setup"
     ]
    },
    {
     "cell_type": "code",
     "collapsed": false,
     "input": [
      "# Method: load timeseries for for a pair of airports, using a join by date range. \n",
      "# Then shift arrays by 1,3 or 7 days to find the correlation\n",
      "\n",
      "# Create sqlalchemy Engine\n",
      "from sqlalchemy import create_engine\n",
      "from sqlalchemy import *\n",
      "engine = create_engine('sqlite:///airports.db')"
     ],
     "language": "python",
     "metadata": {},
     "outputs": [],
     "prompt_number": 1
    },
    {
     "cell_type": "code",
     "collapsed": false,
     "input": [
      "# pickle a list of airport ids\n",
      "import pickle\n",
      "airport_keys = pickle.load(open('airport_keys.p','r'))\n",
      "#print airport_keys"
     ],
     "language": "python",
     "metadata": {},
     "outputs": [],
     "prompt_number": 2
    },
    {
     "cell_type": "code",
     "collapsed": false,
     "input": [
      "engine.echo = True  # We want to see the SQL we're creating\n",
      "\n",
      "metadata = MetaData(engine)\n",
      "\n",
      "# The users table already exists, so no need to redefine it. Just\n",
      "# load it from the database using the \"autoload\" feature.\n",
      "airports = Table('airports', metadata, autoload=True)\n",
      "weather = Table('weather',metadata,autoload=True)\n",
      "\n"
     ],
     "language": "python",
     "metadata": {},
     "outputs": [
      {
       "output_type": "stream",
       "stream": "stdout",
       "text": [
        "2013-10-17 00:38:59,028 INFO sqlalchemy.engine.base.Engine PRAGMA table_info(\"airports\")\n"
       ]
      },
      {
       "output_type": "stream",
       "stream": "stdout",
       "text": [
        "2013-10-17 00:38:59,029 INFO sqlalchemy.engine.base.Engine ()\n"
       ]
      },
      {
       "output_type": "stream",
       "stream": "stdout",
       "text": [
        "2013-10-17 00:38:59,032 INFO sqlalchemy.engine.base.Engine PRAGMA foreign_key_list(\"airports\")\n"
       ]
      },
      {
       "output_type": "stream",
       "stream": "stdout",
       "text": [
        "2013-10-17 00:38:59,032 INFO sqlalchemy.engine.base.Engine ()\n"
       ]
      },
      {
       "output_type": "stream",
       "stream": "stdout",
       "text": [
        "2013-10-17 00:38:59,033 INFO sqlalchemy.engine.base.Engine PRAGMA index_list(\"airports\")\n"
       ]
      },
      {
       "output_type": "stream",
       "stream": "stdout",
       "text": [
        "2013-10-17 00:38:59,034 INFO sqlalchemy.engine.base.Engine ()\n"
       ]
      },
      {
       "output_type": "stream",
       "stream": "stdout",
       "text": [
        "2013-10-17 00:38:59,036 INFO sqlalchemy.engine.base.Engine PRAGMA table_info(\"weather\")\n"
       ]
      },
      {
       "output_type": "stream",
       "stream": "stdout",
       "text": [
        "2013-10-17 00:38:59,037 INFO sqlalchemy.engine.base.Engine ()\n"
       ]
      },
      {
       "output_type": "stream",
       "stream": "stdout",
       "text": [
        "2013-10-17 00:38:59,041 INFO sqlalchemy.engine.base.Engine PRAGMA foreign_key_list(\"weather\")\n"
       ]
      },
      {
       "output_type": "stream",
       "stream": "stdout",
       "text": [
        "2013-10-17 00:38:59,042 INFO sqlalchemy.engine.base.Engine ()\n"
       ]
      },
      {
       "output_type": "stream",
       "stream": "stdout",
       "text": [
        "2013-10-17 00:38:59,043 INFO sqlalchemy.engine.base.Engine PRAGMA index_list(\"weather\")\n"
       ]
      },
      {
       "output_type": "stream",
       "stream": "stdout",
       "text": [
        "2013-10-17 00:38:59,044 INFO sqlalchemy.engine.base.Engine ()\n"
       ]
      }
     ],
     "prompt_number": 3
    },
    {
     "cell_type": "markdown",
     "metadata": {},
     "source": [
      "## Query Database"
     ]
    },
    {
     "cell_type": "code",
     "collapsed": false,
     "input": [
      "import datetime\n",
      "import numpy as np\n",
      "import scipy as sp\n",
      "# Returning results for a single airport\n",
      "icao1 = 'KSFO'; icao2 = 'KOAK'\n",
      "sql_maxT_cmd = \"SELECT weather.max_temperature as temp, weather.date AS date, \\\n",
      "airports.city AS city, airports.latitude AS lat, airports.longitude AS long \\\n",
      "FROM weather JOIN airports ON weather.icao_code = airports.icao_code \\\n",
      "WHERE airports.icao_code = '{}' \"\n",
      "sql_cloud_cmd = \"SELECT weather.cloudCover as cloud, weather.date AS date, \\\n",
      "airports.city AS city, airports.latitude AS lat, airports.longitude AS long \\\n",
      "FROM weather JOIN airports ON weather.icao_code = airports.icao_code \\\n",
      "WHERE airports.icao_code = '{}' \"\n",
      "\n",
      "result1 = engine.execute(sql_maxT_cmd.format(icao1) )\n",
      "result2 = engine.execute(sql_maxT_cmd.format(icao2) )\n",
      "\n"
     ],
     "language": "python",
     "metadata": {},
     "outputs": [
      {
       "output_type": "stream",
       "stream": "stdout",
       "text": [
        "2013-10-17 00:38:59,092 INFO sqlalchemy.engine.base.Engine SELECT weather.max_temperature as temp, weather.date AS date, airports.city AS city, airports.latitude AS lat, airports.longitude AS long FROM weather JOIN airports ON weather.icao_code = airports.icao_code WHERE airports.icao_code = 'KSFO' \n"
       ]
      },
      {
       "output_type": "stream",
       "stream": "stdout",
       "text": [
        "2013-10-17 00:38:59,093 INFO sqlalchemy.engine.base.Engine ()\n"
       ]
      },
      {
       "output_type": "stream",
       "stream": "stdout",
       "text": [
        "2013-10-17 00:39:00,288 INFO sqlalchemy.engine.base.Engine SELECT weather.max_temperature as temp, weather.date AS date, airports.city AS city, airports.latitude AS lat, airports.longitude AS long FROM weather JOIN airports ON weather.icao_code = airports.icao_code WHERE airports.icao_code = 'KOAK' \n"
       ]
      },
      {
       "output_type": "stream",
       "stream": "stdout",
       "text": [
        "2013-10-17 00:39:00,289 INFO sqlalchemy.engine.base.Engine ()\n"
       ]
      }
     ],
     "prompt_number": 4
    },
    {
     "cell_type": "markdown",
     "metadata": {},
     "source": [
      "## Store data and handle missing data"
     ]
    },
    {
     "cell_type": "code",
     "collapsed": false,
     "input": [
      "# Put data into array\n",
      "startDate = datetime.date(2008,1,1)\n",
      "today = datetime.date.today()\n",
      "# initialize arrays with NaNs\n",
      "#location1 = np.nan * np.ones((today - startDate).days)\n",
      "#location2 = np.nan * np.ones((today - startDate).days)\n",
      "\n",
      "# fill arrays with data, verifying that indexing of both locations correspond to \n",
      "# identical dates\n",
      "def query2Array(query_result):\n",
      "    '''Fill arrays with data from a query result, verifying that indexing \n",
      "    of both locations correspond to identical dates, and otherwise filling\n",
      "    with NaNs'''\n",
      "    startDate = datetime.date(2008,1,1)\n",
      "    today = datetime.date.today()\n",
      "    \n",
      "    # initialize array based on  startdate\n",
      "    newArr = np.nan * np.ones((today - startDate).days)\n",
      "    \n",
      "    for row in query_result:\n",
      "        #print row\n",
      "        dateStr = row[1]\n",
      "        datelist = [ int(val) for val in dateStr.split('-') ]\n",
      "        dataDate = datetime.date(datelist[0],datelist[1],datelist[2])\n",
      "        idx = (dataDate-startDate).days\n",
      "        try:\n",
      "            newArr[idx] = row[0] \n",
      "        except:\n",
      "            pass # just leave as NaN if query chokes\n",
      "                \n",
      "    return newArr\n",
      "    \n",
      "location1 = query2Array(result1)\n",
      "location2 = query2Array(result2)\n"
     ],
     "language": "python",
     "metadata": {},
     "outputs": [],
     "prompt_number": 5
    },
    {
     "cell_type": "code",
     "collapsed": false,
     "input": [
      "location1"
     ],
     "language": "python",
     "metadata": {},
     "outputs": [
      {
       "metadata": {},
       "output_type": "pyout",
       "prompt_number": 6,
       "text": [
        "array([ 54.,  53.,  57., ...,  55.,  nan,  nan])"
       ]
      }
     ],
     "prompt_number": 6
    },
    {
     "cell_type": "code",
     "collapsed": false,
     "input": [
      "a = np.vstack((location1,location2)).transpose()\n",
      "#a = a.transpose()\n",
      "\n",
      "b = a[~np.isnan(a).any(1)]\n",
      "print a.shape\n",
      "b.shape"
     ],
     "language": "python",
     "metadata": {},
     "outputs": [
      {
       "output_type": "stream",
       "stream": "stdout",
       "text": [
        "(2116, 2)\n"
       ]
      },
      {
       "metadata": {},
       "output_type": "pyout",
       "prompt_number": 7,
       "text": [
        "(2114, 2)"
       ]
      }
     ],
     "prompt_number": 7
    },
    {
     "cell_type": "code",
     "collapsed": false,
     "input": [
      "a = np.array([[1, 5, np.nan, 6],\n",
      "               [10, 6, 6, np.nan]]).transpose()\n",
      "a[~np.isnan(a).any(1)]"
     ],
     "language": "python",
     "metadata": {},
     "outputs": [
      {
       "metadata": {},
       "output_type": "pyout",
       "prompt_number": 8,
       "text": [
        "array([[  1.,  10.],\n",
        "       [  5.,   6.]])"
       ]
      }
     ],
     "prompt_number": 8
    },
    {
     "cell_type": "code",
     "collapsed": false,
     "input": [
      "# Test correlation methods for a single pair of airports with time separated by 1,3,7 days\n",
      "# Should correspond to weather at location one moving to location2 in n days\n",
      "\n",
      "from scipy.stats import pearsonr\n",
      "\n",
      "# shift values and ignore any pair or dates wherere either dataset has a NaN\n",
      "shift1 = np.vstack((location2[1:],location1[:-1])).transpose()\n",
      "shift3 = np.vstack((location2[3:],location1[:-3])).transpose()\n",
      "shift7 = np.vstack((location2[7:],location1[:-7])).transpose()\n",
      "shift1 = shift1[~np.isnan(shift1).any(1)].transpose()\n",
      "shift3 = shift3[~np.isnan(shift3).any(1)].transpose()\n",
      "shift7 = shift7[~np.isnan(shift7).any(1)].transpose()\n",
      "\n",
      "# pearson correllation coefficient\n",
      "print pearsonr(shift1[0,:],shift1[1,:]),\n",
      "print pearsonr(shift3[0,:],shift3[1,:]),\n",
      "print pearsonr(shift7[0,:],shift7[1,:]),\n",
      "\n",
      "print shift1.shape,shift3.shape,shift7.shape\n"
     ],
     "language": "python",
     "metadata": {},
     "outputs": [
      {
       "output_type": "stream",
       "stream": "stdout",
       "text": [
        "(0.7835510952271485, 0.0) (0.53608557227462916, 2.2075020914984517e-157) (0.4614295518998629, 1.3704848734172895e-111) (2, 2113) (2, 2111) (2, 2107)\n"
       ]
      }
     ],
     "prompt_number": 9
    },
    {
     "cell_type": "code",
     "collapsed": false,
     "input": [
      "# Store arrays with query results for each airport\n",
      "# This is much faster than redoing the query \n",
      "temp_arrays = []\n",
      "cloud_arrays = []\n",
      "\n",
      "N = len(airport_keys)\n",
      "for idx_loc1 in np.arange(N):\n",
      "    icao1 = airport_keys[idx_loc1]\n",
      "    \n",
      "    temp_1 = query2Array( engine.execute(sql_maxT_cmd.format(icao1) ) )\n",
      "    cloud_1 = query2Array( engine.execute(sql_cloud_cmd.format(icao1) ) )\n",
      "    temp_arrays.append(temp_1)\n",
      "    cloud_arrays.append(cloud_1)\n",
      "    print idx_loc1,"
     ],
     "language": "python",
     "metadata": {},
     "outputs": [
      {
       "output_type": "stream",
       "stream": "stdout",
       "text": [
        "2013-10-17 00:39:02,137 INFO sqlalchemy.engine.base.Engine SELECT weather.max_temperature as temp, weather.date AS date, airports.city AS city, airports.latitude AS lat, airports.longitude AS long FROM weather JOIN airports ON weather.icao_code = airports.icao_code WHERE airports.icao_code = 'KCVG' \n"
       ]
      },
      {
       "output_type": "stream",
       "stream": "stdout",
       "text": [
        "2013-10-17 00:39:02,138 INFO sqlalchemy.engine.base.Engine ()\n"
       ]
      },
      {
       "output_type": "stream",
       "stream": "stdout",
       "text": [
        "2013-10-17 00:39:03,040 INFO sqlalchemy.engine.base.Engine SELECT weather.cloudCover as cloud, weather.date AS date, airports.city AS city, airports.latitude AS lat, airports.longitude AS long FROM weather JOIN airports ON weather.icao_code = airports.icao_code WHERE airports.icao_code = 'KCVG' \n"
       ]
      },
      {
       "output_type": "stream",
       "stream": "stdout",
       "text": [
        "2013-10-17 00:39:03,041 INFO sqlalchemy.engine.base.Engine ()\n"
       ]
      },
      {
       "output_type": "stream",
       "stream": "stdout",
       "text": [
        "02013-10-17 00:39:03,978 INFO sqlalchemy.engine.base.Engine SELECT weather.max_temperature as temp, weather.date AS date, airports.city AS city, airports.latitude AS lat, airports.longitude AS long FROM weather JOIN airports ON weather.icao_code = airports.icao_code WHERE airports.icao_code = 'KLAS' \n"
       ]
      },
      {
       "output_type": "stream",
       "stream": "stdout",
       "text": [
        "2013-10-17 00:39:03,979 INFO sqlalchemy.engine.base.Engine ()\n"
       ]
      },
      {
       "output_type": "stream",
       "stream": "stdout",
       "text": [
        "2013-10-17 00:39:04,890 INFO sqlalchemy.engine.base.Engine SELECT weather.cloudCover as cloud, weather.date AS date, airports.city AS city, airports.latitude AS lat, airports.longitude AS long FROM weather JOIN airports ON weather.icao_code = airports.icao_code WHERE airports.icao_code = 'KLAS' \n"
       ]
      },
      {
       "output_type": "stream",
       "stream": "stdout",
       "text": [
        "2013-10-17 00:39:04,891 INFO sqlalchemy.engine.base.Engine ()\n"
       ]
      },
      {
       "output_type": "stream",
       "stream": "stdout",
       "text": [
        " 12013-10-17 00:39:05,955 INFO sqlalchemy.engine.base.Engine SELECT weather.max_temperature as temp, weather.date AS date, airports.city AS city, airports.latitude AS lat, airports.longitude AS long FROM weather JOIN airports ON weather.icao_code = airports.icao_code WHERE airports.icao_code = 'KRDU' \n"
       ]
      },
      {
       "output_type": "stream",
       "stream": "stdout",
       "text": [
        "2013-10-17 00:39:05,955 INFO sqlalchemy.engine.base.Engine ()\n"
       ]
      },
      {
       "output_type": "stream",
       "stream": "stdout",
       "text": [
        "2013-10-17 00:39:06,878 INFO sqlalchemy.engine.base.Engine SELECT weather.cloudCover as cloud, weather.date AS date, airports.city AS city, airports.latitude AS lat, airports.longitude AS long FROM weather JOIN airports ON weather.icao_code = airports.icao_code WHERE airports.icao_code = 'KRDU' \n"
       ]
      },
      {
       "output_type": "stream",
       "stream": "stdout",
       "text": [
        "2013-10-17 00:39:06,878 INFO sqlalchemy.engine.base.Engine ()\n"
       ]
      },
      {
       "output_type": "stream",
       "stream": "stdout",
       "text": [
        " 22013-10-17 00:39:07,833 INFO sqlalchemy.engine.base.Engine SELECT weather.max_temperature as temp, weather.date AS date, airports.city AS city, airports.latitude AS lat, airports.longitude AS long FROM weather JOIN airports ON weather.icao_code = airports.icao_code WHERE airports.icao_code = 'KORD' \n"
       ]
      },
      {
       "output_type": "stream",
       "stream": "stdout",
       "text": [
        "2013-10-17 00:39:07,834 INFO sqlalchemy.engine.base.Engine ()\n"
       ]
      },
      {
       "output_type": "stream",
       "stream": "stdout",
       "text": [
        "2013-10-17 00:39:08,705 INFO sqlalchemy.engine.base.Engine SELECT weather.cloudCover as cloud, weather.date AS date, airports.city AS city, airports.latitude AS lat, airports.longitude AS long FROM weather JOIN airports ON weather.icao_code = airports.icao_code WHERE airports.icao_code = 'KORD' \n"
       ]
      },
      {
       "output_type": "stream",
       "stream": "stdout",
       "text": [
        "2013-10-17 00:39:08,705 INFO sqlalchemy.engine.base.Engine ()\n"
       ]
      },
      {
       "output_type": "stream",
       "stream": "stdout",
       "text": [
        " 32013-10-17 00:39:09,604 INFO sqlalchemy.engine.base.Engine SELECT weather.max_temperature as temp, weather.date AS date, airports.city AS city, airports.latitude AS lat, airports.longitude AS long FROM weather JOIN airports ON weather.icao_code = airports.icao_code WHERE airports.icao_code = 'KSLC' \n"
       ]
      },
      {
       "output_type": "stream",
       "stream": "stdout",
       "text": [
        "2013-10-17 00:39:09,605 INFO sqlalchemy.engine.base.Engine ()\n"
       ]
      },
      {
       "output_type": "stream",
       "stream": "stdout",
       "text": [
        "2013-10-17 00:39:10,507 INFO sqlalchemy.engine.base.Engine SELECT weather.cloudCover as cloud, weather.date AS date, airports.city AS city, airports.latitude AS lat, airports.longitude AS long FROM weather JOIN airports ON weather.icao_code = airports.icao_code WHERE airports.icao_code = 'KSLC' \n"
       ]
      },
      {
       "output_type": "stream",
       "stream": "stdout",
       "text": [
        "2013-10-17 00:39:10,508 INFO sqlalchemy.engine.base.Engine ()\n"
       ]
      },
      {
       "output_type": "stream",
       "stream": "stdout",
       "text": [
        " 42013-10-17 00:39:11,495 INFO sqlalchemy.engine.base.Engine SELECT weather.max_temperature as temp, weather.date AS date, airports.city AS city, airports.latitude AS lat, airports.longitude AS long FROM weather JOIN airports ON weather.icao_code = airports.icao_code WHERE airports.icao_code = 'KMEM' \n"
       ]
      },
      {
       "output_type": "stream",
       "stream": "stdout",
       "text": [
        "2013-10-17 00:39:11,496 INFO sqlalchemy.engine.base.Engine ()\n"
       ]
      },
      {
       "output_type": "stream",
       "stream": "stdout",
       "text": [
        "2013-10-17 00:39:12,551 INFO sqlalchemy.engine.base.Engine SELECT weather.cloudCover as cloud, weather.date AS date, airports.city AS city, airports.latitude AS lat, airports.longitude AS long FROM weather JOIN airports ON weather.icao_code = airports.icao_code WHERE airports.icao_code = 'KMEM' \n"
       ]
      },
      {
       "output_type": "stream",
       "stream": "stdout",
       "text": [
        "2013-10-17 00:39:12,552 INFO sqlalchemy.engine.base.Engine ()\n"
       ]
      },
      {
       "output_type": "stream",
       "stream": "stdout",
       "text": [
        " 52013-10-17 00:39:13,529 INFO sqlalchemy.engine.base.Engine SELECT weather.max_temperature as temp, weather.date AS date, airports.city AS city, airports.latitude AS lat, airports.longitude AS long FROM weather JOIN airports ON weather.icao_code = airports.icao_code WHERE airports.icao_code = 'KPHX' \n"
       ]
      },
      {
       "output_type": "stream",
       "stream": "stdout",
       "text": [
        "2013-10-17 00:39:13,530 INFO sqlalchemy.engine.base.Engine ()\n"
       ]
      },
      {
       "output_type": "stream",
       "stream": "stdout",
       "text": [
        "2013-10-17 00:39:14,506 INFO sqlalchemy.engine.base.Engine SELECT weather.cloudCover as cloud, weather.date AS date, airports.city AS city, airports.latitude AS lat, airports.longitude AS long FROM weather JOIN airports ON weather.icao_code = airports.icao_code WHERE airports.icao_code = 'KPHX' \n"
       ]
      },
      {
       "output_type": "stream",
       "stream": "stdout",
       "text": [
        "2013-10-17 00:39:14,507 INFO sqlalchemy.engine.base.Engine ()\n"
       ]
      },
      {
       "output_type": "stream",
       "stream": "stdout",
       "text": [
        " 62013-10-17 00:39:15,489 INFO sqlalchemy.engine.base.Engine SELECT weather.max_temperature as temp, weather.date AS date, airports.city AS city, airports.latitude AS lat, airports.longitude AS long FROM weather JOIN airports ON weather.icao_code = airports.icao_code WHERE airports.icao_code = 'KLAX' \n"
       ]
      },
      {
       "output_type": "stream",
       "stream": "stdout",
       "text": [
        "2013-10-17 00:39:15,490 INFO sqlalchemy.engine.base.Engine ()\n"
       ]
      },
      {
       "output_type": "stream",
       "stream": "stdout",
       "text": [
        "2013-10-17 00:39:16,444 INFO sqlalchemy.engine.base.Engine SELECT weather.cloudCover as cloud, weather.date AS date, airports.city AS city, airports.latitude AS lat, airports.longitude AS long FROM weather JOIN airports ON weather.icao_code = airports.icao_code WHERE airports.icao_code = 'KLAX' \n"
       ]
      },
      {
       "output_type": "stream",
       "stream": "stdout",
       "text": [
        "2013-10-17 00:39:16,445 INFO sqlalchemy.engine.base.Engine ()\n"
       ]
      },
      {
       "output_type": "stream",
       "stream": "stdout",
       "text": [
        " 72013-10-17 00:39:17,345 INFO sqlalchemy.engine.base.Engine SELECT weather.max_temperature as temp, weather.date AS date, airports.city AS city, airports.latitude AS lat, airports.longitude AS long FROM weather JOIN airports ON weather.icao_code = airports.icao_code WHERE airports.icao_code = 'KEWR' \n"
       ]
      },
      {
       "output_type": "stream",
       "stream": "stdout",
       "text": [
        "2013-10-17 00:39:17,346 INFO sqlalchemy.engine.base.Engine ()\n"
       ]
      },
      {
       "output_type": "stream",
       "stream": "stdout",
       "text": [
        "2013-10-17 00:39:18,299 INFO sqlalchemy.engine.base.Engine SELECT weather.cloudCover as cloud, weather.date AS date, airports.city AS city, airports.latitude AS lat, airports.longitude AS long FROM weather JOIN airports ON weather.icao_code = airports.icao_code WHERE airports.icao_code = 'KEWR' \n"
       ]
      },
      {
       "output_type": "stream",
       "stream": "stdout",
       "text": [
        "2013-10-17 00:39:18,300 INFO sqlalchemy.engine.base.Engine ()\n"
       ]
      },
      {
       "output_type": "stream",
       "stream": "stdout",
       "text": [
        " 82013-10-17 00:39:19,282 INFO sqlalchemy.engine.base.Engine SELECT weather.max_temperature as temp, weather.date AS date, airports.city AS city, airports.latitude AS lat, airports.longitude AS long FROM weather JOIN airports ON weather.icao_code = airports.icao_code WHERE airports.icao_code = 'KATL' \n"
       ]
      },
      {
       "output_type": "stream",
       "stream": "stdout",
       "text": [
        "2013-10-17 00:39:19,282 INFO sqlalchemy.engine.base.Engine ()\n"
       ]
      },
      {
       "output_type": "stream",
       "stream": "stdout",
       "text": [
        "2013-10-17 00:39:20,240 INFO sqlalchemy.engine.base.Engine SELECT weather.cloudCover as cloud, weather.date AS date, airports.city AS city, airports.latitude AS lat, airports.longitude AS long FROM weather JOIN airports ON weather.icao_code = airports.icao_code WHERE airports.icao_code = 'KATL' \n"
       ]
      },
      {
       "output_type": "stream",
       "stream": "stdout",
       "text": [
        "2013-10-17 00:39:20,240 INFO sqlalchemy.engine.base.Engine ()\n"
       ]
      },
      {
       "output_type": "stream",
       "stream": "stdout",
       "text": [
        " 92013-10-17 00:39:21,272 INFO sqlalchemy.engine.base.Engine SELECT weather.max_temperature as temp, weather.date AS date, airports.city AS city, airports.latitude AS lat, airports.longitude AS long FROM weather JOIN airports ON weather.icao_code = airports.icao_code WHERE airports.icao_code = 'KPHL' \n"
       ]
      },
      {
       "output_type": "stream",
       "stream": "stdout",
       "text": [
        "2013-10-17 00:39:21,272 INFO sqlalchemy.engine.base.Engine ()\n"
       ]
      },
      {
       "output_type": "stream",
       "stream": "stdout",
       "text": [
        "2013-10-17 00:39:22,339 INFO sqlalchemy.engine.base.Engine SELECT weather.cloudCover as cloud, weather.date AS date, airports.city AS city, airports.latitude AS lat, airports.longitude AS long FROM weather JOIN airports ON weather.icao_code = airports.icao_code WHERE airports.icao_code = 'KPHL' \n"
       ]
      },
      {
       "output_type": "stream",
       "stream": "stdout",
       "text": [
        "2013-10-17 00:39:22,340 INFO sqlalchemy.engine.base.Engine ()\n"
       ]
      },
      {
       "output_type": "stream",
       "stream": "stdout",
       "text": [
        " 102013-10-17 00:39:23,404 INFO sqlalchemy.engine.base.Engine SELECT weather.max_temperature as temp, weather.date AS date, airports.city AS city, airports.latitude AS lat, airports.longitude AS long FROM weather JOIN airports ON weather.icao_code = airports.icao_code WHERE airports.icao_code = 'KMCI' \n"
       ]
      },
      {
       "output_type": "stream",
       "stream": "stdout",
       "text": [
        "2013-10-17 00:39:23,405 INFO sqlalchemy.engine.base.Engine ()\n"
       ]
      },
      {
       "output_type": "stream",
       "stream": "stdout",
       "text": [
        "2013-10-17 00:39:24,447 INFO sqlalchemy.engine.base.Engine SELECT weather.cloudCover as cloud, weather.date AS date, airports.city AS city, airports.latitude AS lat, airports.longitude AS long FROM weather JOIN airports ON weather.icao_code = airports.icao_code WHERE airports.icao_code = 'KMCI' \n"
       ]
      },
      {
       "output_type": "stream",
       "stream": "stdout",
       "text": [
        "2013-10-17 00:39:24,447 INFO sqlalchemy.engine.base.Engine ()\n"
       ]
      },
      {
       "output_type": "stream",
       "stream": "stdout",
       "text": [
        " 112013-10-17 00:39:25,437 INFO sqlalchemy.engine.base.Engine SELECT weather.max_temperature as temp, weather.date AS date, airports.city AS city, airports.latitude AS lat, airports.longitude AS long FROM weather JOIN airports ON weather.icao_code = airports.icao_code WHERE airports.icao_code = 'KPDX' \n"
       ]
      },
      {
       "output_type": "stream",
       "stream": "stdout",
       "text": [
        "2013-10-17 00:39:25,437 INFO sqlalchemy.engine.base.Engine ()\n"
       ]
      },
      {
       "output_type": "stream",
       "stream": "stdout",
       "text": [
        "2013-10-17 00:39:26,347 INFO sqlalchemy.engine.base.Engine SELECT weather.cloudCover as cloud, weather.date AS date, airports.city AS city, airports.latitude AS lat, airports.longitude AS long FROM weather JOIN airports ON weather.icao_code = airports.icao_code WHERE airports.icao_code = 'KPDX' \n"
       ]
      },
      {
       "output_type": "stream",
       "stream": "stdout",
       "text": [
        "2013-10-17 00:39:26,347 INFO sqlalchemy.engine.base.Engine ()\n"
       ]
      },
      {
       "output_type": "stream",
       "stream": "stdout",
       "text": [
        " 122013-10-17 00:39:27,388 INFO sqlalchemy.engine.base.Engine SELECT weather.max_temperature as temp, weather.date AS date, airports.city AS city, airports.latitude AS lat, airports.longitude AS long FROM weather JOIN airports ON weather.icao_code = airports.icao_code WHERE airports.icao_code = 'KMCO' \n"
       ]
      },
      {
       "output_type": "stream",
       "stream": "stdout",
       "text": [
        "2013-10-17 00:39:27,389 INFO sqlalchemy.engine.base.Engine ()\n"
       ]
      },
      {
       "output_type": "stream",
       "stream": "stdout",
       "text": [
        "2013-10-17 00:39:28,365 INFO sqlalchemy.engine.base.Engine SELECT weather.cloudCover as cloud, weather.date AS date, airports.city AS city, airports.latitude AS lat, airports.longitude AS long FROM weather JOIN airports ON weather.icao_code = airports.icao_code WHERE airports.icao_code = 'KMCO' \n"
       ]
      },
      {
       "output_type": "stream",
       "stream": "stdout",
       "text": [
        "2013-10-17 00:39:28,365 INFO sqlalchemy.engine.base.Engine ()\n"
       ]
      },
      {
       "output_type": "stream",
       "stream": "stdout",
       "text": [
        " 132013-10-17 00:39:29,351 INFO sqlalchemy.engine.base.Engine SELECT weather.max_temperature as temp, weather.date AS date, airports.city AS city, airports.latitude AS lat, airports.longitude AS long FROM weather JOIN airports ON weather.icao_code = airports.icao_code WHERE airports.icao_code = 'KLGA' \n"
       ]
      },
      {
       "output_type": "stream",
       "stream": "stdout",
       "text": [
        "2013-10-17 00:39:29,352 INFO sqlalchemy.engine.base.Engine ()\n"
       ]
      },
      {
       "output_type": "stream",
       "stream": "stdout",
       "text": [
        "2013-10-17 00:39:30,351 INFO sqlalchemy.engine.base.Engine SELECT weather.cloudCover as cloud, weather.date AS date, airports.city AS city, airports.latitude AS lat, airports.longitude AS long FROM weather JOIN airports ON weather.icao_code = airports.icao_code WHERE airports.icao_code = 'KLGA' \n"
       ]
      },
      {
       "output_type": "stream",
       "stream": "stdout",
       "text": [
        "2013-10-17 00:39:30,351 INFO sqlalchemy.engine.base.Engine ()\n"
       ]
      },
      {
       "output_type": "stream",
       "stream": "stdout",
       "text": [
        " 142013-10-17 00:39:31,308 INFO sqlalchemy.engine.base.Engine SELECT weather.max_temperature as temp, weather.date AS date, airports.city AS city, airports.latitude AS lat, airports.longitude AS long FROM weather JOIN airports ON weather.icao_code = airports.icao_code WHERE airports.icao_code = 'KDTW' \n"
       ]
      },
      {
       "output_type": "stream",
       "stream": "stdout",
       "text": [
        "2013-10-17 00:39:31,308 INFO sqlalchemy.engine.base.Engine ()\n"
       ]
      },
      {
       "output_type": "stream",
       "stream": "stdout",
       "text": [
        "2013-10-17 00:39:32,272 INFO sqlalchemy.engine.base.Engine SELECT weather.cloudCover as cloud, weather.date AS date, airports.city AS city, airports.latitude AS lat, airports.longitude AS long FROM weather JOIN airports ON weather.icao_code = airports.icao_code WHERE airports.icao_code = 'KDTW' \n"
       ]
      },
      {
       "output_type": "stream",
       "stream": "stdout",
       "text": [
        "2013-10-17 00:39:32,272 INFO sqlalchemy.engine.base.Engine ()\n"
       ]
      },
      {
       "output_type": "stream",
       "stream": "stdout",
       "text": [
        " 152013-10-17 00:39:33,354 INFO sqlalchemy.engine.base.Engine SELECT weather.max_temperature as temp, weather.date AS date, airports.city AS city, airports.latitude AS lat, airports.longitude AS long FROM weather JOIN airports ON weather.icao_code = airports.icao_code WHERE airports.icao_code = 'KFLL' \n"
       ]
      },
      {
       "output_type": "stream",
       "stream": "stdout",
       "text": [
        "2013-10-17 00:39:33,354 INFO sqlalchemy.engine.base.Engine ()\n"
       ]
      },
      {
       "output_type": "stream",
       "stream": "stdout",
       "text": [
        "2013-10-17 00:39:34,393 INFO sqlalchemy.engine.base.Engine SELECT weather.cloudCover as cloud, weather.date AS date, airports.city AS city, airports.latitude AS lat, airports.longitude AS long FROM weather JOIN airports ON weather.icao_code = airports.icao_code WHERE airports.icao_code = 'KFLL' \n"
       ]
      },
      {
       "output_type": "stream",
       "stream": "stdout",
       "text": [
        "2013-10-17 00:39:34,394 INFO sqlalchemy.engine.base.Engine ()\n"
       ]
      },
      {
       "output_type": "stream",
       "stream": "stdout",
       "text": [
        " 162013-10-17 00:39:35,434 INFO sqlalchemy.engine.base.Engine SELECT weather.max_temperature as temp, weather.date AS date, airports.city AS city, airports.latitude AS lat, airports.longitude AS long FROM weather JOIN airports ON weather.icao_code = airports.icao_code WHERE airports.icao_code = 'KBOS' \n"
       ]
      },
      {
       "output_type": "stream",
       "stream": "stdout",
       "text": [
        "2013-10-17 00:39:35,434 INFO sqlalchemy.engine.base.Engine ()\n"
       ]
      },
      {
       "output_type": "stream",
       "stream": "stdout",
       "text": [
        "2013-10-17 00:39:36,411 INFO sqlalchemy.engine.base.Engine SELECT weather.cloudCover as cloud, weather.date AS date, airports.city AS city, airports.latitude AS lat, airports.longitude AS long FROM weather JOIN airports ON weather.icao_code = airports.icao_code WHERE airports.icao_code = 'KBOS' \n"
       ]
      },
      {
       "output_type": "stream",
       "stream": "stdout",
       "text": [
        "2013-10-17 00:39:36,411 INFO sqlalchemy.engine.base.Engine ()\n"
       ]
      },
      {
       "output_type": "stream",
       "stream": "stdout",
       "text": [
        " 172013-10-17 00:39:37,400 INFO sqlalchemy.engine.base.Engine SELECT weather.max_temperature as temp, weather.date AS date, airports.city AS city, airports.latitude AS lat, airports.longitude AS long FROM weather JOIN airports ON weather.icao_code = airports.icao_code WHERE airports.icao_code = 'KMKE' \n"
       ]
      },
      {
       "output_type": "stream",
       "stream": "stdout",
       "text": [
        "2013-10-17 00:39:37,401 INFO sqlalchemy.engine.base.Engine ()\n"
       ]
      },
      {
       "output_type": "stream",
       "stream": "stdout",
       "text": [
        "2013-10-17 00:39:38,371 INFO sqlalchemy.engine.base.Engine SELECT weather.cloudCover as cloud, weather.date AS date, airports.city AS city, airports.latitude AS lat, airports.longitude AS long FROM weather JOIN airports ON weather.icao_code = airports.icao_code WHERE airports.icao_code = 'KMKE' \n"
       ]
      },
      {
       "output_type": "stream",
       "stream": "stdout",
       "text": [
        "2013-10-17 00:39:38,371 INFO sqlalchemy.engine.base.Engine ()\n"
       ]
      },
      {
       "output_type": "stream",
       "stream": "stdout",
       "text": [
        " 182013-10-17 00:39:39,394 INFO sqlalchemy.engine.base.Engine SELECT weather.max_temperature as temp, weather.date AS date, airports.city AS city, airports.latitude AS lat, airports.longitude AS long FROM weather JOIN airports ON weather.icao_code = airports.icao_code WHERE airports.icao_code = 'KOAK' \n"
       ]
      },
      {
       "output_type": "stream",
       "stream": "stdout",
       "text": [
        "2013-10-17 00:39:39,395 INFO sqlalchemy.engine.base.Engine ()\n"
       ]
      },
      {
       "output_type": "stream",
       "stream": "stdout",
       "text": [
        "2013-10-17 00:39:40,434 INFO sqlalchemy.engine.base.Engine SELECT weather.cloudCover as cloud, weather.date AS date, airports.city AS city, airports.latitude AS lat, airports.longitude AS long FROM weather JOIN airports ON weather.icao_code = airports.icao_code WHERE airports.icao_code = 'KOAK' \n"
       ]
      },
      {
       "output_type": "stream",
       "stream": "stdout",
       "text": [
        "2013-10-17 00:39:40,435 INFO sqlalchemy.engine.base.Engine ()\n"
       ]
      },
      {
       "output_type": "stream",
       "stream": "stdout",
       "text": [
        " 192013-10-17 00:39:41,429 INFO sqlalchemy.engine.base.Engine SELECT weather.max_temperature as temp, weather.date AS date, airports.city AS city, airports.latitude AS lat, airports.longitude AS long FROM weather JOIN airports ON weather.icao_code = airports.icao_code WHERE airports.icao_code = 'KDEN' \n"
       ]
      },
      {
       "output_type": "stream",
       "stream": "stdout",
       "text": [
        "2013-10-17 00:39:41,430 INFO sqlalchemy.engine.base.Engine ()\n"
       ]
      },
      {
       "output_type": "stream",
       "stream": "stdout",
       "text": [
        "2013-10-17 00:39:42,344 INFO sqlalchemy.engine.base.Engine SELECT weather.cloudCover as cloud, weather.date AS date, airports.city AS city, airports.latitude AS lat, airports.longitude AS long FROM weather JOIN airports ON weather.icao_code = airports.icao_code WHERE airports.icao_code = 'KDEN' \n"
       ]
      },
      {
       "output_type": "stream",
       "stream": "stdout",
       "text": [
        "2013-10-17 00:39:42,344 INFO sqlalchemy.engine.base.Engine ()\n"
       ]
      },
      {
       "output_type": "stream",
       "stream": "stdout",
       "text": [
        " 202013-10-17 00:39:43,301 INFO sqlalchemy.engine.base.Engine SELECT weather.max_temperature as temp, weather.date AS date, airports.city AS city, airports.latitude AS lat, airports.longitude AS long FROM weather JOIN airports ON weather.icao_code = airports.icao_code WHERE airports.icao_code = 'KSEA' \n"
       ]
      },
      {
       "output_type": "stream",
       "stream": "stdout",
       "text": [
        "2013-10-17 00:39:43,301 INFO sqlalchemy.engine.base.Engine ()\n"
       ]
      },
      {
       "output_type": "stream",
       "stream": "stdout",
       "text": [
        "2013-10-17 00:39:44,240 INFO sqlalchemy.engine.base.Engine SELECT weather.cloudCover as cloud, weather.date AS date, airports.city AS city, airports.latitude AS lat, airports.longitude AS long FROM weather JOIN airports ON weather.icao_code = airports.icao_code WHERE airports.icao_code = 'KSEA' \n"
       ]
      },
      {
       "output_type": "stream",
       "stream": "stdout",
       "text": [
        "2013-10-17 00:39:44,241 INFO sqlalchemy.engine.base.Engine ()\n"
       ]
      },
      {
       "output_type": "stream",
       "stream": "stdout",
       "text": [
        " 212013-10-17 00:39:45,162 INFO sqlalchemy.engine.base.Engine SELECT weather.max_temperature as temp, weather.date AS date, airports.city AS city, airports.latitude AS lat, airports.longitude AS long FROM weather JOIN airports ON weather.icao_code = airports.icao_code WHERE airports.icao_code = 'KIND' \n"
       ]
      },
      {
       "output_type": "stream",
       "stream": "stdout",
       "text": [
        "2013-10-17 00:39:45,162 INFO sqlalchemy.engine.base.Engine ()\n"
       ]
      },
      {
       "output_type": "stream",
       "stream": "stdout",
       "text": [
        "2013-10-17 00:39:46,095 INFO sqlalchemy.engine.base.Engine SELECT weather.cloudCover as cloud, weather.date AS date, airports.city AS city, airports.latitude AS lat, airports.longitude AS long FROM weather JOIN airports ON weather.icao_code = airports.icao_code WHERE airports.icao_code = 'KIND' \n"
       ]
      },
      {
       "output_type": "stream",
       "stream": "stdout",
       "text": [
        "2013-10-17 00:39:46,096 INFO sqlalchemy.engine.base.Engine ()\n"
       ]
      },
      {
       "output_type": "stream",
       "stream": "stdout",
       "text": [
        " 222013-10-17 00:39:47,039 INFO sqlalchemy.engine.base.Engine SELECT weather.max_temperature as temp, weather.date AS date, airports.city AS city, airports.latitude AS lat, airports.longitude AS long FROM weather JOIN airports ON weather.icao_code = airports.icao_code WHERE airports.icao_code = 'KDCA' \n"
       ]
      },
      {
       "output_type": "stream",
       "stream": "stdout",
       "text": [
        "2013-10-17 00:39:47,040 INFO sqlalchemy.engine.base.Engine ()\n"
       ]
      },
      {
       "output_type": "stream",
       "stream": "stdout",
       "text": [
        "2013-10-17 00:39:47,971 INFO sqlalchemy.engine.base.Engine SELECT weather.cloudCover as cloud, weather.date AS date, airports.city AS city, airports.latitude AS lat, airports.longitude AS long FROM weather JOIN airports ON weather.icao_code = airports.icao_code WHERE airports.icao_code = 'KDCA' \n"
       ]
      },
      {
       "output_type": "stream",
       "stream": "stdout",
       "text": [
        "2013-10-17 00:39:47,971 INFO sqlalchemy.engine.base.Engine ()\n"
       ]
      },
      {
       "output_type": "stream",
       "stream": "stdout",
       "text": [
        " 232013-10-17 00:39:48,948 INFO sqlalchemy.engine.base.Engine SELECT weather.max_temperature as temp, weather.date AS date, airports.city AS city, airports.latitude AS lat, airports.longitude AS long FROM weather JOIN airports ON weather.icao_code = airports.icao_code WHERE airports.icao_code = 'KDAL' \n"
       ]
      },
      {
       "output_type": "stream",
       "stream": "stdout",
       "text": [
        "2013-10-17 00:39:48,949 INFO sqlalchemy.engine.base.Engine ()\n"
       ]
      },
      {
       "output_type": "stream",
       "stream": "stdout",
       "text": [
        "2013-10-17 00:39:49,860 INFO sqlalchemy.engine.base.Engine SELECT weather.cloudCover as cloud, weather.date AS date, airports.city AS city, airports.latitude AS lat, airports.longitude AS long FROM weather JOIN airports ON weather.icao_code = airports.icao_code WHERE airports.icao_code = 'KDAL' \n"
       ]
      },
      {
       "output_type": "stream",
       "stream": "stdout",
       "text": [
        "2013-10-17 00:39:49,861 INFO sqlalchemy.engine.base.Engine ()\n"
       ]
      },
      {
       "output_type": "stream",
       "stream": "stdout",
       "text": [
        " 242013-10-17 00:39:50,809 INFO sqlalchemy.engine.base.Engine SELECT weather.max_temperature as temp, weather.date AS date, airports.city AS city, airports.latitude AS lat, airports.longitude AS long FROM weather JOIN airports ON weather.icao_code = airports.icao_code WHERE airports.icao_code = 'KAUS' \n"
       ]
      },
      {
       "output_type": "stream",
       "stream": "stdout",
       "text": [
        "2013-10-17 00:39:50,810 INFO sqlalchemy.engine.base.Engine ()\n"
       ]
      },
      {
       "output_type": "stream",
       "stream": "stdout",
       "text": [
        "2013-10-17 00:39:51,715 INFO sqlalchemy.engine.base.Engine SELECT weather.cloudCover as cloud, weather.date AS date, airports.city AS city, airports.latitude AS lat, airports.longitude AS long FROM weather JOIN airports ON weather.icao_code = airports.icao_code WHERE airports.icao_code = 'KAUS' \n"
       ]
      },
      {
       "output_type": "stream",
       "stream": "stdout",
       "text": [
        "2013-10-17 00:39:51,715 INFO sqlalchemy.engine.base.Engine ()\n"
       ]
      },
      {
       "output_type": "stream",
       "stream": "stdout",
       "text": [
        " 252013-10-17 00:39:52,649 INFO sqlalchemy.engine.base.Engine SELECT weather.max_temperature as temp, weather.date AS date, airports.city AS city, airports.latitude AS lat, airports.longitude AS long FROM weather JOIN airports ON weather.icao_code = airports.icao_code WHERE airports.icao_code = 'KHOU' \n"
       ]
      },
      {
       "output_type": "stream",
       "stream": "stdout",
       "text": [
        "2013-10-17 00:39:52,650 INFO sqlalchemy.engine.base.Engine ()\n"
       ]
      },
      {
       "output_type": "stream",
       "stream": "stdout",
       "text": [
        "2013-10-17 00:39:53,574 INFO sqlalchemy.engine.base.Engine SELECT weather.cloudCover as cloud, weather.date AS date, airports.city AS city, airports.latitude AS lat, airports.longitude AS long FROM weather JOIN airports ON weather.icao_code = airports.icao_code WHERE airports.icao_code = 'KHOU' \n"
       ]
      },
      {
       "output_type": "stream",
       "stream": "stdout",
       "text": [
        "2013-10-17 00:39:53,574 INFO sqlalchemy.engine.base.Engine ()\n"
       ]
      },
      {
       "output_type": "stream",
       "stream": "stdout",
       "text": [
        " 262013-10-17 00:39:54,515 INFO sqlalchemy.engine.base.Engine SELECT weather.max_temperature as temp, weather.date AS date, airports.city AS city, airports.latitude AS lat, airports.longitude AS long FROM weather JOIN airports ON weather.icao_code = airports.icao_code WHERE airports.icao_code = 'KSTL' \n"
       ]
      },
      {
       "output_type": "stream",
       "stream": "stdout",
       "text": [
        "2013-10-17 00:39:54,515 INFO sqlalchemy.engine.base.Engine ()\n"
       ]
      },
      {
       "output_type": "stream",
       "stream": "stdout",
       "text": [
        "2013-10-17 00:39:55,462 INFO sqlalchemy.engine.base.Engine SELECT weather.cloudCover as cloud, weather.date AS date, airports.city AS city, airports.latitude AS lat, airports.longitude AS long FROM weather JOIN airports ON weather.icao_code = airports.icao_code WHERE airports.icao_code = 'KSTL' \n"
       ]
      },
      {
       "output_type": "stream",
       "stream": "stdout",
       "text": [
        "2013-10-17 00:39:55,462 INFO sqlalchemy.engine.base.Engine ()\n"
       ]
      },
      {
       "output_type": "stream",
       "stream": "stdout",
       "text": [
        " 272013-10-17 00:39:56,394 INFO sqlalchemy.engine.base.Engine SELECT weather.max_temperature as temp, weather.date AS date, airports.city AS city, airports.latitude AS lat, airports.longitude AS long FROM weather JOIN airports ON weather.icao_code = airports.icao_code WHERE airports.icao_code = 'KSAN' \n"
       ]
      },
      {
       "output_type": "stream",
       "stream": "stdout",
       "text": [
        "2013-10-17 00:39:56,395 INFO sqlalchemy.engine.base.Engine ()\n"
       ]
      },
      {
       "output_type": "stream",
       "stream": "stdout",
       "text": [
        "2013-10-17 00:39:57,291 INFO sqlalchemy.engine.base.Engine SELECT weather.cloudCover as cloud, weather.date AS date, airports.city AS city, airports.latitude AS lat, airports.longitude AS long FROM weather JOIN airports ON weather.icao_code = airports.icao_code WHERE airports.icao_code = 'KSAN' \n"
       ]
      },
      {
       "output_type": "stream",
       "stream": "stdout",
       "text": [
        "2013-10-17 00:39:57,291 INFO sqlalchemy.engine.base.Engine ()\n"
       ]
      },
      {
       "output_type": "stream",
       "stream": "stdout",
       "text": [
        " 282013-10-17 00:39:58,297 INFO sqlalchemy.engine.base.Engine SELECT weather.max_temperature as temp, weather.date AS date, airports.city AS city, airports.latitude AS lat, airports.longitude AS long FROM weather JOIN airports ON weather.icao_code = airports.icao_code WHERE airports.icao_code = 'ICAO' \n"
       ]
      },
      {
       "output_type": "stream",
       "stream": "stdout",
       "text": [
        "2013-10-17 00:39:58,298 INFO sqlalchemy.engine.base.Engine ()\n"
       ]
      },
      {
       "output_type": "stream",
       "stream": "stdout",
       "text": [
        "2013-10-17 00:39:59,244 INFO sqlalchemy.engine.base.Engine SELECT weather.cloudCover as cloud, weather.date AS date, airports.city AS city, airports.latitude AS lat, airports.longitude AS long FROM weather JOIN airports ON weather.icao_code = airports.icao_code WHERE airports.icao_code = 'ICAO' \n"
       ]
      },
      {
       "output_type": "stream",
       "stream": "stdout",
       "text": [
        "2013-10-17 00:39:59,244 INFO sqlalchemy.engine.base.Engine ()\n"
       ]
      },
      {
       "output_type": "stream",
       "stream": "stdout",
       "text": [
        " 292013-10-17 00:40:00,284 INFO sqlalchemy.engine.base.Engine SELECT weather.max_temperature as temp, weather.date AS date, airports.city AS city, airports.latitude AS lat, airports.longitude AS long FROM weather JOIN airports ON weather.icao_code = airports.icao_code WHERE airports.icao_code = 'KMSP' \n"
       ]
      },
      {
       "output_type": "stream",
       "stream": "stdout",
       "text": [
        "2013-10-17 00:40:00,285 INFO sqlalchemy.engine.base.Engine ()\n"
       ]
      },
      {
       "output_type": "stream",
       "stream": "stdout",
       "text": [
        "2013-10-17 00:40:01,292 INFO sqlalchemy.engine.base.Engine SELECT weather.cloudCover as cloud, weather.date AS date, airports.city AS city, airports.latitude AS lat, airports.longitude AS long FROM weather JOIN airports ON weather.icao_code = airports.icao_code WHERE airports.icao_code = 'KMSP' \n"
       ]
      },
      {
       "output_type": "stream",
       "stream": "stdout",
       "text": [
        "2013-10-17 00:40:01,293 INFO sqlalchemy.engine.base.Engine ()\n"
       ]
      },
      {
       "output_type": "stream",
       "stream": "stdout",
       "text": [
        " 302013-10-17 00:40:02,278 INFO sqlalchemy.engine.base.Engine SELECT weather.max_temperature as temp, weather.date AS date, airports.city AS city, airports.latitude AS lat, airports.longitude AS long FROM weather JOIN airports ON weather.icao_code = airports.icao_code WHERE airports.icao_code = 'KMDW' \n"
       ]
      },
      {
       "output_type": "stream",
       "stream": "stdout",
       "text": [
        "2013-10-17 00:40:02,279 INFO sqlalchemy.engine.base.Engine ()\n"
       ]
      },
      {
       "output_type": "stream",
       "stream": "stdout",
       "text": [
        "2013-10-17 00:40:03,284 INFO sqlalchemy.engine.base.Engine SELECT weather.cloudCover as cloud, weather.date AS date, airports.city AS city, airports.latitude AS lat, airports.longitude AS long FROM weather JOIN airports ON weather.icao_code = airports.icao_code WHERE airports.icao_code = 'KMDW' \n"
       ]
      },
      {
       "output_type": "stream",
       "stream": "stdout",
       "text": [
        "2013-10-17 00:40:03,285 INFO sqlalchemy.engine.base.Engine ()\n"
       ]
      },
      {
       "output_type": "stream",
       "stream": "stdout",
       "text": [
        " 312013-10-17 00:40:04,297 INFO sqlalchemy.engine.base.Engine SELECT weather.max_temperature as temp, weather.date AS date, airports.city AS city, airports.latitude AS lat, airports.longitude AS long FROM weather JOIN airports ON weather.icao_code = airports.icao_code WHERE airports.icao_code = 'KSAT' \n"
       ]
      },
      {
       "output_type": "stream",
       "stream": "stdout",
       "text": [
        "2013-10-17 00:40:04,298 INFO sqlalchemy.engine.base.Engine ()\n"
       ]
      },
      {
       "output_type": "stream",
       "stream": "stdout",
       "text": [
        "2013-10-17 00:40:05,270 INFO sqlalchemy.engine.base.Engine SELECT weather.cloudCover as cloud, weather.date AS date, airports.city AS city, airports.latitude AS lat, airports.longitude AS long FROM weather JOIN airports ON weather.icao_code = airports.icao_code WHERE airports.icao_code = 'KSAT' \n"
       ]
      },
      {
       "output_type": "stream",
       "stream": "stdout",
       "text": [
        "2013-10-17 00:40:05,270 INFO sqlalchemy.engine.base.Engine ()\n"
       ]
      },
      {
       "output_type": "stream",
       "stream": "stdout",
       "text": [
        " 322013-10-17 00:40:06,350 INFO sqlalchemy.engine.base.Engine SELECT weather.max_temperature as temp, weather.date AS date, airports.city AS city, airports.latitude AS lat, airports.longitude AS long FROM weather JOIN airports ON weather.icao_code = airports.icao_code WHERE airports.icao_code = 'KMSY' \n"
       ]
      },
      {
       "output_type": "stream",
       "stream": "stdout",
       "text": [
        "2013-10-17 00:40:06,351 INFO sqlalchemy.engine.base.Engine ()\n"
       ]
      },
      {
       "output_type": "stream",
       "stream": "stdout",
       "text": [
        "2013-10-17 00:40:07,309 INFO sqlalchemy.engine.base.Engine SELECT weather.cloudCover as cloud, weather.date AS date, airports.city AS city, airports.latitude AS lat, airports.longitude AS long FROM weather JOIN airports ON weather.icao_code = airports.icao_code WHERE airports.icao_code = 'KMSY' \n"
       ]
      },
      {
       "output_type": "stream",
       "stream": "stdout",
       "text": [
        "2013-10-17 00:40:07,309 INFO sqlalchemy.engine.base.Engine ()\n"
       ]
      },
      {
       "output_type": "stream",
       "stream": "stdout",
       "text": [
        " 332013-10-17 00:40:08,371 INFO sqlalchemy.engine.base.Engine SELECT weather.max_temperature as temp, weather.date AS date, airports.city AS city, airports.latitude AS lat, airports.longitude AS long FROM weather JOIN airports ON weather.icao_code = airports.icao_code WHERE airports.icao_code = 'KJFK' \n"
       ]
      },
      {
       "output_type": "stream",
       "stream": "stdout",
       "text": [
        "2013-10-17 00:40:08,372 INFO sqlalchemy.engine.base.Engine ()\n"
       ]
      },
      {
       "output_type": "stream",
       "stream": "stdout",
       "text": [
        "2013-10-17 00:40:09,410 INFO sqlalchemy.engine.base.Engine SELECT weather.cloudCover as cloud, weather.date AS date, airports.city AS city, airports.latitude AS lat, airports.longitude AS long FROM weather JOIN airports ON weather.icao_code = airports.icao_code WHERE airports.icao_code = 'KJFK' \n"
       ]
      },
      {
       "output_type": "stream",
       "stream": "stdout",
       "text": [
        "2013-10-17 00:40:09,411 INFO sqlalchemy.engine.base.Engine ()\n"
       ]
      },
      {
       "output_type": "stream",
       "stream": "stdout",
       "text": [
        " 342013-10-17 00:40:10,473 INFO sqlalchemy.engine.base.Engine SELECT weather.max_temperature as temp, weather.date AS date, airports.city AS city, airports.latitude AS lat, airports.longitude AS long FROM weather JOIN airports ON weather.icao_code = airports.icao_code WHERE airports.icao_code = 'TJSJ' \n"
       ]
      },
      {
       "output_type": "stream",
       "stream": "stdout",
       "text": [
        "2013-10-17 00:40:10,474 INFO sqlalchemy.engine.base.Engine ()\n"
       ]
      },
      {
       "output_type": "stream",
       "stream": "stdout",
       "text": [
        "2013-10-17 00:40:11,395 INFO sqlalchemy.engine.base.Engine SELECT weather.cloudCover as cloud, weather.date AS date, airports.city AS city, airports.latitude AS lat, airports.longitude AS long FROM weather JOIN airports ON weather.icao_code = airports.icao_code WHERE airports.icao_code = 'TJSJ' \n"
       ]
      },
      {
       "output_type": "stream",
       "stream": "stdout",
       "text": [
        "2013-10-17 00:40:11,396 INFO sqlalchemy.engine.base.Engine ()\n"
       ]
      },
      {
       "output_type": "stream",
       "stream": "stdout",
       "text": [
        " 352013-10-17 00:40:12,365 INFO sqlalchemy.engine.base.Engine SELECT weather.max_temperature as temp, weather.date AS date, airports.city AS city, airports.latitude AS lat, airports.longitude AS long FROM weather JOIN airports ON weather.icao_code = airports.icao_code WHERE airports.icao_code = 'KPIT' \n"
       ]
      },
      {
       "output_type": "stream",
       "stream": "stdout",
       "text": [
        "2013-10-17 00:40:12,366 INFO sqlalchemy.engine.base.Engine ()\n"
       ]
      },
      {
       "output_type": "stream",
       "stream": "stdout",
       "text": [
        "2013-10-17 00:40:13,438 INFO sqlalchemy.engine.base.Engine SELECT weather.cloudCover as cloud, weather.date AS date, airports.city AS city, airports.latitude AS lat, airports.longitude AS long FROM weather JOIN airports ON weather.icao_code = airports.icao_code WHERE airports.icao_code = 'KPIT' \n"
       ]
      },
      {
       "output_type": "stream",
       "stream": "stdout",
       "text": [
        "2013-10-17 00:40:13,439 INFO sqlalchemy.engine.base.Engine ()\n"
       ]
      },
      {
       "output_type": "stream",
       "stream": "stdout",
       "text": [
        " 362013-10-17 00:40:14,442 INFO sqlalchemy.engine.base.Engine SELECT weather.max_temperature as temp, weather.date AS date, airports.city AS city, airports.latitude AS lat, airports.longitude AS long FROM weather JOIN airports ON weather.icao_code = airports.icao_code WHERE airports.icao_code = 'KMIA' \n"
       ]
      },
      {
       "output_type": "stream",
       "stream": "stdout",
       "text": [
        "2013-10-17 00:40:14,443 INFO sqlalchemy.engine.base.Engine ()\n"
       ]
      },
      {
       "output_type": "stream",
       "stream": "stdout",
       "text": [
        "2013-10-17 00:40:15,498 INFO sqlalchemy.engine.base.Engine SELECT weather.cloudCover as cloud, weather.date AS date, airports.city AS city, airports.latitude AS lat, airports.longitude AS long FROM weather JOIN airports ON weather.icao_code = airports.icao_code WHERE airports.icao_code = 'KMIA' \n"
       ]
      },
      {
       "output_type": "stream",
       "stream": "stdout",
       "text": [
        "2013-10-17 00:40:15,499 INFO sqlalchemy.engine.base.Engine ()\n"
       ]
      },
      {
       "output_type": "stream",
       "stream": "stdout",
       "text": [
        " 372013-10-17 00:40:16,577 INFO sqlalchemy.engine.base.Engine SELECT weather.max_temperature as temp, weather.date AS date, airports.city AS city, airports.latitude AS lat, airports.longitude AS long FROM weather JOIN airports ON weather.icao_code = airports.icao_code WHERE airports.icao_code = 'KIAH' \n"
       ]
      },
      {
       "output_type": "stream",
       "stream": "stdout",
       "text": [
        "2013-10-17 00:40:16,577 INFO sqlalchemy.engine.base.Engine ()\n"
       ]
      },
      {
       "output_type": "stream",
       "stream": "stdout",
       "text": [
        "2013-10-17 00:40:17,630 INFO sqlalchemy.engine.base.Engine SELECT weather.cloudCover as cloud, weather.date AS date, airports.city AS city, airports.latitude AS lat, airports.longitude AS long FROM weather JOIN airports ON weather.icao_code = airports.icao_code WHERE airports.icao_code = 'KIAH' \n"
       ]
      },
      {
       "output_type": "stream",
       "stream": "stdout",
       "text": [
        "2013-10-17 00:40:17,631 INFO sqlalchemy.engine.base.Engine ()\n"
       ]
      },
      {
       "output_type": "stream",
       "stream": "stdout",
       "text": [
        " 382013-10-17 00:40:18,689 INFO sqlalchemy.engine.base.Engine SELECT weather.max_temperature as temp, weather.date AS date, airports.city AS city, airports.latitude AS lat, airports.longitude AS long FROM weather JOIN airports ON weather.icao_code = airports.icao_code WHERE airports.icao_code = 'KDFW' \n"
       ]
      },
      {
       "output_type": "stream",
       "stream": "stdout",
       "text": [
        "2013-10-17 00:40:18,689 INFO sqlalchemy.engine.base.Engine ()\n"
       ]
      },
      {
       "output_type": "stream",
       "stream": "stdout",
       "text": [
        "2013-10-17 00:40:19,782 INFO sqlalchemy.engine.base.Engine SELECT weather.cloudCover as cloud, weather.date AS date, airports.city AS city, airports.latitude AS lat, airports.longitude AS long FROM weather JOIN airports ON weather.icao_code = airports.icao_code WHERE airports.icao_code = 'KDFW' \n"
       ]
      },
      {
       "output_type": "stream",
       "stream": "stdout",
       "text": [
        "2013-10-17 00:40:19,783 INFO sqlalchemy.engine.base.Engine ()\n"
       ]
      },
      {
       "output_type": "stream",
       "stream": "stdout",
       "text": [
        " 392013-10-17 00:40:20,906 INFO sqlalchemy.engine.base.Engine SELECT weather.max_temperature as temp, weather.date AS date, airports.city AS city, airports.latitude AS lat, airports.longitude AS long FROM weather JOIN airports ON weather.icao_code = airports.icao_code WHERE airports.icao_code = 'KIAD' \n"
       ]
      },
      {
       "output_type": "stream",
       "stream": "stdout",
       "text": [
        "2013-10-17 00:40:20,907 INFO sqlalchemy.engine.base.Engine ()\n"
       ]
      },
      {
       "output_type": "stream",
       "stream": "stdout",
       "text": [
        "2013-10-17 00:40:22,014 INFO sqlalchemy.engine.base.Engine SELECT weather.cloudCover as cloud, weather.date AS date, airports.city AS city, airports.latitude AS lat, airports.longitude AS long FROM weather JOIN airports ON weather.icao_code = airports.icao_code WHERE airports.icao_code = 'KIAD' \n"
       ]
      },
      {
       "output_type": "stream",
       "stream": "stdout",
       "text": [
        "2013-10-17 00:40:22,015 INFO sqlalchemy.engine.base.Engine ()\n"
       ]
      },
      {
       "output_type": "stream",
       "stream": "stdout",
       "text": [
        " 402013-10-17 00:40:23,156 INFO sqlalchemy.engine.base.Engine SELECT weather.max_temperature as temp, weather.date AS date, airports.city AS city, airports.latitude AS lat, airports.longitude AS long FROM weather JOIN airports ON weather.icao_code = airports.icao_code WHERE airports.icao_code = 'KCLT' \n"
       ]
      },
      {
       "output_type": "stream",
       "stream": "stdout",
       "text": [
        "2013-10-17 00:40:23,157 INFO sqlalchemy.engine.base.Engine ()\n"
       ]
      },
      {
       "output_type": "stream",
       "stream": "stdout",
       "text": [
        "2013-10-17 00:40:24,151 INFO sqlalchemy.engine.base.Engine SELECT weather.cloudCover as cloud, weather.date AS date, airports.city AS city, airports.latitude AS lat, airports.longitude AS long FROM weather JOIN airports ON weather.icao_code = airports.icao_code WHERE airports.icao_code = 'KCLT' \n"
       ]
      },
      {
       "output_type": "stream",
       "stream": "stdout",
       "text": [
        "2013-10-17 00:40:24,154 INFO sqlalchemy.engine.base.Engine ()\n"
       ]
      },
      {
       "output_type": "stream",
       "stream": "stdout",
       "text": [
        " 412013-10-17 00:40:25,153 INFO sqlalchemy.engine.base.Engine SELECT weather.max_temperature as temp, weather.date AS date, airports.city AS city, airports.latitude AS lat, airports.longitude AS long FROM weather JOIN airports ON weather.icao_code = airports.icao_code WHERE airports.icao_code = 'KBNA' \n"
       ]
      },
      {
       "output_type": "stream",
       "stream": "stdout",
       "text": [
        "2013-10-17 00:40:25,154 INFO sqlalchemy.engine.base.Engine ()\n"
       ]
      },
      {
       "output_type": "stream",
       "stream": "stdout",
       "text": [
        "2013-10-17 00:40:26,068 INFO sqlalchemy.engine.base.Engine SELECT weather.cloudCover as cloud, weather.date AS date, airports.city AS city, airports.latitude AS lat, airports.longitude AS long FROM weather JOIN airports ON weather.icao_code = airports.icao_code WHERE airports.icao_code = 'KBNA' \n"
       ]
      },
      {
       "output_type": "stream",
       "stream": "stdout",
       "text": [
        "2013-10-17 00:40:26,068 INFO sqlalchemy.engine.base.Engine ()\n"
       ]
      },
      {
       "output_type": "stream",
       "stream": "stdout",
       "text": [
        " 422013-10-17 00:40:27,010 INFO sqlalchemy.engine.base.Engine SELECT weather.max_temperature as temp, weather.date AS date, airports.city AS city, airports.latitude AS lat, airports.longitude AS long FROM weather JOIN airports ON weather.icao_code = airports.icao_code WHERE airports.icao_code = 'KTPA' \n"
       ]
      },
      {
       "output_type": "stream",
       "stream": "stdout",
       "text": [
        "2013-10-17 00:40:27,011 INFO sqlalchemy.engine.base.Engine ()\n"
       ]
      },
      {
       "output_type": "stream",
       "stream": "stdout",
       "text": [
        "2013-10-17 00:40:27,923 INFO sqlalchemy.engine.base.Engine SELECT weather.cloudCover as cloud, weather.date AS date, airports.city AS city, airports.latitude AS lat, airports.longitude AS long FROM weather JOIN airports ON weather.icao_code = airports.icao_code WHERE airports.icao_code = 'KTPA' \n"
       ]
      },
      {
       "output_type": "stream",
       "stream": "stdout",
       "text": [
        "2013-10-17 00:40:27,924 INFO sqlalchemy.engine.base.Engine ()\n"
       ]
      },
      {
       "output_type": "stream",
       "stream": "stdout",
       "text": [
        " 432013-10-17 00:40:28,863 INFO sqlalchemy.engine.base.Engine SELECT weather.max_temperature as temp, weather.date AS date, airports.city AS city, airports.latitude AS lat, airports.longitude AS long FROM weather JOIN airports ON weather.icao_code = airports.icao_code WHERE airports.icao_code = 'KSMF' \n"
       ]
      },
      {
       "output_type": "stream",
       "stream": "stdout",
       "text": [
        "2013-10-17 00:40:28,863 INFO sqlalchemy.engine.base.Engine ()\n"
       ]
      },
      {
       "output_type": "stream",
       "stream": "stdout",
       "text": [
        "2013-10-17 00:40:29,765 INFO sqlalchemy.engine.base.Engine SELECT weather.cloudCover as cloud, weather.date AS date, airports.city AS city, airports.latitude AS lat, airports.longitude AS long FROM weather JOIN airports ON weather.icao_code = airports.icao_code WHERE airports.icao_code = 'KSMF' \n"
       ]
      },
      {
       "output_type": "stream",
       "stream": "stdout",
       "text": [
        "2013-10-17 00:40:29,765 INFO sqlalchemy.engine.base.Engine ()\n"
       ]
      },
      {
       "output_type": "stream",
       "stream": "stdout",
       "text": [
        " 442013-10-17 00:40:30,745 INFO sqlalchemy.engine.base.Engine SELECT weather.max_temperature as temp, weather.date AS date, airports.city AS city, airports.latitude AS lat, airports.longitude AS long FROM weather JOIN airports ON weather.icao_code = airports.icao_code WHERE airports.icao_code = 'KSJC' \n"
       ]
      },
      {
       "output_type": "stream",
       "stream": "stdout",
       "text": [
        "2013-10-17 00:40:30,746 INFO sqlalchemy.engine.base.Engine ()\n"
       ]
      },
      {
       "output_type": "stream",
       "stream": "stdout",
       "text": [
        "2013-10-17 00:40:31,785 INFO sqlalchemy.engine.base.Engine SELECT weather.cloudCover as cloud, weather.date AS date, airports.city AS city, airports.latitude AS lat, airports.longitude AS long FROM weather JOIN airports ON weather.icao_code = airports.icao_code WHERE airports.icao_code = 'KSJC' \n"
       ]
      },
      {
       "output_type": "stream",
       "stream": "stdout",
       "text": [
        "2013-10-17 00:40:31,786 INFO sqlalchemy.engine.base.Engine ()\n"
       ]
      },
      {
       "output_type": "stream",
       "stream": "stdout",
       "text": [
        " 452013-10-17 00:40:32,714 INFO sqlalchemy.engine.base.Engine SELECT weather.max_temperature as temp, weather.date AS date, airports.city AS city, airports.latitude AS lat, airports.longitude AS long FROM weather JOIN airports ON weather.icao_code = airports.icao_code WHERE airports.icao_code = 'KBWI' \n"
       ]
      },
      {
       "output_type": "stream",
       "stream": "stdout",
       "text": [
        "2013-10-17 00:40:32,715 INFO sqlalchemy.engine.base.Engine ()\n"
       ]
      },
      {
       "output_type": "stream",
       "stream": "stdout",
       "text": [
        "2013-10-17 00:40:33,626 INFO sqlalchemy.engine.base.Engine SELECT weather.cloudCover as cloud, weather.date AS date, airports.city AS city, airports.latitude AS lat, airports.longitude AS long FROM weather JOIN airports ON weather.icao_code = airports.icao_code WHERE airports.icao_code = 'KBWI' \n"
       ]
      },
      {
       "output_type": "stream",
       "stream": "stdout",
       "text": [
        "2013-10-17 00:40:33,627 INFO sqlalchemy.engine.base.Engine ()\n"
       ]
      },
      {
       "output_type": "stream",
       "stream": "stdout",
       "text": [
        " 462013-10-17 00:40:34,556 INFO sqlalchemy.engine.base.Engine SELECT weather.max_temperature as temp, weather.date AS date, airports.city AS city, airports.latitude AS lat, airports.longitude AS long FROM weather JOIN airports ON weather.icao_code = airports.icao_code WHERE airports.icao_code = 'KSNA' \n"
       ]
      },
      {
       "output_type": "stream",
       "stream": "stdout",
       "text": [
        "2013-10-17 00:40:34,557 INFO sqlalchemy.engine.base.Engine ()\n"
       ]
      },
      {
       "output_type": "stream",
       "stream": "stdout",
       "text": [
        "2013-10-17 00:40:35,457 INFO sqlalchemy.engine.base.Engine SELECT weather.cloudCover as cloud, weather.date AS date, airports.city AS city, airports.latitude AS lat, airports.longitude AS long FROM weather JOIN airports ON weather.icao_code = airports.icao_code WHERE airports.icao_code = 'KSNA' \n"
       ]
      },
      {
       "output_type": "stream",
       "stream": "stdout",
       "text": [
        "2013-10-17 00:40:35,457 INFO sqlalchemy.engine.base.Engine ()\n"
       ]
      },
      {
       "output_type": "stream",
       "stream": "stdout",
       "text": [
        " 472013-10-17 00:40:36,383 INFO sqlalchemy.engine.base.Engine SELECT weather.max_temperature as temp, weather.date AS date, airports.city AS city, airports.latitude AS lat, airports.longitude AS long FROM weather JOIN airports ON weather.icao_code = airports.icao_code WHERE airports.icao_code = 'PHNL' \n"
       ]
      },
      {
       "output_type": "stream",
       "stream": "stdout",
       "text": [
        "2013-10-17 00:40:36,383 INFO sqlalchemy.engine.base.Engine ()\n"
       ]
      },
      {
       "output_type": "stream",
       "stream": "stdout",
       "text": [
        "2013-10-17 00:40:37,287 INFO sqlalchemy.engine.base.Engine SELECT weather.cloudCover as cloud, weather.date AS date, airports.city AS city, airports.latitude AS lat, airports.longitude AS long FROM weather JOIN airports ON weather.icao_code = airports.icao_code WHERE airports.icao_code = 'PHNL' \n"
       ]
      },
      {
       "output_type": "stream",
       "stream": "stdout",
       "text": [
        "2013-10-17 00:40:37,288 INFO sqlalchemy.engine.base.Engine ()\n"
       ]
      },
      {
       "output_type": "stream",
       "stream": "stdout",
       "text": [
        " 482013-10-17 00:40:38,202 INFO sqlalchemy.engine.base.Engine SELECT weather.max_temperature as temp, weather.date AS date, airports.city AS city, airports.latitude AS lat, airports.longitude AS long FROM weather JOIN airports ON weather.icao_code = airports.icao_code WHERE airports.icao_code = 'KSFO' \n"
       ]
      },
      {
       "output_type": "stream",
       "stream": "stdout",
       "text": [
        "2013-10-17 00:40:38,202 INFO sqlalchemy.engine.base.Engine ()\n"
       ]
      },
      {
       "output_type": "stream",
       "stream": "stdout",
       "text": [
        "2013-10-17 00:40:39,092 INFO sqlalchemy.engine.base.Engine SELECT weather.cloudCover as cloud, weather.date AS date, airports.city AS city, airports.latitude AS lat, airports.longitude AS long FROM weather JOIN airports ON weather.icao_code = airports.icao_code WHERE airports.icao_code = 'KSFO' \n"
       ]
      },
      {
       "output_type": "stream",
       "stream": "stdout",
       "text": [
        "2013-10-17 00:40:39,092 INFO sqlalchemy.engine.base.Engine ()\n"
       ]
      },
      {
       "output_type": "stream",
       "stream": "stdout",
       "text": [
        " 492013-10-17 00:40:40,050 INFO sqlalchemy.engine.base.Engine SELECT weather.max_temperature as temp, weather.date AS date, airports.city AS city, airports.latitude AS lat, airports.longitude AS long FROM weather JOIN airports ON weather.icao_code = airports.icao_code WHERE airports.icao_code = 'KCLE' \n"
       ]
      },
      {
       "output_type": "stream",
       "stream": "stdout",
       "text": [
        "2013-10-17 00:40:40,051 INFO sqlalchemy.engine.base.Engine ()\n"
       ]
      },
      {
       "output_type": "stream",
       "stream": "stdout",
       "text": [
        "2013-10-17 00:40:40,952 INFO sqlalchemy.engine.base.Engine SELECT weather.cloudCover as cloud, weather.date AS date, airports.city AS city, airports.latitude AS lat, airports.longitude AS long FROM weather JOIN airports ON weather.icao_code = airports.icao_code WHERE airports.icao_code = 'KCLE' \n"
       ]
      },
      {
       "output_type": "stream",
       "stream": "stdout",
       "text": [
        "2013-10-17 00:40:40,953 INFO sqlalchemy.engine.base.Engine ()\n"
       ]
      },
      {
       "output_type": "stream",
       "stream": "stdout",
       "text": [
        " 50\n"
       ]
      }
     ],
     "prompt_number": 10
    },
    {
     "cell_type": "markdown",
     "metadata": {},
     "source": [
      "## Generate correlation matrices"
     ]
    },
    {
     "cell_type": "code",
     "collapsed": false,
     "input": [
      "# Generate full correlation matrices\n",
      "N = len(airport_keys)\n",
      "#N = 5\n",
      "\n",
      "# Allocate Correlation matrices for max temperature and cloud cover for 1,3,&7 day differences\n",
      "Ctemp_1 = np.nan * np.ones([N,N])\n",
      "Ctemp_3 = np.nan * np.ones([N,N])\n",
      "Ctemp_7 = np.nan * np.ones([N,N])\n",
      "Ccloud_1 = np.nan * np.ones([N,N])\n",
      "Ccloud_3 = np.nan * np.ones([N,N])\n",
      "Ccloud_7 = np.nan * np.ones([N,N])\n",
      "\n",
      "# Generate Correlation matrices using\n",
      "for idx_loc1 in np.arange(N): # location for weather at 0 days\n",
      "    for idx_loc2 in np.arange(N): # location to be shifted to n days later\n",
      "        \n",
      "        # Do not calculate correlation between identical locations\n",
      "        if not idx_loc1 == idx_loc2:\n",
      "\n",
      "            # reference by ICAO code\n",
      "            #icao1 = airport_keys[idx_loc1]; icao2 = airport_keys[idx_loc2]\n",
      "        \n",
      "            # Query database for relevant data and convert to arrays ( was very slow)\n",
      "            #temp_1 = query2Array( engine.execute(sql_maxT_cmd.format(icao1) ) )\n",
      "            #temp_2 = query2Array( engine.execute(sql_maxT_cmd.format(icao2) ) )\n",
      "            #cloud_1 = query2Array( engine.execute(sql_cloud_cmd.format(icao1) ) )\n",
      "            #cloud_2 = query2Array( engine.execute(sql_cloud_cmd.format(icao2) ) )\n",
      "            \n",
      "            # access data saved from the query\n",
      "            temp_1 = temp_arrays[idx_loc1]\n",
      "            temp_2 = temp_arrays[idx_loc2]\n",
      "            cloud_1 = cloud_arrays[idx_loc1]\n",
      "            cloud_2 = cloud_arrays[idx_loc2]\n",
      "            \n",
      "            # shift values and ignore any pair or dates wherere either dataset has a NaN\n",
      "            temp_shift1 = np.vstack((temp_2[1:],temp_1[:-1])).transpose()\n",
      "            temp_shift3 = np.vstack((temp_2[3:],temp_1[:-3])).transpose()\n",
      "            temp_shift7 = np.vstack((temp_2[7:],temp_1[:-7])).transpose()\n",
      "            temp_shift1 = temp_shift1[~np.isnan(temp_shift1).any(1)].transpose()\n",
      "            temp_shift3 = temp_shift3[~np.isnan(temp_shift3).any(1)].transpose()\n",
      "            temp_shift7 = temp_shift7[~np.isnan(temp_shift7).any(1)].transpose()\n",
      "\n",
      "            cloud_shift1 = np.vstack((cloud_2[1:],cloud_1[:-1])).transpose()\n",
      "            cloud_shift3 = np.vstack((cloud_2[3:],cloud_1[:-3])).transpose()\n",
      "            cloud_shift7 = np.vstack((cloud_2[7:],cloud_1[:-7])).transpose()\n",
      "            cloud_shift1 = cloud_shift1[~np.isnan(cloud_shift1).any(1)].transpose()\n",
      "            cloud_shift3 = cloud_shift3[~np.isnan(cloud_shift3).any(1)].transpose()\n",
      "            cloud_shift7 = cloud_shift7[~np.isnan(cloud_shift7).any(1)].transpose()\n",
      "            \n",
      "            # Store correlation of max temperature between pairs of airports\n",
      "            Ctemp_1[idx_loc1,idx_loc2] = pearsonr(temp_shift1[0,:],temp_shift1[1,:])[0]\n",
      "            Ctemp_3[idx_loc1,idx_loc2] = pearsonr(temp_shift3[0,:],temp_shift3[1,:])[0]\n",
      "            Ctemp_7[idx_loc1,idx_loc2] = pearsonr(temp_shift7[0,:],temp_shift7[1,:])[0]\n",
      "        \n",
      "            # Store correlation of max temperature between pairs of airports\n",
      "            Ccloud_1[idx_loc1,idx_loc2] = pearsonr(cloud_shift1[0,:],cloud_shift1[1,:])[0]\n",
      "            Ccloud_3[idx_loc1,idx_loc2] = pearsonr(cloud_shift3[0,:],cloud_shift3[1,:])[0]\n",
      "            Ccloud_7[idx_loc1,idx_loc2] = pearsonr(cloud_shift7[0,:],cloud_shift7[1,:])[0]\n",
      "        "
     ],
     "language": "python",
     "metadata": {},
     "outputs": [
      {
       "output_type": "stream",
       "stream": "stderr",
       "text": [
        "/Users/swahl/anaconda/python.app/Contents/lib/python2.7/site-packages/numpy/core/_methods.py:57: RuntimeWarning: invalid value encountered in double_scalars\n",
        "  ret = ret / float(rcount)\n",
        "/Users/swahl/anaconda/python.app/Contents/lib/python2.7/site-packages/scipy/stats/stats.py:2417: RuntimeWarning: invalid value encountered in double_scalars\n",
        "  r = (r_num / r_den)\n"
       ]
      }
     ],
     "prompt_number": 11
    },
    {
     "cell_type": "markdown",
     "metadata": {},
     "source": [
      "## Select highest correlated pairs"
     ]
    },
    {
     "cell_type": "code",
     "collapsed": false,
     "input": [
      "import scipy.stats.mstats as mstats\n",
      "\n",
      "def topIndices(matrix,n):\n",
      "    '''Return indices of the top n highest values from a 2darray'''\n",
      "    # Rank matrix while masking NaNs\n",
      "    ranked = mstats.rankdata(np.ma.masked_invalid(matrix))\n",
      "    \n",
      "    x, y = np.unravel_index(np.argsort(ranked, axis=None), matrix.shape)\n",
      "    # Zip together the x and y indices and re-order them from largest to smallest.\n",
      "    indices = zip(x, y)[::-1]\n",
      "    values = [ matrix[i,j] for i,j in indices ]\n",
      "    return indices[:n], values[:n]\n",
      "\n",
      "# store indicies and values of best correlated pairs (tuples with lists of indices and values)\n",
      "top_Ctemp_1 = topIndices(Ctemp_1,10)\n",
      "top_Ctemp_3 = topIndices(Ctemp_3,10)\n",
      "top_Ctemp_7 = topIndices(Ctemp_7,10)\n",
      "top_Ccloud_1 = topIndices(Ccloud_1,10)\n",
      "top_Ccloud_3 = topIndices(Ccloud_3,10)\n",
      "top_Ccloud_7 = topIndices(Ccloud_7,10)\n",
      "\n"
     ],
     "language": "python",
     "metadata": {},
     "outputs": [],
     "prompt_number": 12
    },
    {
     "cell_type": "code",
     "collapsed": false,
     "input": [
      "# haversine formula for conversion from:\n",
      "# http://stackoverflow.com/questions/4913349/haversine-formula-in-python-bearing-and-distance-between-two-gps-points\n",
      "from math import radians, cos, sin, asin, sqrt\n",
      "\n",
      "sql_coords=\"SELECT airports.latitude AS lat, airports.longitude AS long \\\n",
      "From airports WHERE airports.icao_code = '{}' \"\n",
      "\n",
      "def haversine( coord1, coord2):\n",
      "    \"\"\"\n",
      "    Calculate the great circle distance between two points \n",
      "    on the earth (specified in decimal degrees)\n",
      "    \"\"\"\n",
      "    # convert decimal degrees to radians \n",
      "    lon1, lat1, lon2, lat2 = map(radians, [coord1[1],coord1[0],coord2[1],coord2[0]])\n",
      "    # haversine formula \n",
      "    dlon = lon2 - lon1 \n",
      "    dlat = lat2 - lat1 \n",
      "    a = sin(dlat/2)**2 + cos(lat1) * cos(lat2) * sin(dlon/2)**2\n",
      "    c = 2 * asin(sqrt(a)) \n",
      "    km = 6367 * c\n",
      "    return km \n",
      "\n",
      "# store coordinates from each airport\n",
      "airport_coords = []\n",
      "i = 0\n",
      "for icao in airport_keys:\n",
      "    result = engine.execute(sql_coords.format(icao))\n",
      "    rows = []\n",
      "    for row in result:\n",
      "        #print icao,\n",
      "        rows.append(row)\n",
      "    if len(rows) > 0:\n",
      "        airport_coords.append(rows[0])\n",
      "    else:\n",
      "        airport_coords.append(None) # Fill with none if no result to query\n",
      "     \n",
      "# find distances\n",
      "dist_Ctemp_1 =   [ haversine( airport_coords[i], airport_coords[j] ) for (i,j)  in top_Ctemp_1[0]  ]\n",
      "dist_Ctemp_3 =   [ haversine( airport_coords[i], airport_coords[j] ) for (i,j)  in top_Ctemp_3[0]  ]\n",
      "dist_Ctemp_7 =   [ haversine( airport_coords[i], airport_coords[j] ) for (i,j)  in top_Ctemp_7[0]  ]\n",
      "dist_Ccloud_1 =   [ haversine( airport_coords[i], airport_coords[j] ) for (i,j)  in top_Ccloud_1[0]  ]\n",
      "dist_Ccloud_3 =   [ haversine( airport_coords[i], airport_coords[j] ) for (i,j)  in top_Ccloud_3[0]  ]\n",
      "dist_Ccloud_7 =   [ haversine( airport_coords[i], airport_coords[j] ) for (i,j)  in top_Ccloud_7[0]  ]\n",
      "\n",
      "# find differences in lati\n",
      "\n",
      "dlong_Ctemp_1 =   [ abs(airport_coords[i][1]- airport_coords[j][1] ) for (i,j)  in top_Ctemp_1[0]  ]\n",
      "dlong_Ctemp_3 =   [ abs(airport_coords[i][1]- airport_coords[j][1] ) for (i,j)  in top_Ctemp_3[0]  ]\n",
      "dlong_Ctemp_7 =   [ abs(airport_coords[i][1]- airport_coords[j][1] ) for (i,j)  in top_Ctemp_7[0]  ]\n",
      "dlong_Ccloud_1 =  [ abs(airport_coords[i][1]- airport_coords[j][1] ) for (i,j)  in top_Ccloud_1[0]  ]\n",
      "dlong_Ccloud_3 =  [ abs(airport_coords[i][1]- airport_coords[j][1] ) for (i,j)  in top_Ccloud_3[0]  ]\n",
      "dlong_Ccloud_7 =  [ abs(airport_coords[i][1]- airport_coords[j][1] ) for (i,j)  in top_Ccloud_7[0]  ]"
     ],
     "language": "python",
     "metadata": {},
     "outputs": [
      {
       "output_type": "stream",
       "stream": "stdout",
       "text": [
        "2013-10-17 00:40:48,136 INFO sqlalchemy.engine.base.Engine SELECT airports.latitude AS lat, airports.longitude AS long From airports WHERE airports.icao_code = 'KCVG' \n"
       ]
      },
      {
       "output_type": "stream",
       "stream": "stdout",
       "text": [
        "2013-10-17 00:40:48,137 INFO sqlalchemy.engine.base.Engine ()\n"
       ]
      },
      {
       "output_type": "stream",
       "stream": "stdout",
       "text": [
        "2013-10-17 00:40:48,139 INFO sqlalchemy.engine.base.Engine SELECT airports.latitude AS lat, airports.longitude AS long From airports WHERE airports.icao_code = 'KLAS' \n"
       ]
      },
      {
       "output_type": "stream",
       "stream": "stdout",
       "text": [
        "2013-10-17 00:40:48,140 INFO sqlalchemy.engine.base.Engine ()\n"
       ]
      },
      {
       "output_type": "stream",
       "stream": "stdout",
       "text": [
        "2013-10-17 00:40:48,141 INFO sqlalchemy.engine.base.Engine SELECT airports.latitude AS lat, airports.longitude AS long From airports WHERE airports.icao_code = 'KRDU' \n"
       ]
      },
      {
       "output_type": "stream",
       "stream": "stdout",
       "text": [
        "2013-10-17 00:40:48,142 INFO sqlalchemy.engine.base.Engine ()\n"
       ]
      },
      {
       "output_type": "stream",
       "stream": "stdout",
       "text": [
        "2013-10-17 00:40:48,143 INFO sqlalchemy.engine.base.Engine SELECT airports.latitude AS lat, airports.longitude AS long From airports WHERE airports.icao_code = 'KORD' \n"
       ]
      },
      {
       "output_type": "stream",
       "stream": "stdout",
       "text": [
        "2013-10-17 00:40:48,144 INFO sqlalchemy.engine.base.Engine ()\n"
       ]
      },
      {
       "output_type": "stream",
       "stream": "stdout",
       "text": [
        "2013-10-17 00:40:48,145 INFO sqlalchemy.engine.base.Engine SELECT airports.latitude AS lat, airports.longitude AS long From airports WHERE airports.icao_code = 'KSLC' \n"
       ]
      },
      {
       "output_type": "stream",
       "stream": "stdout",
       "text": [
        "2013-10-17 00:40:48,146 INFO sqlalchemy.engine.base.Engine ()\n"
       ]
      },
      {
       "output_type": "stream",
       "stream": "stdout",
       "text": [
        "2013-10-17 00:40:48,148 INFO sqlalchemy.engine.base.Engine SELECT airports.latitude AS lat, airports.longitude AS long From airports WHERE airports.icao_code = 'KMEM' \n"
       ]
      },
      {
       "output_type": "stream",
       "stream": "stdout",
       "text": [
        "2013-10-17 00:40:48,149 INFO sqlalchemy.engine.base.Engine ()\n"
       ]
      },
      {
       "output_type": "stream",
       "stream": "stdout",
       "text": [
        "2013-10-17 00:40:48,151 INFO sqlalchemy.engine.base.Engine SELECT airports.latitude AS lat, airports.longitude AS long From airports WHERE airports.icao_code = 'KPHX' \n"
       ]
      },
      {
       "output_type": "stream",
       "stream": "stdout",
       "text": [
        "2013-10-17 00:40:48,151 INFO sqlalchemy.engine.base.Engine ()\n"
       ]
      },
      {
       "output_type": "stream",
       "stream": "stdout",
       "text": [
        "2013-10-17 00:40:48,153 INFO sqlalchemy.engine.base.Engine SELECT airports.latitude AS lat, airports.longitude AS long From airports WHERE airports.icao_code = 'KLAX' \n"
       ]
      },
      {
       "output_type": "stream",
       "stream": "stdout",
       "text": [
        "2013-10-17 00:40:48,154 INFO sqlalchemy.engine.base.Engine ()\n"
       ]
      },
      {
       "output_type": "stream",
       "stream": "stdout",
       "text": [
        "2013-10-17 00:40:48,155 INFO sqlalchemy.engine.base.Engine SELECT airports.latitude AS lat, airports.longitude AS long From airports WHERE airports.icao_code = 'KEWR' \n"
       ]
      },
      {
       "output_type": "stream",
       "stream": "stdout",
       "text": [
        "2013-10-17 00:40:48,156 INFO sqlalchemy.engine.base.Engine ()\n"
       ]
      },
      {
       "output_type": "stream",
       "stream": "stdout",
       "text": [
        "2013-10-17 00:40:48,158 INFO sqlalchemy.engine.base.Engine SELECT airports.latitude AS lat, airports.longitude AS long From airports WHERE airports.icao_code = 'KATL' \n"
       ]
      },
      {
       "output_type": "stream",
       "stream": "stdout",
       "text": [
        "2013-10-17 00:40:48,158 INFO sqlalchemy.engine.base.Engine ()\n"
       ]
      },
      {
       "output_type": "stream",
       "stream": "stdout",
       "text": [
        "2013-10-17 00:40:48,160 INFO sqlalchemy.engine.base.Engine SELECT airports.latitude AS lat, airports.longitude AS long From airports WHERE airports.icao_code = 'KPHL' \n"
       ]
      },
      {
       "output_type": "stream",
       "stream": "stdout",
       "text": [
        "2013-10-17 00:40:48,161 INFO sqlalchemy.engine.base.Engine ()\n"
       ]
      },
      {
       "output_type": "stream",
       "stream": "stdout",
       "text": [
        "2013-10-17 00:40:48,163 INFO sqlalchemy.engine.base.Engine SELECT airports.latitude AS lat, airports.longitude AS long From airports WHERE airports.icao_code = 'KMCI' \n"
       ]
      },
      {
       "output_type": "stream",
       "stream": "stdout",
       "text": [
        "2013-10-17 00:40:48,163 INFO sqlalchemy.engine.base.Engine ()\n"
       ]
      },
      {
       "output_type": "stream",
       "stream": "stdout",
       "text": [
        "2013-10-17 00:40:48,165 INFO sqlalchemy.engine.base.Engine SELECT airports.latitude AS lat, airports.longitude AS long From airports WHERE airports.icao_code = 'KPDX' \n"
       ]
      },
      {
       "output_type": "stream",
       "stream": "stdout",
       "text": [
        "2013-10-17 00:40:48,166 INFO sqlalchemy.engine.base.Engine ()\n"
       ]
      },
      {
       "output_type": "stream",
       "stream": "stdout",
       "text": [
        "2013-10-17 00:40:48,168 INFO sqlalchemy.engine.base.Engine SELECT airports.latitude AS lat, airports.longitude AS long From airports WHERE airports.icao_code = 'KMCO' \n"
       ]
      },
      {
       "output_type": "stream",
       "stream": "stdout",
       "text": [
        "2013-10-17 00:40:48,169 INFO sqlalchemy.engine.base.Engine ()\n"
       ]
      },
      {
       "output_type": "stream",
       "stream": "stdout",
       "text": [
        "2013-10-17 00:40:48,171 INFO sqlalchemy.engine.base.Engine SELECT airports.latitude AS lat, airports.longitude AS long From airports WHERE airports.icao_code = 'KLGA' \n"
       ]
      },
      {
       "output_type": "stream",
       "stream": "stdout",
       "text": [
        "2013-10-17 00:40:48,172 INFO sqlalchemy.engine.base.Engine ()\n"
       ]
      },
      {
       "output_type": "stream",
       "stream": "stdout",
       "text": [
        "2013-10-17 00:40:48,174 INFO sqlalchemy.engine.base.Engine SELECT airports.latitude AS lat, airports.longitude AS long From airports WHERE airports.icao_code = 'KDTW' \n"
       ]
      },
      {
       "output_type": "stream",
       "stream": "stdout",
       "text": [
        "2013-10-17 00:40:48,174 INFO sqlalchemy.engine.base.Engine ()\n"
       ]
      },
      {
       "output_type": "stream",
       "stream": "stdout",
       "text": [
        "2013-10-17 00:40:48,176 INFO sqlalchemy.engine.base.Engine SELECT airports.latitude AS lat, airports.longitude AS long From airports WHERE airports.icao_code = 'KFLL' \n"
       ]
      },
      {
       "output_type": "stream",
       "stream": "stdout",
       "text": [
        "2013-10-17 00:40:48,177 INFO sqlalchemy.engine.base.Engine ()\n"
       ]
      },
      {
       "output_type": "stream",
       "stream": "stdout",
       "text": [
        "2013-10-17 00:40:48,179 INFO sqlalchemy.engine.base.Engine SELECT airports.latitude AS lat, airports.longitude AS long From airports WHERE airports.icao_code = 'KBOS' \n"
       ]
      },
      {
       "output_type": "stream",
       "stream": "stdout",
       "text": [
        "2013-10-17 00:40:48,180 INFO sqlalchemy.engine.base.Engine ()\n"
       ]
      },
      {
       "output_type": "stream",
       "stream": "stdout",
       "text": [
        "2013-10-17 00:40:48,182 INFO sqlalchemy.engine.base.Engine SELECT airports.latitude AS lat, airports.longitude AS long From airports WHERE airports.icao_code = 'KMKE' \n"
       ]
      },
      {
       "output_type": "stream",
       "stream": "stdout",
       "text": [
        "2013-10-17 00:40:48,182 INFO sqlalchemy.engine.base.Engine ()\n"
       ]
      },
      {
       "output_type": "stream",
       "stream": "stdout",
       "text": [
        "2013-10-17 00:40:48,184 INFO sqlalchemy.engine.base.Engine SELECT airports.latitude AS lat, airports.longitude AS long From airports WHERE airports.icao_code = 'KOAK' \n"
       ]
      },
      {
       "output_type": "stream",
       "stream": "stdout",
       "text": [
        "2013-10-17 00:40:48,185 INFO sqlalchemy.engine.base.Engine ()\n"
       ]
      },
      {
       "output_type": "stream",
       "stream": "stdout",
       "text": [
        "2013-10-17 00:40:48,187 INFO sqlalchemy.engine.base.Engine SELECT airports.latitude AS lat, airports.longitude AS long From airports WHERE airports.icao_code = 'KDEN' \n"
       ]
      },
      {
       "output_type": "stream",
       "stream": "stdout",
       "text": [
        "2013-10-17 00:40:48,188 INFO sqlalchemy.engine.base.Engine ()\n"
       ]
      },
      {
       "output_type": "stream",
       "stream": "stdout",
       "text": [
        "2013-10-17 00:40:48,191 INFO sqlalchemy.engine.base.Engine SELECT airports.latitude AS lat, airports.longitude AS long From airports WHERE airports.icao_code = 'KSEA' \n"
       ]
      },
      {
       "output_type": "stream",
       "stream": "stdout",
       "text": [
        "2013-10-17 00:40:48,192 INFO sqlalchemy.engine.base.Engine ()\n"
       ]
      },
      {
       "output_type": "stream",
       "stream": "stdout",
       "text": [
        "2013-10-17 00:40:48,194 INFO sqlalchemy.engine.base.Engine SELECT airports.latitude AS lat, airports.longitude AS long From airports WHERE airports.icao_code = 'KIND' \n"
       ]
      },
      {
       "output_type": "stream",
       "stream": "stdout",
       "text": [
        "2013-10-17 00:40:48,195 INFO sqlalchemy.engine.base.Engine ()\n"
       ]
      },
      {
       "output_type": "stream",
       "stream": "stdout",
       "text": [
        "2013-10-17 00:40:48,197 INFO sqlalchemy.engine.base.Engine SELECT airports.latitude AS lat, airports.longitude AS long From airports WHERE airports.icao_code = 'KDCA' \n"
       ]
      },
      {
       "output_type": "stream",
       "stream": "stdout",
       "text": [
        "2013-10-17 00:40:48,198 INFO sqlalchemy.engine.base.Engine ()\n"
       ]
      },
      {
       "output_type": "stream",
       "stream": "stdout",
       "text": [
        "2013-10-17 00:40:48,199 INFO sqlalchemy.engine.base.Engine SELECT airports.latitude AS lat, airports.longitude AS long From airports WHERE airports.icao_code = 'KDAL' \n"
       ]
      },
      {
       "output_type": "stream",
       "stream": "stdout",
       "text": [
        "2013-10-17 00:40:48,201 INFO sqlalchemy.engine.base.Engine ()\n"
       ]
      },
      {
       "output_type": "stream",
       "stream": "stdout",
       "text": [
        "2013-10-17 00:40:48,202 INFO sqlalchemy.engine.base.Engine SELECT airports.latitude AS lat, airports.longitude AS long From airports WHERE airports.icao_code = 'KAUS' \n"
       ]
      },
      {
       "output_type": "stream",
       "stream": "stdout",
       "text": [
        "2013-10-17 00:40:48,203 INFO sqlalchemy.engine.base.Engine ()\n"
       ]
      },
      {
       "output_type": "stream",
       "stream": "stdout",
       "text": [
        "2013-10-17 00:40:48,205 INFO sqlalchemy.engine.base.Engine SELECT airports.latitude AS lat, airports.longitude AS long From airports WHERE airports.icao_code = 'KHOU' \n"
       ]
      },
      {
       "output_type": "stream",
       "stream": "stdout",
       "text": [
        "2013-10-17 00:40:48,206 INFO sqlalchemy.engine.base.Engine ()\n"
       ]
      },
      {
       "output_type": "stream",
       "stream": "stdout",
       "text": [
        "2013-10-17 00:40:48,208 INFO sqlalchemy.engine.base.Engine SELECT airports.latitude AS lat, airports.longitude AS long From airports WHERE airports.icao_code = 'KSTL' \n"
       ]
      },
      {
       "output_type": "stream",
       "stream": "stdout",
       "text": [
        "2013-10-17 00:40:48,208 INFO sqlalchemy.engine.base.Engine ()\n"
       ]
      },
      {
       "output_type": "stream",
       "stream": "stdout",
       "text": [
        "2013-10-17 00:40:48,211 INFO sqlalchemy.engine.base.Engine SELECT airports.latitude AS lat, airports.longitude AS long From airports WHERE airports.icao_code = 'KSAN' \n"
       ]
      },
      {
       "output_type": "stream",
       "stream": "stdout",
       "text": [
        "2013-10-17 00:40:48,212 INFO sqlalchemy.engine.base.Engine ()\n"
       ]
      },
      {
       "output_type": "stream",
       "stream": "stdout",
       "text": [
        "2013-10-17 00:40:48,214 INFO sqlalchemy.engine.base.Engine SELECT airports.latitude AS lat, airports.longitude AS long From airports WHERE airports.icao_code = 'ICAO' \n"
       ]
      },
      {
       "output_type": "stream",
       "stream": "stdout",
       "text": [
        "2013-10-17 00:40:48,214 INFO sqlalchemy.engine.base.Engine ()\n"
       ]
      },
      {
       "output_type": "stream",
       "stream": "stdout",
       "text": [
        "2013-10-17 00:40:48,216 INFO sqlalchemy.engine.base.Engine SELECT airports.latitude AS lat, airports.longitude AS long From airports WHERE airports.icao_code = 'KMSP' \n"
       ]
      },
      {
       "output_type": "stream",
       "stream": "stdout",
       "text": [
        "2013-10-17 00:40:48,217 INFO sqlalchemy.engine.base.Engine ()\n"
       ]
      },
      {
       "output_type": "stream",
       "stream": "stdout",
       "text": [
        "2013-10-17 00:40:48,219 INFO sqlalchemy.engine.base.Engine SELECT airports.latitude AS lat, airports.longitude AS long From airports WHERE airports.icao_code = 'KMDW' \n"
       ]
      },
      {
       "output_type": "stream",
       "stream": "stdout",
       "text": [
        "2013-10-17 00:40:48,220 INFO sqlalchemy.engine.base.Engine ()\n"
       ]
      },
      {
       "output_type": "stream",
       "stream": "stdout",
       "text": [
        "2013-10-17 00:40:48,222 INFO sqlalchemy.engine.base.Engine SELECT airports.latitude AS lat, airports.longitude AS long From airports WHERE airports.icao_code = 'KSAT' \n"
       ]
      },
      {
       "output_type": "stream",
       "stream": "stdout",
       "text": [
        "2013-10-17 00:40:48,222 INFO sqlalchemy.engine.base.Engine ()\n"
       ]
      },
      {
       "output_type": "stream",
       "stream": "stdout",
       "text": [
        "2013-10-17 00:40:48,224 INFO sqlalchemy.engine.base.Engine SELECT airports.latitude AS lat, airports.longitude AS long From airports WHERE airports.icao_code = 'KMSY' \n"
       ]
      },
      {
       "output_type": "stream",
       "stream": "stdout",
       "text": [
        "2013-10-17 00:40:48,225 INFO sqlalchemy.engine.base.Engine ()\n"
       ]
      },
      {
       "output_type": "stream",
       "stream": "stdout",
       "text": [
        "2013-10-17 00:40:48,227 INFO sqlalchemy.engine.base.Engine SELECT airports.latitude AS lat, airports.longitude AS long From airports WHERE airports.icao_code = 'KJFK' \n"
       ]
      },
      {
       "output_type": "stream",
       "stream": "stdout",
       "text": [
        "2013-10-17 00:40:48,229 INFO sqlalchemy.engine.base.Engine ()\n"
       ]
      },
      {
       "output_type": "stream",
       "stream": "stdout",
       "text": [
        "2013-10-17 00:40:48,231 INFO sqlalchemy.engine.base.Engine SELECT airports.latitude AS lat, airports.longitude AS long From airports WHERE airports.icao_code = 'TJSJ' \n"
       ]
      },
      {
       "output_type": "stream",
       "stream": "stdout",
       "text": [
        "2013-10-17 00:40:48,232 INFO sqlalchemy.engine.base.Engine ()\n"
       ]
      },
      {
       "output_type": "stream",
       "stream": "stdout",
       "text": [
        "2013-10-17 00:40:48,234 INFO sqlalchemy.engine.base.Engine SELECT airports.latitude AS lat, airports.longitude AS long From airports WHERE airports.icao_code = 'KPIT' \n"
       ]
      },
      {
       "output_type": "stream",
       "stream": "stdout",
       "text": [
        "2013-10-17 00:40:48,235 INFO sqlalchemy.engine.base.Engine ()\n"
       ]
      },
      {
       "output_type": "stream",
       "stream": "stdout",
       "text": [
        "2013-10-17 00:40:48,237 INFO sqlalchemy.engine.base.Engine SELECT airports.latitude AS lat, airports.longitude AS long From airports WHERE airports.icao_code = 'KMIA' \n"
       ]
      },
      {
       "output_type": "stream",
       "stream": "stdout",
       "text": [
        "2013-10-17 00:40:48,239 INFO sqlalchemy.engine.base.Engine ()\n"
       ]
      },
      {
       "output_type": "stream",
       "stream": "stdout",
       "text": [
        "2013-10-17 00:40:48,241 INFO sqlalchemy.engine.base.Engine SELECT airports.latitude AS lat, airports.longitude AS long From airports WHERE airports.icao_code = 'KIAH' \n"
       ]
      },
      {
       "output_type": "stream",
       "stream": "stdout",
       "text": [
        "2013-10-17 00:40:48,242 INFO sqlalchemy.engine.base.Engine ()\n"
       ]
      },
      {
       "output_type": "stream",
       "stream": "stdout",
       "text": [
        "2013-10-17 00:40:48,245 INFO sqlalchemy.engine.base.Engine SELECT airports.latitude AS lat, airports.longitude AS long From airports WHERE airports.icao_code = 'KDFW' \n"
       ]
      },
      {
       "output_type": "stream",
       "stream": "stdout",
       "text": [
        "2013-10-17 00:40:48,246 INFO sqlalchemy.engine.base.Engine ()\n"
       ]
      },
      {
       "output_type": "stream",
       "stream": "stdout",
       "text": [
        "2013-10-17 00:40:48,248 INFO sqlalchemy.engine.base.Engine SELECT airports.latitude AS lat, airports.longitude AS long From airports WHERE airports.icao_code = 'KIAD' \n"
       ]
      },
      {
       "output_type": "stream",
       "stream": "stdout",
       "text": [
        "2013-10-17 00:40:48,249 INFO sqlalchemy.engine.base.Engine ()\n"
       ]
      },
      {
       "output_type": "stream",
       "stream": "stdout",
       "text": [
        "2013-10-17 00:40:48,251 INFO sqlalchemy.engine.base.Engine SELECT airports.latitude AS lat, airports.longitude AS long From airports WHERE airports.icao_code = 'KCLT' \n"
       ]
      },
      {
       "output_type": "stream",
       "stream": "stdout",
       "text": [
        "2013-10-17 00:40:48,252 INFO sqlalchemy.engine.base.Engine ()\n"
       ]
      },
      {
       "output_type": "stream",
       "stream": "stdout",
       "text": [
        "2013-10-17 00:40:48,253 INFO sqlalchemy.engine.base.Engine SELECT airports.latitude AS lat, airports.longitude AS long From airports WHERE airports.icao_code = 'KBNA' \n"
       ]
      },
      {
       "output_type": "stream",
       "stream": "stdout",
       "text": [
        "2013-10-17 00:40:48,254 INFO sqlalchemy.engine.base.Engine ()\n"
       ]
      },
      {
       "output_type": "stream",
       "stream": "stdout",
       "text": [
        "2013-10-17 00:40:48,256 INFO sqlalchemy.engine.base.Engine SELECT airports.latitude AS lat, airports.longitude AS long From airports WHERE airports.icao_code = 'KTPA' \n"
       ]
      },
      {
       "output_type": "stream",
       "stream": "stdout",
       "text": [
        "2013-10-17 00:40:48,257 INFO sqlalchemy.engine.base.Engine ()\n"
       ]
      },
      {
       "output_type": "stream",
       "stream": "stdout",
       "text": [
        "2013-10-17 00:40:48,259 INFO sqlalchemy.engine.base.Engine SELECT airports.latitude AS lat, airports.longitude AS long From airports WHERE airports.icao_code = 'KSMF' \n"
       ]
      },
      {
       "output_type": "stream",
       "stream": "stdout",
       "text": [
        "2013-10-17 00:40:48,260 INFO sqlalchemy.engine.base.Engine ()\n"
       ]
      },
      {
       "output_type": "stream",
       "stream": "stdout",
       "text": [
        "2013-10-17 00:40:48,262 INFO sqlalchemy.engine.base.Engine SELECT airports.latitude AS lat, airports.longitude AS long From airports WHERE airports.icao_code = 'KSJC' \n"
       ]
      },
      {
       "output_type": "stream",
       "stream": "stdout",
       "text": [
        "2013-10-17 00:40:48,263 INFO sqlalchemy.engine.base.Engine ()\n"
       ]
      },
      {
       "output_type": "stream",
       "stream": "stdout",
       "text": [
        "2013-10-17 00:40:48,265 INFO sqlalchemy.engine.base.Engine SELECT airports.latitude AS lat, airports.longitude AS long From airports WHERE airports.icao_code = 'KBWI' \n"
       ]
      },
      {
       "output_type": "stream",
       "stream": "stdout",
       "text": [
        "2013-10-17 00:40:48,266 INFO sqlalchemy.engine.base.Engine ()\n"
       ]
      },
      {
       "output_type": "stream",
       "stream": "stdout",
       "text": [
        "2013-10-17 00:40:48,268 INFO sqlalchemy.engine.base.Engine SELECT airports.latitude AS lat, airports.longitude AS long From airports WHERE airports.icao_code = 'KSNA' \n"
       ]
      },
      {
       "output_type": "stream",
       "stream": "stdout",
       "text": [
        "2013-10-17 00:40:48,268 INFO sqlalchemy.engine.base.Engine ()\n"
       ]
      },
      {
       "output_type": "stream",
       "stream": "stdout",
       "text": [
        "2013-10-17 00:40:48,270 INFO sqlalchemy.engine.base.Engine SELECT airports.latitude AS lat, airports.longitude AS long From airports WHERE airports.icao_code = 'PHNL' \n"
       ]
      },
      {
       "output_type": "stream",
       "stream": "stdout",
       "text": [
        "2013-10-17 00:40:48,271 INFO sqlalchemy.engine.base.Engine ()\n"
       ]
      },
      {
       "output_type": "stream",
       "stream": "stdout",
       "text": [
        "2013-10-17 00:40:48,273 INFO sqlalchemy.engine.base.Engine SELECT airports.latitude AS lat, airports.longitude AS long From airports WHERE airports.icao_code = 'KSFO' \n"
       ]
      },
      {
       "output_type": "stream",
       "stream": "stdout",
       "text": [
        "2013-10-17 00:40:48,274 INFO sqlalchemy.engine.base.Engine ()\n"
       ]
      },
      {
       "output_type": "stream",
       "stream": "stdout",
       "text": [
        "2013-10-17 00:40:48,276 INFO sqlalchemy.engine.base.Engine SELECT airports.latitude AS lat, airports.longitude AS long From airports WHERE airports.icao_code = 'KCLE' \n"
       ]
      },
      {
       "output_type": "stream",
       "stream": "stdout",
       "text": [
        "2013-10-17 00:40:48,277 INFO sqlalchemy.engine.base.Engine ()\n"
       ]
      }
     ],
     "prompt_number": 13
    },
    {
     "cell_type": "markdown",
     "metadata": {},
     "source": [
      "## Plot Results"
     ]
    },
    {
     "cell_type": "code",
     "collapsed": false,
     "input": [
      "# temperature correlation plots\n",
      "import matplotlib.pyplot as plt\n",
      "%matplotlib inline\n",
      "\n",
      "\n",
      "# temperature correlation versus distance\n",
      "plt.close('all')\n",
      "plt.figure(1)\n",
      "#plt.scatter(dists,vals,c=dist_colors)\n",
      "p1 = plt.scatter(dist_Ctemp_1,top_Ctemp_1[1],c='b')\n",
      "p2 = plt.scatter(dist_Ctemp_3,top_Ctemp_3[1],c='g')\n",
      "p3 = plt.scatter(dist_Ctemp_7,top_Ctemp_7[1],c='r')\n",
      "\n",
      "plt.legend((p1,p2,p3),\n",
      "           ('1 day', '3 days','7 days'),\n",
      "           scatterpoints=1,\n",
      "           loc='upper right',\n",
      "           fontsize=12)\n",
      "plt.title('Maximum versus distance')\n",
      "plt.xlabel('Distance (km)')\n",
      "plt.ylabel('Pearson Correlation Coefficient')\n",
      "\n",
      "plt.show()"
     ],
     "language": "python",
     "metadata": {},
     "outputs": [
      {
       "metadata": {},
       "output_type": "display_data",
       "png": "[encoded data removed]",
       "text": [
        "<matplotlib.figure.Figure at 0x108b915d0>"
       ]
      }
     ],
     "prompt_number": 26
    },
    {
     "cell_type": "code",
     "collapsed": false,
     "input": [
      "# temperature correlation versus separation in longitude\n",
      "plt.close('all')\n",
      "plt.figure(2)\n",
      "\n",
      "plt.figure(1)\n",
      "#plt.scatter(dists,vals,c=dist_colors)\n",
      "p1 = plt.scatter(dlong_Ctemp_1,top_Ctemp_1[1],c='b')\n",
      "p2 = plt.scatter(dlong_Ctemp_3,top_Ctemp_3[1],c='g')\n",
      "p3 = plt.scatter(dlong_Ctemp_7,top_Ctemp_7[1],c='r')\n",
      "\n",
      "plt.legend((p1,p2,p3),\n",
      "           ('1 day', '3 days','7 days'),\n",
      "           scatterpoints=1,\n",
      "           loc='upper right',\n",
      "           fontsize=12)\n",
      "plt.title('Maximum versus longitude Separation')\n",
      "plt.xlabel('Longitude Separation (degrees)')\n",
      "plt.ylabel('Pearson Correlation Coefficient')\n",
      "\n",
      "\n",
      "plt.show()"
     ],
     "language": "python",
     "metadata": {},
     "outputs": [
      {
       "metadata": {},
       "output_type": "display_data",
       "png": "[encoded data removed]",
       "text": [
        "<matplotlib.figure.Figure at 0x108c0d6d0>"
       ]
      },
      {
       "metadata": {},
       "output_type": "display_data",
       "text": [
        "<matplotlib.figure.Figure at 0x108c0d350>"
       ]
      }
     ],
     "prompt_number": 22
    },
    {
     "cell_type": "code",
     "collapsed": false,
     "input": [
      "# cloud cover correlation plots\n",
      "\n",
      "# cloud cover correlation versus distance\n",
      "plt.close('all')\n",
      "plt.figure(3)\n",
      "p1 = plt.scatter(dist_Ccloud_1,top_Ccloud_1[1],c='b')\n",
      "p2 = plt.scatter(dist_Ccloud_3,top_Ccloud_3[1],c='g')\n",
      "p3 = plt.scatter(dist_Ccloud_7,top_Ccloud_7[1],c='r')\n",
      "\n",
      "plt.legend((p1,p2,p3),\n",
      "           ('1 day', '3 days','7 days'),\n",
      "           scatterpoints=1,\n",
      "           loc='upper right',\n",
      "           fontsize=12)\n",
      "\n",
      "plt.title('Maximum versus distance')\n",
      "plt.xlabel('Distance (km)')\n",
      "plt.ylabel('Pearson Correlation Coefficient')\n",
      "\n",
      "plt.show()\n"
     ],
     "language": "python",
     "metadata": {},
     "outputs": [
      {
       "metadata": {},
       "output_type": "display_data",
       "png": "[encoded data removed]",
       "text": [
        "<matplotlib.figure.Figure at 0x108b7b050>"
       ]
      }
     ],
     "prompt_number": 24
    },
    {
     "cell_type": "code",
     "collapsed": false,
     "input": [
      "# cloud cover correlation versus longitude separation\n",
      "plt.close('all')\n",
      "plt.figure(4)\n",
      "p1 = plt.scatter(dlong_Ccloud_1,top_Ccloud_1[1],c='b')\n",
      "p2 = plt.scatter(dlong_Ccloud_3,top_Ccloud_3[1],c='g')\n",
      "p3 = plt.scatter(dlong_Ccloud_7,top_Ccloud_7[1],c='r')\n",
      "\n",
      "plt.legend((p1,p2,p3),\n",
      "           ('1 day', '3 days','7 days'),\n",
      "           scatterpoints=1,\n",
      "           loc='upper right',\n",
      "           fontsize=12)\n",
      "plt.title('Maximum versus longitude Separation')\n",
      "plt.xlabel('Longitude Separation (degrees)')\n",
      "plt.ylabel('Pearson Correlation Coefficient')\n",
      "\n",
      "\n",
      "plt.show()"
     ],
     "language": "python",
     "metadata": {},
     "outputs": [
      {
       "metadata": {},
       "output_type": "display_data",
       "png": "[encoded data removed]",
       "text": [
        "<matplotlib.figure.Figure at 0x108b974d0>"
       ]
      }
     ],
     "prompt_number": 25
    },
    {
     "cell_type": "markdown",
     "metadata": {},
     "source": [
      "##Results:\n",
      "\n",
      "The maximum correlations between any two cities show a clear decrease from 1 to 3 days\n",
      "and again to 3 to 7 days for both temperature and cloud cover. As time increases, the \n",
      "range of locations increases in both distance and longitude separation. However, there\n",
      "continue to be highly correlated, nearby cities even 7 days later. \n",
      "\n",
      "This inidicates that weather patterns take some minimum amount of time to reach a certain \n",
      "distance away, but might have lasting effects on the immediate region as much as more distant\n",
      "locations."
     ]
    }
   ],
   "metadata": {}
  }
 ]
}