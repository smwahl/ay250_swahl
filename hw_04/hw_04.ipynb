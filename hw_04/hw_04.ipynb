{
 "metadata": {
  "name": ""
 },
 "nbformat": 3,
 "nbformat_minor": 0,
 "worksheets": [
  {
   "cells": [
    {
     "cell_type": "code",
     "collapsed": false,
     "input": [
      "# import necessary methods for loading and viewing images\n",
      "%matplotlib inline\n",
      "import matplotlib.pyplot as plt\n",
      "import matplotlib.image as mpimg\n",
      "import numpy as np"
     ],
     "language": "python",
     "metadata": {},
     "outputs": [],
     "prompt_number": 1
    },
    {
     "cell_type": "code",
     "collapsed": false,
     "input": [
      "! ls 50_categories/blimp"
     ],
     "language": "python",
     "metadata": {},
     "outputs": [
      {
       "output_type": "stream",
       "stream": "stdout",
       "text": [
        "\u001b[1m\u001b[32mblimp_0001.jpg\u001b[m\u001b[m \u001b[1m\u001b[32mblimp_0010.jpg\u001b[m\u001b[m \u001b[1m\u001b[32mblimp_0019.jpg\u001b[m\u001b[m \u001b[1m\u001b[32mblimp_0028.jpg\u001b[m\u001b[m \u001b[1m\u001b[32mblimp_0037.jpg\u001b[m\u001b[m \u001b[1m\u001b[32mblimp_0046.jpg\u001b[m\u001b[m \u001b[1m\u001b[32mblimp_0055.jpg\u001b[m\u001b[m\r\n",
        "\u001b[1m\u001b[32mblimp_0002.jpg\u001b[m\u001b[m \u001b[1m\u001b[32mblimp_0011.jpg\u001b[m\u001b[m \u001b[1m\u001b[32mblimp_0020.jpg\u001b[m\u001b[m \u001b[1m\u001b[32mblimp_0029.jpg\u001b[m\u001b[m \u001b[1m\u001b[32mblimp_0038.jpg\u001b[m\u001b[m \u001b[1m\u001b[32mblimp_0047.jpg\u001b[m\u001b[m \u001b[1m\u001b[32mblimp_0056.jpg\u001b[m\u001b[m\r\n",
        "\u001b[1m\u001b[32mblimp_0003.jpg\u001b[m\u001b[m \u001b[1m\u001b[32mblimp_0012.jpg\u001b[m\u001b[m \u001b[1m\u001b[32mblimp_0021.jpg\u001b[m\u001b[m \u001b[1m\u001b[32mblimp_0030.jpg\u001b[m\u001b[m \u001b[1m\u001b[32mblimp_0039.jpg\u001b[m\u001b[m \u001b[1m\u001b[32mblimp_0048.jpg\u001b[m\u001b[m \u001b[1m\u001b[32mblimp_0057.jpg\u001b[m\u001b[m\r\n",
        "\u001b[1m\u001b[32mblimp_0004.jpg\u001b[m\u001b[m \u001b[1m\u001b[32mblimp_0013.jpg\u001b[m\u001b[m \u001b[1m\u001b[32mblimp_0022.jpg\u001b[m\u001b[m \u001b[1m\u001b[32mblimp_0031.jpg\u001b[m\u001b[m \u001b[1m\u001b[32mblimp_0040.jpg\u001b[m\u001b[m \u001b[1m\u001b[32mblimp_0049.jpg\u001b[m\u001b[m\r\n",
        "\u001b[1m\u001b[32mblimp_0005.jpg\u001b[m\u001b[m \u001b[1m\u001b[32mblimp_0014.jpg\u001b[m\u001b[m \u001b[1m\u001b[32mblimp_0023.jpg\u001b[m\u001b[m \u001b[1m\u001b[32mblimp_0032.jpg\u001b[m\u001b[m \u001b[1m\u001b[32mblimp_0041.jpg\u001b[m\u001b[m \u001b[1m\u001b[32mblimp_0050.jpg\u001b[m\u001b[m\r\n",
        "\u001b[1m\u001b[32mblimp_0006.jpg\u001b[m\u001b[m \u001b[1m\u001b[32mblimp_0015.jpg\u001b[m\u001b[m \u001b[1m\u001b[32mblimp_0024.jpg\u001b[m\u001b[m \u001b[1m\u001b[32mblimp_0033.jpg\u001b[m\u001b[m \u001b[1m\u001b[32mblimp_0042.jpg\u001b[m\u001b[m \u001b[1m\u001b[32mblimp_0051.jpg\u001b[m\u001b[m\r\n",
        "\u001b[1m\u001b[32mblimp_0007.jpg\u001b[m\u001b[m \u001b[1m\u001b[32mblimp_0016.jpg\u001b[m\u001b[m \u001b[1m\u001b[32mblimp_0025.jpg\u001b[m\u001b[m \u001b[1m\u001b[32mblimp_0034.jpg\u001b[m\u001b[m \u001b[1m\u001b[32mblimp_0043.jpg\u001b[m\u001b[m \u001b[1m\u001b[32mblimp_0052.jpg\u001b[m\u001b[m\r\n",
        "\u001b[1m\u001b[32mblimp_0008.jpg\u001b[m\u001b[m \u001b[1m\u001b[32mblimp_0017.jpg\u001b[m\u001b[m \u001b[1m\u001b[32mblimp_0026.jpg\u001b[m\u001b[m \u001b[1m\u001b[32mblimp_0035.jpg\u001b[m\u001b[m \u001b[1m\u001b[32mblimp_0044.jpg\u001b[m\u001b[m \u001b[1m\u001b[32mblimp_0053.jpg\u001b[m\u001b[m\r\n",
        "\u001b[1m\u001b[32mblimp_0009.jpg\u001b[m\u001b[m \u001b[1m\u001b[32mblimp_0018.jpg\u001b[m\u001b[m \u001b[1m\u001b[32mblimp_0027.jpg\u001b[m\u001b[m \u001b[1m\u001b[32mblimp_0036.jpg\u001b[m\u001b[m \u001b[1m\u001b[32mblimp_0045.jpg\u001b[m\u001b[m \u001b[1m\u001b[32mblimp_0054.jpg\u001b[m\u001b[m\r\n"
       ]
      }
     ],
     "prompt_number": 3
    },
    {
     "cell_type": "code",
     "collapsed": false,
     "input": [
      "# walk file containing test images and store the catagories\n",
      "import os,sys\n",
      "test_loc='50_categories'\n",
      "catagories = [os.path.basename(x[0]) for x in os.walk(test_loc) if os.path.isdir(x[0])]\n",
      "catagories = catagories[1:]\n",
      "\n",
      "def listCatIms(cat):\n",
      "    ''' Given a name or index for a catagory, return a list of paths to the images in\n",
      "    that catagory. Checks if an object in a subdirctory is a file, but not if it is \n",
      "    valid image type.'''\n",
      "    global test_loc, catagories\n",
      "    if isinstance(cat,int):\n",
      "        catDir = os.path.join(test_loc,str(catagories[cat]))\n",
      "        print catDir\n",
      "    elif isinstance(cat,str):\n",
      "        catDir = os.path.join(test_loc,cat)\n",
      "        if not os.path.exists(catDir):\n",
      "            print 'Catagory directory does not exist.'\n",
      "            return None\n",
      "    ims = [os.path.abspath(os.path.join(catDir,x)) for x in os.listdir(catDir) \n",
      "           if os.path.isfile(os.path.join(catDir,x))]\n",
      "    return ims\n",
      "        \n",
      "#listCatIms('blimp')"
     ],
     "language": "python",
     "metadata": {},
     "outputs": [],
     "prompt_number": 4
    },
    {
     "cell_type": "markdown",
     "metadata": {},
     "source": [
      "Loading example of paralellization"
     ]
    },
    {
     "cell_type": "code",
     "collapsed": false,
     "input": [
      "%load hw_4machinelearningparallelstrawman.py"
     ],
     "language": "python",
     "metadata": {},
     "outputs": [],
     "prompt_number": 5
    },
    {
     "cell_type": "code",
     "collapsed": false,
     "input": [
      "#!/usr/bin/env python\n",
      "\"\"\"\n",
      "AY 250 - Scientific Research Computing with Python\n",
      "Homework Assignment 4 - Parallel Feature Extraction Example\n",
      "Author: Christopher Klein, Joshua Bloom\n",
      "\"\"\"\n",
      "from os import listdir\n",
      "from multiprocessing import Pool, cpu_count\n",
      "from pylab import imread\n",
      "from time import time\n",
      "\n",
      "## CHANGE THIS NEXT LINE!\n",
      "# MYDIRECTORY = \"/Users/jbloom/Classes/ay250-py4sci/week4/50_categories\"\n",
      "MYDIRECTORY = \"/Users/swahl/code/python/ay250_swahl/hw_04/50_categories\"\n",
      "\n",
      "# FUNCTION DEFINITIONS\n",
      "# Quick function to divide up a large list into multiple small lists, \n",
      "# attempting to keep them all the same size. \n",
      "def split_seq(seq, size):\n",
      "        newseq = []\n",
      "        splitsize = 1.0/size*len(seq)\n",
      "        for i in range(size):\n",
      "            newseq.append(seq[int(round(i*splitsize)):\n",
      "                int(round((i+1)*splitsize))])\n",
      "        return newseq\n",
      "# Our simple feature extraction function. It takes in a list of image paths, \n",
      "# does some measurement on each image, then returns a list of the image paths\n",
      "# paired with the results of the feature measurement.\n",
      "def extract_features(image_path_list):\n",
      "    feature_list = []\n",
      "    for image_path in image_path_list:\n",
      "        image_array = imread(image_path)\n",
      "        feature = image_array.size # This feature is simple. You can modify this\n",
      "        # code to produce more complicated features and to produce multiple\n",
      "        # features in one function call.\n",
      "        feature_list.append([image_path, feature])\n",
      "    return feature_list\n",
      "\n",
      "\n",
      "\n",
      "### Main program starts here ###################################################\n",
      "# We first collect all the local paths to all the images in one list\n",
      "image_paths = []\n",
      "categories = [ x for x in listdir(MYDIRECTORY)  ] \n",
      "for category in categories:\n",
      "    try: #added try statement to fix problems with OSX system files\n",
      "        image_names = listdir(MYDIRECTORY  + \"/\" + category)\n",
      "        for name in image_names:\n",
      "            image_paths.append(MYDIRECTORY + \"/\" + category + \"/\" + name)\n",
      "    except:\n",
      "        pass\n",
      "\n",
      "print (\"There should be 4244 images, actual number is \" + \n",
      "    str(len(image_paths)) + \".\")\n",
      "\n",
      "# Then, we run the feature extraction function using multiprocessing.Pool so \n",
      "# so that we can parallelize the process and run it much faster.\n",
      "numprocessors = cpu_count() # To see results of parallelizing, set numprocessors\n",
      "                            # to less than cpu_count().\n",
      "# numprocessors = 1\n",
      "\n",
      "# We have to cut up the image_paths list into the number of processes we want to\n",
      "# run. \n",
      "split_image_paths = split_seq(image_paths, numprocessors)\n",
      "\n",
      "# Ok, this block is where the parallel code runs. We time it so we can get a \n",
      "# feel for the speed up.\n",
      "start_time = time()\n",
      "p = Pool(numprocessors)\n",
      "result = p.map_async(extract_features, split_image_paths)\n",
      "poolresult = result.get()\n",
      "end_time = time()\n",
      "\n",
      "# All done, print timing results.\n",
      "print (\"Finished extracting features. Total time: \" + \n",
      "    str(round(end_time-start_time, 3)) + \" s, or \" + \n",
      "    str( round( (end_time-start_time)/len(image_paths), 5 ) ) + \" s/image.\")\n",
      "# This took about 10-11 seconds on my 2.2 GHz, Core i7 MacBook Pro. It may also\n",
      "# be affected by hard disk read speeds.\n",
      "\n",
      "# To tidy-up a bit, we loop through the poolresult to create a final list of\n",
      "# the feature extraction results for all images.\n",
      "combined_result = []\n",
      "for single_proc_result in poolresult:\n",
      "    for single_image_result in single_proc_result:\n",
      "        combined_result.append(single_image_result)\n"
     ],
     "language": "python",
     "metadata": {},
     "outputs": [
      {
       "output_type": "stream",
       "stream": "stdout",
       "text": [
        "There should be 4244 images, actual number is 4244.\n"
       ]
      },
      {
       "output_type": "stream",
       "stream": "stdout",
       "text": [
        "Finished extracting features. Total time: 27.475 s, or 0.00647 s/image.\n"
       ]
      }
     ],
     "prompt_number": 2
    },
    {
     "cell_type": "markdown",
     "metadata": {},
     "source": [
      "Feature extraction"
     ]
    },
    {
     "cell_type": "markdown",
     "metadata": {},
     "source": [
      "Principle Component Analysis\n",
      "\n",
      "http://stackoverflow.com/questions/13224362/pca-analysis-with-python"
     ]
    },
    {
     "cell_type": "code",
     "collapsed": false,
     "input": [
      "#You can find a PCA function in the matplotlib module:\n",
      "# I cant figure out the correct way to use this...is rotating okay, should I pick out\n",
      "# a centered square matrix\n",
      "\n",
      "from matplotlib.mlab import PCA\n",
      "data = imread(image_paths[2])\n",
      "\n",
      "PCA(\n",
      "results = PCA(data[:,:,0:3].mean(2))\n",
      "#print results.sigma\n",
      "#print results.fracs\n",
      "#print results.mu\n",
      "#print results.Wt\n",
      "print data.shape\n",
      "data[:,:,0:3].mean(2)"
     ],
     "language": "python",
     "metadata": {},
     "outputs": [
      {
       "ename": "SyntaxError",
       "evalue": "invalid syntax (<ipython-input-7-8f03a1831010>, line 14)",
       "output_type": "pyerr",
       "traceback": [
        "\u001b[0;36m  File \u001b[0;32m\"<ipython-input-7-8f03a1831010>\"\u001b[0;36m, line \u001b[0;32m14\u001b[0m\n\u001b[0;31m    print data.shape\u001b[0m\n\u001b[0m        ^\u001b[0m\n\u001b[0;31mSyntaxError\u001b[0m\u001b[0;31m:\u001b[0m invalid syntax\n"
       ]
      }
     ],
     "prompt_number": 7
    },
    {
     "cell_type": "code",
     "collapsed": false,
     "input": [
      "\n",
      "import skimage as skim\n",
      "skimage?"
     ],
     "language": "python",
     "metadata": {},
     "outputs": [
      {
       "output_type": "stream",
       "stream": "stdout",
       "text": [
        "Object `skimage` not found.\n"
       ]
      }
     ],
     "prompt_number": 8
    },
    {
     "cell_type": "code",
     "collapsed": false,
     "input": [
      "# testing image indexing for simple \n",
      "from scipy.signal import fftconvolve"
     ],
     "language": "python",
     "metadata": {},
     "outputs": [],
     "prompt_number": 3
    },
    {
     "cell_type": "code",
     "collapsed": false,
     "input": [
      "im = imread('/Users/swahl/code/python/ay250_swahl/hw_04/50_categories/blimp/blimp_0001.jpg')\n",
      "print im.shape\n",
      "im[:,:,0:3].mean(2).shape\n",
      "red = im[:,:,0]\n",
      "blue = im[:,:,1]\n",
      "green = im[:,:,2]\n",
      "\n",
      "red.shape\n",
      "\n",
      "\n",
      "print fftconvolve(red,blue[::-1,::-1],mode='valid')\n",
      "print fftconvolve(blue,green[::-1,::-1],mode='valid')\n",
      "print fftconvolve(red,green[::-1,::-1],mode='valid')\n",
      "\n"
     ],
     "language": "python",
     "metadata": {},
     "outputs": [
      {
       "output_type": "stream",
       "stream": "stdout",
       "text": [
        "(480, 640, 3)\n",
        "[[  3.18194551e+09]]"
       ]
      },
      {
       "output_type": "stream",
       "stream": "stdout",
       "text": [
        "\n",
        "[[  7.01853744e+09]]"
       ]
      },
      {
       "output_type": "stream",
       "stream": "stdout",
       "text": [
        "\n",
        "[[  4.07968670e+09]]"
       ]
      },
      {
       "output_type": "stream",
       "stream": "stdout",
       "text": [
        "\n"
       ]
      }
     ],
     "prompt_number": 4
    },
    {
     "cell_type": "code",
     "collapsed": false,
     "input": [
      "# Define and extract simple features (without use of additional libraries for image analysis)\n",
      "from scipy.signal import fftconvolve\n",
      "\n",
      "def extract_features_simple(image_path_list):\n",
      "    ''' Feature extraction for simple features of a flattened image, color component\n",
      "    images, and x and y histograms. Returns a total of 15 features. For a flattened\n",
      "    image find the aspect ratio, mean and variance. For each of the color channels, find\n",
      "    the mean normalized by the mean of the flattened image, as well as the correlation\n",
      "    between each pair of color channels. For a vertical and horizontally averaged histogram\n",
      "    find the maximum and minumum normalized by the mean, as well as the variance.'''\n",
      "    feature_list = []\n",
      "    for image_path in image_path_list:\n",
      "        image_array = imread(image_path)\n",
      "        \n",
      "        # flatten image if composed of component colors\n",
      "        # otherwise just return original image for both flattned image and color components\n",
      "        if len(image_array.shape) >=3 :\n",
      "            image_flat = image_array[:,:,0:3].mean(2)\n",
      "            image_red  = image_array[:,:,0]\n",
      "            image_blue = image_array[:,:,1]\n",
      "            image_green = image_array[:,:,2]\n",
      "            iscolor = True\n",
      "        else:\n",
      "            image_flat = image_array\n",
      "            #image_red  = image_array\n",
      "            #image_blue = image_array\n",
      "            #image_green = image_array\n",
      "            iscolor = False\n",
      "        xhist = image_flat.mean(0)\n",
      "        yhist = image_flat.mean(1)\n",
      "        \n",
      "        # features of flattened image\n",
      "        flat_aspect = float(image_flat.shape[0])/float(image_flat.shape[1])\n",
      "        flat_mean = image_flat.mean()\n",
      "        flat_var = image_flat.var()\n",
      "        \n",
      "        # normalized color intensity and color channel correlations\n",
      "        # return np.nan if image is black and white\n",
      "        if iscolor == True:\n",
      "            redness = image_red.mean() / flat_mean\n",
      "            blueness = image_blue.mean() / flat_mean\n",
      "            greeness = image_green.mean() / flat_mean\n",
      "            rb_correlation = fftconvolve(image_red,image_blue[::-1,::-1],mode='valid')\n",
      "            bg_correlation = fftconvolve(image_blue,image_green[::-1,::-1],mode='valid')\n",
      "            rg_correlation = fftconvolve(image_red,image_green[::-1,::-1],mode='valid')\n",
      "        else:\n",
      "            redness = np.nan; blueness = np.nan; greeness = np.nan\n",
      "            rb_correlation = np.nan; bg_correlation = np.nan; rg_correlation = np.nan\n",
      "                \n",
      "        # Features of x and y histograms\n",
      "        xhist_max = float(xhist.max()) / flat_mean\n",
      "        xhist_min = float(xhist.min()) / flat_mean\n",
      "        xhist_var = xhist.var()\n",
      "        \n",
      "        yhist_max = float(yhist.max()) / flat_mean\n",
      "        yhist_min = float(yhist.min()) / flat_mean\n",
      "        yhist_var = yhist.var()\n",
      "        \n",
      "        features = [flat_aspect,flat_mean,flat_var,redness,blueness,greeness,\n",
      "                    rb_correlation, bg_correlation, rg_correlation,\n",
      "                    xhist_max,xhist_min,xhist_var,yhist_max,yhist_min,yhist_var]\n",
      "        feature_list.append([image_path, features])\n",
      "    \n",
      "    return feature_list\n",
      "\n",
      "# extract simple features using multi-core\n",
      "p = Pool(numprocessors)\n",
      "result = p.map_async(extract_features_simple, split_image_paths)\n",
      "poolresult = result.get()\n",
      "combined_result = []\n",
      "for single_proc_result in poolresult:\n",
      "    for single_image_result in single_proc_result:\n",
      "        combined_result.append(single_image_result)\n",
      "simple_features = combined_result\n",
      "\n",
      "\n",
      "# return names of all features stored in simple_features\n",
      "simple_features_names = [ 'flat_aspect', 'flat_mean', 'flat_var',\n",
      "                         'redness', 'blueness', 'greeness',\n",
      "                         'rb_correlation', 'bg_correlation', 'rg_correlation',\n",
      "                         'xhist_max', 'xhist_min', 'xhist_var', \n",
      "                         'yhist_max', 'yhist_min', 'yhist_var']\n",
      "    "
     ],
     "language": "python",
     "metadata": {},
     "outputs": [],
     "prompt_number": "*"
    },
    {
     "cell_type": "code",
     "collapsed": false,
     "input": [
      "print 'done'"
     ],
     "language": "python",
     "metadata": {},
     "outputs": [],
     "prompt_number": "*"
    },
    {
     "cell_type": "code",
     "collapsed": false,
     "input": [
      "# store features using pickle for quick reloading\n",
      "import pickle\n",
      "pickle.dump(simple_features,open( 'features/simple.p', \"wb\" ) )\n",
      "pickle.dump(simple_features_names,open('features/simple_names.p','wb') )"
     ],
     "language": "python",
     "metadata": {},
     "outputs": [],
     "prompt_number": "*"
    },
    {
     "cell_type": "code",
     "collapsed": false,
     "input": [
      "# reload features using pickle\n",
      "import pickle\n",
      "simple_features = pickle.load(open( 'features/simple.p', \"rb\" ))\n",
      "simple_features_names = pickle.load(open( 'features/simple_names.p', \"rb\" ))\n",
      "\n"
     ],
     "language": "python",
     "metadata": {},
     "outputs": [],
     "prompt_number": 188
    },
    {
     "cell_type": "code",
     "collapsed": false,
     "input": [],
     "language": "python",
     "metadata": {},
     "outputs": [],
     "prompt_number": 191
    },
    {
     "cell_type": "code",
     "collapsed": false,
     "input": [],
     "language": "python",
     "metadata": {},
     "outputs": []
    },
    {
     "cell_type": "code",
     "collapsed": false,
     "input": [],
     "language": "python",
     "metadata": {},
     "outputs": [],
     "prompt_number": 191
    }
   ],
   "metadata": {}
  }
 ]
}