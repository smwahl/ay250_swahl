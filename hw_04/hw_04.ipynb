{
 "metadata": {
  "name": ""
 },
 "nbformat": 3,
 "nbformat_minor": 0,
 "worksheets": [
  {
   "cells": [
    {
     "cell_type": "code",
     "collapsed": false,
     "input": [
      "# import necessary methods for loading and viewing images\n",
      "%matplotlib inline\n",
      "import matplotlib.pyplot as plt\n",
      "import matplotlib.image as mpimg\n",
      "import numpy as np"
     ],
     "language": "python",
     "metadata": {},
     "outputs": [],
     "prompt_number": 1
    },
    {
     "cell_type": "markdown",
     "metadata": {},
     "source": [
      "Loading example of paralellization"
     ]
    },
    {
     "cell_type": "code",
     "collapsed": false,
     "input": [
      "%load hw_4machinelearningparallelstrawman.py"
     ],
     "language": "python",
     "metadata": {},
     "outputs": [],
     "prompt_number": 5
    },
    {
     "cell_type": "code",
     "collapsed": false,
     "input": [
      "from os import listdir\n",
      "from multiprocessing import Pool, cpu_count\n",
      "from pylab import imread\n",
      "from time import time\n",
      "\n",
      "# Quick function to divide up a large list into multiple small lists, \n",
      "# attempting to keep them all the same size. \n",
      "def split_seq(seq, size):\n",
      "        newseq = []\n",
      "        splitsize = 1.0/size*len(seq)\n",
      "        for i in range(size):\n",
      "            newseq.append(seq[int(round(i*splitsize)):\n",
      "                int(round((i+1)*splitsize))])\n",
      "        return newseq\n",
      "\n",
      "# test image directory\n",
      "MYDIRECTORY = \"50_categories\"    \n",
      "\n",
      "# set number of processesors for parallel extraction of  features\n",
      "numprocessors = cpu_count()\n",
      "\n",
      "# We first collect all the local paths to all the images in one list\n",
      "image_paths = []\n",
      "categories = [ x for x in listdir(MYDIRECTORY)  ] \n",
      "for category in categories:\n",
      "    try: #added try statement to fix problems with OSX system files\n",
      "        image_names = listdir(MYDIRECTORY  + \"/\" + category)\n",
      "        for name in image_names:\n",
      "            image_paths.append(MYDIRECTORY + \"/\" + category + \"/\" + name)\n",
      "    except:\n",
      "        pass\n",
      "\n",
      "print (\"There should be 4244 images, actual number is \" + \n",
      "    str(len(image_paths)) + \".\")\n"
     ],
     "language": "python",
     "metadata": {},
     "outputs": [
      {
       "output_type": "stream",
       "stream": "stdout",
       "text": [
        "There should be 4244 images, actual number is 4244.\n"
       ]
      }
     ],
     "prompt_number": 6
    },
    {
     "cell_type": "markdown",
     "metadata": {},
     "source": [
      "Feature extraction"
     ]
    },
    {
     "cell_type": "markdown",
     "metadata": {},
     "source": [
      "Principle Component Analysis\n",
      "\n",
      "http://stackoverflow.com/questions/13224362/pca-analysis-with-python"
     ]
    },
    {
     "cell_type": "code",
     "collapsed": false,
     "input": [
      "#You can find a PCA function in the matplotlib module:\n",
      "# I cant figure out the correct way to use this...is rotating okay, should I pick out\n",
      "# a centered square matrix\n",
      "\n",
      "from matplotlib.mlab import PCA\n",
      "data = imread(image_paths[2])\n",
      "\n",
      "PCA(\n",
      "results = PCA(data[:,:,0:3].mean(2))\n",
      "#print results.sigma\n",
      "#print results.fracs\n",
      "#print results.mu\n",
      "#print results.Wt\n",
      "print data.shape\n",
      "data[:,:,0:3].mean(2)"
     ],
     "language": "python",
     "metadata": {},
     "outputs": [
      {
       "ename": "SyntaxError",
       "evalue": "invalid syntax (<ipython-input-7-8f03a1831010>, line 14)",
       "output_type": "pyerr",
       "traceback": [
        "\u001b[0;36m  File \u001b[0;32m\"<ipython-input-7-8f03a1831010>\"\u001b[0;36m, line \u001b[0;32m14\u001b[0m\n\u001b[0;31m    print data.shape\u001b[0m\n\u001b[0m        ^\u001b[0m\n\u001b[0;31mSyntaxError\u001b[0m\u001b[0;31m:\u001b[0m invalid syntax\n"
       ]
      }
     ],
     "prompt_number": 7
    },
    {
     "cell_type": "code",
     "collapsed": false,
     "input": [
      "\n",
      "import skimage as skim\n",
      "skimage?"
     ],
     "language": "python",
     "metadata": {},
     "outputs": [
      {
       "output_type": "stream",
       "stream": "stdout",
       "text": [
        "Object `skimage` not found.\n"
       ]
      }
     ],
     "prompt_number": 8
    },
    {
     "cell_type": "code",
     "collapsed": false,
     "input": [
      "# testing image indexing for simple \n",
      "from scipy.signal import fftconvolve\n",
      "from scipy.stats import skew,kurtosis"
     ],
     "language": "python",
     "metadata": {},
     "outputs": [],
     "prompt_number": 6
    },
    {
     "cell_type": "code",
     "collapsed": false,
     "input": [
      "im = imread('/Users/swahl/code/python/ay250_swahl/hw_04/50_categories/blimp/blimp_0001.jpg')\n",
      "print im.shape\n",
      "im[:,:,0:3].mean(2).shape\n",
      "flat = im[:,:,0:3].mean(2)\n",
      "xhist = flat.mean(0)\n",
      "yhist = flat.mean(1)\n",
      "red = im[:,:,0]\n",
      "blue = im[:,:,1]\n",
      "green = im[:,:,2]\n",
      "\n",
      "print red.shape\n",
      "print flat.shape\n",
      "\n",
      "#print fftconvolve(red,blue[::-1,::-1],mode='valid')\n",
      "#print fftconvolve(blue,green[::-1,::-1],mode='valid')\n",
      "#print fftconvolve(red,green[::-1,::-1],mode='valid')\n",
      "\n",
      "print skew(xhist)\n",
      "print kurtosis(yhist)\n",
      "\n"
     ],
     "language": "python",
     "metadata": {},
     "outputs": [
      {
       "ename": "NameError",
       "evalue": "name 'skew' is not defined",
       "output_type": "pyerr",
       "traceback": [
        "\u001b[0;31m---------------------------------------------------------------------------\u001b[0m\n\u001b[0;31mNameError\u001b[0m                                 Traceback (most recent call last)",
        "\u001b[0;32m<ipython-input-28-d525d7528773>\u001b[0m in \u001b[0;36m<module>\u001b[0;34m()\u001b[0m\n\u001b[1;32m     16\u001b[0m \u001b[0;31m#print fftconvolve(red,green[::-1,::-1],mode='valid')\u001b[0m\u001b[0;34m\u001b[0m\u001b[0;34m\u001b[0m\u001b[0m\n\u001b[1;32m     17\u001b[0m \u001b[0;34m\u001b[0m\u001b[0m\n\u001b[0;32m---> 18\u001b[0;31m \u001b[0;32mprint\u001b[0m \u001b[0mskew\u001b[0m\u001b[0;34m(\u001b[0m\u001b[0mxhist\u001b[0m\u001b[0;34m)\u001b[0m\u001b[0;34m\u001b[0m\u001b[0m\n\u001b[0m\u001b[1;32m     19\u001b[0m \u001b[0;32mprint\u001b[0m \u001b[0mkurtosis\u001b[0m\u001b[0;34m(\u001b[0m\u001b[0myhist\u001b[0m\u001b[0;34m)\u001b[0m\u001b[0;34m\u001b[0m\u001b[0m\n\u001b[1;32m     20\u001b[0m \u001b[0;34m\u001b[0m\u001b[0m\n",
        "\u001b[0;31mNameError\u001b[0m: name 'skew' is not defined"
       ]
      },
      {
       "output_type": "stream",
       "stream": "stdout",
       "text": [
        "(480, 640, 3)\n",
        "(480, 640)\n",
        "(480, 640)\n"
       ]
      }
     ],
     "prompt_number": 28
    },
    {
     "cell_type": "code",
     "collapsed": false,
     "input": [
      "# edge detection\n",
      "from skimage.filter import canny\n",
      "edges = canny(flat)\n",
      "np.sum(edges) / float(im.size)"
     ],
     "language": "python",
     "metadata": {},
     "outputs": [
      {
       "metadata": {},
       "output_type": "pyout",
       "prompt_number": 52,
       "text": [
        "0.088761145404663927"
       ]
      }
     ],
     "prompt_number": 52
    },
    {
     "cell_type": "code",
     "collapsed": false,
     "input": [
      "# local entropy\n",
      "from skimage.filter.rank import entropy\n",
      "from skimage.morphology import disk\n",
      "entr = entropy(flat.astype(np.uint16),disk(5))\n",
      "plt.imshow(entr)\n",
      "np.sum(entr) / float(im.size)"
     ],
     "language": "python",
     "metadata": {},
     "outputs": [
      {
       "metadata": {},
       "output_type": "pyout",
       "prompt_number": 54,
       "text": [
        "1067.2007887517148"
       ]
      },
      {
       "metadata": {},
       "output_type": "display_data",
       "png": "[encoded data removed]",
       "text": [
        "<matplotlib.figure.Figure at 0x10bbd5b90>"
       ]
      }
     ],
     "prompt_number": 54
    },
    {
     "cell_type": "code",
     "collapsed": false,
     "input": [
      "# thresholding\n",
      "from skimage.filter import threshold_adaptive\n",
      "thresh = threshold_otsu(flat)\n",
      "binary = flat > thresh\n",
      "plt.imshow(binary)\n",
      "np.sum(binary) / float(im.size)"
     ],
     "language": "python",
     "metadata": {},
     "outputs": [
      {
       "metadata": {},
       "output_type": "pyout",
       "prompt_number": 50,
       "text": [
        "0.19478223593964333"
       ]
      },
      {
       "metadata": {},
       "output_type": "display_data",
       "png": "[encoded data removed]",
       "text": [
        "<matplotlib.figure.Figure at 0x1063d1390>"
       ]
      }
     ],
     "prompt_number": 50
    },
    {
     "cell_type": "code",
     "collapsed": false,
     "input": [
      "from skimage.feature import hog\n",
      "\n",
      "h = hog(flat, orientations=8, pixels_per_cell=(8, 8), cells_per_block=(3, 3))\n",
      "hog("
     ],
     "language": "python",
     "metadata": {},
     "outputs": [
      {
       "metadata": {},
       "output_type": "pyout",
       "prompt_number": 140,
       "text": [
        "(325728,)"
       ]
      }
     ],
     "prompt_number": 140
    },
    {
     "cell_type": "code",
     "collapsed": false,
     "input": [
      "# number of segments in image segmentation\n",
      "from skimage.segmentation import felzenszwalb\n",
      "flat = im[:,:,0:3].mean(2)\n",
      "im = imread('/Users/swahl/code/python/ay250_swahl/hw_04/50_categories/blimp/blimp_0009.jpg')\n",
      "#a = felzenszwalb(im,1)\n",
      "b = felzenszwalb(flat,1)\n",
      "#print np.unique(a).size\n",
      "print np.unique(b).size"
     ],
     "language": "python",
     "metadata": {},
     "outputs": [
      {
       "output_type": "stream",
       "stream": "stdout",
       "text": [
        "5\n"
       ]
      }
     ],
     "prompt_number": 57
    },
    {
     "cell_type": "code",
     "collapsed": false,
     "input": [
      "# Define and extract simple features (without use of additional libraries for image analysis)\n",
      "from scipy.signal import fftconvolve\n",
      "from scipy.stats import skew,kurtosis\n",
      "\n",
      "def extract_features_simple(image_path_list):\n",
      "    ''' Feature extraction for simple features of a flattened image, color component\n",
      "    images, and x and y histograms. Returns a total of 15 features. For a flattened\n",
      "    image find the aspect ratio, mean and variance. For each of the color channels, find\n",
      "    the mean normalized by the mean of the flattened image, as well as the correlation\n",
      "    between each pair of color channels. For a vertical and horizontally averaged histogram\n",
      "    find the maximum and minumum normalized by the mean, as well as the variance.'''\n",
      "    feature_list = []\n",
      "    for image_path in image_path_list:\n",
      "        image_array = imread(image_path)\n",
      "        \n",
      "        # flatten image if composed of component colors\n",
      "        # otherwise just return original image for both flattned image and color components\n",
      "        if len(image_array.shape) >=3 :\n",
      "            image_flat = image_array[:,:,0:3].mean(2)\n",
      "            image_red  = image_array[:,:,0]\n",
      "            image_blue = image_array[:,:,1]\n",
      "            image_green = image_array[:,:,2]\n",
      "            iscolor = True\n",
      "        else:\n",
      "            image_flat = image_array\n",
      "            #image_red  = image_array\n",
      "            #image_blue = image_array\n",
      "            #image_green = image_array\n",
      "            iscolor = False\n",
      "        xhist = image_flat.mean(0)\n",
      "        yhist = image_flat.mean(1)\n",
      "        \n",
      "        # features of flattened image\n",
      "        flat_aspect = float(image_flat.shape[0])/float(image_flat.shape[1])\n",
      "        flat_mean = image_flat.mean()\n",
      "        flat_var = image_flat.var()\n",
      "        \n",
      "        # normalized color intensity and color channel correlations\n",
      "        # return np.nan if image is black and white\n",
      "        if iscolor == True:\n",
      "            redness = image_red.mean() / flat_mean\n",
      "            blueness = image_blue.mean() / flat_mean\n",
      "            greeness = image_green.mean() / flat_mean\n",
      "            rb_ratio = redness / blueness\n",
      "            bg_ratio = blueness / greeness\n",
      "            rg_ratio = redness / greeness\n",
      "        else:\n",
      "            redness = np.nan; blueness = np.nan; greeness = np.nan\n",
      "            rb_ratio = np.nan; bg_ratio = np.nan; rg_ratio = np.nan\n",
      "                \n",
      "        # Features of x and y histograms\n",
      "        xhist_max = float(xhist.max()) / flat_mean\n",
      "        xhist_min = float(xhist.min()) / flat_mean\n",
      "        xhist_var = xhist.var()\n",
      "        xhist_skew = skew(xhist)\n",
      "        xhist_kur = kurtosis(xhist)\n",
      "        \n",
      "        yhist_max = float(yhist.max()) / flat_mean\n",
      "        yhist_min = float(yhist.min()) / flat_mean\n",
      "        yhist_var = yhist.var()\n",
      "        yhist_skew = skew(yhist)\n",
      "        yhist_kur = kurtosis(yhist)\n",
      "        \n",
      "        features = [flat_aspect,flat_mean,flat_var,rb_ratio, bg_ratio, rg_ratio,\n",
      "                    xhist_max,xhist_min,xhist_var,xhist_skew,xhist_kur,\n",
      "                    yhist_max,yhist_min,yhist_var,yhist_skew,yhist_kur]\n",
      "        feature_list.append([image_path, features])\n",
      "    \n",
      "    return feature_list\n",
      "\n",
      "\n",
      "# extract simple features using multi-core\n",
      "\n",
      "p = Pool(numprocessors)\n",
      "split_image_paths = split_seq(image_paths, numprocessors)\n",
      "result = p.map_async(extract_features_simple, split_image_paths)\n",
      "poolresult = result.get()\n",
      "combined_result = []\n",
      "for single_proc_result in poolresult:\n",
      "    for single_image_result in single_proc_result:\n",
      "        combined_result.append(single_image_result)\n",
      "simple_features = combined_result\n",
      "print 'done'\n",
      "\n",
      "# return names of all features stored in simple_features\n",
      "simple_features_names = [ 'flat_aspect', 'flat_mean', 'flat_var',\n",
      "                         'rb_ratio', 'bg_ratio', 'rg_ratio',\n",
      "                         'xhist_max', 'xhist_min', 'xhist_var','xhist_skew','xhist_kur', \n",
      "                         'yhist_max', 'yhist_min', 'yhist_var','yhist_skew','yhist_kur']\n",
      "    "
     ],
     "language": "python",
     "metadata": {},
     "outputs": [
      {
       "output_type": "stream",
       "stream": "stdout",
       "text": [
        "done\n"
       ]
      }
     ],
     "prompt_number": 84
    },
    {
     "cell_type": "code",
     "collapsed": false,
     "input": [
      "from skimage.filter import canny\n",
      "from skimage.filter.rank import entropy\n",
      "from skimage.morphology import disk\n",
      "from skimage.filter import threshold_otsu\n",
      "\n",
      "def extract_features_sk(image_path_list):\n",
      "    ''' Feature extraction for simple features of a flattened image, color component\n",
      "    images, and x and y histograms. Returns a total of 15 features. For a flattened\n",
      "    image find the aspect ratio, mean and variance. For each of the color channels, find\n",
      "    the mean normalized by the mean of the flattened image, as well as the correlation\n",
      "    between each pair of color channels. For a vertical and horizontally averaged histogram\n",
      "    find the maximum and minumum normalized by the mean, as well as the variance.'''\n",
      "    feature_list = []\n",
      "    for image_path in image_path_list:\n",
      "        image_array = imread(image_path)\n",
      "        if len(image_array.shape) >=3 :\n",
      "            image_flat = image_array[:,:,0:3].mean(2)\n",
      "        else:\n",
      "            image_flat = image_array\n",
      "        size = image_flat.size\n",
      "        \n",
      "        # edge detection\n",
      "        edges = canny(image_flat)\n",
      "        edge_density = np.sum(edges) / float(size)   \n",
      "\n",
      "        # local entropy\n",
      "        entr = entropy(image_flat.astype(np.uint16),disk(5))\n",
      "        entropy_density = np.sum(entr) / float(size)\n",
      "\n",
      "        # threshold region size\n",
      "        thresh = threshold_otsu(image_flat)\n",
      "        binary = image_flat > thresh\n",
      "        thresh_size = np.sum(binary) / float(size)\n",
      "        \n",
      "        features = [edge_density,entropy_density,thresh_size]\n",
      "        feature_list.append([image_path, features])\n",
      "    \n",
      "    return feature_list\n",
      "\n",
      "# extract sk features using multi-core\n",
      "\n",
      "p = Pool(numprocessors)\n",
      "split_image_paths = split_seq(image_paths, numprocessors)\n",
      "result = p.map_async(extract_features_sk, split_image_paths)\n",
      "poolresult = result.get()\n",
      "combined_result = []\n",
      "for single_proc_result in poolresult:\n",
      "    for single_image_result in single_proc_result:\n",
      "        combined_result.append(single_image_result)\n",
      "sk_features = combined_result\n",
      "print 'done'\n",
      "\n",
      "# return names of all features stored in simple_features\n",
      "sk_features_names = ['edge_density','entropy_density','thresh_size']\n"
     ],
     "language": "python",
     "metadata": {},
     "outputs": [
      {
       "output_type": "stream",
       "stream": "stdout",
       "text": [
        "done\n"
       ]
      }
     ],
     "prompt_number": 12
    },
    {
     "cell_type": "code",
     "collapsed": false,
     "input": [
      "#print sk_features"
     ],
     "language": "python",
     "metadata": {},
     "outputs": [],
     "prompt_number": 23
    },
    {
     "cell_type": "code",
     "collapsed": false,
     "input": [
      "# store features using pickle for quick reloading\n",
      "import pickle\n",
      "pickle.dump(simple_features,open( 'features/simple.p', \"wb\" ) )\n",
      "pickle.dump(simple_features_names,open('features/simple_names.p','wb') )"
     ],
     "language": "python",
     "metadata": {},
     "outputs": [],
     "prompt_number": 85
    },
    {
     "cell_type": "code",
     "collapsed": false,
     "input": [
      "import pickle\n",
      "pickle.dump(sk_features,open( 'features/sk.p', \"wb\" ) )\n",
      "pickle.dump(sk_features_names,open('features/sk_names.p','wb') )"
     ],
     "language": "python",
     "metadata": {},
     "outputs": [],
     "prompt_number": 15
    },
    {
     "cell_type": "code",
     "collapsed": false,
     "input": [
      "# reload features using pickle\n",
      "import pickle\n",
      "simple_features = pickle.load(open( 'features/simple.p', \"rb\" ))\n",
      "simple_features_names = pickle.load(open( 'features/simple_names.p', \"rb\" ))\n",
      "\n",
      "sk_features = pickle.load(open( 'features/sk.p', \"rb\" ))\n",
      "sk_features_names = pickle.load(open( 'features/sk_names.p', \"rb\" ))\n",
      "\n"
     ],
     "language": "python",
     "metadata": {},
     "outputs": [],
     "prompt_number": 16
    },
    {
     "cell_type": "code",
     "collapsed": false,
     "input": [
      "# edge detection (count edges?)\n",
      "# higher moments of distribution on images\n",
      "# HOG gradient detection (find where the gradient is the largest)\n",
      "# image segmentation\n",
      "# can resize images\n",
      "# opencv\n"
     ],
     "language": "python",
     "metadata": {},
     "outputs": [],
     "prompt_number": 191
    },
    {
     "cell_type": "code",
     "collapsed": false,
     "input": [
      "# need to modify this to take some fraction for each \n",
      "from math import floor\n",
      "\n",
      "features = [ [x[0],x[1]+y[1] ] for x,y in zip(simple_features,sk_features) ]\n",
      "\n",
      "# remove any data containing NaNs\n",
      "filt_features = [x for x in features if not np.isnan(np.sum(x[1])) ]\n",
      "\n",
      "data = np.array([ x[1] for x in filt_features ])\n",
      "#print data.shape\n",
      "\n",
      "# find categories and assign an integer value to each category\n",
      "categ = [ x[0].split('/')[-2] for x in filt_features]\n",
      "categ2int = dict(zip(np.unique(categ),range(len(np.unique(categ))) ) )\n",
      "\n",
      "featuresByCateg = [ [] for c in categ2int ]\n",
      "\n",
      "# split up features by category\n",
      "for x,c in zip(filt_features,categ):\n",
      "    idx = categ2int[c]\n",
      "    #print c, idx\n",
      "    featuresByCateg[idx].append(x[1])\n",
      "\n",
      "\n",
      "#print len(categ2int)\n",
      "\n",
      "# Choose what part of the dataset to use for training and testing\n",
      "ffit = .9\n",
      "Xtrl = [];Ytrl=[];Xtestl=[];Ytestl = []\n",
      "for i,f in enumerate(featuresByCateg):\n",
      "    \n",
      "    ifit = int(floor(ffit*len(f)))\n",
      "    Xtrl += f[0:ifit]\n",
      "    Ytrl += [i for x in range(ifit)]\n",
      "    Xtestl += f[ifit:]\n",
      "    Ytestl += [i for x in range(len(f)-ifit)]\n",
      "\n",
      "#print Ytrimmed    \n",
      "#print len(featuresByCateg[0])\n",
      "\n",
      "Xtr = np.array(Xtrl)\n",
      "Ytr = np.array(Ytrl)\n",
      "Xtest = np.array(Xtestl)\n",
      "Ytest = np.array(Ytestl)\n",
      "#Ytr = np.array([ categ2int[name] for name in categ ])\n",
      "\n",
      "print Xtr.shape\n",
      "print Ytr.shape\n",
      "print Xtest.shape\n",
      "print Ytest.shape"
     ],
     "language": "python",
     "metadata": {},
     "outputs": [
      {
       "output_type": "stream",
       "stream": "stdout",
       "text": [
        "(3766, 19)\n",
        "(3766,)\n",
        "(444, 19)\n",
        "(444,)\n"
       ]
      }
     ],
     "prompt_number": 17
    },
    {
     "cell_type": "code",
     "collapsed": false,
     "input": [
      "from sklearn import grid_search\n",
      "from sklearn.ensemble import RandomForestClassifier\n",
      "from sklearn import metrics\n",
      "from sklearn import preprocessing\n",
      "\n",
      "Xnorm = preprocessing.normalize(Xtr,axis=0)\n",
      "print Xnorm"
     ],
     "language": "python",
     "metadata": {},
     "outputs": [
      {
       "output_type": "stream",
       "stream": "stdout",
       "text": [
        "[[ 0.00759008  0.0229557   0.01770245 ...,  0.01464197  0.01399794\n",
        "   0.01726979]\n",
        " [ 0.00845199  0.02546049  0.01764074 ...,  0.01558856  0.01112703\n",
        "   0.02782605]\n",
        " [ 0.00773351  0.01936797  0.0190322  ...,  0.01483649  0.01391861\n",
        "   0.00755217]\n",
        " ..., \n",
        " [ 0.01336476  0.01883706  0.00726315 ...,  0.01194838  0.01190586\n",
        "   0.01842981]\n",
        " [ 0.01226657  0.02029625  0.00962981 ...,  0.01936674  0.0204331\n",
        "   0.02250677]\n",
        " [ 0.01227988  0.0090034   0.00700209 ...,  0.01796742  0.02007703\n",
        "   0.01542533]]\n"
       ]
      }
     ],
     "prompt_number": 19
    },
    {
     "cell_type": "code",
     "collapsed": false,
     "input": [
      "# train classifier\n",
      "#clf = RandomForestClassifier(n_estimators=50, n_jobs=-1, compute_importances=True)\n",
      "clf = RandomForestClassifier(n_estimators=50, n_jobs=-1, compute_importances=True)\n",
      "clf.fit(Xnorm, Ytr)"
     ],
     "language": "python",
     "metadata": {},
     "outputs": [
      {
       "output_type": "stream",
       "stream": "stderr",
       "text": [
        "/Users/swahl/anaconda/python.app/Contents/lib/python2.7/site-packages/sklearn/ensemble/forest.py:783: DeprecationWarning: Setting compute_importances is no longer required as version 0.14. Variable importances are now computed on the fly when accessing the feature_importances_ attribute. This parameter will be removed in 0.16.\n",
        "  DeprecationWarning)\n"
       ]
      },
      {
       "metadata": {},
       "output_type": "pyout",
       "prompt_number": 20,
       "text": [
        "RandomForestClassifier(bootstrap=True, compute_importances=None,\n",
        "            criterion='gini', max_depth=None, max_features='auto',\n",
        "            min_density=None, min_samples_leaf=1, min_samples_split=2,\n",
        "            n_estimators=50, n_jobs=-1, oob_score=False, random_state=None,\n",
        "            verbose=0)"
       ]
      }
     ],
     "prompt_number": 20
    },
    {
     "cell_type": "code",
     "collapsed": false,
     "input": [
      "# save classifier object\n",
      "pickle.dump(clf, open('trained_classifier.p','w'))\n",
      "clfbackup = clf"
     ],
     "language": "python",
     "metadata": {},
     "outputs": [],
     "prompt_number": 24
    },
    {
     "cell_type": "code",
     "collapsed": false,
     "input": [
      "# reload classifier object\n",
      "clf = pickle.load(open('trained_classifier.p','r'))"
     ],
     "language": "python",
     "metadata": {},
     "outputs": [],
     "prompt_number": 25
    },
    {
     "cell_type": "code",
     "collapsed": false,
     "input": [
      "# make predictions\n",
      "Xt = preprocessing.normalize(Xtest,axis=0)\n",
      "z = clf.predict(Xt)\n",
      "print z\n",
      "# output predictions\n",
      "clf.score(Xt,Ytest)"
     ],
     "language": "python",
     "metadata": {},
     "outputs": [
      {
       "output_type": "stream",
       "stream": "stdout",
       "text": [
        "[31  9 31  9  7  9  9  0 26 29 15 15  0  9  9  9  9  0  0  9  0  9  9 12  9\n",
        "  9  9  0  9  9  9  0  9  9  0  0  0 31  9 31  9  9  9 31  9 36 13 15  9  9\n",
        "  9  9  0  9 15 45 13 12 15 20 12 31  9 45  9 20 22 20 16  9 20 26  9 20 13\n",
        "  5 22 29 22  9 20 45 22  5 41  9 12 20  9  5 13 26 45  9 16 22 15 12 22 20\n",
        " 33  9 20  4 22  5 22  5 26  4 16 20 22  9 16  9 16 26 42 20  9  9  6 10 29\n",
        " 28 13 43 15  4  4 31 45 22 22 37  9 32  5  9 12 13 20 16 20 16 16  9 16 16\n",
        "  5 20 13  9 20 29 22  9 20  9 15 19 14  2 13 20  4 16  4 14 29  9  9 13 12\n",
        "  9  4 16  4 20  9 20  4 26 45  9 20 13  4 20  9 20 20  9  9 45 13 20 16  9\n",
        " 20 16 15 15  5 13  4 31 20 20 16  4 20 31 28 22 45  4  4 14 16  4 20  9  5\n",
        "  5 12  4 26 45 28 45  9  9 20 20 45  9 22 22 13 13 37 26 16 13 19 28  4 12\n",
        "  9  9  9  9  9 20 20  9  9 13 28  4 19 28 28 28 28 28 28 28 26 28 28 28  3\n",
        " 14 16 20 14 20 16 14  5 20 28 37 28  2 22 28 28  9 22 28  5  6  9  9  9  9\n",
        "  4 31  9 45 20  9  9 20 13 16 20  5  9 16 16 20  9 16 18 20  9 20  5 12  9\n",
        "  9 22  5 22 12 20  9 14 20 22 13  4 20 16 20  9  9 20  9 15  5 16 28  9  5\n",
        " 22 20 16  2  9 20  9 16 22  5  2 30 15 28 30  9 13 16  9 20  9  9  9 20 45\n",
        " 15  9 12  4 20 16 20 26  4  2 15  9 13 13  9  6 22 19  9 12  6 19 22 16  5\n",
        "  5 13  5 13 20 16 22 28 15 16 45  5 45 45  5  9  9 20 20  9  9 20 32  9 22\n",
        "  5 16 45 13 12  9 20  9 20 45 32 20 20 14  5 13  9 13 28]\n"
       ]
      },
      {
       "metadata": {},
       "output_type": "pyout",
       "prompt_number": 26,
       "text": [
        "0.083333333333333329"
       ]
      }
     ],
     "prompt_number": 26
    },
    {
     "cell_type": "code",
     "collapsed": false,
     "input": [
      "# Find the best Random Forest classifier\n",
      "from sklearn import grid_search\n",
      "from sklearn.ensemble import RandomForestClassifier\n",
      "from sklearn import metrics\n",
      "from sklearn import preprocessing\n",
      "\n",
      "\n",
      "# explore 3 different forest sizes and 3 choices of mtry\n",
      "parameters = {'n_estimators':[20,50,100],  'max_features':[5,10,15]}\n",
      "rf_tune = grid_search.GridSearchCV(RandomForestClassifier(), parameters,\\\n",
      "                                   score_func=metrics.zero_one_score, n_jobs = 2, cv = 5)\n",
      "rf_opt = rf_tune.fit(Xtr, Ytr)\n",
      "\n",
      "print(\"Best zero-one score: \" + str(rf_opt.best_score) + \"\\n\")\n",
      "print(\"Optimal Model:\\n\" + str(rf_opt.best_estimator_))"
     ],
     "language": "python",
     "metadata": {},
     "outputs": [
      {
       "output_type": "stream",
       "stream": "stderr",
       "text": [
        "/Users/swahl/anaconda/python.app/Contents/lib/python2.7/site-packages/sklearn/grid_search.py:466: DeprecationWarning: Passing function as ``score_func`` is deprecated and will be removed in 0.15. Either use strings or score objects.The relevant new parameter is called ''scoring''.\n",
        "  self.loss_func, self.score_func, self.scoring)\n"
       ]
      }
     ],
     "prompt_number": "*"
    }
   ],
   "metadata": {}
  }
 ]
}