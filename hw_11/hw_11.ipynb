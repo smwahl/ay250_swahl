{
 "metadata": {
  "name": ""
 },
 "nbformat": 3,
 "nbformat_minor": 0,
 "worksheets": [
  {
   "cells": [
    {
     "cell_type": "code",
     "collapsed": false,
     "input": [
      "%matplotlib inline\n",
      "import matplotlib.pyplot as plt\n",
      "import numpy as np\n",
      "import pandas as pd\n",
      "import pymc"
     ],
     "language": "python",
     "metadata": {},
     "outputs": [],
     "prompt_number": 7
    },
    {
     "cell_type": "markdown",
     "metadata": {},
     "source": [
      "### (a) Find the maximum likelihood estimate (MLE) of \u03bci for each player from the April data."
     ]
    },
    {
     "cell_type": "code",
     "collapsed": false,
     "input": [
      "april = pd.read_csv('hw_11_data/laa_2011_april.txt',sep='\\t')\n",
      "april"
     ],
     "language": "python",
     "metadata": {},
     "outputs": [
      {
       "html": [
        "<div style=\"max-height:1000px;max-width:1500px;overflow:auto;\">\n",
        "<table border=\"1\" class=\"dataframe\">\n",
        "  <thead>\n",
        "    <tr style=\"text-align: right;\">\n",
        "      <th></th>\n",
        "      <th>RK</th>\n",
        "      <th>Player</th>\n",
        "      <th>Team</th>\n",
        "      <th>Pos</th>\n",
        "      <th>G</th>\n",
        "      <th>AB</th>\n",
        "      <th>R</th>\n",
        "      <th>H</th>\n",
        "      <th>2B</th>\n",
        "      <th>3B</th>\n",
        "      <th>HR</th>\n",
        "      <th>RBI</th>\n",
        "      <th>BB</th>\n",
        "      <th>SO</th>\n",
        "      <th>SB</th>\n",
        "      <th>CS</th>\n",
        "      <th>AVG</th>\n",
        "      <th>OBP</th>\n",
        "      <th>SLG</th>\n",
        "      <th>OPS</th>\n",
        "    </tr>\n",
        "  </thead>\n",
        "  <tbody>\n",
        "    <tr>\n",
        "      <th>0 </th>\n",
        "      <td>  1</td>\n",
        "      <td>    Aybar, E</td>\n",
        "      <td> LAA</td>\n",
        "      <td> SS</td>\n",
        "      <td> 12</td>\n",
        "      <td>  47</td>\n",
        "      <td>  3</td>\n",
        "      <td> 17</td>\n",
        "      <td> 3</td>\n",
        "      <td> 0</td>\n",
        "      <td> 0</td>\n",
        "      <td>  3</td>\n",
        "      <td>  0</td>\n",
        "      <td>  4</td>\n",
        "      <td> 4</td>\n",
        "      <td> 0</td>\n",
        "      <td> 0.362</td>\n",
        "      <td> 0.362</td>\n",
        "      <td> 0.426</td>\n",
        "      <td> 0.787</td>\n",
        "    </tr>\n",
        "    <tr>\n",
        "      <th>1 </th>\n",
        "      <td>  2</td>\n",
        "      <td>  Izturis, M</td>\n",
        "      <td> LAA</td>\n",
        "      <td> 3B</td>\n",
        "      <td> 20</td>\n",
        "      <td>  81</td>\n",
        "      <td>  8</td>\n",
        "      <td> 25</td>\n",
        "      <td> 7</td>\n",
        "      <td> 0</td>\n",
        "      <td> 2</td>\n",
        "      <td>  8</td>\n",
        "      <td>  6</td>\n",
        "      <td> 14</td>\n",
        "      <td> 2</td>\n",
        "      <td> 2</td>\n",
        "      <td> 0.309</td>\n",
        "      <td> 0.356</td>\n",
        "      <td> 0.469</td>\n",
        "      <td> 0.825</td>\n",
        "    </tr>\n",
        "    <tr>\n",
        "      <th>2 </th>\n",
        "      <td>  3</td>\n",
        "      <td> Kendrick, H</td>\n",
        "      <td> LAA</td>\n",
        "      <td> 2B</td>\n",
        "      <td> 26</td>\n",
        "      <td> 104</td>\n",
        "      <td> 19</td>\n",
        "      <td> 32</td>\n",
        "      <td> 6</td>\n",
        "      <td> 1</td>\n",
        "      <td> 6</td>\n",
        "      <td> 12</td>\n",
        "      <td> 11</td>\n",
        "      <td> 22</td>\n",
        "      <td> 1</td>\n",
        "      <td> 0</td>\n",
        "      <td> 0.308</td>\n",
        "      <td> 0.385</td>\n",
        "      <td> 0.558</td>\n",
        "      <td> 0.942</td>\n",
        "    </tr>\n",
        "    <tr>\n",
        "      <th>3 </th>\n",
        "      <td>  4</td>\n",
        "      <td> Callaspo, A</td>\n",
        "      <td> LAA</td>\n",
        "      <td> 3B</td>\n",
        "      <td> 24</td>\n",
        "      <td>  89</td>\n",
        "      <td> 13</td>\n",
        "      <td> 27</td>\n",
        "      <td> 3</td>\n",
        "      <td> 0</td>\n",
        "      <td> 2</td>\n",
        "      <td>  8</td>\n",
        "      <td> 12</td>\n",
        "      <td> 10</td>\n",
        "      <td> 0</td>\n",
        "      <td> 0</td>\n",
        "      <td> 0.303</td>\n",
        "      <td> 0.386</td>\n",
        "      <td> 0.404</td>\n",
        "      <td> 0.791</td>\n",
        "    </tr>\n",
        "    <tr>\n",
        "      <th>4 </th>\n",
        "      <td>  5</td>\n",
        "      <td>  Bourjos, P</td>\n",
        "      <td> LAA</td>\n",
        "      <td> CF</td>\n",
        "      <td> 26</td>\n",
        "      <td>  90</td>\n",
        "      <td> 10</td>\n",
        "      <td> 27</td>\n",
        "      <td> 5</td>\n",
        "      <td> 4</td>\n",
        "      <td> 2</td>\n",
        "      <td>  9</td>\n",
        "      <td>  5</td>\n",
        "      <td> 28</td>\n",
        "      <td> 2</td>\n",
        "      <td> 4</td>\n",
        "      <td> 0.300</td>\n",
        "      <td> 0.333</td>\n",
        "      <td> 0.511</td>\n",
        "      <td> 0.844</td>\n",
        "    </tr>\n",
        "    <tr>\n",
        "      <th>5 </th>\n",
        "      <td>  6</td>\n",
        "      <td>   Conger, H</td>\n",
        "      <td> LAA</td>\n",
        "      <td>  C</td>\n",
        "      <td> 14</td>\n",
        "      <td>  44</td>\n",
        "      <td>  6</td>\n",
        "      <td> 12</td>\n",
        "      <td> 2</td>\n",
        "      <td> 0</td>\n",
        "      <td> 2</td>\n",
        "      <td>  9</td>\n",
        "      <td>  3</td>\n",
        "      <td>  9</td>\n",
        "      <td> 0</td>\n",
        "      <td> 0</td>\n",
        "      <td> 0.273</td>\n",
        "      <td> 0.333</td>\n",
        "      <td> 0.455</td>\n",
        "      <td> 0.788</td>\n",
        "    </tr>\n",
        "    <tr>\n",
        "      <th>6 </th>\n",
        "      <td>  7</td>\n",
        "      <td>    Abreu, B</td>\n",
        "      <td> LAA</td>\n",
        "      <td> RF</td>\n",
        "      <td> 25</td>\n",
        "      <td>  89</td>\n",
        "      <td> 12</td>\n",
        "      <td> 23</td>\n",
        "      <td> 6</td>\n",
        "      <td> 0</td>\n",
        "      <td> 1</td>\n",
        "      <td>  8</td>\n",
        "      <td> 22</td>\n",
        "      <td> 21</td>\n",
        "      <td> 2</td>\n",
        "      <td> 1</td>\n",
        "      <td> 0.258</td>\n",
        "      <td> 0.405</td>\n",
        "      <td> 0.360</td>\n",
        "      <td> 0.765</td>\n",
        "    </tr>\n",
        "    <tr>\n",
        "      <th>7 </th>\n",
        "      <td>  8</td>\n",
        "      <td> Amarista, A</td>\n",
        "      <td> LAA</td>\n",
        "      <td> 2B</td>\n",
        "      <td>  3</td>\n",
        "      <td>   8</td>\n",
        "      <td>  0</td>\n",
        "      <td>  2</td>\n",
        "      <td> 1</td>\n",
        "      <td> 0</td>\n",
        "      <td> 0</td>\n",
        "      <td>  3</td>\n",
        "      <td>  1</td>\n",
        "      <td>  3</td>\n",
        "      <td> 0</td>\n",
        "      <td> 0</td>\n",
        "      <td> 0.250</td>\n",
        "      <td> 0.300</td>\n",
        "      <td> 0.375</td>\n",
        "      <td> 0.675</td>\n",
        "    </tr>\n",
        "    <tr>\n",
        "      <th>8 </th>\n",
        "      <td>  8</td>\n",
        "      <td>   Trumbo, M</td>\n",
        "      <td> LAA</td>\n",
        "      <td> 3B</td>\n",
        "      <td> 23</td>\n",
        "      <td>  84</td>\n",
        "      <td> 11</td>\n",
        "      <td> 21</td>\n",
        "      <td> 5</td>\n",
        "      <td> 0</td>\n",
        "      <td> 4</td>\n",
        "      <td> 13</td>\n",
        "      <td>  2</td>\n",
        "      <td> 21</td>\n",
        "      <td> 2</td>\n",
        "      <td> 0</td>\n",
        "      <td> 0.250</td>\n",
        "      <td> 0.276</td>\n",
        "      <td> 0.452</td>\n",
        "      <td> 0.728</td>\n",
        "    </tr>\n",
        "    <tr>\n",
        "      <th>9 </th>\n",
        "      <td> 10</td>\n",
        "      <td>   Hunter, T</td>\n",
        "      <td> LAA</td>\n",
        "      <td> CF</td>\n",
        "      <td> 26</td>\n",
        "      <td> 103</td>\n",
        "      <td>  8</td>\n",
        "      <td> 22</td>\n",
        "      <td> 2</td>\n",
        "      <td> 0</td>\n",
        "      <td> 3</td>\n",
        "      <td> 11</td>\n",
        "      <td> 10</td>\n",
        "      <td> 24</td>\n",
        "      <td> 1</td>\n",
        "      <td> 0</td>\n",
        "      <td> 0.214</td>\n",
        "      <td> 0.287</td>\n",
        "      <td> 0.320</td>\n",
        "      <td> 0.607</td>\n",
        "    </tr>\n",
        "    <tr>\n",
        "      <th>10</th>\n",
        "      <td> 11</td>\n",
        "      <td>    Wells, V</td>\n",
        "      <td> LAA</td>\n",
        "      <td> CF</td>\n",
        "      <td> 25</td>\n",
        "      <td> 105</td>\n",
        "      <td> 10</td>\n",
        "      <td> 18</td>\n",
        "      <td> 2</td>\n",
        "      <td> 1</td>\n",
        "      <td> 1</td>\n",
        "      <td>  6</td>\n",
        "      <td>  5</td>\n",
        "      <td> 21</td>\n",
        "      <td> 0</td>\n",
        "      <td> 1</td>\n",
        "      <td> 0.171</td>\n",
        "      <td> 0.207</td>\n",
        "      <td> 0.238</td>\n",
        "      <td> 0.445</td>\n",
        "    </tr>\n",
        "    <tr>\n",
        "      <th>11</th>\n",
        "      <td> 12</td>\n",
        "      <td>   Mathis, J</td>\n",
        "      <td> LAA</td>\n",
        "      <td>  C</td>\n",
        "      <td> 13</td>\n",
        "      <td>  46</td>\n",
        "      <td>  3</td>\n",
        "      <td>  7</td>\n",
        "      <td> 3</td>\n",
        "      <td> 0</td>\n",
        "      <td> 0</td>\n",
        "      <td>  4</td>\n",
        "      <td>  1</td>\n",
        "      <td> 16</td>\n",
        "      <td> 0</td>\n",
        "      <td> 0</td>\n",
        "      <td> 0.152</td>\n",
        "      <td> 0.167</td>\n",
        "      <td> 0.217</td>\n",
        "      <td> 0.384</td>\n",
        "    </tr>\n",
        "    <tr>\n",
        "      <th>12</th>\n",
        "      <td> 14</td>\n",
        "      <td>   Wilson, B</td>\n",
        "      <td> LAA</td>\n",
        "      <td>  C</td>\n",
        "      <td>  5</td>\n",
        "      <td>   8</td>\n",
        "      <td>  0</td>\n",
        "      <td>  1</td>\n",
        "      <td> 0</td>\n",
        "      <td> 0</td>\n",
        "      <td> 0</td>\n",
        "      <td>  0</td>\n",
        "      <td>  1</td>\n",
        "      <td>  2</td>\n",
        "      <td> 0</td>\n",
        "      <td> 0</td>\n",
        "      <td> 0.125</td>\n",
        "      <td> 0.222</td>\n",
        "      <td> 0.125</td>\n",
        "      <td> 0.347</td>\n",
        "    </tr>\n",
        "  </tbody>\n",
        "</table>\n",
        "</div>"
       ],
       "metadata": {},
       "output_type": "pyout",
       "prompt_number": 12,
       "text": [
        "    RK       Player Team Pos   G   AB   R   H  2B  3B  HR  RBI  BB  SO  SB  \\\n",
        "0    1     Aybar, E  LAA  SS  12   47   3  17   3   0   0    3   0   4   4   \n",
        "1    2   Izturis, M  LAA  3B  20   81   8  25   7   0   2    8   6  14   2   \n",
        "2    3  Kendrick, H  LAA  2B  26  104  19  32   6   1   6   12  11  22   1   \n",
        "3    4  Callaspo, A  LAA  3B  24   89  13  27   3   0   2    8  12  10   0   \n",
        "4    5   Bourjos, P  LAA  CF  26   90  10  27   5   4   2    9   5  28   2   \n",
        "5    6    Conger, H  LAA   C  14   44   6  12   2   0   2    9   3   9   0   \n",
        "6    7     Abreu, B  LAA  RF  25   89  12  23   6   0   1    8  22  21   2   \n",
        "7    8  Amarista, A  LAA  2B   3    8   0   2   1   0   0    3   1   3   0   \n",
        "8    8    Trumbo, M  LAA  3B  23   84  11  21   5   0   4   13   2  21   2   \n",
        "9   10    Hunter, T  LAA  CF  26  103   8  22   2   0   3   11  10  24   1   \n",
        "10  11     Wells, V  LAA  CF  25  105  10  18   2   1   1    6   5  21   0   \n",
        "11  12    Mathis, J  LAA   C  13   46   3   7   3   0   0    4   1  16   0   \n",
        "12  14    Wilson, B  LAA   C   5    8   0   1   0   0   0    0   1   2   0   \n",
        "\n",
        "    CS    AVG    OBP    SLG    OPS  \n",
        "0    0  0.362  0.362  0.426  0.787  \n",
        "1    2  0.309  0.356  0.469  0.825  \n",
        "2    0  0.308  0.385  0.558  0.942  \n",
        "3    0  0.303  0.386  0.404  0.791  \n",
        "4    4  0.300  0.333  0.511  0.844  \n",
        "5    0  0.273  0.333  0.455  0.788  \n",
        "6    1  0.258  0.405  0.360  0.765  \n",
        "7    0  0.250  0.300  0.375  0.675  \n",
        "8    0  0.250  0.276  0.452  0.728  \n",
        "9    0  0.214  0.287  0.320  0.607  \n",
        "10   1  0.171  0.207  0.238  0.445  \n",
        "11   0  0.152  0.167  0.217  0.384  \n",
        "12   0  0.125  0.222  0.125  0.347  "
       ]
      }
     ],
     "prompt_number": 12
    },
    {
     "cell_type": "code",
     "collapsed": false,
     "input": [
      "i = april.index\n",
      "mle = april.H / april.AB.astype(float)\n",
      "mle"
     ],
     "language": "python",
     "metadata": {},
     "outputs": [
      {
       "metadata": {},
       "output_type": "pyout",
       "prompt_number": 46,
       "text": [
        "0     0.361702\n",
        "1     0.308642\n",
        "2     0.307692\n",
        "3     0.303371\n",
        "4     0.300000\n",
        "5     0.272727\n",
        "6     0.258427\n",
        "7     0.250000\n",
        "8     0.250000\n",
        "9     0.213592\n",
        "10    0.171429\n",
        "11    0.152174\n",
        "12    0.125000\n",
        "dtype: float64"
       ]
      }
     ],
     "prompt_number": 46
    },
    {
     "cell_type": "markdown",
     "metadata": {},
     "source": [
      "### (b) Draw a sample from the posterior (of size > 1000) assuming a Beta prior for each \u03bci : \u03bci ~ Beta(alpha, beta)"
     ]
    },
    {
     "cell_type": "code",
     "collapsed": false,
     "input": [
      "# Tune the prior on mu to match:\n",
      "# In 2010 the mean batting average was 0.255 and the variance between players was 0.0011.\n",
      "from scipy import stats\n",
      "\n",
      "avg = 0.255\n",
      "var = 0.0011\n",
      "sigma = np.sqrt(var)\n",
      "\n",
      "# Use formulas relating beta distribution parameters to mean and variance\n",
      "x_theta = np.linspace(0, 1, 101)\n",
      "alpha = ((1-avg)/sigma**2 - 1/avg)*avg**2\n",
      "beta = alpha*(1/avg-1)\n",
      "print 'alpha:',alpha,'beta:',beta\n",
      "\n",
      "p_theta = stats.beta(alpha, beta).pdf(x_theta)\n",
      "\n",
      "# Display prior for infered beta distribution parameters\n",
      "plt.plot(x_theta, p_theta, linewidth=3.)\n",
      "plt.ylim([0,max(p_theta)])\n",
      "plt.xlabel(\"Theta\")\n",
      "plt.ylabel(\"p(Theta)\")\n",
      "plt.axvline(x=avg,color='r')\n",
      "plt.axvline(x=avg+sigma,color='r',ls='dashed')\n",
      "plt.axvline(x=avg-sigma,color='r',ls='dashed')\n",
      "\n",
      "plt.title(\"Prior Probability for Annual Batting average\")"
     ],
     "language": "python",
     "metadata": {},
     "outputs": [
      {
       "output_type": "stream",
       "stream": "stdout",
       "text": [
        "alpha: 43.7846590909 beta: 127.919886364\n"
       ]
      },
      {
       "metadata": {},
       "output_type": "pyout",
       "prompt_number": 39,
       "text": [
        "<matplotlib.text.Text at 0x11126d810>"
       ]
      },
      {
       "metadata": {},
       "output_type": "display_data",
       "png": "[encoded data removed]",
       "text": [
        "<matplotlib.figure.Figure at 0x1111cc910>"
       ]
      }
     ],
     "prompt_number": 39
    },
    {
     "cell_type": "markdown",
     "metadata": {},
     "source": [
      "These values for alpha and beta are explicitly put into the model in 'BattingModel.py'"
     ]
    },
    {
     "cell_type": "code",
     "collapsed": false,
     "input": [
      "import BattingModel\n",
      "from pymc import MCMC\n",
      "\n",
      "# instantiate MCMC object to handle our model\n",
      "M = MCMC(BattingModel)\n"
     ],
     "language": "python",
     "metadata": {},
     "outputs": [],
     "prompt_number": 3
    },
    {
     "cell_type": "code",
     "collapsed": false,
     "input": [
      "# Run an MCMC chain of length 10,000 with 1000 burn-in and thinning by 10\n",
      "# using Metropolis-Hastings algorithm\n",
      "M.sample(iter=10000, burn=1000, thin=2)"
     ],
     "language": "python",
     "metadata": {},
     "outputs": [
      {
       "output_type": "stream",
       "stream": "stdout",
       "text": [
        "\r",
        " [--                6%                  ] 694 of 10000 complete in 0.5 sec"
       ]
      },
      {
       "output_type": "stream",
       "stream": "stdout",
       "text": [
        "\r",
        " [-----            14%                  ] 1417 of 10000 complete in 1.0 sec"
       ]
      },
      {
       "output_type": "stream",
       "stream": "stdout",
       "text": [
        "\r",
        " [-------          20%                  ] 2082 of 10000 complete in 1.5 sec"
       ]
      },
      {
       "output_type": "stream",
       "stream": "stdout",
       "text": [
        "\r",
        " [----------       27%                  ] 2772 of 10000 complete in 2.0 sec"
       ]
      },
      {
       "output_type": "stream",
       "stream": "stdout",
       "text": [
        "\r",
        " [-------------    34%                  ] 3435 of 10000 complete in 2.5 sec"
       ]
      },
      {
       "output_type": "stream",
       "stream": "stdout",
       "text": [
        "\r",
        " [---------------  41%                  ] 4123 of 10000 complete in 3.0 sec"
       ]
      },
      {
       "output_type": "stream",
       "stream": "stdout",
       "text": [
        "\r",
        " [-----------------47%                  ] 4780 of 10000 complete in 3.5 sec"
       ]
      },
      {
       "output_type": "stream",
       "stream": "stdout",
       "text": [
        "\r",
        " [-----------------54%                  ] 5472 of 10000 complete in 4.0 sec"
       ]
      },
      {
       "output_type": "stream",
       "stream": "stdout",
       "text": [
        "\r",
        " [-----------------61%---               ] 6128 of 10000 complete in 4.5 sec"
       ]
      },
      {
       "output_type": "stream",
       "stream": "stdout",
       "text": [
        "\r",
        " [-----------------67%-----             ] 6792 of 10000 complete in 5.0 sec"
       ]
      },
      {
       "output_type": "stream",
       "stream": "stdout",
       "text": [
        "\r",
        " [-----------------74%--------          ] 7446 of 10000 complete in 5.5 sec"
       ]
      },
      {
       "output_type": "stream",
       "stream": "stdout",
       "text": [
        "\r",
        " [-----------------81%----------        ] 8127 of 10000 complete in 6.0 sec"
       ]
      },
      {
       "output_type": "stream",
       "stream": "stdout",
       "text": [
        "\r",
        " [-----------------88%-------------     ] 8802 of 10000 complete in 6.5 sec"
       ]
      },
      {
       "output_type": "stream",
       "stream": "stdout",
       "text": [
        "\r",
        " [-----------------94%---------------   ] 9453 of 10000 complete in 7.0 sec"
       ]
      },
      {
       "output_type": "stream",
       "stream": "stdout",
       "text": [
        "\r",
        " [-----------------99%----------------- ] 9957 of 10000 complete in 7.5 sec"
       ]
      },
      {
       "output_type": "stream",
       "stream": "stdout",
       "text": [
        "\r",
        " [-----------------100%-----------------] 10000 of 10000 complete in 7.5 sec"
       ]
      }
     ],
     "prompt_number": 4
    },
    {
     "cell_type": "code",
     "collapsed": false,
     "input": [
      "M.stats()"
     ],
     "language": "python",
     "metadata": {},
     "outputs": [
      {
       "metadata": {},
       "output_type": "pyout",
       "prompt_number": 5,
       "text": [
        "{'mu_0': {'95% HPD interval': array([ 0.2216894 ,  0.33964547]),\n",
        "  'mc error': 0.00090116018306172412,\n",
        "  'mean': 0.27790696267838338,\n",
        "  'n': 4500,\n",
        "  'quantiles': {2.5: 0.21955045328057471,\n",
        "   25: 0.2559364578947681,\n",
        "   50: 0.27801712540625251,\n",
        "   75: 0.29867873311544613,\n",
        "   97.5: 0.33833858965951691},\n",
        "  'standard deviation': 0.030737143036310831},\n",
        " 'mu_1': {'95% HPD interval': array([ 0.21590332,  0.32598019]),\n",
        "  'mc error': 0.00075115475611393391,\n",
        "  'mean': 0.2712432383743108,\n",
        "  'n': 4500,\n",
        "  'quantiles': {2.5: 0.21689894296009646,\n",
        "   25: 0.25326669509036298,\n",
        "   50: 0.26837181256844789,\n",
        "   75: 0.29007441436151216,\n",
        "   97.5: 0.32840122354541124},\n",
        "  'standard deviation': 0.028056066157297332},\n",
        " 'mu_10': {'95% HPD interval': array([ 0.17775288,  0.26936466]),\n",
        "  'mc error': 0.00070724727053332983,\n",
        "  'mean': 0.22341674142355411,\n",
        "  'n': 4500,\n",
        "  'quantiles': {2.5: 0.17821893400017341,\n",
        "   25: 0.20610851600877445,\n",
        "   50: 0.22316588392193651,\n",
        "   75: 0.23929137451395574,\n",
        "   97.5: 0.27083295641155058},\n",
        "  'standard deviation': 0.023794097607386579},\n",
        " 'mu_11': {'95% HPD interval': array([ 0.18203745,  0.29094038]),\n",
        "  'mc error': 0.00083457325749914345,\n",
        "  'mean': 0.2331729650569408,\n",
        "  'n': 4500,\n",
        "  'quantiles': {2.5: 0.18218184196640153,\n",
        "   25: 0.21373841700511381,\n",
        "   50: 0.231888765949403,\n",
        "   75: 0.25171617660177764,\n",
        "   97.5: 0.29131465778815907},\n",
        "  'standard deviation': 0.027915027152113314},\n",
        " 'mu_12': {'95% HPD interval': array([ 0.19290753,  0.31719679]),\n",
        "  'mc error': 0.0008860942030117485,\n",
        "  'mean': 0.24939978820863781,\n",
        "  'n': 4500,\n",
        "  'quantiles': {2.5: 0.1922938600421229,\n",
        "   25: 0.22651410254563123,\n",
        "   50: 0.24725939822530724,\n",
        "   75: 0.27135047300147264,\n",
        "   97.5: 0.31719679198811701},\n",
        "  'standard deviation': 0.032777664765835123},\n",
        " 'mu_2': {'95% HPD interval': array([ 0.22353428,  0.33133811]),\n",
        "  'mc error': 0.00080510121155745744,\n",
        "  'mean': 0.27566966028711232,\n",
        "  'n': 4500,\n",
        "  'quantiles': {2.5: 0.2243260503421465,\n",
        "   25: 0.25655220439918652,\n",
        "   50: 0.27443112343619125,\n",
        "   75: 0.29452343305064882,\n",
        "   97.5: 0.33288749631399467},\n",
        "  'standard deviation': 0.028097667602240254},\n",
        " 'mu_3': {'95% HPD interval': array([ 0.21490118,  0.32025865]),\n",
        "  'mc error': 0.0007969385365755048,\n",
        "  'mean': 0.2707982058624015,\n",
        "  'n': 4500,\n",
        "  'quantiles': {2.5: 0.21704388894088536,\n",
        "   25: 0.25332609314307908,\n",
        "   50: 0.27013681627950764,\n",
        "   75: 0.28821081476826038,\n",
        "   97.5: 0.324823409872039},\n",
        "  'standard deviation': 0.026504960460508147},\n",
        " 'mu_4': {'95% HPD interval': array([ 0.22105867,  0.32598911]),\n",
        "  'mc error': 0.00094039275772365137,\n",
        "  'mean': 0.27145755434033053,\n",
        "  'n': 4500,\n",
        "  'quantiles': {2.5: 0.22062558094253176,\n",
        "   25: 0.25187790601166554,\n",
        "   50: 0.27062936637655122,\n",
        "   75: 0.2896776671480793,\n",
        "   97.5: 0.32578271113539115},\n",
        "  'standard deviation': 0.027331288290036667},\n",
        " 'mu_5': {'95% HPD interval': array([ 0.20110554,  0.31679864]),\n",
        "  'mc error': 0.00080035329170769832,\n",
        "  'mean': 0.2579791953415399,\n",
        "  'n': 4500,\n",
        "  'quantiles': {2.5: 0.20338412488335741,\n",
        "   25: 0.2369404580237969,\n",
        "   50: 0.25672141053395198,\n",
        "   75: 0.27708404393223174,\n",
        "   97.5: 0.32098714665822847},\n",
        "  'standard deviation': 0.029781390326360142},\n",
        " 'mu_6': {'95% HPD interval': array([ 0.20646472,  0.30633382]),\n",
        "  'mc error': 0.00071682156852595003,\n",
        "  'mean': 0.25516882215156333,\n",
        "  'n': 4500,\n",
        "  'quantiles': {2.5: 0.20646472090787393,\n",
        "   25: 0.23623308867154771,\n",
        "   50: 0.25453817199014817,\n",
        "   75: 0.27333163075533279,\n",
        "   97.5: 0.3065426319983986},\n",
        "  'standard deviation': 0.026317515808107185},\n",
        " 'mu_7': {'95% HPD interval': array([ 0.19331908,  0.31684541]),\n",
        "  'mc error': 0.00086790440067298878,\n",
        "  'mean': 0.25544358422513619,\n",
        "  'n': 4500,\n",
        "  'quantiles': {2.5: 0.19668499414800594,\n",
        "   25: 0.23237530413258117,\n",
        "   50: 0.2541932891143257,\n",
        "   75: 0.27659988284035536,\n",
        "   97.5: 0.32284129673500905},\n",
        "  'standard deviation': 0.032178860034570191},\n",
        " 'mu_8': {'95% HPD interval': array([ 0.20020288,  0.30680368]),\n",
        "  'mc error': 0.00075577393853937561,\n",
        "  'mean': 0.25399007801496531,\n",
        "  'n': 4500,\n",
        "  'quantiles': {2.5: 0.1997761596796446,\n",
        "   25: 0.2348408120412197,\n",
        "   50: 0.25367090234473205,\n",
        "   75: 0.27240077159584491,\n",
        "   97.5: 0.30670512327453614},\n",
        "  'standard deviation': 0.02781007107710292},\n",
        " 'mu_9': {'95% HPD interval': array([ 0.19117565,  0.28770166]),\n",
        "  'mc error': 0.00077239982118099278,\n",
        "  'mean': 0.23935902955681623,\n",
        "  'n': 4500,\n",
        "  'quantiles': {2.5: 0.19280343245594658,\n",
        "   25: 0.22269308819032604,\n",
        "   50: 0.23784612934986135,\n",
        "   75: 0.25589932533062532,\n",
        "   97.5: 0.29087404741134271},\n",
        "  'standard deviation': 0.024755775957293297}}"
       ]
      }
     ],
     "prompt_number": 5
    },
    {
     "cell_type": "markdown",
     "metadata": {},
     "source": [
      "### (c) Check convergence of your MCMC sampler by looking at the trace plots for at least 3 of the \u03bci"
     ]
    },
    {
     "cell_type": "code",
     "collapsed": false,
     "input": [
      "plt.plot(M.trace('mu_0')[:])"
     ],
     "language": "python",
     "metadata": {},
     "outputs": [
      {
       "metadata": {},
       "output_type": "pyout",
       "prompt_number": 9,
       "text": [
        "[<matplotlib.lines.Line2D at 0x10b2e8290>]"
       ]
      },
      {
       "metadata": {},
       "output_type": "display_data",
       "png": "[encoded data removed]",
       "text": [
        "<matplotlib.figure.Figure at 0x10aee0d10>"
       ]
      }
     ],
     "prompt_number": 9
    },
    {
     "cell_type": "code",
     "collapsed": false,
     "input": [
      "plt.plot(M.trace('mu_5')[:])"
     ],
     "language": "python",
     "metadata": {},
     "outputs": [
      {
       "metadata": {},
       "output_type": "pyout",
       "prompt_number": 10,
       "text": [
        "[<matplotlib.lines.Line2D at 0x10af478d0>]"
       ]
      },
      {
       "metadata": {},
       "output_type": "display_data",
       "png": "[encoded data removed]",
       "text": [
        "<matplotlib.figure.Figure at 0x10b2d4290>"
       ]
      }
     ],
     "prompt_number": 10
    },
    {
     "cell_type": "code",
     "collapsed": false,
     "input": [
      "plt.plot(M.trace('mu_10')[:])"
     ],
     "language": "python",
     "metadata": {},
     "outputs": [
      {
       "metadata": {},
       "output_type": "pyout",
       "prompt_number": 11,
       "text": [
        "[<matplotlib.lines.Line2D at 0x10afc6410>]"
       ]
      },
      {
       "metadata": {},
       "output_type": "display_data",
       "png": "[encoded data removed]",
       "text": [
        "<matplotlib.figure.Figure at 0x10af409d0>"
       ]
      }
     ],
     "prompt_number": 11
    },
    {
     "cell_type": "markdown",
     "metadata": {},
     "source": [
      "### (d) Compute the posterior mean and posterior 95% CI for each \u03bci"
     ]
    },
    {
     "cell_type": "code",
     "collapsed": false,
     "input": [
      "post_means = np.zeros(len(april.index))\n",
      "post_CIs = np.zeros([len(april.index),2])\n",
      "for i in april.index:\n",
      "    post_means[i] = np.mean(M.trace('mu_%i' % i)[:])\n",
      "    post_CIs[i,0] =  M.stats()['mu_%i' % i]['quantiles'][2.5] \n",
      "    post_CIs[i,1] =  M.stats()['mu_%i' % i]['quantiles'][97.5] \n",
      "                     "
     ],
     "language": "python",
     "metadata": {},
     "outputs": [],
     "prompt_number": 19
    },
    {
     "cell_type": "code",
     "collapsed": false,
     "input": [
      "april.index"
     ],
     "language": "python",
     "metadata": {},
     "outputs": [
      {
       "metadata": {},
       "output_type": "pyout",
       "prompt_number": 14,
       "text": [
        "Int64Index([0, 1, 2, 3, 4, 5, 6, 7, 8, 9, 10, 11, 12], dtype=int64)"
       ]
      }
     ],
     "prompt_number": 14
    },
    {
     "cell_type": "code",
     "collapsed": false,
     "input": [
      "# plot posterior density for l\n",
      "plt.figure(figsize=(12, 10))\n",
      "plt.hist(M.trace('l')[:],normed=True,bins=20)\n",
      "plt.xlabel('l (disasters per year)',fontsize=20)\n",
      "plt.ylabel('Posterior Density',fontsize=20)\n",
      "\n",
      "# plot posterior mean\n",
      "lpostmean = np.mean(M.trace('l')[:])\n",
      "plt.axvline(x=lpostmean, color='red',lw=5)\n",
      "\n",
      "lpost2_5 = M.stats()['l']['quantiles'][2.5]\n",
      "lpost97_5 = M.stats()['l']['quantiles'][97.5]\n",
      "plt.axvline(x=lpost2_5, color='red',lw=3,linestyle='--')\n",
      "plt.axvline(x=lpost97_5, color='red',lw=3, linestyle='--')"
     ],
     "language": "python",
     "metadata": {},
     "outputs": []
    }
   ],
   "metadata": {}
  }
 ]
}