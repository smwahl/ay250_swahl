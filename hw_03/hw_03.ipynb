{
 "metadata": {
  "name": ""
 },
 "nbformat": 3,
 "nbformat_minor": 0,
 "worksheets": [
  {
   "cells": [
    {
     "cell_type": "code",
     "collapsed": false,
     "input": [
      "%matplotlib \n",
      "import matplotlib.pyplot as plt\n",
      "import numpy as np"
     ],
     "language": "python",
     "metadata": {},
     "outputs": [
      {
       "output_type": "stream",
       "stream": "stdout",
       "text": [
        "Using matplotlib backend: MacOSX\n"
       ]
      }
     ],
     "prompt_number": 1
    },
    {
     "cell_type": "markdown",
     "metadata": {},
     "source": [
      "1) Reproduce one of your old published-paper quality plots with matplotlib.\n",
      "Provide the original plot, the recreated matplotlib plot, and the Python code used to\n",
      "make the new plot. You can ask us for an example from us if you dont have your own\n",
      "plots (we\u2019ll put a few on Piazza in a few days)."
     ]
    },
    {
     "cell_type": "code",
     "collapsed": false,
     "input": [
      "!ls"
     ],
     "language": "python",
     "metadata": {},
     "outputs": [
      {
       "output_type": "stream",
       "stream": "stdout",
       "text": [
        "hw_03.ipynb hw_3-2.png  hw_3.pdf    \u001b[36mhw_3_data\u001b[m\u001b[m\r\n"
       ]
      }
     ],
     "prompt_number": 2
    },
    {
     "cell_type": "code",
     "collapsed": false,
     "input": [
      "# load data to arrays\n",
      "def converter(x):\n",
      "    if x == 'NA': \n",
      "        return np.nan \n",
      "    else: \n",
      "        return float(x) \n",
      "\n",
      "eff_data = np.loadtxt('Efficiency.txt',skiprows=1)\n",
      "pur_data = np.loadtxt('Purity.txt',skiprows=1, converters={1:converter,2:converter})\n",
      "\n",
      "print eff_data[0:5,:]\n",
      "print pur_data[0:5,:]"
     ],
     "language": "python",
     "metadata": {},
     "outputs": [
      {
       "output_type": "stream",
       "stream": "stdout",
       "text": [
        "[[ 0.          0.          0.        ]\n",
        " [ 0.00746269  0.00944444  0.02097362]\n",
        " [ 0.01492537  0.04555556  0.0241839 ]\n",
        " [ 0.02238806  0.08111111  0.03199716]\n",
        " [ 0.02985075  0.11444444  0.04012389]]\n",
        "[[ 0.                 nan         nan]\n",
        " [ 0.00746269  0.17        0.37752517]\n",
        " [ 0.01492537  0.41        0.21765509]\n",
        " [ 0.02238806  0.48666667  0.19198298]\n",
        " [ 0.02985075  0.515       0.1805575 ]]\n"
       ]
      }
     ],
     "prompt_number": 13
    },
    {
     "cell_type": "code",
     "collapsed": false,
     "input": [
      "ax1.get_ylim"
     ],
     "language": "python",
     "metadata": {},
     "outputs": [
      {
       "metadata": {},
       "output_type": "pyout",
       "prompt_number": 60,
       "text": [
        "<bound method AxesSubplot.get_ylim of <matplotlib.axes.AxesSubplot object at 0x10f09e5d0>>"
       ]
      }
     ],
     "prompt_number": 60
    },
    {
     "cell_type": "code",
     "collapsed": false,
     "input": [
      "plt.close('all')\n",
      "f, axes = plt.subplots(nrows=1,ncols=2,figsize=(14,6)) #,sharey=True)\n",
      "ax0 = axes[0];ax1 = axes[1]\n",
      "\n",
      "#define additional lines on plot\n",
      "effline = np.vstack((eff_data[0,:],eff_data[-1,:]))\n",
      "purline = np.vstack((np.array([0.,pur_data[-1,1],0.]),pur_data[-1,:]))\n",
      "\n",
      "\n",
      "\n",
      "ax0.plot(eff_data[:,0],eff_data[:,1],'k-')\n",
      "ax0.plot(effline[:,0],effline[:,1],'k-')\n",
      "#ax0.errorbar(eff_data[:,0],eff_data[:,1],yerr=eff_data[:,2])\n",
      "ax0.fill_between(eff_data[:,0],eff_data[:,1]-eff_data[:,2],\n",
      "                 eff_data[:,1]+eff_data[:,2],facecolor='grey',alpha=0.4)\n",
      "\n",
      "\n",
      "ax1.plot(pur_data[:,0],pur_data[:,1],'k-')\n",
      "ax1.plot(purline[:,0],purline[:,1],'k-')\n",
      "#ax0.errorbar(eff_data[:,0],eff_data[:,1],yerr=eff_data[:,2])\n",
      "ax1.fill_between(pur_data[:,0],pur_data[:,1]-pur_data[:,2],\n",
      "                 pur_data[:,1]+pur_data[:,2],facecolor='grey',alpha=0.4)\n",
      "\n",
      "#set titles and axis labels\n",
      "titlefontsize = 24\n",
      "labelfontsize = 14\n",
      "ax0.set_title('Efficiency',size=titlefontsize)\n",
      "ax1.set_title('Purity',size=titlefontsize)\n",
      "ax0.set_xlabel('Fraction of GRBs Followed up',size=labelfontsize)\n",
      "ax0.set_ylabel('Fraction of high (z > 4) GRBs observed',size=labelfontsize)\n",
      "ax1.set_xlabel('Fraction of GRBs Followed up',size=labelfontsize)\n",
      "ax1.set_ylabel('Fraction of observed GRBs that are high z (z > 4)',size=labelfontsize)\n",
      "\n",
      "# set xlim and ylim\n",
      "x0 = -0.025; x1 = 1.025; y0 = -0.025; y1 =1.025\n",
      "ax0.set_xlim(x0,x1)\n",
      "ax1.set_xlim(x0,x1)\n",
      "ax0.set_ylim(y0,y1)\n",
      "ax1.set_ylim(y0,y1)\n",
      "\n",
      "# Plot line for example description\n",
      "y2 = .565; y3=.375\n",
      "line1 = np.array([[0.2,y0],[0.2,y2]])\n",
      "line2 = np.array([[0.2,y0],[0.2,y3]])     \n",
      "\n",
      "ax0.plot(line1[:,0],line1[:,1],'k--',linewidth=2)\n",
      "ax1.plot(line2[:,0],line2[:,1],'k--',linewidth=2)\n",
      "\n",
      "# Add annotations \n",
      "annfontsize = 16\n",
      "text1 = 'Follow up 20% of\\nbursts to capture ~55%\\nof high-z events'\n",
      "text2 = 'If 20% of events are\\nfollowed up, ~40% of\\nthem will be high z'\n",
      "text3 = 'Random\\nGuessing'\n",
      "\n",
      "#ax0.text(0.45, 0.15, text1,size=annfontsize)\n",
      "#ax1.text(0.0,0.78,text2,size=annfontsize)\n",
      "#ax0.text(0.7,0.42,text3,size=annfontsize)\n",
      "#ax1.text(0.7,0.42,text3,size=annfontsize)\n",
      "\n",
      "ax0.annotate(text1, xy=(0.2, y2), xytext=(0.45, 0.15), size=annfontsize,\n",
      "            arrowprops=dict(facecolor='black', width=0.8, \n",
      "                            headwidth=7, shrink=0.08))\n",
      "ax1.annotate(text2, xy=(0.2, y3), xytext=(0.0, 0.78), size=annfontsize,\n",
      "            arrowprops=dict(facecolor='black', width=0.8, \n",
      "                            headwidth=7, shrink=0.08))\n",
      "ax0.annotate(text3, xy=(0.8, 0.82), xytext=(0.7, 0.43), size=annfontsize,\n",
      "            arrowprops=dict(facecolor='black', width=0.8, \n",
      "                            headwidth=7, shrink=0.08))\n",
      "ax1.annotate(text3, xy=(0.6, 0.11), xytext=(0.7, 0.43), size=annfontsize,\n",
      "            arrowprops=dict(facecolor='black', width=0.8, \n",
      "                            headwidth=7, shrink=0.08))\n"
     ],
     "language": "python",
     "metadata": {},
     "outputs": [
      {
       "metadata": {},
       "output_type": "pyout",
       "prompt_number": 96,
       "text": [
        "<matplotlib.text.Annotation at 0x115336410>"
       ]
      }
     ],
     "prompt_number": 96
    },
    {
     "cell_type": "markdown",
     "metadata": {},
     "source": [
      "2) Reproduce in matplotlib the provided plot stocks.png\n",
      "Use the provided datafiles ny_temps.txt, yahoo_data.txt, and\n",
      "google_data.txt. Provide your new plot and the Python code."
     ]
    },
    {
     "cell_type": "code",
     "collapsed": false,
     "input": [
      "!head hw_3_data/google_data.txt"
     ],
     "language": "python",
     "metadata": {},
     "outputs": [
      {
       "output_type": "stream",
       "stream": "stdout",
       "text": [
        "Modified Julian Date\tStock Value\r\n",
        "55463\t527.29\r\n",
        "55462\t513.48\r\n",
        "55461\t516\r\n",
        "55460\t513.46\r\n",
        "55459\t508.28\r\n",
        "55456\t490.15\r\n",
        "55455\t481.06\r\n",
        "55454\t480.64\r\n",
        "55453\t480.43\r\n"
       ]
      }
     ],
     "prompt_number": 3
    },
    {
     "cell_type": "code",
     "collapsed": false,
     "input": [
      "datafiles = ['hw_3_data/ny_temps.txt','hw_3_data/yahoo_data.txt','hw_3_data/google_data.txt']\n",
      "\n",
      "datasources = {}\n",
      "for fname in datafiles:\n",
      "    f = open(fname,'r')\n",
      "    fdtype = np.dtype(dict(names=('date','value'), \n",
      "                            formats=(int, float) ) )\n",
      "    data = np.loadtxt(f,fdtype,skiprows=1)\n",
      "    datasources.update({fname:data})\n",
      "    \n",
      "    \n",
      "print datasources[datafiles[1]]\n",
      "             "
     ],
     "language": "python",
     "metadata": {},
     "outputs": [
      {
       "output_type": "stream",
       "stream": "stdout",
       "text": [
        "[(55463, 14.5) (55462, 14.17) (55461, 14.04) ..., (50189, 28.75)\n",
        " (50188, 32.25) (50185, 33.0)]\n"
       ]
      }
     ],
     "prompt_number": 4
    },
    {
     "cell_type": "code",
     "collapsed": false,
     "input": [
      "labels=['NY Mon. High Temp','Yahoo! Stock Value','Google Stock Value']\n",
      "f, ax0 = plt.subplots()         # we manually make a figure and axis\n",
      "\n",
      "# Twin the x-axis twice to make independent y-axes.\n",
      "ax0.set_xlim(48800,55600)\n",
      "ax1 =  ax0.twinx()\n",
      "\n",
      "# make plot of stock values\n",
      "for i in range(1,3):\n",
      "    ax0.plot(datasources[datafiles[i]]['date'], datasources[datafiles[i]]['value'], label=labels[i])\n",
      "ax0.set_title('New York Temperature, Google and Yahoo!',fontsize='xx-large',family='serif')\n",
      "\n",
      "lab_size='large'\n",
      "ax0.set_xlabel('Date (MJD)',fontsize=lab_size)             \n",
      "ax0.set_ylabel('Value (Dollars)',fontsize=lab_size)\n",
      "\n",
      "# set line colors\n",
      "ax0.lines[0].set_color('purple')\n",
      "ax0.lines[1].set_color('blue')\n",
      "\n",
      "# make plot of temperatures\n",
      "ax1.plot(datasources[datafiles[0]]['date'], datasources[datafiles[0]]['value'], 'r--', label=labels[0])\n",
      "ax1.set_ylabel(r'Temperature ($\\degree$F)',fontsize=lab_size)\n",
      "#plt.legend()\n",
      "\n",
      "# Make all lines drawn so far thicker\n",
      "plt.setp(ax0.lines, linewidth=2)\n",
      "plt.setp(ax1.lines, linewidth=2)\n",
      "\n",
      "from matplotlib.ticker import MultipleLocator, FormatStrFormatter\n",
      "\n",
      "# format major ticks manually\n",
      "majorFormatter = FormatStrFormatter('%d')\n",
      "\n",
      "ax0.xaxis.set_major_locator(MultipleLocator(1000))\n",
      "ax0.yaxis.set_major_locator(MultipleLocator(100))\n",
      "ax1.yaxis.set_major_locator(MultipleLocator(50))\n",
      "\n",
      "ax0.xaxis.set_major_formatter(majorFormatter)\n",
      "ax0.yaxis.set_major_formatter(majorFormatter)\n",
      "ax1.yaxis.set_major_formatter(majorFormatter)\n",
      "\n",
      "#for the minor ticks, use no labels; default NullFormatter\n",
      "ax0.xaxis.set_minor_locator(MultipleLocator(200))\n",
      "ax0.yaxis.set_minor_locator(MultipleLocator(20))\n",
      "ax1.yaxis.set_minor_locator(MultipleLocator(10))\n",
      "\n",
      "# Combine and format legend\n",
      "lines = ax0.lines + ax1.lines\n",
      "ax0.legend(lines, labels, loc=6,frameon=False,fontsize='medium')\n",
      "\n",
      "# make ticks  and larger\n",
      "ax0.tick_params(which='major',width=1.5,length=5)\n",
      "ax0.tick_params(which='minor',width=1.5,length=2)\n",
      "ax1.tick_params(which='major',width=1.5,length=5)\n",
      "ax1.tick_params(which='minor',width=1.5,length=3)\n",
      "[i.set_linewidth(2.0) for i in ax0.spines.itervalues()]\n",
      "\n",
      "# set axis limits\n",
      "ax0.set_xlim(48800,55600)\n",
      "ax0.set_ylim(-20,780)\n",
      "ax1.set_ylim(-150,100)\n",
      "\n",
      "\n",
      "\n",
      "\n"
     ],
     "language": "python",
     "metadata": {},
     "outputs": [
      {
       "metadata": {},
       "output_type": "pyout",
       "prompt_number": 5,
       "text": [
        "(-150, 100)"
       ]
      }
     ],
     "prompt_number": 5
    },
    {
     "cell_type": "markdown",
     "metadata": {},
     "source": [
      "3) Make a generic \"Brushing\" code\n",
      "It is obviously difficult to visualize data in plots when there are more than\n",
      "two dimensions or parameters to explore. Brushing is a technique that\n",
      "allows you to plot many pairs of parameters of a dataset in many subplots:\n",
      "when you highlight some region of data in one plot the associated data\n",
      "points in the other plots are automatically \"brushed\" (they change color,\n",
      "opacity, etc.). This allows you to highlight a region of interest (or maybe\n",
      "just an outlier) in some parameter space and see where that region lies in\n",
      "other dimensions.\n",
      "\n",
      "Here, we'll ask you to make a brushing code that can read in a dataset of\n",
      "with many rows and multiple variables/parameters (columns), make\n",
      "subplot of some pairs of parameters, and then let the user interactively\n",
      "draw rectangular brush regions. After the rectangle is drawn, the data not\n",
      "associated with that region has it's opacity reduced in all subplots. All the\n",
      "user has to do to remove a brushed region is to type \"d\" while the mouse\n",
      "is over that brushed region."
     ]
    },
    {
     "cell_type": "markdown",
     "metadata": {},
     "source": [
      "Make a generic \"Brushing\" code\n",
      "Some starting ideas:\n",
      "\n",
      "1. First make sure you can make subplots in matplotlib. Try reading in a\n",
      "dataset as a record array using loadtxt\n",
      "\n",
      "2. write some class-based code to draw and save rectangular regions\n",
      "http://matplotlib.org/api/artist_api.html#matplotlib.patches.Rectangle\n",
      "You'll also want to play around with registering events in mpl.\n",
      "\n",
      "3. To get a better idea of what we're looking for, you might want to look at the\n",
      "project \"viewpoints\" or \u201cGGobi\u201d\n",
      "http://www.assembla.com/wiki/show/viewpoints/\n",
      "http://www.ggobi.org/demos/brushing-simple.html\n",
      "http://mbostock.github.com/d3/ex/splom.html"
     ]
    },
    {
     "cell_type": "code",
     "collapsed": false,
     "input": [
      "%matplotlib\n",
      "import sys\n",
      "import numpy as np\n",
      "import matplotlib.pyplot as plt"
     ],
     "language": "python",
     "metadata": {},
     "outputs": [
      {
       "output_type": "stream",
       "stream": "stdout",
       "text": [
        "Using matplotlib backend: MacOSX\n"
       ]
      }
     ],
     "prompt_number": 6
    },
    {
     "cell_type": "code",
     "collapsed": false,
     "input": [
      "!head hw_3_data/flowers.csv"
     ],
     "language": "python",
     "metadata": {},
     "outputs": [
      {
       "output_type": "stream",
       "stream": "stdout",
       "text": [
        "sepal length,sepal width,petal length,petal width,species\r\n",
        "5.1,3.5,1.4,0.2,setosa\r\n",
        "4.9,3.0,1.4,0.2,setosa\r\n",
        "4.7,3.2,1.3,0.2,setosa\r\n",
        "4.6,3.1,1.5,0.2,setosa\r\n",
        "5.0,3.6,1.4,0.2,setosa\r\n",
        "5.4,3.9,1.7,0.4,setosa\r\n",
        "4.6,3.4,1.4,0.3,setosa\r\n",
        "5.0,3.4,1.5,0.2,setosa\r\n",
        "4.4,2.9,1.4,0.2,setosa\r\n"
       ]
      }
     ],
     "prompt_number": 7
    },
    {
     "cell_type": "code",
     "collapsed": false,
     "input": [
      "\n",
      "def readTypedData(fname,**kwargs):\n",
      "    '''Find dimensions of the data set and read text file such that all values are floats, \n",
      "    except for the final one which is a string, refering to the type of object/sample.\n",
      "    Returns an ndarray with the values, as well as varnames to index a particular variable\n",
      "    and typename to index the type of object/sample. Additional keyword arguments, such as \n",
      "    \"delimiter\" are passed to numpy.loadtxt()'''\n",
      "\n",
      "    f = open(fname,'r')\n",
      "    fields = f.readline().split(',')\n",
      "    varnames = fields[:-1]\n",
      "    typename = fields[-1]\n",
      "    dt = [(name,np.float32) for name in varnames] + [(typename,'S12')]\n",
      "\n",
      "    tab = np.loadtxt(f, dt, **kwargs)\n",
      "    return (tab, varnames, typename)\n",
      "\n",
      "def typeToColor(tab,typename):\n",
      "    '''Associate each unique type with a value between 0 and 1 to pass to a color map.\n",
      "    Returns an array of values and a dict for converting '''\n",
      "    uniquetypes = np.unique(tab[typename])\n",
      "    cval = [ a/float(len(uniquetypes)) for a in range(len(uniquetypes)) ]\n",
      "    types = dict(zip(uniquetypes,cval)  )\n",
      "\n",
      "    #print types\n",
      "\n",
      "    # store colormap values for the dataset in a new array\n",
      "    cType = np.array([types[val] for val in tab[typename] ])\n",
      "    return (cType,types)\n"
     ],
     "language": "python",
     "metadata": {},
     "outputs": [],
     "prompt_number": 8
    },
    {
     "cell_type": "code",
     "collapsed": false,
     "input": [
      "# addapting scatterplot_matrix code found at http://stackoverflow.com/questions/7941207/is-there-a-function-to-make-scatterplot-matrices-in-matplotlib\n",
      "class scatterMat(object):\n",
      "    \"\"\"Plots a scatterplot matrix of subplots.  Each row of \"data\", indexed by\n",
      "    each name in \"varnames\" is plotted against other rows, resulting in a grid \n",
      "    of subplots with the diagonal subplots labeled with \"varnames\". Additional \n",
      "    keyword arguments, such as \"c\" for color, are passed on to matplotlib's \n",
      "    \"scatter\" command. Returns the matplotlib figure object containg the subplot grid.\"\"\"\n",
      "    \n",
      "    def __init__(self ,data, varnames, c=None,**kwargs):\n",
      "        ''' Initialize data by plotting initial scatterMat.'''\n",
      "        numdata = data.shape\n",
      "        numvars = len(varnames)\n",
      "        fig, axes = plt.subplots(nrows=numvars, ncols=numvars, figsize=(8,8))\n",
      "        fig.subplots_adjust(hspace=0.05, wspace=0.05)    \n",
      "        \n",
      "        pairs = [] # store pairs of variable names that correspond to axes\n",
      "        for i,yvar in enumerate(varnames[::-1]):\n",
      "            for j,xvar in enumerate(varnames):\n",
      "                pairs.append((xvar,yvar))\n",
      "        \n",
      "        # store self variables\n",
      "        self.numdata = numdata\n",
      "        self.numvars = numvars\n",
      "        self.fig = fig\n",
      "        self.axes = axes\n",
      "        self.pairs = pairs\n",
      "        self.data = data\n",
      "        self.varnames = varnames\n",
      "        self.color = c\n",
      "        \n",
      "        # run update to generate initial plot\n",
      "        self.update(**kwargs)\n",
      "        \n",
      "    def update(self,selected=None,**kwargs):\n",
      "        \n",
      "        for ax in self.axes.flat:\n",
      "            ax.cla()\n",
      "            # Set up ticks only on one side for the \"edge\" subplots...\n",
      "            if ax.is_first_col():\n",
      "                ax.yaxis.set_ticks_position('left')\n",
      "            if ax.is_last_col():\n",
      "                ax.yaxis.set_ticks_position('right')\n",
      "            if ax.is_first_row():\n",
      "                ax.xaxis.set_ticks_position('top')\n",
      "            if ax.is_last_row():\n",
      "                ax.xaxis.set_ticks_position('bottom')\n",
      "        \n",
      "        for i,yvar in enumerate(varnames[::-1]):\n",
      "            for j,xvar in enumerate(varnames):\n",
      "        #for i,ax in enumerate(self.axes.flat):\n",
      "                ax = self.axes[i,j]\n",
      "                \n",
      "                ax.scatter(self.data[xvar],self.data[yvar],c=self.color,alpha=0.0,**kwargs)\n",
      "                ax.locator_params(nbins=3)\n",
      "                ax.grid()\n",
      "                \n",
      "\n",
      "               \n",
      "                if selected is None:\n",
      "                    ax.scatter(self.data[xvar],self.data[yvar],c=self.color,**kwargs)\n",
      "                else:\n",
      "                    sdata = np.ma.array(self.data,mask=[ not a for a in selected])\n",
      "                    udata = np.ma.array(self.data,mask=selected)\n",
      "                    ax.scatter(sdata[xvar],sdata[yvar],c=self.color,**kwargs)\n",
      "                    ax.scatter(udata[xvar],udata[yvar],c=self.color,alpha=0.1,**kwargs)\n",
      "                    \n",
      "           \n",
      "                if i != self.numvars-1:\n",
      "                    ax.xaxis.set_ticklabels([])\n",
      "                if j != 0:\n",
      "                    ax.yaxis.set_ticklabels([])\n",
      "        # Label the diagonal subplots...\n",
      "        for i, label in enumerate(self.varnames[::-1]):\n",
      "            self.axes[i,self.numvars-1-i].annotate(label, (0.5, .95), xycoords='axes fraction',\n",
      "                    ha='center', va='center')\n",
      "    "
     ],
     "language": "python",
     "metadata": {},
     "outputs": [],
     "prompt_number": 9
    },
    {
     "cell_type": "code",
     "collapsed": false,
     "input": [
      "# Test this class\n",
      "plt.close('all')\n",
      "fname = 'hw_3_data/flowers.csv'\n",
      "\n",
      "tab,varnames,typename = readTypedData(fname,delimiter=',')\n",
      "cType,types = typeToColor(tab,typename)\n",
      "select = [ True for i in range(50) ] + [ False for i in range(100)]\n",
      "sm = scatterMat(tab,varnames,c=cType)\n",
      "sm.update(selected=select)"
     ],
     "language": "python",
     "metadata": {},
     "outputs": [],
     "prompt_number": 10
    },
    {
     "cell_type": "markdown",
     "metadata": {},
     "source": [
      "Sample code from http://stackoverflow.com/questions/12052379/matplotlib-draw-a-selection-area-in-the-shape-of-a-rectangle-with-the-mouse\n",
      "for drawing a rectangle on an existing plot."
     ]
    },
    {
     "cell_type": "code",
     "collapsed": false,
     "input": [
      "from matplotlib.patches import Rectangle\n",
      "import sys"
     ],
     "language": "python",
     "metadata": {},
     "outputs": [],
     "prompt_number": 11
    },
    {
     "cell_type": "code",
     "collapsed": false,
     "input": [
      "class brusher(object):\n",
      "    ''' Object to create an interactive \"brushing\" plot on a scatterplot matrix .'''\n",
      "    def __init__(self, data, varnames, color, figure=None):\n",
      "        #if figure is None:\n",
      "        #    self.fig = plt.gcf()\n",
      "        #else:\n",
      "        #    self.fig = figure\n",
      "        \n",
      "        self.sp = scatterMat(data, varnames,c=color)\n",
      "        #self.rect = Rectangle((0,0), 1, 1)\n",
      "        self.fig = self.sp.fig\n",
      "        self.fig.suptitle('Brusher', fontsize=20)\n",
      "        self.axes = self.sp.fig.axes\n",
      "        self.pairs = self.sp.pairs\n",
      "        self.axis = None # to denote axis in which event occurs\n",
      "       \n",
      "        \n",
      "        self.data = data\n",
      "        self.vn =varnames\n",
      "        #self.masked_color = color\n",
      "        \n",
      "        self.pid = self.fig.canvas.mpl_connect('button_press_event', self.on_press)\n",
      "        self.rid = self.fig.canvas.mpl_connect('button_release_event', self.on_release)\n",
      "        print 'Brusher initialized'\n",
      "        \n",
      "    def __del__(self):\n",
      "        self.fig.canvas.mpl_disconnect(self.pid)\n",
      "        self.fig.canvas.mpl_disconnect(self.rid)\n",
      "        plt.close(self.fig)\n",
      "        print 'Removing brusher'\n",
      "\n",
      "    #def __call__(self, event):\n",
      "        #print 'click', event  # dbg\n",
      "        #if event.inaxes != self.axis:\n",
      "        #    return\n",
      "        #self.figure.canvas.draw()\n",
      "        \n",
      "    def on_press(self, event):\n",
      "        print 'ready to press'\n",
      "        self.x0 = event.xdata\n",
      "        self.y0 = event.ydata\n",
      "        self.axis = None\n",
      "        for i,ax in enumerate(self.axes):\n",
      "            if event.inaxes == ax:\n",
      "                self.axis = ax\n",
      "                print 'Pressed in axis',str(i)\n",
      "                return ax,self.x0,self.y0\n",
      "        if self.axis == None:\n",
      "            print 'Pressed outside axes'\n",
      "            return None\n",
      "        sys.stdout.flush()        \n",
      "\n",
      "    def on_release(self, event):\n",
      "        print 'ready to release'\n",
      "        if self.axis == None:\n",
      "            print 'No axis pressed'\n",
      "            return\n",
      "        self.x1 = event.xdata\n",
      "        self.y1 = event.ydata\n",
      "        rax = None\n",
      "        for i,ax in enumerate(self.axes):\n",
      "            if event.inaxes == ax:\n",
      "                rax = ax\n",
      "                print 'Released from axis',str(i)\n",
      "        if rax != self.axis:\n",
      "            print 'Released from outside original axis'\n",
      "            # how to find \n",
      "        else:\n",
      "            print 'Drawing rectangle'\n",
      "            rect = Rectangle((0,0), 1, 1)\n",
      "            rect.set_fill(False)\n",
      "            rect.set_width(self.x1 - self.x0)\n",
      "            rect.set_height(self.y1 - self.y0)\n",
      "            rect.set_xy((self.x0, self.y0))\n",
      "            \n",
      "            \n",
      "\n",
      "            tmp = [self.x0,self.y0,self.x1,self.y1]\n",
      "            print tmp\n",
      "            \n",
      "            idx = self.axes.index(self.axis)\n",
      "            print idx\n",
      "            print self.pairs[idx]\n",
      "            xvar = self.pairs[idx][0];yvar = self.pairs[idx][1]\n",
      "            inselection =  [ ( self.data[i][xvar] > min([self.x0,self.x1]) \\\n",
      "                   and self.data[i][xvar] < max([self.x0,self.x1]) \\\n",
      "                   and self.data[i][yvar] > min([self.y0,self.y1]) \\\n",
      "                   and self.data[i][yvar] < max([self.y0,self.y1]) ) \\\n",
      "                   for i in range(len(self.data)) ]\n",
      "            self.sp.update(selected=inselection)\n",
      "            \n",
      "            self.axis.add_patch(rect)\n",
      "            self.fig.canvas.draw()\n",
      "            self.axis.patches = []\n",
      "            return\n",
      "        \n"
     ],
     "language": "python",
     "metadata": {},
     "outputs": [],
     "prompt_number": 12
    },
    {
     "cell_type": "code",
     "collapsed": false,
     "input": [
      "a = brusher(tab,varnames,cType)\n",
      "plt.show()"
     ],
     "language": "python",
     "metadata": {},
     "outputs": [
      {
       "output_type": "stream",
       "stream": "stdout",
       "text": [
        "Brusher initialized\n",
        "Removing brusher\n"
       ]
      },
      {
       "output_type": "stream",
       "stream": "stdout",
       "text": [
        "ready to press\n",
        "Pressed in axis 4\n",
        "ready to release"
       ]
      }
     ],
     "prompt_number": 15
    },
    {
     "cell_type": "code",
     "collapsed": false,
     "input": [
      "#a.__del__()"
     ],
     "language": "python",
     "metadata": {},
     "outputs": [
      {
       "output_type": "stream",
       "stream": "stdout",
       "text": [
        "Removing brusher\n"
       ]
      }
     ],
     "prompt_number": 14
    }
   ],
   "metadata": {}
  }
 ]
}