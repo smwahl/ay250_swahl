{
 "metadata": {
  "name": ""
 },
 "nbformat": 3,
 "nbformat_minor": 0,
 "worksheets": [
  {
   "cells": [
    {
     "cell_type": "code",
     "collapsed": false,
     "input": [
      "%matplotlib \n",
      "import matplotlib.pyplot as plt\n",
      "import numpy as np"
     ],
     "language": "python",
     "metadata": {},
     "outputs": [
      {
       "output_type": "stream",
       "stream": "stdout",
       "text": [
        "Using matplotlib backend: MacOSX\n"
       ]
      }
     ],
     "prompt_number": 65
    },
    {
     "cell_type": "markdown",
     "metadata": {},
     "source": [
      "1) Reproduce one of your old published-paper quality plots with matplotlib.\n",
      "Provide the original plot, the recreated matplotlib plot, and the Python code used to\n",
      "make the new plot. You can ask us for an example from us if you dont have your own\n",
      "plots (we\u2019ll put a few on Piazza in a few days)."
     ]
    },
    {
     "cell_type": "code",
     "collapsed": false,
     "input": [
      "!ls"
     ],
     "language": "python",
     "metadata": {},
     "outputs": [
      {
       "output_type": "stream",
       "stream": "stdout",
       "text": [
        "hw_03.ipynb hw_3.pdf    \u001b[36mhw_3_data\u001b[m\u001b[m\r\n"
       ]
      }
     ],
     "prompt_number": 2
    },
    {
     "cell_type": "markdown",
     "metadata": {},
     "source": [
      "2) Reproduce in matplotlib the provided plot stocks.png\n",
      "Use the provided datafiles ny_temps.txt, yahoo_data.txt, and\n",
      "google_data.txt. Provide your new plot and the Python code."
     ]
    },
    {
     "cell_type": "code",
     "collapsed": false,
     "input": [
      "!head hw_3_data/google_data.txt"
     ],
     "language": "python",
     "metadata": {},
     "outputs": [
      {
       "output_type": "stream",
       "stream": "stdout",
       "text": [
        "Modified Julian Date\tStock Value\r\n",
        "55463\t527.29\r\n",
        "55462\t513.48\r\n",
        "55461\t516\r\n",
        "55460\t513.46\r\n",
        "55459\t508.28\r\n",
        "55456\t490.15\r\n",
        "55455\t481.06\r\n",
        "55454\t480.64\r\n",
        "55453\t480.43\r\n"
       ]
      }
     ],
     "prompt_number": 5
    },
    {
     "cell_type": "code",
     "collapsed": false,
     "input": [
      "datafiles = ['hw_3_data/ny_temps.txt','hw_3_data/yahoo_data.txt','hw_3_data/google_data.txt']\n",
      "\n",
      "datasources = {}\n",
      "for fname in datafiles:\n",
      "    f = open(fname,'r')\n",
      "    fdtype = np.dtype(dict(names=('date','value'), \n",
      "                            formats=(int, float) ) )\n",
      "    data = np.loadtxt(f,fdtype,skiprows=1)\n",
      "    datasources.update({fname:data})\n",
      "    \n",
      "    \n",
      "print datasources[datafiles[1]]\n",
      "             "
     ],
     "language": "python",
     "metadata": {},
     "outputs": [
      {
       "output_type": "stream",
       "stream": "stdout",
       "text": [
        "[(55463, 14.5) (55462, 14.17) (55461, 14.04) ..., (50189, 28.75)\n",
        " (50188, 32.25) (50185, 33.0)]\n"
       ]
      }
     ],
     "prompt_number": 66
    },
    {
     "cell_type": "code",
     "collapsed": false,
     "input": [
      "labels=['NY Mon. High Temp','Yahoo! Stock Value','Google Stock Value']\n",
      "f, ax0 = plt.subplots()         # we manually make a figure and axis\n",
      "\n",
      "# Twin the x-axis twice to make independent y-axes.\n",
      "ax0.set_xlim(48800,55600)\n",
      "ax1 =  ax0.twinx()\n",
      "\n",
      "# make plot of stock values\n",
      "for i in range(1,3):\n",
      "    ax0.plot(datasources[datafiles[i]]['date'], datasources[datafiles[i]]['value'], label=labels[i])\n",
      "ax0.set_title('New York Temperature, Google and Yahoo!',fontsize='xx-large',family='serif')\n",
      "\n",
      "lab_size='large'\n",
      "ax0.set_xlabel('Date (MJD)',fontsize=lab_size)             \n",
      "ax0.set_ylabel('Value (Dollars)',fontsize=lab_size)\n",
      "\n",
      "# set line colors\n",
      "ax0.lines[0].set_color('purple')\n",
      "ax0.lines[1].set_color('blue')\n",
      "\n",
      "# make plot of temperatures\n",
      "ax1.plot(datasources[datafiles[0]]['date'], datasources[datafiles[0]]['value'], 'r--', label=labels[0])\n",
      "ax1.set_ylabel(r'Temperature ($\\degree$F)',fontsize=lab_size)\n",
      "#plt.legend()\n",
      "\n",
      "# Make all lines drawn so far thicker\n",
      "plt.setp(ax0.lines, linewidth=2)\n",
      "plt.setp(ax1.lines, linewidth=2)\n",
      "\n",
      "from matplotlib.ticker import MultipleLocator, FormatStrFormatter\n",
      "\n",
      "# format major ticks manually\n",
      "majorFormatter = FormatStrFormatter('%d')\n",
      "\n",
      "ax0.xaxis.set_major_locator(MultipleLocator(1000))\n",
      "ax0.yaxis.set_major_locator(MultipleLocator(100))\n",
      "ax1.yaxis.set_major_locator(MultipleLocator(50))\n",
      "\n",
      "ax0.xaxis.set_major_formatter(majorFormatter)\n",
      "ax0.yaxis.set_major_formatter(majorFormatter)\n",
      "ax1.yaxis.set_major_formatter(majorFormatter)\n",
      "\n",
      "#for the minor ticks, use no labels; default NullFormatter\n",
      "ax0.xaxis.set_minor_locator(MultipleLocator(200))\n",
      "ax0.yaxis.set_minor_locator(MultipleLocator(20))\n",
      "ax1.yaxis.set_minor_locator(MultipleLocator(10))\n",
      "\n",
      "# Combine and format legend\n",
      "lines = ax0.lines + ax1.lines\n",
      "ax0.legend(lines, labels, loc=6,frameon=False,fontsize='medium')\n",
      "\n",
      "# make ticks  and larger\n",
      "ax0.tick_params(which='major',width=1.5,length=5)\n",
      "ax0.tick_params(which='minor',width=1.5,length=2)\n",
      "ax1.tick_params(which='major',width=1.5,length=5)\n",
      "ax1.tick_params(which='minor',width=1.5,length=3)\n",
      "[i.set_linewidth(2.0) for i in ax0.spines.itervalues()]\n",
      "\n",
      "# set axis limits\n",
      "ax0.set_xlim(48800,55600)\n",
      "ax0.set_ylim(-20,780)\n",
      "ax1.set_ylim(-150,100)\n",
      "\n",
      "\n",
      "\n",
      "\n"
     ],
     "language": "python",
     "metadata": {},
     "outputs": [
      {
       "metadata": {},
       "output_type": "pyout",
       "prompt_number": 71,
       "text": [
        "(-150, 100)"
       ]
      }
     ],
     "prompt_number": 71
    },
    {
     "cell_type": "markdown",
     "metadata": {},
     "source": [
      "3) Make a generic \"Brushing\" code\n",
      "It is obviously difficult to visualize data in plots when there are more than\n",
      "two dimensions or parameters to explore. Brushing is a technique that\n",
      "allows you to plot many pairs of parameters of a dataset in many subplots:\n",
      "when you highlight some region of data in one plot the associated data\n",
      "points in the other plots are automatically \"brushed\" (they change color,\n",
      "opacity, etc.). This allows you to highlight a region of interest (or maybe\n",
      "just an outlier) in some parameter space and see where that region lies in\n",
      "other dimensions.\n",
      "\n",
      "Here, we'll ask you to make a brushing code that can read in a dataset of\n",
      "with many rows and multiple variables/parameters (columns), make\n",
      "subplot of some pairs of parameters, and then let the user interactively\n",
      "draw rectangular brush regions. After the rectangle is drawn, the data not\n",
      "associated with that region has it's opacity reduced in all subplots. All the\n",
      "user has to do to remove a brushed region is to type \"d\" while the mouse\n",
      "is over that brushed region."
     ]
    },
    {
     "cell_type": "markdown",
     "metadata": {},
     "source": [
      "Make a generic \"Brushing\" code\n",
      "Some starting ideas:\n",
      "\n",
      "1. First make sure you can make subplots in matplotlib. Try reading in a\n",
      "dataset as a record array using loadtxt\n",
      "\n",
      "2. write some class-based code to draw and save rectangular regions\n",
      "http://matplotlib.org/api/artist_api.html#matplotlib.patches.Rectangle\n",
      "You'll also want to play around with registering events in mpl.\n",
      "\n",
      "3. To get a better idea of what we're looking for, you might want to look at the\n",
      "project \"viewpoints\" or \u201cGGobi\u201d\n",
      "http://www.assembla.com/wiki/show/viewpoints/\n",
      "http://www.ggobi.org/demos/brushing-simple.html\n",
      "http://mbostock.github.com/d3/ex/splom.html"
     ]
    },
    {
     "cell_type": "code",
     "collapsed": false,
     "input": [
      "%matplotlib\n",
      "import sys\n",
      "import numpy as np\n",
      "import matplotlib.pyplot as plt"
     ],
     "language": "python",
     "metadata": {},
     "outputs": [
      {
       "output_type": "stream",
       "stream": "stdout",
       "text": [
        "Using matplotlib backend: MacOSX\n"
       ]
      }
     ],
     "prompt_number": 70
    }
   ],
   "metadata": {}
  }
 ]
}