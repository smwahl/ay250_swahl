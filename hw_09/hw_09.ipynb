{
 "metadata": {
  "name": ""
 },
 "nbformat": 3,
 "nbformat_minor": 0,
 "worksheets": [
  {
   "cells": [
    {
     "cell_type": "code",
     "collapsed": false,
     "input": [
      "from random import uniform\n",
      "from math import sqrt\n",
      "from time import time\n",
      "\n",
      "from multiprocessing import Pool\n",
      "num_proc = 4\n",
      "num_darts = 20000\n",
      "pool = Pool(processes=num_proc)              # start 4 worker processes\n",
      "\n",
      "# define total # of darts\n",
      "num_darts = 20000\n",
      "\n"
     ],
     "language": "python",
     "metadata": {},
     "outputs": [],
     "prompt_number": 8
    },
    {
     "cell_type": "code",
     "collapsed": false,
     "input": [
      "# Serial\n",
      "\n",
      "def pi_dart_serial(num_darts):\n",
      "    '''\n",
      "    Serial implementation of Monte Carlo determination of Pi.\n",
      "    Returns the execution time, the simulation rateand the approximate value of Pi.\n",
      "    '''\n",
      "    # define variable to store # inside circle\n",
      "    num_in_circle = 0\n",
      "\n",
      "    # Use time() to record the execution time of the loop\n",
      "    start_time = time()\n",
      "\n",
      "    # Loop simulating dart throws\n",
      "    for n in range(num_darts):\n",
      "        x, y = uniform(0,1), uniform(0,1)\n",
      "        if sqrt((x-0.5)**2 + (y-0.5)**2) <= 0.5:\n",
      "            num_in_circle += 1\n",
      "\n",
      "    # Calculate approximate value of pi\n",
      "    pi_approx = 4 * num_in_circle / float(num_darts)\n",
      "        \n",
      "    # record time after conclusion of the loop\n",
      "    end_time = time()\n",
      "    # total time \n",
      "    exec_time = end_time - start_time\n",
      "    \n",
      "    return exec_time, num_darts/float(exec_time),pi_approx\n",
      "    "
     ],
     "language": "python",
     "metadata": {},
     "outputs": [],
     "prompt_number": 9
    },
    {
     "cell_type": "code",
     "collapsed": false,
     "input": [
      "pi_dart_serial(20000)"
     ],
     "language": "python",
     "metadata": {},
     "outputs": [
      {
       "metadata": {},
       "output_type": "pyout",
       "prompt_number": 10,
       "text": [
        "(0.07385802268981934, 270789.8109321686, 3.1426)"
       ]
      }
     ],
     "prompt_number": 10
    },
    {
     "cell_type": "code",
     "collapsed": false,
     "input": [
      "# Multiprocessing\n",
      "def f(num_darts):\n",
      "    '''\n",
      "    Helper method for pi_dart_multiproc.\n",
      "    '''\n",
      "    num_in_circle = 0\n",
      "    for n in range(num_darts):\n",
      "        x, y = uniform(0,1), uniform(0,1)\n",
      "        if sqrt((x-0.5)**2 + (y-0.5)**2) <= 0.5:\n",
      "            num_in_circle += 1\n",
      "    return num_in_circle\n",
      "\n",
      "def pi_dart_multiproc(p,num_proc,num_darts):\n",
      "    '''\n",
      "    Multiprocessor implementation of Monte Carlo determination of Pi.\n",
      "    Returns the execution time, the simulation rateand the approximate value of Pi.\n",
      "    '''\n",
      "    # Use time() to record the execution time of the loop\n",
      "    start_time = time()\n",
      "    \n",
      "    # divide num_darts for number to be run on each processor\n",
      "    num_split = [num_darts / num_proc for i in range(num_proc) ]\n",
      "    for i in range(num_darts-sum(num_split)):\n",
      "        num_split[i] +=1\n",
      "\n",
      "    result = p.map_async(f,num_split)\n",
      "    num_in_circle = sum(result.get())\n",
      "\n",
      "    # Calculate approximate value of pi\n",
      "    pi_approx = 4 * num_in_circle / float(num_darts)\n",
      "    \n",
      "    # record time after conclusion of the loop\n",
      "    end_time = time()\n",
      "    exec_time = end_time - start_time\n",
      "\n",
      "    \n",
      "    return exec_time, num_darts/float(exec_time),pi_approx\n",
      "            "
     ],
     "language": "python",
     "metadata": {},
     "outputs": [],
     "prompt_number": 11
    },
    {
     "cell_type": "code",
     "collapsed": false,
     "input": [
      "num_darts"
     ],
     "language": "python",
     "metadata": {},
     "outputs": [
      {
       "metadata": {},
       "output_type": "pyout",
       "prompt_number": 12,
       "text": [
        "20000"
       ]
      }
     ],
     "prompt_number": 12
    },
    {
     "cell_type": "code",
     "collapsed": false,
     "input": [
      "pi_dart_multiproc(pool,num_proc,num_darts)"
     ],
     "language": "python",
     "metadata": {},
     "outputs": [
      {
       "metadata": {},
       "output_type": "pyout",
       "prompt_number": 13,
       "text": [
        "(0.02601003646850586, 768933.9468715054, 3.1514)"
       ]
      }
     ],
     "prompt_number": 13
    },
    {
     "cell_type": "code",
     "collapsed": false,
     "input": [
      "# Parallel implementation using ipython clusters\n",
      "\n",
      "from IPython import parallel\n",
      "rc = parallel.Client()\n",
      "rc.block = True # does computations sequentially for testing\n",
      "\n",
      "dview = rc[:]\n",
      "rc.ids\n",
      "rc.block = False\n",
      "\n",
      "\n",
      "from IPython.parallel.util import interactive\n",
      "\n",
      "#@interactive #(this doesnt work for me so I import within the function as a workaround\n",
      "def fpar(num_darts):\n",
      "    from random import uniform\n",
      "    from math import sqrt\n",
      "    num_in_circle = 0\n",
      "    for n in range(num_darts):\n",
      "        x, y = uniform(0,1), uniform(0,1)\n",
      "        if sqrt((x-0.5)**2 + (y-0.5)**2) <= 0.5:\n",
      "            num_in_circle += 1\n",
      "    return num_in_circle"
     ],
     "language": "python",
     "metadata": {},
     "outputs": [],
     "prompt_number": 14
    },
    {
     "cell_type": "code",
     "collapsed": false,
     "input": [
      "\n",
      "def pi_dart_parallel(rc,num_darts):\n",
      "    # Use time() to record the execution time of the loop\n",
      "    start_time = time()\n",
      "\n",
      "    dview = rc[:]\n",
      "\n",
      "    num_split = [num_darts / num_proc for i in range(num_proc) ]\n",
      "    for i in range(num_darts-sum(num_split)):\n",
      "        num_split[i] +=1\n",
      "\n",
      "    result = dview.map(fpar,num_split)\n",
      "    num_in_circle = sum(result.get())\n",
      "    \n",
      "    # Calculate approximate value of pi\n",
      "    pi_approx = 4 * num_in_circle / float(num_darts)\n",
      "\n",
      "    end_time = time()\n",
      "    exec_time = end_time - start_time\n",
      "\n",
      "    return exec_time, num_darts/float(exec_time),pi_approx"
     ],
     "language": "python",
     "metadata": {},
     "outputs": [],
     "prompt_number": 15
    },
    {
     "cell_type": "code",
     "collapsed": false,
     "input": [
      "pi_dart_parallel(rc,num_darts)"
     ],
     "language": "python",
     "metadata": {},
     "outputs": [
      {
       "metadata": {},
       "output_type": "pyout",
       "prompt_number": 16,
       "text": [
        "(0.047415971755981445, 421798.8002634794, 3.1378)"
       ]
      }
     ],
     "prompt_number": 16
    },
    {
     "cell_type": "code",
     "collapsed": false,
     "input": [
      "# Define a range in number of darts\n",
      "import numpy as np\n",
      "\n",
      "darts = np.logspace(1,6,10).astype(int)\n"
     ],
     "language": "python",
     "metadata": {},
     "outputs": [],
     "prompt_number": 57
    },
    {
     "cell_type": "code",
     "collapsed": false,
     "input": [
      "# Run and save results from each different number of darts\n",
      "\n",
      "n_trials = 10\n",
      "times = np.zeros([10,3])\n",
      "sig_times = np.zeros([10,3])\n",
      "rates = np.zeros([10,3])\n",
      "for j,n in enumerate(darts):\n",
      "    exec_times = np.zeros([3,n_trials])\n",
      "    sim_rates = np.zeros([3,n_trials])\n",
      "    e = np.zeros(3);s = np.zeros(3); p = np.zeros(3)\n",
      "    for i in range(n_trials):\n",
      "        e[0],s[0],p[0] = pi_dart_serial(n)\n",
      "        e[1],s[1],p[1] = pi_dart_multiproc(pool,num_proc,n)\n",
      "        e[2],s[2],p[2] = pi_dart_parallel(rc,n)\n",
      "\n",
      "        exec_times[:,i] = e\n",
      "        sim_rates[:,i] = s\n",
      "\n",
      "    \n",
      "    exec_time = exec_times.mean(axis=1)\n",
      "    var_exec_time = exec_times.var(axis=1)\n",
      "    \n",
      "    sim_rate = sim_rates.mean(axis=1)\n",
      "    var_sim_rate = sim_rates.var(axis=1)\n",
      "    \n",
      "    times[j,:] = exec_time\n",
      "    sig_times[j,:] = np.sqrt(var_exec_time)\n",
      "    rates[j,:] = sim_rate\n",
      "    #print var_sim_rate\n",
      "    #print exec_time\n",
      "        "
     ],
     "language": "python",
     "metadata": {},
     "outputs": [],
     "prompt_number": 58
    },
    {
     "cell_type": "code",
     "collapsed": false,
     "input": [
      "# Plot the results\n",
      "\n",
      "% matplotlib\n",
      "from matplotlib import pyplot as plt\n",
      "import numpy as np\n",
      "\n",
      "fig = plt.figure()\n",
      "ax = fig.add_subplot(1,1,1)\n",
      "\n",
      "ax.plot(darts,times[:,0] , '-r',label='serial')\n",
      "ax.plot(darts,times[:,1] , '-c',label='multiproc')\n",
      "ax.plot(darts,times[:,2] , '-g',label='parallel')\n",
      "ax.fill_between(darts,times[:,0]+sig_times[:,0],times[:,0]-sig_times[:,0],color='r',alpha=.3)\n",
      "ax.fill_between(darts,times[:,1]+sig_times[:,1],times[:,1]-sig_times[:,1],color='c',alpha=.3)\n",
      "ax.fill_between(darts,times[:,2]+sig_times[:,2],times[:,2]-sig_times[:,2],color='g',alpha=.3)\n",
      "\n",
      "ax.set_yscale('log')\n",
      "ax.set_xscale('log')\n",
      "ax.set_xlabel('Darts Thrown')\n",
      "ax.set_ylabel('Execution Time (seconds), solid line')\n",
      "\n",
      "ax2 = ax.twinx()\n",
      "ax2.plot(darts,rates[:,0] , '--r')\n",
      "ax2.plot(darts,rates[:,1] , '--c')\n",
      "ax2.plot(darts,rates[:,2] , '--g')\n",
      "ax2.set_yscale('log')\n",
      "ax2.set_ylabel('Simulation Rate (darts/second), dashed line')\n",
      "\n",
      "ax.legend(loc='lower right')\n",
      "ax.set_title('MacBook Air with 1.7 GHz Intel Core i5')\n",
      "\n",
      "plt.show()\n"
     ],
     "language": "python",
     "metadata": {},
     "outputs": [
      {
       "output_type": "stream",
       "stream": "stdout",
       "text": [
        "Using matplotlib backend: MacOSX\n"
       ]
      }
     ],
     "prompt_number": 59
    },
    {
     "cell_type": "code",
     "collapsed": false,
     "input": [],
     "language": "python",
     "metadata": {},
     "outputs": []
    }
   ],
   "metadata": {}
  }
 ]
}