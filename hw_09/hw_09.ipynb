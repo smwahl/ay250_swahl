{
 "metadata": {
  "name": ""
 },
 "nbformat": 3,
 "nbformat_minor": 0,
 "worksheets": [
  {
   "cells": [
    {
     "cell_type": "code",
     "collapsed": false,
     "input": [
      "from random import uniform\n",
      "from math import sqrt\n",
      "from time import time\n",
      "\n",
      "from multiprocessing import Pool\n",
      "num_proc = 4\n",
      "num_darts = 20000\n",
      "pool = Pool(processes=num_proc)              # start 4 worker processes\n",
      "\n",
      "# define total # of darts\n",
      "num_darts = 20000\n",
      "\n"
     ],
     "language": "python",
     "metadata": {},
     "outputs": [],
     "prompt_number": 8
    },
    {
     "cell_type": "code",
     "collapsed": false,
     "input": [
      "def pi_dart_serial(num_darts):\n",
      "    '''\n",
      "    Serial implementation of Monte Carlo determination of Pi.\n",
      "    Returns the execution time and the approximate value of Pi.\n",
      "    '''\n",
      "    # define variable to store # inside circle\n",
      "    num_in_circle = 0\n",
      "\n",
      "    # Use time() to record the execution time of the loop\n",
      "    start_time = time()\n",
      "\n",
      "    # Loop simulating dart throws\n",
      "    for n in range(num_darts):\n",
      "        x, y = uniform(0,1), uniform(0,1)\n",
      "        if sqrt((x-0.5)**2 + (y-0.5)**2) <= 0.5:\n",
      "            num_in_circle += 1\n",
      "\n",
      "    # Calculate approximate value of pi\n",
      "    pi_approx = 4 * num_in_circle / float(num_darts)\n",
      "        \n",
      "    # record time after conclusion of the loop\n",
      "    end_time = time()\n",
      "    # total time \n",
      "    exec_time = end_time - start_time\n",
      "    \n",
      "    return exec_time, num_darts/float(exec_time),pi_approx\n",
      "    "
     ],
     "language": "python",
     "metadata": {},
     "outputs": [],
     "prompt_number": 9
    },
    {
     "cell_type": "code",
     "collapsed": false,
     "input": [
      "pi_dart_serial(20000)"
     ],
     "language": "python",
     "metadata": {},
     "outputs": [
      {
       "metadata": {},
       "output_type": "pyout",
       "prompt_number": 10,
       "text": [
        "(0.07385802268981934, 270789.8109321686, 3.1426)"
       ]
      }
     ],
     "prompt_number": 10
    },
    {
     "cell_type": "code",
     "collapsed": false,
     "input": [
      "\n",
      "\n",
      "def f(num_darts):\n",
      "    num_in_circle = 0\n",
      "    for n in range(num_darts):\n",
      "        x, y = uniform(0,1), uniform(0,1)\n",
      "        if sqrt((x-0.5)**2 + (y-0.5)**2) <= 0.5:\n",
      "            num_in_circle += 1\n",
      "    return num_in_circle\n",
      "\n",
      "def pi_dart_multiproc(p,num_proc,num_darts):\n",
      "    \n",
      "    # Use time() to record the execution time of the loop\n",
      "    start_time = time()\n",
      "    \n",
      "    # divide num_darts for number to be run on each processor\n",
      "    num_split = [num_darts / num_proc for i in range(num_proc) ]\n",
      "    for i in range(num_darts-sum(num_split)):\n",
      "        num_split[i] +=1\n",
      "\n",
      "    result = p.map_async(f,num_split)\n",
      "    num_in_circle = sum(result.get())\n",
      "\n",
      "    # Calculate approximate value of pi\n",
      "    pi_approx = 4 * num_in_circle / float(num_darts)\n",
      "    \n",
      "    # record time after conclusion of the loop\n",
      "    end_time = time()\n",
      "    exec_time = end_time - start_time\n",
      "\n",
      "    \n",
      "    return exec_time, num_darts/float(exec_time),pi_approx\n",
      "            "
     ],
     "language": "python",
     "metadata": {},
     "outputs": [],
     "prompt_number": 11
    },
    {
     "cell_type": "code",
     "collapsed": false,
     "input": [
      "num_darts"
     ],
     "language": "python",
     "metadata": {},
     "outputs": [
      {
       "metadata": {},
       "output_type": "pyout",
       "prompt_number": 12,
       "text": [
        "20000"
       ]
      }
     ],
     "prompt_number": 12
    },
    {
     "cell_type": "code",
     "collapsed": false,
     "input": [
      "pi_dart_multiproc(pool,num_proc,num_darts)"
     ],
     "language": "python",
     "metadata": {},
     "outputs": [
      {
       "metadata": {},
       "output_type": "pyout",
       "prompt_number": 13,
       "text": [
        "(0.02601003646850586, 768933.9468715054, 3.1514)"
       ]
      }
     ],
     "prompt_number": 13
    },
    {
     "cell_type": "code",
     "collapsed": false,
     "input": [
      "from IPython import parallel\n",
      "rc = parallel.Client()\n",
      "rc.block = True # does computations sequentially for testing\n",
      "\n",
      "dview = rc[:]\n",
      "rc.ids\n",
      "rc.block = False\n",
      "\n",
      "\n",
      "from IPython.parallel.util import interactive\n",
      "\n",
      "#@interactive #(this doesnt work for me so I import within the function as a workaround\n",
      "def fpar(num_darts):\n",
      "    from random import uniform\n",
      "    from math import sqrt\n",
      "    num_in_circle = 0\n",
      "    for n in range(num_darts):\n",
      "        x, y = uniform(0,1), uniform(0,1)\n",
      "        if sqrt((x-0.5)**2 + (y-0.5)**2) <= 0.5:\n",
      "            num_in_circle += 1\n",
      "    return num_in_circle"
     ],
     "language": "python",
     "metadata": {},
     "outputs": [],
     "prompt_number": 14
    },
    {
     "cell_type": "code",
     "collapsed": false,
     "input": [
      "\n",
      "def pi_dart_parallel(rc,num_darts):\n",
      "    # Use time() to record the execution time of the loop\n",
      "    start_time = time()\n",
      "\n",
      "    dview = rc[:]\n",
      "\n",
      "    num_split = [num_darts / num_proc for i in range(num_proc) ]\n",
      "    for i in range(num_darts-sum(num_split)):\n",
      "        num_split[i] +=1\n",
      "\n",
      "    result = dview.map(fpar,num_split)\n",
      "    num_in_circle = sum(result.get())\n",
      "    \n",
      "    # Calculate approximate value of pi\n",
      "    pi_approx = 4 * num_in_circle / float(num_darts)\n",
      "\n",
      "    end_time = time()\n",
      "    exec_time = end_time - start_time\n",
      "\n",
      "    return exec_time, num_darts/float(exec_time),pi_approx"
     ],
     "language": "python",
     "metadata": {},
     "outputs": [],
     "prompt_number": 15
    },
    {
     "cell_type": "code",
     "collapsed": false,
     "input": [
      "pi_dart_parallel(rc,num_darts)"
     ],
     "language": "python",
     "metadata": {},
     "outputs": [
      {
       "metadata": {},
       "output_type": "pyout",
       "prompt_number": 16,
       "text": [
        "(0.047415971755981445, 421798.8002634794, 3.1378)"
       ]
      }
     ],
     "prompt_number": 16
    },
    {
     "cell_type": "code",
     "collapsed": false,
     "input": [
      "import numpy as np\n",
      "\n",
      "darts = np.logspace(1,6,10).astype(int)\n"
     ],
     "language": "python",
     "metadata": {},
     "outputs": [],
     "prompt_number": 57
    },
    {
     "cell_type": "code",
     "collapsed": false,
     "input": [
      "n_trials = 10\n",
      "times = np.zeros([10,3])\n",
      "sig_times = np.zeros([10,3])\n",
      "rates = np.zeros([10,3])\n",
      "for j,n in enumerate(darts):\n",
      "    exec_times = np.zeros([3,n_trials])\n",
      "    sim_rates = np.zeros([3,n_trials])\n",
      "    e = np.zeros(3);s = np.zeros(3); p = np.zeros(3)\n",
      "    for i in range(n_trials):\n",
      "        e[0],s[0],p[0] = pi_dart_serial(n)\n",
      "        e[1],s[1],p[1] = pi_dart_multiproc(pool,num_proc,n)\n",
      "        e[2],s[2],p[2] = pi_dart_parallel(rc,n)\n",
      "\n",
      "        exec_times[:,i] = e\n",
      "        sim_rates[:,i] = s\n",
      "\n",
      "    \n",
      "    exec_time = exec_times.mean(axis=1)\n",
      "    var_exec_time = exec_times.var(axis=1)\n",
      "    \n",
      "    sim_rate = sim_rates.mean(axis=1)\n",
      "    var_sim_rate = sim_rates.var(axis=1)\n",
      "    \n",
      "    times[j,:] = exec_time\n",
      "    sig_times[j,:] = np.sqrt(var_exec_time)\n",
      "    rates[j,:] = sim_rate\n",
      "    #print var_sim_rate\n",
      "    #print exec_time\n",
      "        "
     ],
     "language": "python",
     "metadata": {},
     "outputs": [],
     "prompt_number": "*"
    },
    {
     "cell_type": "code",
     "collapsed": false,
     "input": [
      "% matplotlib\n",
      "from matplotlib import pyplot as plt\n",
      "import numpy as np\n",
      "\n",
      "fig = plt.figure()\n",
      "ax = fig.add_subplot(1,1,1)\n",
      "\n",
      "ax.plot(darts,times[:,0] , '-r',label='serial')\n",
      "ax.plot(darts,times[:,1] , '-c',label='multiproc')\n",
      "ax.plot(darts,times[:,2] , '-g',label='parallel')\n",
      "ax.fill_between(darts,times[:,0]+sig_times[:,0],times[:,0]-sig_times[:,0],color='r',alpha=.3)\n",
      "ax.fill_between(darts,times[:,1]+sig_times[:,1],times[:,1]-sig_times[:,1],color='c',alpha=.3)\n",
      "ax.fill_between(darts,times[:,2]+sig_times[:,2],times[:,2]-sig_times[:,2],color='g',alpha=.3)\n",
      "\n",
      "ax.set_yscale('log')\n",
      "ax.set_xscale('log')\n",
      "ax.set_xlabel('Darts Thrown')\n",
      "ax.set_ylabel('Execution Time (seconds), solid line')\n",
      "\n",
      "ax2 = ax.twinx()\n",
      "ax2.plot(darts,rates[:,0] , '--r')\n",
      "ax2.plot(darts,rates[:,1] , '--c')\n",
      "ax2.plot(darts,rates[:,2] , '--g')\n",
      "ax2.set_yscale('log')\n",
      "ax2.set_ylabel('Simulation Rate (darts/second), dashed line')\n",
      "\n",
      "ax.legend(loc='lower right')\n",
      "ax.set_title('MacBook Air with 1.7 GHz Intel Core i5')\n",
      "\n",
      "plt.show()\n"
     ],
     "language": "python",
     "metadata": {},
     "outputs": [],
     "prompt_number": "*"
    },
    {
     "cell_type": "code",
     "collapsed": false,
     "input": [
      "times[:,2]"
     ],
     "language": "python",
     "metadata": {},
     "outputs": [
      {
       "metadata": {},
       "output_type": "pyout",
       "prompt_number": 44,
       "text": [
        "array([ 0.02590253,  0.0177177 ,  0.01955886,  0.01847603,  0.02071002,\n",
        "        0.01909511,  0.022733  ,  0.03281512,  0.06113422,  0.13887858])"
       ]
      }
     ],
     "prompt_number": 44
    },
    {
     "cell_type": "code",
     "collapsed": false,
     "input": [
      "var_times[:,2]"
     ],
     "language": "python",
     "metadata": {},
     "outputs": [
      {
       "metadata": {},
       "output_type": "pyout",
       "prompt_number": 45,
       "text": [
        "array([  7.39577277e-05,   3.33239602e-06,   5.20163454e-06,\n",
        "         1.22000643e-05,   1.87748350e-05,   3.85765873e-06,\n",
        "         7.41379029e-06,   3.06009189e-06,   9.48259562e-06,\n",
        "         2.14684704e-04])"
       ]
      }
     ],
     "prompt_number": 45
    },
    {
     "cell_type": "code",
     "collapsed": false,
     "input": [],
     "language": "python",
     "metadata": {},
     "outputs": []
    }
   ],
   "metadata": {}
  }
 ]
}