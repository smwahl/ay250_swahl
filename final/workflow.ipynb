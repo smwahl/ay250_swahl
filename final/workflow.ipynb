{
 "metadata": {
  "name": ""
 },
 "nbformat": 3,
 "nbformat_minor": 0,
 "worksheets": [
  {
   "cells": [
    {
     "cell_type": "code",
     "collapsed": false,
     "input": [
      "import numpy as np\n",
      "import ssutil\n",
      "from ssutil import *\n",
      "import parse_vasp\n",
      "from  parse_vasp import *\n",
      "import shutil\n",
      "import os\n",
      "import pandas as pd"
     ],
     "language": "python",
     "metadata": {},
     "outputs": [],
     "prompt_number": 1
    },
    {
     "cell_type": "code",
     "collapsed": false,
     "input": [
      "reload(ssutil)\n",
      "from ssutil import *\n",
      "reload(parse_vasp) \n",
      "from parse_vasp import *"
     ],
     "language": "python",
     "metadata": {},
     "outputs": [],
     "prompt_number": 17
    },
    {
     "cell_type": "code",
     "collapsed": false,
     "input": [
      "# B1 MgO\n",
      "# starting run\n",
      "tdir = 'test3'\n",
      "myRun = vasp_run(tdir)\n",
      "myRun.readPoscar('test3/REFCAR')\n",
      "\n",
      "# This can be read from POTCAR if it exists\n",
      "#myRun.spec=['Fe']\n",
      "myRun.readPotcar('test3/POTCAR')\n",
      "\n",
      "# cell options\n",
      "space_group = 225\n",
      "superdim = [ 2 , 2 ,2 ]\n",
      "shift = np.array([ 0.125 , 0.125 , 0.125])\n",
      "\n",
      "\n",
      "# replacement options\n",
      "rule={'Mg':'Fe'}\n",
      "N = [1,2,3,4]\n",
      "type(myRun)"
     ],
     "language": "python",
     "metadata": {},
     "outputs": [
      {
       "metadata": {},
       "output_type": "pyout",
       "prompt_number": 2,
       "text": [
        "parse_vasp.vasp_run"
       ]
      }
     ],
     "prompt_number": 2
    },
    {
     "cell_type": "code",
     "collapsed": false,
     "input": [
      "# Obtain all transformations\n",
      "gen = get_generators(space_group)\n",
      "tran = get_translations(superdim)"
     ],
     "language": "python",
     "metadata": {},
     "outputs": [],
     "prompt_number": 3
    },
    {
     "cell_type": "code",
     "collapsed": false,
     "input": [
      "# Generate combinations\n",
      "combs = subCombinations(myRun,rule,N)\n",
      "for c in combs:\n",
      "    print c.shape"
     ],
     "language": "python",
     "metadata": {},
     "outputs": [
      {
       "output_type": "stream",
       "stream": "stdout",
       "text": [
        "(32, 1)\n",
        "(496, 2)\n",
        "(4960, 3)\n",
        "(35960, 4)\n"
       ]
      }
     ],
     "prompt_number": 5
    },
    {
     "cell_type": "code",
     "collapsed": false,
     "input": [
      "uni, mul = findUniqueCombs(myRun,combs[1],gen,tran=tran,cell_shift=shift,verbose=0)"
     ],
     "language": "python",
     "metadata": {},
     "outputs": [],
     "prompt_number": 6
    },
    {
     "cell_type": "code",
     "collapsed": false,
     "input": [
      "print len(uni)\n",
      "print sum(mul)\n",
      "mul"
     ],
     "language": "python",
     "metadata": {},
     "outputs": [
      {
       "output_type": "stream",
       "stream": "stdout",
       "text": [
        "9\n",
        "496\n"
       ]
      },
      {
       "metadata": {},
       "output_type": "pyout",
       "prompt_number": 7,
       "text": [
        "[48, 48, 48, 96, 48, 96, 48, 16, 48]"
       ]
      }
     ],
     "prompt_number": 7
    },
    {
     "cell_type": "code",
     "collapsed": false,
     "input": [
      "# make_runs(run,unique_pos,multip,rule)\n",
      "run = myRun\n",
      "unique_pos = uni\n",
      "multip = mul\n",
      "\n",
      "ss_dir = os.path.join(run.wd,'ss_runs')\n",
      "cell = run.cell\n",
      "\n",
      "\n",
      "# increment ss_dir if previous directories exist\n",
      "count = 0\n",
      "while os.path.exists(ss_dir):\n",
      "    count +=1\n",
      "    ss_dir = os.path.join(run.wd,'ss_runs'+'_{:d}'.format(count))\n",
      "\n",
      "os.makedirs(ss_dir)\n",
      "\n",
      "for i,comb in enumerate(uni):\n",
      "    ss_run = os.path.join(ss_dir,'run_'+'{:03d}'.format(i) )\n",
      "    os.makedirs(ss_run)\n",
      "    new_run = myRun.copyToLoc(ss_run,refcarToPoscar=True)\n",
      "    \n",
      "    nspec_i = run.nspec\n",
      "    spec_i = run.spec\n",
      "    \n",
      "    # Generate new position arrays, substituted atoms are placed immediately after the replacee atoms\n",
      "    spec = []; nspec = []; pos = np.zeros([0,3])\n",
      "    count = 0\n",
      "    for n,s in zip(nspec_i,spec_i):\n",
      "        pos_i = run.pos[np.arange(count,count+n)]\n",
      "        if s in rule.keys():\n",
      "            pos_same = np.delete(pos_i,comb-count,axis=0)\n",
      "            pos_sub = pos_i[comb-count]\n",
      "            pos = np.vstack([pos,pos_same,pos_sub])\n",
      "            nspec += [n-len(comb),len(comb)]\n",
      "            spec += [s,rule[s]]\n",
      "        else:\n",
      "            pos = np.vstack([pos,pos_i])\n",
      "            nspec.append(n)\n",
      "            spec.append(s)\n",
      "            \n",
      "    print nspec, spec\n",
      "    print len(pos)\n",
      "    \n",
      "    # Replace position data\n",
      "    new_run.pos = pos\n",
      "    new_run.spec = spec\n",
      "    new_run.nspec = nspec\n",
      "    \n",
      "    # Write new position files\n",
      "    new_run.writePosFile(os.path.join(ss_run,'POSCAR'),cell,nspec,pos)\n",
      "    new_run.writePosFile(os.path.join(ss_run,'REFCAR'),cell,nspec,pos)\n",
      "            \n",
      "    # Write new POTCAR file\n",
      "    new_run.makePotcar(spec)"
     ],
     "language": "python",
     "metadata": {},
     "outputs": [
      {
       "output_type": "stream",
       "stream": "stdout",
       "text": [
        "[30, 2, 32] ['Mg', 'Fe', 'O']\n",
        "64\n",
        "[30, 2, 32] ['Mg', 'Fe', 'O']\n",
        "64\n",
        "[30, 2, 32] ['Mg', 'Fe', 'O']\n",
        "64\n",
        "[30, 2, 32]"
       ]
      },
      {
       "output_type": "stream",
       "stream": "stdout",
       "text": [
        " ['Mg', 'Fe', 'O']\n",
        "64\n",
        "[30, 2, 32] ['Mg', 'Fe', 'O']\n",
        "64\n",
        "[30, 2, 32] ['Mg', 'Fe', 'O']\n",
        "64\n",
        "[30, 2, 32] ['Mg', 'Fe', 'O']\n",
        "64\n",
        "[30, 2, 32]"
       ]
      },
      {
       "output_type": "stream",
       "stream": "stdout",
       "text": [
        " ['Mg', 'Fe', 'O']\n",
        "64\n",
        "[30, 2, 32] ['Mg', 'Fe', 'O']\n",
        "64\n"
       ]
      }
     ],
     "prompt_number": 7
    },
    {
     "cell_type": "code",
     "collapsed": false,
     "input": [
      "# starting run\n",
      "tdir = 'test2'\n",
      "myRun = vasp_run(tdir)\n",
      "myRun.readPoscar('test2/REFCAR')\n",
      "\n",
      "# This can be read from POTCAR if it exists\n",
      "#myRun.spec=['Fe']\n",
      "myRun.readPotcar('test2/POTCAR')\n",
      "print myRun.spec\n",
      "\n",
      "# cell options\n",
      "space_group = 62\n",
      "superdim = [ 2 , 2 , 1 ]\n",
      "rot = np.array([[ 1., 0, 0.],[0., 0., 1.],[0.,1.,0.] ])\n",
      "\n",
      "#shift = np.array([ 0. , 0. , 0.])\n",
      "\n",
      "# replacement options\n",
      "rule={'Mg':'Fe'}\n",
      "N = 2"
     ],
     "language": "python",
     "metadata": {},
     "outputs": [
      {
       "output_type": "stream",
       "stream": "stdout",
       "text": [
        "['Mg', 'Si', 'O']\n"
       ]
      }
     ],
     "prompt_number": 13
    },
    {
     "cell_type": "code",
     "collapsed": false,
     "input": [
      "rot.shape"
     ],
     "language": "python",
     "metadata": {},
     "outputs": [
      {
       "metadata": {},
       "output_type": "pyout",
       "prompt_number": 264,
       "text": [
        "(3, 3)"
       ]
      }
     ],
     "prompt_number": 264
    },
    {
     "cell_type": "code",
     "collapsed": false,
     "input": [
      "gen"
     ],
     "language": "python",
     "metadata": {},
     "outputs": [
      {
       "metadata": {},
       "output_type": "pyout",
       "prompt_number": 296,
       "text": [
        "[array([[ 1.,  0.,  0.,  0.],\n",
        "       [ 0.,  1.,  0.,  0.],\n",
        "       [ 0.,  0.,  1.,  0.]]),\n",
        " array([[-1. ,  0. ,  0. ,  0.5],\n",
        "       [ 0. , -1. ,  0. ,  0. ],\n",
        "       [ 0. ,  0. ,  1. ,  0.5]]),\n",
        " array([[-1. ,  0. ,  0. ,  0. ],\n",
        "       [ 0. ,  1. ,  0. ,  0.5],\n",
        "       [ 0. ,  0. , -1. ,  0. ]]),\n",
        " array([[-1.,  0.,  0.,  0.],\n",
        "       [ 0., -1.,  0.,  0.],\n",
        "       [ 0.,  0., -1.,  0.]])]"
       ]
      }
     ],
     "prompt_number": 296
    },
    {
     "cell_type": "code",
     "collapsed": false,
     "input": [
      "# Obtain all transformations\n",
      "gen = get_generators(space_group)\n",
      "tran = get_translations(superdim)\n",
      "#tran\n",
      "gentran = gen\n",
      "I = np.array([[1.,0.,0.],[0.,1.,0.],[0.,0.,1.]])\n",
      "for t in tran:\n",
      "\n",
      "    tmp = np.vstack([I,t])\n",
      "    gentran.append(tmp.T)\n",
      "#gentran"
     ],
     "language": "python",
     "metadata": {},
     "outputs": [],
     "prompt_number": 307
    },
    {
     "cell_type": "code",
     "collapsed": false,
     "input": [
      "# Generate combinations\n",
      "combs = subCombinations(myRun,rule,N)\n",
      "combs.shape"
     ],
     "language": "python",
     "metadata": {},
     "outputs": [
      {
       "metadata": {},
       "output_type": "pyout",
       "prompt_number": 308,
       "text": [
        "(120, 2)"
       ]
      }
     ],
     "prompt_number": 308
    },
    {
     "cell_type": "code",
     "collapsed": false,
     "input": [
      "uni, mul = findUniqueCombs(myRun,combs,gentran,cell_rot=rot)"
     ],
     "language": "python",
     "metadata": {},
     "outputs": [
      {
       "output_type": "stream",
       "stream": "stdout",
       "text": [
        "[[  4.90215342e-01   2.50000851e-01   3.39698751e-02]\n",
        " [  2.40215365e-01   7.50000396e-01   2.16030159e-01]\n",
        " [  9.78468421e-03   7.49999224e-01   4.66030134e-01]\n",
        " [  2.59784780e-01   2.49999536e-01   2.83969852e-01]\n",
        " [  4.90215342e-01   2.50000851e-01   5.33969875e-01]\n",
        " [  2.40215365e-01   7.50000396e-01   7.16030159e-01]\n",
        " [  9.78468421e-03   7.49999224e-01   9.66030134e-01]\n",
        " [  2.59784780e-01   2.49999536e-01   7.83969852e-01]\n",
        " [  9.90215342e-01   2.50000851e-01   3.39698751e-02]\n",
        " [  7.40215365e-01   7.50000396e-01   2.16030159e-01]\n",
        " [  5.09784684e-01   7.49999224e-01   4.66030134e-01]\n",
        " [  7.59784780e-01   2.49999536e-01   2.83969852e-01]\n",
        " [  9.90215342e-01   2.50000851e-01   5.33969875e-01]\n",
        " [  7.40215365e-01   7.50000396e-01   7.16030159e-01]\n",
        " [  5.09784684e-01   7.49999224e-01   9.66030134e-01]\n",
        " [  7.59784780e-01   2.49999536e-01   7.83969852e-01]\n",
        " [  4.99999981e-01   9.99999963e-01   2.50000102e-01]\n",
        " [  2.50000184e-01   1.07530000e-08   4.99999944e-01]\n",
        " [  4.99999926e-01   5.00000040e-01   2.49999925e-01]\n",
        " [  2.50000075e-01   5.00000072e-01   6.29440000e-08]\n",
        " [  4.99999981e-01   9.99999963e-01   7.50000102e-01]\n",
        " [  2.50000184e-01   1.07530000e-08   9.99999944e-01]\n",
        " [  4.99999926e-01   5.00000040e-01   7.49999925e-01]\n",
        " [  2.50000075e-01   5.00000072e-01   5.00000063e-01]\n",
        " [  9.99999981e-01   9.99999963e-01   2.50000102e-01]\n",
        " [  7.50000184e-01   1.07530000e-08   4.99999944e-01]\n",
        " [  9.99999926e-01   5.00000040e-01   2.49999925e-01]\n",
        " [  7.50000075e-01   5.00000072e-01   6.29440000e-08]\n",
        " [  9.99999981e-01   9.99999963e-01   7.50000102e-01]\n",
        " [  7.50000184e-01   1.07530000e-08   9.99999944e-01]\n",
        " [  9.99999926e-01   5.00000040e-01   7.49999925e-01]\n",
        " [  7.50000075e-01   5.00000072e-01   5.00000063e-01]\n",
        " [  5.54569086e-02   2.49999522e-01   2.33205157e-01]\n",
        " [  3.44489945e-01   5.59818957e-02   1.51998358e-01]\n",
        " [  3.05456932e-01   7.50000601e-01   1.67948392e-02]\n",
        " [  9.44905798e-02   9.44018028e-01   9.80014855e-02]\n",
        " [  4.44543229e-01   7.50000469e-01   2.66794856e-01]\n",
        " [  1.55509426e-01   5.55982302e-01   3.48001303e-01]\n",
        " [  1.94543103e-01   2.49999389e-01   4.83205170e-01]\n",
        " [  4.05509408e-01   4.44018000e-01   4.01998537e-01]\n",
        " [  1.55510131e-01   9.44018133e-01   3.48001645e-01]\n",
        " [  4.05509441e-01   5.59819535e-02   4.01998556e-01]\n",
        " [  3.44489908e-01   4.44017629e-01   1.51998522e-01]\n",
        " [  9.44906521e-02   5.55981983e-01   9.80015154e-02]\n",
        " [  5.54569086e-02   2.49999522e-01   7.33205157e-01]\n",
        " [  3.44489945e-01   5.59818957e-02   6.51998358e-01]\n",
        " [  3.05456932e-01   7.50000601e-01   5.16794839e-01]\n",
        " [  9.44905798e-02   9.44018028e-01   5.98001486e-01]\n",
        " [  4.44543229e-01   7.50000469e-01   7.66794856e-01]\n",
        " [  1.55509426e-01   5.55982302e-01   8.48001303e-01]\n",
        " [  1.94543103e-01   2.49999389e-01   9.83205170e-01]\n",
        " [  4.05509408e-01   4.44018000e-01   9.01998537e-01]\n",
        " [  1.55510131e-01   9.44018133e-01   8.48001645e-01]\n",
        " [  4.05509441e-01   5.59819535e-02   9.01998556e-01]\n",
        " [  3.44489908e-01   4.44017629e-01   6.51998522e-01]\n",
        " [  9.44906521e-02   5.55981983e-01   5.98001515e-01]\n",
        " [  5.55456909e-01   2.49999522e-01   2.33205157e-01]\n",
        " [  8.44489945e-01   5.59818957e-02   1.51998358e-01]\n",
        " [  8.05456932e-01   7.50000601e-01   1.67948392e-02]\n",
        " [  5.94490580e-01   9.44018028e-01   9.80014855e-02]\n",
        " [  9.44543229e-01   7.50000469e-01   2.66794856e-01]\n",
        " [  6.55509426e-01   5.55982302e-01   3.48001303e-01]\n",
        " [  6.94543103e-01   2.49999389e-01   4.83205170e-01]\n",
        " [  9.05509408e-01   4.44018000e-01   4.01998537e-01]\n",
        " [  6.55510131e-01   9.44018133e-01   3.48001645e-01]\n",
        " [  9.05509441e-01   5.59819535e-02   4.01998556e-01]\n",
        " [  8.44489908e-01   4.44017629e-01   1.51998522e-01]\n",
        " [  5.94490652e-01   5.55981983e-01   9.80015154e-02]\n",
        " [  5.55456909e-01   2.49999522e-01   7.33205157e-01]\n",
        " [  8.44489945e-01   5.59818957e-02   6.51998358e-01]\n",
        " [  8.05456932e-01   7.50000601e-01   5.16794839e-01]\n",
        " [  5.94490580e-01   9.44018028e-01   5.98001486e-01]\n",
        " [  9.44543229e-01   7.50000469e-01   7.66794856e-01]\n",
        " [  6.55509426e-01   5.55982302e-01   8.48001303e-01]\n",
        " [  6.94543103e-01   2.49999389e-01   9.83205170e-01]\n",
        " [  9.05509408e-01   4.44018000e-01   9.01998537e-01]\n",
        " [  6.55510131e-01   9.44018133e-01   8.48001645e-01]\n",
        " [  9.05509441e-01   5.59819535e-02   9.01998556e-01]\n",
        " [  8.44489908e-01   4.44017629e-01   6.51998522e-01]\n",
        " [  5.94490652e-01   5.55981983e-01   5.98001515e-01]]\n"
       ]
      }
     ],
     "prompt_number": 309
    },
    {
     "cell_type": "code",
     "collapsed": false,
     "input": [
      "sum(mul)"
     ],
     "language": "python",
     "metadata": {},
     "outputs": [
      {
       "metadata": {},
       "output_type": "pyout",
       "prompt_number": 310,
       "text": [
        "120"
       ]
      }
     ],
     "prompt_number": 310
    }
   ],
   "metadata": {}
  }
 ]
}