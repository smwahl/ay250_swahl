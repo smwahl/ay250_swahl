{
 "metadata": {
  "name": ""
 },
 "nbformat": 3,
 "nbformat_minor": 0,
 "worksheets": [
  {
   "cells": [
    {
     "cell_type": "code",
     "collapsed": false,
     "input": [
      "!ls"
     ],
     "language": "python",
     "metadata": {},
     "outputs": [
      {
       "output_type": "stream",
       "stream": "stdout",
       "text": [
        "README             parse_vasp.pyc     ssutil.pyc         \u001b[36mtest1\u001b[m\u001b[m              test_html.p\r\n",
        "parse_vasp.py      ssutil.py          ssutil_devel.ipynb \u001b[36mtest2\u001b[m\u001b[m              workflow.ipynb\r\n"
       ]
      }
     ],
     "prompt_number": 2
    },
    {
     "cell_type": "code",
     "collapsed": false,
     "input": [
      "from parse_vasp import *\n",
      "import numpy as np\n",
      "import scipy as sp\n",
      "from warnings import warn\n"
     ],
     "language": "python",
     "metadata": {},
     "outputs": [],
     "prompt_number": 3
    },
    {
     "cell_type": "code",
     "collapsed": false,
     "input": [
      "# Read in configuration file\n",
      "tdir = 'test1'\n",
      "myRun = vasp_run(tdir)\n",
      "\n",
      "myRun.readPoscar('test1/REFCAR')\n",
      "#myRun.readPotcar('test1/POTCAR')\n",
      "# This can be read from POTCAR if it exists\n",
      "myRun.spec=['Fe']\n",
      "# Generate all possible configurations\n",
      "\n",
      "# a replacement has an initial and subsituted element\n",
      "# a multiplicity and the original structure\n",
      "shift = np.array([ 0.125 , 0.125 , 0.125])\n",
      "subst = ('Fe','Si',2,myRun,shift)\n"
     ],
     "language": "python",
     "metadata": {},
     "outputs": [],
     "prompt_number": 4
    },
    {
     "cell_type": "code",
     "collapsed": false,
     "input": [
      "from itertools import combinations\n",
      "\n",
      "run = subst[3]\n",
      "positions = run.pos - subst[4] # take into account a shift from standard positions\n",
      "space_group = 225\n",
      "\n",
      "# find a sublist of where a replaceable atom resides\n",
      "x=0\n",
      "idxs = np.array([])\n",
      "for i,s in enumerate(run.spec):\n",
      "    if s == subst[0]:\n",
      "        idxs = np.arange(x, x + run.nspec[i])\n",
      "    x += run.nspec[i]\n",
      "\n",
      "idxs2 = list(idxs)\n"
     ],
     "language": "python",
     "metadata": {},
     "outputs": [],
     "prompt_number": 5
    },
    {
     "cell_type": "code",
     "collapsed": false,
     "input": [
      "# number of combinations to be generated\n",
      "from scipy.misc import factorial\n",
      "#print len(combs)\n",
      "nr = subst[2]\n",
      "print factorial(len(idxs)) / float(factorial(nr)) / float(factorial(len(idxs)-nr))\n"
     ],
     "language": "python",
     "metadata": {},
     "outputs": [
      {
       "output_type": "stream",
       "stream": "stdout",
       "text": [
        "496.0\n"
       ]
      }
     ],
     "prompt_number": 6
    },
    {
     "cell_type": "code",
     "collapsed": false,
     "input": [
      "# Generate all combinations of \n",
      "nr = subst[2]\n",
      "combs = np.array([ x for x in combinations(idxs2,nr) ])\n",
      "\n",
      "combs.sort(axis=1)\n",
      "len(combs)"
     ],
     "language": "python",
     "metadata": {},
     "outputs": [
      {
       "metadata": {},
       "output_type": "pyout",
       "prompt_number": 7,
       "text": [
        "496"
       ]
      }
     ],
     "prompt_number": 7
    },
    {
     "cell_type": "code",
     "collapsed": false,
     "input": [
      "# Generating combinations\n",
      "# inputs: vasp run, substitution rule(s), number to be substituted\n",
      "# optional:\n",
      "# should have species sorted out ahead of time\n",
      "# is knowing the shift necessary at this point\n",
      "\n",
      "tdir = 'test1'\n",
      "myRun = vasp_run(tdir)\n",
      "myRun.readPoscar('test1/REFCAR')\n",
      "\n",
      "# This can be read from POTCAR if it exists\n",
      "myRun.spec=['Fe']\n",
      "# Generate all possible configurations\n",
      "\n",
      "# a replacement has an initial and subsituted element\n",
      "# a multiplicity and the original structure\n",
      "shift = np.array([ 0.125 , 0.125 , 0.125])\n",
      "positions = run.pos - shift # take into account a shift from standard positions\n",
      "space_group = 225\n",
      "rule={'Fe':'Si'}\n",
      "N = 2"
     ],
     "language": "python",
     "metadata": {},
     "outputs": [],
     "prompt_number": 8
    },
    {
     "cell_type": "code",
     "collapsed": false,
     "input": [
      "from itertools import combinations\n",
      "from scipy.misc import factorial\n",
      "from collections import Iterable\n",
      "\n",
      "def subCombinations(run,sub_rule,n_sub):\n",
      "    '''\n",
      "    Return all possible combinations of integer indices for the positions in the cell\n",
      "    defined in vasp_run 'run', given an atomic substitiution rule 'sub_rule', and a number\n",
      "    of substitutions per cell 'n_sub'. Only single substitutions allowed. If an iterable\n",
      "    of integers is provided, a list of arrays containing the combinations for each \n",
      "    number of substitutions.'\n",
      "    '''\n",
      "    assert isinstance(run,vasp_run), 'Run must be specified by a vasp_run object.'\n",
      "    assert len(run.spec) > 0, 'No species defined in vasp_run \"{}\"'.format(myRun.name)\n",
      "        \n",
      "    # Check that only one rule is to be applied and save in a dict\n",
      "    sub_rule_errText = 'Only single substitutions allowed.'\n",
      "    if isinstance(sub_rule,dict):\n",
      "        assert len(sub_rule.keys()) == 1, sub_rule_errText\n",
      "        rule = sub_rule\n",
      "    elif isinstance(sub_rule,list) or  isinstance(sub_rule,tuple) \\\n",
      "    or isinstance(sub_rule,np.ndarray):\n",
      "        assert len(sub_rule) == 2, sub_rule_errText\n",
      "        rule = {sub_rule[0]:sub_rule[1]}\n",
      "    else:\n",
      "        raise TypeError('Invalid type for substitution rule')\n",
      "        \n",
      "    if not rule.keys()[0] in run.spec:\n",
      "        warn('Species {} not found in run {}'.format(rule.keys()[0],run.name) )\n",
      "        \n",
      "    # find a sublist of where a replaceable atom resides\n",
      "    x=0\n",
      "    idxs = np.array([])\n",
      "    for i,s in enumerate(run.spec):\n",
      "        if s == rule.keys()[0]:\n",
      "            idxs = np.arange(x, x + run.nspec[i])\n",
      "        x += run.nspec[i]\n",
      "    \n",
      "    # Check that n_sub is valid number for the given cell\n",
      "    n_sub_errText = 'Invalid number of substitutions for cell with {} {} atoms.'.format(len(idxs),\\\n",
      "                                                                     rule.keys()[0])\n",
      "    # accept either an integer or an iterable\n",
      "    if isinstance(n_sub,int):\n",
      "        nums = [n_sub]\n",
      "    elif isinstance(n_sub,Iterable):\n",
      "        nums = n_sub\n",
      "    else:\n",
      "        raise ValueEror(n_sub_errText)\n",
      "    \n",
      "    # store combinations for each n_sub\n",
      "    results = []\n",
      "    for n in nums:\n",
      "        assert isinstance(n,int), n_sub_errText\n",
      "        assert n >= 0 and n <= len(idxs), n_sub_errText\n",
      "        \n",
      "        \n",
      "        # generate combinations\n",
      "        combs = np.array([ x for x in combinations(idxs,n) ])\n",
      "        combs.sort(axis=1)\n",
      "        \n",
      "        # Verify that the number of combinations is correct \n",
      "        if combs.shape[0] != \\\n",
      "        factorial(len(idxs)) / float(factorial(n)) / float(factorial(len(idxs)-n)) :\n",
      "            warn('Number of combinations generated is different than expected.')\n",
      "        results.append(combs)\n",
      "\n",
      "    # return most reasonable type based on the number of \n",
      "    if len(results) == 1:\n",
      "        return results[0]\n",
      "    elif len(results) == 0:\n",
      "        return None\n",
      "    else:\n",
      "        return results\n",
      "    \n",
      "combs = subCombinations(myRun,['Fe','Si'],(2,3))\n",
      "print type(combs)\n",
      "len(combs[1])\n",
      "\n"
     ],
     "language": "python",
     "metadata": {},
     "outputs": [
      {
       "output_type": "stream",
       "stream": "stdout",
       "text": [
        "<type 'list'>\n"
       ]
      },
      {
       "output_type": "stream",
       "stream": "stderr",
       "text": [
        "-c:61: UserWarning: Number of combinations generated is different than expected.\n"
       ]
      },
      {
       "metadata": {},
       "output_type": "pyout",
       "prompt_number": 9,
       "text": [
        "4960"
       ]
      }
     ],
     "prompt_number": 9
    },
    {
     "cell_type": "code",
     "collapsed": false,
     "input": [
      "# convert array into a hashable string for backwards indexing\n",
      "\n",
      "def intsToStr(arr):\n",
      "    '''Convert a 1d numpy array into a hashable string. Elements must be positive intergers <1000.'''\n",
      "    assert isinstance(arr,np.ndarray)\n",
      "    assert len(arr.shape) == 1 \n",
      "    assert arr.max() < 1000 and arr.min() >= 0.,'Elements must be positive intergers <1000.'\n",
      "    \n",
      "    hashStr = ''\n",
      "    for x in arr:\n",
      "        try:\n",
      "            hashStr += '{:03d}'.format(int(x))\n",
      "        except:\n",
      "            raise ValueError('Elements must be positive intergers <1000.')\n",
      "            \n",
      "    return hashStr\n",
      "\n",
      "# create dictionary indexed by string corresponding to the array values\n",
      "combs_dict = {}\n",
      "tmp = [ combs_dict.update({intsToStr(combs[i,:]):i} ) for i in range(len(combs)) ]\n",
      "\n",
      "def combs_idx(arr):\n",
      "    '''Wrapper to give index of an array in combs.'''\n",
      "    global combs_dict\n",
      "    \n",
      "    try:\n",
      "        return combs_dict[intsToStr(arr)]\n",
      "    except:\n",
      "        return None\n",
      "    \n",
      "combs_idx(combs[200,:])"
     ],
     "language": "python",
     "metadata": {},
     "outputs": [
      {
       "ename": "TypeError",
       "evalue": "list indices must be integers, not tuple",
       "output_type": "pyerr",
       "traceback": [
        "\u001b[0;31m---------------------------------------------------------------------------\u001b[0m\n\u001b[0;31mTypeError\u001b[0m                                 Traceback (most recent call last)",
        "\u001b[0;32m<ipython-input-10-3d5b38756156>\u001b[0m in \u001b[0;36m<module>\u001b[0;34m()\u001b[0m\n\u001b[1;32m     18\u001b[0m \u001b[0;31m# create dictionary indexed by string corresponding to the array values\u001b[0m\u001b[0;34m\u001b[0m\u001b[0;34m\u001b[0m\u001b[0m\n\u001b[1;32m     19\u001b[0m \u001b[0mcombs_dict\u001b[0m \u001b[0;34m=\u001b[0m \u001b[0;34m{\u001b[0m\u001b[0;34m}\u001b[0m\u001b[0;34m\u001b[0m\u001b[0m\n\u001b[0;32m---> 20\u001b[0;31m \u001b[0mtmp\u001b[0m \u001b[0;34m=\u001b[0m \u001b[0;34m[\u001b[0m \u001b[0mcombs_dict\u001b[0m\u001b[0;34m.\u001b[0m\u001b[0mupdate\u001b[0m\u001b[0;34m(\u001b[0m\u001b[0;34m{\u001b[0m\u001b[0mintsToStr\u001b[0m\u001b[0;34m(\u001b[0m\u001b[0mcombs\u001b[0m\u001b[0;34m[\u001b[0m\u001b[0mi\u001b[0m\u001b[0;34m,\u001b[0m\u001b[0;34m:\u001b[0m\u001b[0;34m]\u001b[0m\u001b[0;34m)\u001b[0m\u001b[0;34m:\u001b[0m\u001b[0mi\u001b[0m\u001b[0;34m}\u001b[0m \u001b[0;34m)\u001b[0m \u001b[0;32mfor\u001b[0m \u001b[0mi\u001b[0m \u001b[0;32min\u001b[0m \u001b[0mrange\u001b[0m\u001b[0;34m(\u001b[0m\u001b[0mlen\u001b[0m\u001b[0;34m(\u001b[0m\u001b[0mcombs\u001b[0m\u001b[0;34m)\u001b[0m\u001b[0;34m)\u001b[0m \u001b[0;34m]\u001b[0m\u001b[0;34m\u001b[0m\u001b[0m\n\u001b[0m\u001b[1;32m     21\u001b[0m \u001b[0;34m\u001b[0m\u001b[0m\n\u001b[1;32m     22\u001b[0m \u001b[0;32mdef\u001b[0m \u001b[0mcombs_idx\u001b[0m\u001b[0;34m(\u001b[0m\u001b[0marr\u001b[0m\u001b[0;34m)\u001b[0m\u001b[0;34m:\u001b[0m\u001b[0;34m\u001b[0m\u001b[0m\n",
        "\u001b[0;31mTypeError\u001b[0m: list indices must be integers, not tuple"
       ]
      }
     ],
     "prompt_number": 10
    },
    {
     "cell_type": "code",
     "collapsed": false,
     "input": [
      "print idxs\n",
      "print nr"
     ],
     "language": "python",
     "metadata": {},
     "outputs": [
      {
       "output_type": "stream",
       "stream": "stdout",
       "text": [
        "[ 0  1  2  3  4  5  6  7  8  9 10 11 12 13 14 15 16 17 18 19 20 21 22 23 24\n",
        " 25 26 27 28 29 30 31]\n",
        "2\n"
       ]
      }
     ],
     "prompt_number": 11
    },
    {
     "cell_type": "code",
     "collapsed": false,
     "input": [
      "positions"
     ],
     "language": "python",
     "metadata": {},
     "outputs": [
      {
       "metadata": {},
       "output_type": "pyout",
       "prompt_number": 12,
       "text": [
        "array([[ 0.  ,  0.  ,  0.  ],\n",
        "       [ 0.25,  0.25,  0.  ],\n",
        "       [ 0.25,  0.  ,  0.25],\n",
        "       [ 0.  ,  0.25,  0.25],\n",
        "       [ 0.  ,  0.  ,  0.5 ],\n",
        "       [ 0.25,  0.25,  0.5 ],\n",
        "       [ 0.25,  0.  ,  0.75],\n",
        "       [ 0.  ,  0.25,  0.75],\n",
        "       [ 0.  ,  0.5 ,  0.  ],\n",
        "       [ 0.25,  0.75,  0.  ],\n",
        "       [ 0.25,  0.5 ,  0.25],\n",
        "       [ 0.  ,  0.75,  0.25],\n",
        "       [ 0.  ,  0.5 ,  0.5 ],\n",
        "       [ 0.25,  0.75,  0.5 ],\n",
        "       [ 0.25,  0.5 ,  0.75],\n",
        "       [ 0.  ,  0.75,  0.75],\n",
        "       [ 0.5 ,  0.  ,  0.  ],\n",
        "       [ 0.75,  0.25,  0.  ],\n",
        "       [ 0.75,  0.  ,  0.25],\n",
        "       [ 0.5 ,  0.25,  0.25],\n",
        "       [ 0.5 ,  0.  ,  0.5 ],\n",
        "       [ 0.75,  0.25,  0.5 ],\n",
        "       [ 0.75,  0.  ,  0.75],\n",
        "       [ 0.5 ,  0.25,  0.75],\n",
        "       [ 0.5 ,  0.5 ,  0.  ],\n",
        "       [ 0.75,  0.75,  0.  ],\n",
        "       [ 0.75,  0.5 ,  0.25],\n",
        "       [ 0.5 ,  0.75,  0.25],\n",
        "       [ 0.5 ,  0.5 ,  0.5 ],\n",
        "       [ 0.75,  0.75,  0.5 ],\n",
        "       [ 0.75,  0.5 ,  0.75],\n",
        "       [ 0.5 ,  0.75,  0.75]])"
       ]
      }
     ],
     "prompt_number": 12
    },
    {
     "cell_type": "code",
     "collapsed": false,
     "input": [
      "# example generator\n",
      "g = np.array([[-1,0,0,0],[0,-1,0,0],[0,0,1,0]])\n",
      "\n",
      "print g[:,0:3]\n",
      "print g[:,3]"
     ],
     "language": "python",
     "metadata": {},
     "outputs": [
      {
       "output_type": "stream",
       "stream": "stdout",
       "text": [
        "[[-1  0  0]\n",
        " [ 0 -1  0]\n",
        " [ 0  0  1]]\n",
        "[0 0 0]\n"
       ]
      }
     ],
     "prompt_number": 13
    },
    {
     "cell_type": "code",
     "collapsed": false,
     "input": [
      "# generators for fcc iron\n",
      "gen = [ np.array([[-1,0,0,0],[0,-1,0,0],[0,0,1,0]]),\n",
      "       np.array([[-1,0,0,0],[0,1,0,0],[0,0,-1,0]]),\n",
      "       np.array([[0,0,1,0],[1,0,0,0],[0,1,0,0]]),\n",
      "       np.array([[0,1,0,0],[1,0,0,0],[0,0,-1,0]]),\n",
      "       np.array([[-1,0,0,0],[0,-1,0,0],[0,0,-1,0]]),\n",
      "       np.array([[1,0,0,0],[0,1,0,0.5],[0,0,1,0.5]]),\n",
      "       np.array([[1,0,0,0.5],[0,1,0,0],[0,0,1,0.5]])]\n",
      "\n",
      "# translations (due to supercell)\n",
      "superdim = [ 2 , 2 ,2 ]\n",
      "supshift = lambda i: np.linspace(0., 1. - 1./superdim[i] ,superdim[i])\n",
      "\n",
      "trans_list = []\n",
      "for x in supshift(0):\n",
      "    for y in supshift(1):\n",
      "        for z in supshift(2):\n",
      "            trans_list.append([x,y,z])\n",
      "tran = np.array(trans_list)\n",
      "tran\n",
      "\n",
      "def get_translations(super_dim):\n",
      "    '''\n",
      "    If the cell is a supercell, this will find all the fractional shifts that generate equivalent \n",
      "    positions. Input is a 3 element iterable containing the multiple of the unit cell parameter in \n",
      "    each direction. Assumes periodic boundary conditions on cell.\n",
      "    '''\n",
      "    assert isinstance(super_dim,Iterable),\\\n",
      "    'Input is a 3 element iterable containing the multiple of the unit cell parameter in each direction.'\n",
      "    assert len(super_dim) == 3,\\\n",
      "    'Input is a 3 element iterable containing the multiple of the unit cell parameter in each direction.'\n",
      "    \n",
      "    supshift = lambda i: np.linspace(0., 1. - 1./super_dim[i] ,super_dim[i])\n",
      "    \n",
      "    trans_list = []\n",
      "    for x in supshift(0):\n",
      "        for y in supshift(1):\n",
      "            for z in supshift(2):\n",
      "                trans_list.append([x,y,z])\n",
      "    tran = np.array(trans_list)\n",
      "    \n",
      "    return tran\n",
      "\n",
      "# generators from web\n",
      "gen = get_generators(225)\n",
      "gen\n",
      "\n",
      "tran = get_translations(superdim)\n",
      "tran            "
     ],
     "language": "python",
     "metadata": {},
     "outputs": [
      {
       "ename": "NameError",
       "evalue": "name 'get_generators' is not defined",
       "output_type": "pyerr",
       "traceback": [
        "\u001b[0;31m---------------------------------------------------------------------------\u001b[0m\n\u001b[0;31mNameError\u001b[0m                                 Traceback (most recent call last)",
        "\u001b[0;32m<ipython-input-14-60c4d28d940a>\u001b[0m in \u001b[0;36m<module>\u001b[0;34m()\u001b[0m\n\u001b[1;32m     41\u001b[0m \u001b[0;34m\u001b[0m\u001b[0m\n\u001b[1;32m     42\u001b[0m \u001b[0;31m# generators from web\u001b[0m\u001b[0;34m\u001b[0m\u001b[0;34m\u001b[0m\u001b[0m\n\u001b[0;32m---> 43\u001b[0;31m \u001b[0mgen\u001b[0m \u001b[0;34m=\u001b[0m \u001b[0mget_generators\u001b[0m\u001b[0;34m(\u001b[0m\u001b[0;36m225\u001b[0m\u001b[0;34m)\u001b[0m\u001b[0;34m\u001b[0m\u001b[0m\n\u001b[0m\u001b[1;32m     44\u001b[0m \u001b[0mgen\u001b[0m\u001b[0;34m\u001b[0m\u001b[0m\n\u001b[1;32m     45\u001b[0m \u001b[0;34m\u001b[0m\u001b[0m\n",
        "\u001b[0;31mNameError\u001b[0m: name 'get_generators' is not defined"
       ]
      }
     ],
     "prompt_number": 14
    },
    {
     "cell_type": "code",
     "collapsed": false,
     "input": [
      "def apply_gen(p,g):\n",
      "    '''Apply generator 'g' to a set of positions 'p'.'''\n",
      "    \n",
      "    # Check shape and value of p and g\n",
      "    assert p.shape[1] == 3\n",
      "    assert g.shape == (3,4)\n",
      "    assert p.max() <= 1. and p.min >= 0.\n",
      "    assert g.max() <= 1. and g.min >= -1.\n",
      "    \n",
      "    # Carry out dot product\n",
      "    ptrans = np.dot(p,g[:,0:3]) + g[:,3] # could casting cause a problem for n=3?\n",
      "\n",
      "    # shift all positions to between 0 and 1\n",
      "    pmod = np.mod(ptrans,1.)\n",
      "    return pmod "
     ],
     "language": "python",
     "metadata": {},
     "outputs": [],
     "prompt_number": 15
    },
    {
     "cell_type": "code",
     "collapsed": false,
     "input": [
      "def site_idx(sites,pos):\n",
      "    '''For an array of possible sites, match coordinates in 'pos' and return\n",
      "    the index of the corresponding site. If site does not match, return None.'''\n",
      "    \n",
      "    assert pos.shape[1] == 3\n",
      "    assert sites.shape[1] == 3\n",
      "    \n",
      "    matches = []\n",
      "    for p in pos:\n",
      "        m = np.where((sites == p).all(axis=1))\n",
      "        matches.append(m[0].flatten()[0])\n",
      "        \n",
      "    return matches\n",
      "    \n",
      "    "
     ],
     "language": "python",
     "metadata": {},
     "outputs": [],
     "prompt_number": 16
    },
    {
     "cell_type": "code",
     "collapsed": false,
     "input": [
      "import copy\n",
      "comb_list = combs.copy()\n",
      "unique_comb = []\n",
      "multip = []\n",
      "\n",
      "len(comb_list)"
     ],
     "language": "python",
     "metadata": {},
     "outputs": [
      {
       "ename": "AttributeError",
       "evalue": "'list' object has no attribute 'copy'",
       "output_type": "pyerr",
       "traceback": [
        "\u001b[0;31m---------------------------------------------------------------------------\u001b[0m\n\u001b[0;31mAttributeError\u001b[0m                            Traceback (most recent call last)",
        "\u001b[0;32m<ipython-input-17-5068a5fac0d2>\u001b[0m in \u001b[0;36m<module>\u001b[0;34m()\u001b[0m\n\u001b[1;32m      1\u001b[0m \u001b[0;32mimport\u001b[0m \u001b[0mcopy\u001b[0m\u001b[0;34m\u001b[0m\u001b[0m\n\u001b[0;32m----> 2\u001b[0;31m \u001b[0mcomb_list\u001b[0m \u001b[0;34m=\u001b[0m \u001b[0mcombs\u001b[0m\u001b[0;34m.\u001b[0m\u001b[0mcopy\u001b[0m\u001b[0;34m(\u001b[0m\u001b[0;34m)\u001b[0m\u001b[0;34m\u001b[0m\u001b[0m\n\u001b[0m\u001b[1;32m      3\u001b[0m \u001b[0munique_comb\u001b[0m \u001b[0;34m=\u001b[0m \u001b[0;34m[\u001b[0m\u001b[0;34m]\u001b[0m\u001b[0;34m\u001b[0m\u001b[0m\n\u001b[1;32m      4\u001b[0m \u001b[0mmultip\u001b[0m \u001b[0;34m=\u001b[0m \u001b[0;34m[\u001b[0m\u001b[0;34m]\u001b[0m\u001b[0;34m\u001b[0m\u001b[0m\n\u001b[1;32m      5\u001b[0m \u001b[0;34m\u001b[0m\u001b[0m\n",
        "\u001b[0;31mAttributeError\u001b[0m: 'list' object has no attribute 'copy'"
       ]
      }
     ],
     "prompt_number": 17
    },
    {
     "cell_type": "code",
     "collapsed": false,
     "input": [
      "# with translations\n",
      "import copy\n",
      "comb_list = combs.copy()\n",
      "unique_comb = []\n",
      "mults = []\n",
      "\n",
      "len(comb_list)\n",
      "\n",
      "tol = .01\n",
      "count = 0\n",
      "# Loop until all unique configurations identified\n",
      "while len(comb_list) > 0:\n",
      "#for tmp in range(10):\n",
      "    \n",
      "    # use the first comination as the unique position\n",
      "    print comb_list[0]\n",
      "    a = positions[comb_list[0]]\n",
      "    count += 1\n",
      "    print 'Unique Position:', count\n",
      "    print a\n",
      "\n",
      "    matches = [a] # must include 0\n",
      "    nmatches = 1\n",
      "    prev_nmatches = 0\n",
      "\n",
      "    # outer loop, stop when no new equivalent configurations found\n",
      "    num_gen_loops = 0\n",
      "    while not nmatches == prev_nmatches:\n",
      "    #for i in range(10):\n",
      "        num_gen_loops +=1\n",
      "    \n",
      "        # update prev_matches (is there a more efficient way of doing this?)\n",
      "        #prev_matches = matches.copy()\n",
      "        prev_nmatches = nmatches\n",
      "    \n",
      "        # loop through all generators\n",
      "        for g in gen:\n",
      "            b = apply_gen(a,g)\n",
      "            \n",
      "            repeat = False\n",
      "            for m in matches:\n",
      "                if np.sum(np.abs(m - b)) <= tol:\n",
      "                    repeat = True\n",
      "                    #break\n",
      "            \n",
      "            if not repeat:\n",
      "                matches.append(b)\n",
      "                #print b\n",
      "            \n",
      "            a = b # continue with the transformed configuration\n",
      "            nmatches = len(matches)\n",
      "            \n",
      "        #print 'loop #', num_gen_loops\n",
      "        #print a\n",
      "    \n",
      "    unique_comb.append(comb_list[0])\n",
      "    multip.append(nmatches)\n",
      "    \n",
      "    tmatches = []\n",
      "    # apply translations \n",
      "    for t in tran:\n",
      "        for m in matches:\n",
      "            tmatches.append(np.mod(m+t,1.))  # need to check for non-unique combinations\n",
      "        \n",
      "    \n",
      "    print len(tmatches)\n",
      "\n",
      "    \n",
      "    rows=comb_list.shape[0]\n",
      "    cols=comb_list.shape[1]\n",
      "    idx_to_remove = np.zeros(rows)\n",
      "    \n",
      "    matched = np.zeros(rows).astype(bool)\n",
      "    cmatches = []\n",
      "    for m in tmatches:\n",
      "        c = np.array(site_idx(positions,m))\n",
      "        c.sort()\n",
      "        #print c\n",
      "        cmatches.append(c)\n",
      "        #print c\n",
      "        #print cols == (0 == (comb_list - c)).sum(1) \n",
      "    for c in cmatches:\n",
      "        #print sum(  cols == (0 == (comb_list - c)).sum(1) )\n",
      "        matched += ( cols == (0 == (comb_list - c)).sum(1) )\n",
      "\n",
      "    print 'Multiplicity:',sum(matched)\n",
      "    print 'Number of generator loops:', num_gen_loops\n",
      "    \n",
      "    # delte matching rows from comb_list\n",
      "    comb_list = comb_list[np.logical_not(matched)]\n",
      "    print 'unsorted configurations:', len(comb_list)\n",
      "\n",
      "    \n",
      "    mults.append(sum(matched))\n",
      "                    \n"
     ],
     "language": "python",
     "metadata": {},
     "outputs": [
      {
       "ename": "AttributeError",
       "evalue": "'list' object has no attribute 'copy'",
       "output_type": "pyerr",
       "traceback": [
        "\u001b[0;31m---------------------------------------------------------------------------\u001b[0m\n\u001b[0;31mAttributeError\u001b[0m                            Traceback (most recent call last)",
        "\u001b[0;32m<ipython-input-18-c01698cab5ed>\u001b[0m in \u001b[0;36m<module>\u001b[0;34m()\u001b[0m\n\u001b[1;32m      1\u001b[0m \u001b[0;31m# with translations\u001b[0m\u001b[0;34m\u001b[0m\u001b[0;34m\u001b[0m\u001b[0m\n\u001b[1;32m      2\u001b[0m \u001b[0;32mimport\u001b[0m \u001b[0mcopy\u001b[0m\u001b[0;34m\u001b[0m\u001b[0m\n\u001b[0;32m----> 3\u001b[0;31m \u001b[0mcomb_list\u001b[0m \u001b[0;34m=\u001b[0m \u001b[0mcombs\u001b[0m\u001b[0;34m.\u001b[0m\u001b[0mcopy\u001b[0m\u001b[0;34m(\u001b[0m\u001b[0;34m)\u001b[0m\u001b[0;34m\u001b[0m\u001b[0m\n\u001b[0m\u001b[1;32m      4\u001b[0m \u001b[0munique_comb\u001b[0m \u001b[0;34m=\u001b[0m \u001b[0;34m[\u001b[0m\u001b[0;34m]\u001b[0m\u001b[0;34m\u001b[0m\u001b[0m\n\u001b[1;32m      5\u001b[0m \u001b[0mmults\u001b[0m \u001b[0;34m=\u001b[0m \u001b[0;34m[\u001b[0m\u001b[0;34m]\u001b[0m\u001b[0;34m\u001b[0m\u001b[0m\n",
        "\u001b[0;31mAttributeError\u001b[0m: 'list' object has no attribute 'copy'"
       ]
      }
     ],
     "prompt_number": 18
    },
    {
     "cell_type": "code",
     "collapsed": false,
     "input": [
      "# Finding unique combinations:\n",
      "# inputs: vasp run, combinations, spacegroup, \n",
      "# optional: shift\n",
      "# can shift only be included here (positions need to be regenerated with the shift)\n",
      "\n",
      "def findUniqueCombs(run,combs,gen,tran=None,cell_shift=None,verbose=0):\n",
      "    '''\n",
      "    Finds the set of unique combinations of positions for a simulation of a solid solution.\n",
      "    Input is a vasp_run object 'run' run defining the system before substitutions, a MxN array\n",
      "    'combs' containing all possible combindations. M is the total number of possible combinations\n",
      "    where N is the number of substitutions being made. A list of arrays corresponding to the generators\n",
      "    of the strucuture.\n",
      "    \n",
      "    Two optional inputs include a list of arrays containing translations that result in equivalent\n",
      "    configurations (when the cell is a supercell), cell_shift describes the shift in structure from\n",
      "    the standard definition of the spacegroup. All transformations must described as 4x3 arrays. See\n",
      "    http://www.cryst.ehu.es/cgi-bin/cryst/programs/nph-doc-trmat for more information.\n",
      "    \n",
      "    Set verbose to 1 to print intermediate information (default = 0)\n",
      "    '''\n",
      "\n",
      "    assert isinstance(run,vasp_run)\n",
      "    \n",
      "    # check that shapes \n",
      "    assert combs.shape[1] < run.pos.shape[0]\n",
      "    \n",
      "    # shift positions if necessary\n",
      "    if cell_shift is None:\n",
      "        positions = run.pos\n",
      "    elif isinstance(cell_shift,Iterable):\n",
      "        assert len(cell_shift) == 3, 'Invalid cell_shift.'\n",
      "        positions = run.pos - shift\n",
      "    else:\n",
      "        raise TypeError, 'Invalid cell_shift.'\n",
      "    \n",
      "    # Check that all transformations are in a valid form\n",
      "    transformErr = 'All transformations must described as 4x3 arrays. See ' \\\n",
      "    + 'http://www.cryst.ehu.es/cgi-bin/cryst/programs/nph-doc-trmat for more information.'\n",
      "    for g in gen:\n",
      "        assert isinstance(g,np.ndarray), transformErr\n",
      "        assert g.shape == (3,4), transformErr\n",
      "        \n",
      "    if not tran is None:\n",
      "        for t in tran:\n",
      "            assert isinstance(t,np.ndarray), transformErr\n",
      "            assert t.shape == (3,), transformErr\n",
      "    \n",
      "    # create a copy of the combination list, from which combinations will be deleted as they are\n",
      "    # identified as nonunique\n",
      "    comb_list = combs.copy()\n",
      "    unique_comb = [] # store unique combinations\n",
      "    mults = [] # store multiples of unique combination in complete set of combinations\n",
      "        \n",
      "    tol = .01 # define tolerance for comparing the position of atoms in the cell\n",
      "    count = 0\n",
      "    \n",
      "    # Loop until all unique configurations have been identified\n",
      "    while len(comb_list) > 0:\n",
      "        \n",
      "        # use the first comination as the unique position\n",
      "        a = positions[comb_list[0]]\n",
      "        count += 1\n",
      "        \n",
      "        if verbose == 1:\n",
      "            print 'Unique Position:', count\n",
      "            print a\n",
      "    \n",
      "        # store matching configurations\n",
      "        matches = [a] # must include 0\n",
      "        nmatches = 1 # store number of matches\n",
      "        prev_nmatches = 0 # previous number of matches\n",
      "    \n",
      "        # outer loop, stop when no new equivalent configurations found\n",
      "        num_gen_loops = 0\n",
      "        while not nmatches == prev_nmatches:\n",
      "\n",
      "            num_gen_loops +=1\n",
      "        \n",
      "            # update prev_matches (is there a more efficient way of doing this?)\n",
      "            #prev_matches = matches.copy()\n",
      "            prev_nmatches = nmatches\n",
      "        \n",
      "            # loop through all generators\n",
      "            for g in gen:\n",
      "                \n",
      "                # apply generator\n",
      "                b = apply_gen(a,g)\n",
      "                \n",
      "                repeat = False\n",
      "                for m in matches:\n",
      "                    if np.sum(np.abs(m - b)) <= tol:\n",
      "                        repeat = True\n",
      "                \n",
      "                # add match if it is not identical to previous matches\n",
      "                if not repeat:\n",
      "                    matches.append(b)\n",
      "                \n",
      "                a = b # continue with the transformed configuration\n",
      "                nmatches = len(matches)\n",
      "                \n",
      "       \n",
      "        # apply translations\n",
      "        if not tran is None:\n",
      "            tmatches = []\n",
      "            for t in tran:\n",
      "                for m in matches:\n",
      "                    tmatches.append(np.mod(m+t,1.))  # need to check for non-unique combinations\n",
      "        else:\n",
      "            tmatches = matches\n",
      "                \n",
      "    \n",
      "        rows=comb_list.shape[0]\n",
      "        cols=comb_list.shape[1]\n",
      "        #idx_to_remove = np.zeros(rows)\n",
      "        \n",
      "        # boolean with lenght of comb_list to test if combination has been identified\n",
      "        matched = np.zeros(rows).astype(bool)\n",
      "        \n",
      "        # loop through and match combinations to comb_list\n",
      "        #cmatches = []\n",
      "        for m in tmatches:\n",
      "            c = np.array(site_idx(positions,m))\n",
      "            c.sort() # This must be done to order the combination array in the same way as in comb_list\n",
      "            matched += ( cols == (0 == (comb_list - c)).sum(1) )\n",
      "    \n",
      "    \n",
      "        # store the new unique combination and its multiplicity in the cell\n",
      "        unique_comb.append(comb_list[0])\n",
      "\n",
      "        # store the multiplicity of the new combination\n",
      "        mults.append(sum(matched))\n",
      "        \n",
      "        # delte matching rows from comb_list\n",
      "        comb_list = comb_list[np.logical_not(matched)]\n",
      "        \n",
      "        if verbose == 1:\n",
      "            print 'Multiplicity:',sum(matched)\n",
      "            print 'Number of generator loops:', num_gen_loops\n",
      "            print 'unsorted configurations:', len(comb_list)\n",
      "            \n",
      "    return unique_comb, mults\n",
      "    \n",
      "uni, mul = findUniqueCombs(run,combs[0],gen,tran=tran,cell_shift=shift,verbose=0)"
     ],
     "language": "python",
     "metadata": {},
     "outputs": [],
     "prompt_number": 19
    },
    {
     "cell_type": "code",
     "collapsed": false,
     "input": [
      "sum(mul)"
     ],
     "language": "python",
     "metadata": {},
     "outputs": [
      {
       "metadata": {},
       "output_type": "pyout",
       "prompt_number": 32,
       "text": [
        "496"
       ]
      }
     ],
     "prompt_number": 32
    },
    {
     "cell_type": "code",
     "collapsed": false,
     "input": [
      "# find unique values in tmatches\n",
      "print len(matches)\n",
      "#tmp = np.array(tmatches)\n",
      "#tmp.shape\n",
      "a = np.array(cmatches)\n",
      "order = np.lexsort(a.T)\n",
      "a = a[order]\n",
      "diff = np.diff(a, axis=0)\n",
      "ui = np.ones(len(a), 'bool')\n",
      "ui[1:] = (diff != 0).any(axis=1) \n",
      "len(a[ui])\n",
      "\n",
      "cmatches"
     ],
     "language": "python",
     "metadata": {},
     "outputs": []
    },
    {
     "cell_type": "code",
     "collapsed": false,
     "input": [
      "cmatches = []\n",
      "for m in matches:\n",
      "    c = np.array(site_idx(positions,m))\n",
      "    cmatches.append(c)\n",
      "len(cmatches)\n",
      "a = np.array(cmatches)\n",
      "order = np.lexsort(a.T)\n",
      "a = a[order]\n",
      "diff = np.diff(a, axis=0)\n",
      "ui = np.ones(len(a), 'bool')\n",
      "ui[1:] = (diff != 0).any(axis=1) \n",
      "len(a[ui])\n"
     ],
     "language": "python",
     "metadata": {},
     "outputs": []
    },
    {
     "cell_type": "code",
     "collapsed": false,
     "input": [
      "#tmatches = np.zeros([0,4,3])\n",
      "#for t in tran:\n",
      "#    #print t+matches\n",
      "#    tmatches = np.vstack([tmatches,t+matches])\n",
      "tmatches = []    \n",
      "for t in tran:\n",
      "    for m in matches:\n",
      "        tmatches.append(np.mod(m+t,1.))  # need to check for non-unique combinations\n",
      "\n",
      "#print tmatches.shape\n",
      "cmatches=[]\n",
      "for m in tmatches:\n",
      "    #print m\n",
      "    c = np.array(site_idx(positions,m))\n",
      "    cmatches.append(c)\n",
      "len(cmatches)\n",
      "a = np.array(cmatches)\n",
      "order = np.lexsort(a.T)\n",
      "a = a[order]\n",
      "diff = np.diff(a, axis=0)\n",
      "ui = np.ones(len(a), 'bool')\n",
      "ui[1:] = (diff != 0).any(axis=1) \n",
      "len(a[ui])"
     ],
     "language": "python",
     "metadata": {},
     "outputs": []
    },
    {
     "cell_type": "code",
     "collapsed": false,
     "input": [
      "tmatches"
     ],
     "language": "python",
     "metadata": {},
     "outputs": []
    },
    {
     "cell_type": "code",
     "collapsed": false,
     "input": [
      "\n",
      "np.mod(np.array([[ 1.  ,  1.  ,  0.5 ],\n",
      "       [ 1.25,  1.25,  0.5 ],\n",
      "       [ 1.25,  1.  ,  0.75],\n",
      "       [ 1.  ,  1.25,  0.75]]),1.0)"
     ],
     "language": "python",
     "metadata": {},
     "outputs": []
    },
    {
     "cell_type": "code",
     "collapsed": false,
     "input": [
      "np.arange(15,32)"
     ],
     "language": "python",
     "metadata": {},
     "outputs": []
    },
    {
     "cell_type": "code",
     "collapsed": false,
     "input": [
      "run.pos[[ 0,  1,  2,  3]]"
     ],
     "language": "python",
     "metadata": {},
     "outputs": []
    },
    {
     "cell_type": "code",
     "collapsed": false,
     "input": [
      "run.pos\n"
     ],
     "language": "python",
     "metadata": {},
     "outputs": []
    },
    {
     "cell_type": "code",
     "collapsed": false,
     "input": [
      "a = run.pos[combs[0]]\n",
      "a"
     ],
     "language": "python",
     "metadata": {},
     "outputs": []
    },
    {
     "cell_type": "code",
     "collapsed": false,
     "input": [
      "comb_list"
     ],
     "language": "python",
     "metadata": {},
     "outputs": []
    },
    {
     "cell_type": "code",
     "collapsed": false,
     "input": [
      "~np.all(comb_list - [27, 28, 30, 31],1)"
     ],
     "language": "python",
     "metadata": {},
     "outputs": []
    },
    {
     "cell_type": "code",
     "collapsed": false,
     "input": [
      "np.all(comb_list - [27, 28, 30, 31],1)"
     ],
     "language": "python",
     "metadata": {},
     "outputs": [
      {
       "ename": "NameError",
       "evalue": "name 'comb_list' is not defined",
       "output_type": "pyerr",
       "traceback": [
        "\u001b[0;31m---------------------------------------------------------------------------\u001b[0m\n\u001b[0;31mNameError\u001b[0m                                 Traceback (most recent call last)",
        "\u001b[0;32m<ipython-input-21-0779301fc949>\u001b[0m in \u001b[0;36m<module>\u001b[0;34m()\u001b[0m\n\u001b[0;32m----> 1\u001b[0;31m \u001b[0mnp\u001b[0m\u001b[0;34m.\u001b[0m\u001b[0mall\u001b[0m\u001b[0;34m(\u001b[0m\u001b[0mcomb_list\u001b[0m \u001b[0;34m-\u001b[0m \u001b[0;34m[\u001b[0m\u001b[0;36m27\u001b[0m\u001b[0;34m,\u001b[0m \u001b[0;36m28\u001b[0m\u001b[0;34m,\u001b[0m \u001b[0;36m30\u001b[0m\u001b[0;34m,\u001b[0m \u001b[0;36m31\u001b[0m\u001b[0;34m]\u001b[0m\u001b[0;34m,\u001b[0m\u001b[0;36m1\u001b[0m\u001b[0;34m)\u001b[0m\u001b[0;34m\u001b[0m\u001b[0m\n\u001b[0m",
        "\u001b[0;31mNameError\u001b[0m: name 'comb_list' is not defined"
       ]
      }
     ],
     "prompt_number": 21
    },
    {
     "cell_type": "code",
     "collapsed": false,
     "input": [
      "d1 = 4 == (0== (comb_list - [28, 29, 30, 31])).sum(1)\n",
      "d2 = 4 == (0== (comb_list - [27, 29, 30, 31])).sum(1)\n"
     ],
     "language": "python",
     "metadata": {},
     "outputs": [
      {
       "ename": "NameError",
       "evalue": "name 'comb_list' is not defined",
       "output_type": "pyerr",
       "traceback": [
        "\u001b[0;31m---------------------------------------------------------------------------\u001b[0m\n\u001b[0;31mNameError\u001b[0m                                 Traceback (most recent call last)",
        "\u001b[0;32m<ipython-input-22-b2bc46f76306>\u001b[0m in \u001b[0;36m<module>\u001b[0;34m()\u001b[0m\n\u001b[0;32m----> 1\u001b[0;31m \u001b[0md1\u001b[0m \u001b[0;34m=\u001b[0m \u001b[0;36m4\u001b[0m \u001b[0;34m==\u001b[0m \u001b[0;34m(\u001b[0m\u001b[0;36m0\u001b[0m\u001b[0;34m==\u001b[0m \u001b[0;34m(\u001b[0m\u001b[0mcomb_list\u001b[0m \u001b[0;34m-\u001b[0m \u001b[0;34m[\u001b[0m\u001b[0;36m28\u001b[0m\u001b[0;34m,\u001b[0m \u001b[0;36m29\u001b[0m\u001b[0;34m,\u001b[0m \u001b[0;36m30\u001b[0m\u001b[0;34m,\u001b[0m \u001b[0;36m31\u001b[0m\u001b[0;34m]\u001b[0m\u001b[0;34m)\u001b[0m\u001b[0;34m)\u001b[0m\u001b[0;34m.\u001b[0m\u001b[0msum\u001b[0m\u001b[0;34m(\u001b[0m\u001b[0;36m1\u001b[0m\u001b[0;34m)\u001b[0m\u001b[0;34m\u001b[0m\u001b[0m\n\u001b[0m\u001b[1;32m      2\u001b[0m \u001b[0md2\u001b[0m \u001b[0;34m=\u001b[0m \u001b[0;36m4\u001b[0m \u001b[0;34m==\u001b[0m \u001b[0;34m(\u001b[0m\u001b[0;36m0\u001b[0m\u001b[0;34m==\u001b[0m \u001b[0;34m(\u001b[0m\u001b[0mcomb_list\u001b[0m \u001b[0;34m-\u001b[0m \u001b[0;34m[\u001b[0m\u001b[0;36m27\u001b[0m\u001b[0;34m,\u001b[0m \u001b[0;36m29\u001b[0m\u001b[0;34m,\u001b[0m \u001b[0;36m30\u001b[0m\u001b[0;34m,\u001b[0m \u001b[0;36m31\u001b[0m\u001b[0;34m]\u001b[0m\u001b[0;34m)\u001b[0m\u001b[0;34m)\u001b[0m\u001b[0;34m.\u001b[0m\u001b[0msum\u001b[0m\u001b[0;34m(\u001b[0m\u001b[0;36m1\u001b[0m\u001b[0;34m)\u001b[0m\u001b[0;34m\u001b[0m\u001b[0m\n",
        "\u001b[0;31mNameError\u001b[0m: name 'comb_list' is not defined"
       ]
      }
     ],
     "prompt_number": 22
    },
    {
     "cell_type": "code",
     "collapsed": false,
     "input": [
      "d1 + d2"
     ],
     "language": "python",
     "metadata": {},
     "outputs": [
      {
       "ename": "NameError",
       "evalue": "name 'd1' is not defined",
       "output_type": "pyerr",
       "traceback": [
        "\u001b[0;31m---------------------------------------------------------------------------\u001b[0m\n\u001b[0;31mNameError\u001b[0m                                 Traceback (most recent call last)",
        "\u001b[0;32m<ipython-input-23-63fbd26fe8e1>\u001b[0m in \u001b[0;36m<module>\u001b[0;34m()\u001b[0m\n\u001b[0;32m----> 1\u001b[0;31m \u001b[0md1\u001b[0m \u001b[0;34m+\u001b[0m \u001b[0md2\u001b[0m\u001b[0;34m\u001b[0m\u001b[0m\n\u001b[0m",
        "\u001b[0;31mNameError\u001b[0m: name 'd1' is not defined"
       ]
      }
     ],
     "prompt_number": 23
    },
    {
     "cell_type": "markdown",
     "metadata": {},
     "source": [
      "Retrieving generators:\n",
      "\n",
      "Example for simple FCC structure\n",
      "\n",
      "http://www.cryst.ehu.es/cgi-bin/cryst/programs/nph-getgen?list=Standard/Default%20Setting&what=gen&gnum=225"
     ]
    },
    {
     "cell_type": "code",
     "collapsed": false,
     "input": [
      "import requests\n",
      "from bs4 import BeautifulSoup\n",
      "\n",
      "def get_generators(sg):\n",
      "    '''\n",
      "    Queries the bilbao crystallographic database, returning a list of arrays with the generators associated \n",
      "    with a space group. Takes an integer for the number of the space group. Note these generators will be\n",
      "    correct only if the sites are in standard notation.\n",
      "    '''\n",
      "    # Check that sg is an integer\n",
      "    if not isinstance(sg,int):\n",
      "        raise ValueError(\"'{}' is not an integer reference to a valid spacegroup\".format(sg))\n",
      "\n",
      "    # retrieve html from page for the correct space grop\n",
      "    generator_url = \"http://www.cryst.ehu.es/cgi-bin/cryst/programs/nph-getgen?\" \\\n",
      "                    + \"list=Standard/Default%20Setting&what=gen&gnum=\" + str(sg)\n",
      "    r  = requests.get(generator_url) \n",
      "    data = r.text\n",
      "    soup = BeautifulSoup(data)\n",
      "    \n",
      "    # Find all of the generator arrays\n",
      "    html_gens = soup.contents[1].find_all('pre')\n",
      "    \n",
      "    # If generators retrieved translate into numpy arrays\n",
      "    if len(html_gens) > 1:\n",
      "        \n",
      "        gens = []\n",
      "        for html_gen in html_gens:\n",
      "            \n",
      "            # strip html tags\n",
      "            str_gen = html_gen.stripped_strings.next()\n",
      "            \n",
      "            lgen = []\n",
      "            for x in str_gen.split('\\n'):\n",
      "                inner = []\n",
      "                \n",
      "                # if element is a fraction, it must be parsed to produce a float\n",
      "                for y in x.split():\n",
      "                    try:\n",
      "                        inner.append(float(y))\n",
      "                    except:\n",
      "                        arg = y.split('/')\n",
      "                        assert len(arg) == 2\n",
      "                        inner.append(float(arg[0]) / float(arg[1]) )\n",
      "                lgen.append(inner)\n",
      "            gens.append(np.array(lgen))\n",
      "        \n",
      "        return gens\n",
      "    else:\n",
      "        # Raise error if integer doesn't reference a spacegroup\n",
      "        raise ValueError(\"Integer '{}' is not a reference to a valid spacegroup\".format(sg) )"
     ],
     "language": "python",
     "metadata": {},
     "outputs": [],
     "prompt_number": 24
    },
    {
     "cell_type": "code",
     "collapsed": false,
     "input": [
      "get_generators(225)"
     ],
     "language": "python",
     "metadata": {},
     "outputs": [
      {
       "metadata": {},
       "output_type": "pyout",
       "prompt_number": 25,
       "text": [
        "[array([[ 1.,  0.,  0.,  0.],\n",
        "       [ 0.,  1.,  0.,  0.],\n",
        "       [ 0.,  0.,  1.,  0.]]),\n",
        " array([[-1.,  0.,  0.,  0.],\n",
        "       [ 0., -1.,  0.,  0.],\n",
        "       [ 0.,  0.,  1.,  0.]]),\n",
        " array([[-1.,  0.,  0.,  0.],\n",
        "       [ 0.,  1.,  0.,  0.],\n",
        "       [ 0.,  0., -1.,  0.]]),\n",
        " array([[ 0.,  0.,  1.,  0.],\n",
        "       [ 1.,  0.,  0.,  0.],\n",
        "       [ 0.,  1.,  0.,  0.]]),\n",
        " array([[ 0.,  1.,  0.,  0.],\n",
        "       [ 1.,  0.,  0.,  0.],\n",
        "       [ 0.,  0., -1.,  0.]]),\n",
        " array([[-1.,  0.,  0.,  0.],\n",
        "       [ 0., -1.,  0.,  0.],\n",
        "       [ 0.,  0., -1.,  0.]]),\n",
        " array([[ 1. ,  0. ,  0. ,  0. ],\n",
        "       [ 0. ,  1. ,  0. ,  0.5],\n",
        "       [ 0. ,  0. ,  1. ,  0.5]]),\n",
        " array([[ 1. ,  0. ,  0. ,  0.5],\n",
        "       [ 0. ,  1. ,  0. ,  0. ],\n",
        "       [ 0. ,  0. ,  1. ,  0.5]])]"
       ]
      }
     ],
     "prompt_number": 25
    },
    {
     "cell_type": "code",
     "collapsed": false,
     "input": [
      "#Retrieving generators from the bilbao crystallographic database\n",
      "sg = 225\n",
      "\n",
      "import requests\n",
      "from bs4 import BeautifulSoup\n",
      "\n",
      "generator_url = \"http://www.cryst.ehu.es/cgi-bin/cryst/programs/nph-getgen?list=Standard/Default%20Setting&what=gen&gnum=\" \\\n",
      "+ str(sg)\n",
      "\n",
      "r  = requests.get(generator_url) \n",
      "data = r.text\n",
      " "
     ],
     "language": "python",
     "metadata": {},
     "outputs": [],
     "prompt_number": 26
    },
    {
     "cell_type": "code",
     "collapsed": false,
     "input": [
      "soup = BeautifulSoup(data)\n",
      "html_gens = soup.contents[1].find_all('pre')\n",
      "\n",
      "gens = []\n",
      "for html_gen in html_gens:\n",
      "    str_gen = html_gen.stripped_strings.next()\n",
      "\n",
      "    lgen = []\n",
      "    for x in str_gen.split('\\n'):\n",
      "        inner = []\n",
      "        for y in x.split():\n",
      "            try:\n",
      "                inner.append(float(y))\n",
      "            except:\n",
      "                arg = y.split('/')\n",
      "                assert len(arg) == 2\n",
      "                inner.append(float(arg[0]) / float(arg[1]) )\n",
      "        lgen.append(inner)\n",
      "    gens.append(np.array(lgen))\n",
      "gens    "
     ],
     "language": "python",
     "metadata": {},
     "outputs": [
      {
       "metadata": {},
       "output_type": "pyout",
       "prompt_number": 27,
       "text": [
        "[array([[ 1.,  0.,  0.,  0.],\n",
        "       [ 0.,  1.,  0.,  0.],\n",
        "       [ 0.,  0.,  1.,  0.]]),\n",
        " array([[-1.,  0.,  0.,  0.],\n",
        "       [ 0., -1.,  0.,  0.],\n",
        "       [ 0.,  0.,  1.,  0.]]),\n",
        " array([[-1.,  0.,  0.,  0.],\n",
        "       [ 0.,  1.,  0.,  0.],\n",
        "       [ 0.,  0., -1.,  0.]]),\n",
        " array([[ 0.,  0.,  1.,  0.],\n",
        "       [ 1.,  0.,  0.,  0.],\n",
        "       [ 0.,  1.,  0.,  0.]]),\n",
        " array([[ 0.,  1.,  0.,  0.],\n",
        "       [ 1.,  0.,  0.,  0.],\n",
        "       [ 0.,  0., -1.,  0.]]),\n",
        " array([[-1.,  0.,  0.,  0.],\n",
        "       [ 0., -1.,  0.,  0.],\n",
        "       [ 0.,  0., -1.,  0.]]),\n",
        " array([[ 1. ,  0. ,  0. ,  0. ],\n",
        "       [ 0. ,  1. ,  0. ,  0.5],\n",
        "       [ 0. ,  0. ,  1. ,  0.5]]),\n",
        " array([[ 1. ,  0. ,  0. ,  0.5],\n",
        "       [ 0. ,  1. ,  0. ,  0. ],\n",
        "       [ 0. ,  0. ,  1. ,  0.5]])]"
       ]
      }
     ],
     "prompt_number": 27
    },
    {
     "cell_type": "code",
     "collapsed": false,
     "input": [
      "slist"
     ],
     "language": "python",
     "metadata": {},
     "outputs": [
      {
       "ename": "NameError",
       "evalue": "name 'slist' is not defined",
       "output_type": "pyerr",
       "traceback": [
        "\u001b[0;31m---------------------------------------------------------------------------\u001b[0m\n\u001b[0;31mNameError\u001b[0m                                 Traceback (most recent call last)",
        "\u001b[0;32m<ipython-input-28-ea7acb6ba229>\u001b[0m in \u001b[0;36m<module>\u001b[0;34m()\u001b[0m\n\u001b[0;32m----> 1\u001b[0;31m \u001b[0mslist\u001b[0m\u001b[0;34m\u001b[0m\u001b[0m\n\u001b[0m",
        "\u001b[0;31mNameError\u001b[0m: name 'slist' is not defined"
       ]
      }
     ],
     "prompt_number": 28
    },
    {
     "cell_type": "code",
     "collapsed": false,
     "input": [
      "import pickle\n",
      "pickle.dump(datopen( \"test_html.p\", \"wb\" ) )"
     ],
     "language": "python",
     "metadata": {},
     "outputs": []
    },
    {
     "cell_type": "code",
     "collapsed": false,
     "input": [
      "s\n",
      "\n",
      "\n"
     ],
     "language": "python",
     "metadata": {},
     "outputs": []
    },
    {
     "cell_type": "code",
     "collapsed": false,
     "input": [],
     "language": "python",
     "metadata": {},
     "outputs": []
    }
   ],
   "metadata": {}
  }
 ]
}