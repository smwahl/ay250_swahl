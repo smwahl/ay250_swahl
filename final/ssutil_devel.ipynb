{
 "metadata": {
  "name": ""
 },
 "nbformat": 3,
 "nbformat_minor": 0,
 "worksheets": [
  {
   "cells": [
    {
     "cell_type": "code",
     "collapsed": false,
     "input": [
      "!ls"
     ],
     "language": "python",
     "metadata": {},
     "outputs": [
      {
       "output_type": "stream",
       "stream": "stdout",
       "text": [
        "README             parse_vasp.py      ssutil_devel.ipynb \u001b[36mtest1\u001b[m\u001b[m              \u001b[36mtest2\u001b[m\u001b[m\r\n"
       ]
      }
     ],
     "prompt_number": 1
    },
    {
     "cell_type": "code",
     "collapsed": false,
     "input": [
      "from parse_vasp import *\n"
     ],
     "language": "python",
     "metadata": {},
     "outputs": [],
     "prompt_number": 2
    },
    {
     "cell_type": "code",
     "collapsed": false,
     "input": [
      "# Read in configuration file\n",
      "tdir = 'test1'\n",
      "myRun = vasp_run(tdir)\n",
      "\n",
      "myRun.readPoscar('test1/REFCAR')"
     ],
     "language": "python",
     "metadata": {},
     "outputs": [],
     "prompt_number": 7
    },
    {
     "cell_type": "code",
     "collapsed": false,
     "input": [
      "myRun.cell"
     ],
     "language": "python",
     "metadata": {},
     "outputs": [
      {
       "metadata": {},
       "output_type": "pyout",
       "prompt_number": 8,
       "text": [
        "array([[ 4.74279948,  0.        ,  0.        ],\n",
        "       [ 0.        ,  4.74279948,  0.        ],\n",
        "       [ 0.        ,  0.        ,  4.74279948]])"
       ]
      }
     ],
     "prompt_number": 8
    },
    {
     "cell_type": "code",
     "collapsed": false,
     "input": [
      "myRun.pos"
     ],
     "language": "python",
     "metadata": {},
     "outputs": [
      {
       "metadata": {},
       "output_type": "pyout",
       "prompt_number": 9,
       "text": [
        "array([[ 0.125,  0.125,  0.125],\n",
        "       [ 0.375,  0.375,  0.125],\n",
        "       [ 0.375,  0.125,  0.375],\n",
        "       [ 0.125,  0.375,  0.375],\n",
        "       [ 0.125,  0.125,  0.625],\n",
        "       [ 0.375,  0.375,  0.625],\n",
        "       [ 0.375,  0.125,  0.875],\n",
        "       [ 0.125,  0.375,  0.875],\n",
        "       [ 0.125,  0.625,  0.125],\n",
        "       [ 0.375,  0.875,  0.125],\n",
        "       [ 0.375,  0.625,  0.375],\n",
        "       [ 0.125,  0.875,  0.375],\n",
        "       [ 0.125,  0.625,  0.625],\n",
        "       [ 0.375,  0.875,  0.625],\n",
        "       [ 0.375,  0.625,  0.875],\n",
        "       [ 0.125,  0.875,  0.875],\n",
        "       [ 0.625,  0.125,  0.125],\n",
        "       [ 0.875,  0.375,  0.125],\n",
        "       [ 0.875,  0.125,  0.375],\n",
        "       [ 0.625,  0.375,  0.375],\n",
        "       [ 0.625,  0.125,  0.625],\n",
        "       [ 0.875,  0.375,  0.625],\n",
        "       [ 0.875,  0.125,  0.875],\n",
        "       [ 0.625,  0.375,  0.875],\n",
        "       [ 0.625,  0.625,  0.125],\n",
        "       [ 0.875,  0.875,  0.125],\n",
        "       [ 0.875,  0.625,  0.375],\n",
        "       [ 0.625,  0.875,  0.375],\n",
        "       [ 0.625,  0.625,  0.625],\n",
        "       [ 0.875,  0.875,  0.625],\n",
        "       [ 0.875,  0.625,  0.875],\n",
        "       [ 0.625,  0.875,  0.875]])"
       ]
      }
     ],
     "prompt_number": 9
    },
    {
     "cell_type": "code",
     "collapsed": false,
     "input": [
      "myRun.nspec"
     ],
     "language": "python",
     "metadata": {},
     "outputs": [
      {
       "metadata": {},
       "output_type": "pyout",
       "prompt_number": 11,
       "text": [
        "[32]"
       ]
      }
     ],
     "prompt_number": 11
    },
    {
     "cell_type": "code",
     "collapsed": false,
     "input": [
      "# This can be read from POTCAR if it exists\n",
      "myRun.spec=['Fe']"
     ],
     "language": "python",
     "metadata": {},
     "outputs": [],
     "prompt_number": 12
    },
    {
     "cell_type": "code",
     "collapsed": false,
     "input": [
      "# Generate all possible configurations\n",
      "\n",
      "# a replacement has an initial and subsituted element\n",
      "# a multiplicity and the original structure\n",
      "replace = ('Fe','Si',4,myRun)\n",
      "\n",
      "def combinations(iterable, r):\n",
      "    # combinations('ABCD', 2) --> AB AC AD BC BD CD\n",
      "    # combinations(range(4), 3) --> 012 013 023 123\n",
      "    pool = tuple(iterable)\n",
      "    n = len(pool)\n",
      "    if r > n:\n",
      "        return\n",
      "    indices = range(r)\n",
      "    yield tuple(pool[i] for i in indices)\n",
      "    while True:\n",
      "        for i in reversed(range(r)):\n",
      "            if indices[i] != i + n - r:\n",
      "                break\n",
      "        else:\n",
      "            return\n",
      "        indices[i] += 1\n",
      "        for j in range(i+1, r):\n",
      "            indices[j] = indices[j-1] + 1\n",
      "        yield tuple(pool[i] for i in indices)"
     ],
     "language": "python",
     "metadata": {},
     "outputs": [],
     "prompt_number": 13
    },
    {
     "cell_type": "code",
     "collapsed": false,
     "input": [],
     "language": "python",
     "metadata": {},
     "outputs": []
    }
   ],
   "metadata": {}
  }
 ]
}