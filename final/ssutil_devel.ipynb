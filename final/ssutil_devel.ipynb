{
 "metadata": {
  "name": ""
 },
 "nbformat": 3,
 "nbformat_minor": 0,
 "worksheets": [
  {
   "cells": [
    {
     "cell_type": "code",
     "collapsed": false,
     "input": [
      "!ls"
     ],
     "language": "python",
     "metadata": {},
     "outputs": [
      {
       "output_type": "stream",
       "stream": "stdout",
       "text": [
        "README             parse_vasp.py      ssutil_devel.ipynb \u001b[36mtest1\u001b[m\u001b[m              \u001b[36mtest2\u001b[m\u001b[m\r\n"
       ]
      }
     ],
     "prompt_number": 1
    },
    {
     "cell_type": "code",
     "collapsed": false,
     "input": [
      "from parse_vasp import *\n"
     ],
     "language": "python",
     "metadata": {},
     "outputs": [],
     "prompt_number": 1
    },
    {
     "cell_type": "code",
     "collapsed": false,
     "input": [
      "# Read in configuration file\n",
      "tdir = 'test1'\n",
      "myRun = vasp_run(tdir)\n",
      "\n",
      "myRun.readPoscar('test1/REFCAR')\n",
      "# This can be read from POTCAR if it exists\n",
      "myRun.spec=['Fe']\n",
      "# Generate all possible configurations\n",
      "\n",
      "# a replacement has an initial and subsituted element\n",
      "# a multiplicity and the original structure\n",
      "shift = np.array([ 0.125 , 0.125 , 0.125])\n",
      "subst = ('Fe','Si',4,myRun,shift)\n"
     ],
     "language": "python",
     "metadata": {},
     "outputs": [],
     "prompt_number": 2
    },
    {
     "cell_type": "code",
     "collapsed": false,
     "input": [
      "from itertools import combinations\n",
      "\n",
      "run = subst[3]\n",
      "positions = run.pos - subst[4] # take into account a shift from standard positions\n",
      "space_group = 225\n",
      "\n",
      "# find a sublist of where a replaceable atom resides\n",
      "x=0\n",
      "idxs = np.array([])\n",
      "for i,s in enumerate(run.spec):\n",
      "    if s == subst[0]:\n",
      "        idxs = np.arange(x, x + run.nspec[i])\n",
      "    x += run.nspec[i]\n",
      "\n",
      "\n",
      "# Generate all combinations of \n",
      "nr = subst[2]\n",
      "combs = np.array([ list(x) for x in combinations(idxs,nr) ])"
     ],
     "language": "python",
     "metadata": {},
     "outputs": [],
     "prompt_number": 3
    },
    {
     "cell_type": "code",
     "collapsed": false,
     "input": [
      "positions"
     ],
     "language": "python",
     "metadata": {},
     "outputs": [
      {
       "metadata": {},
       "output_type": "pyout",
       "prompt_number": 4,
       "text": [
        "array([[ 0.  ,  0.  ,  0.  ],\n",
        "       [ 0.25,  0.25,  0.  ],\n",
        "       [ 0.25,  0.  ,  0.25],\n",
        "       [ 0.  ,  0.25,  0.25],\n",
        "       [ 0.  ,  0.  ,  0.5 ],\n",
        "       [ 0.25,  0.25,  0.5 ],\n",
        "       [ 0.25,  0.  ,  0.75],\n",
        "       [ 0.  ,  0.25,  0.75],\n",
        "       [ 0.  ,  0.5 ,  0.  ],\n",
        "       [ 0.25,  0.75,  0.  ],\n",
        "       [ 0.25,  0.5 ,  0.25],\n",
        "       [ 0.  ,  0.75,  0.25],\n",
        "       [ 0.  ,  0.5 ,  0.5 ],\n",
        "       [ 0.25,  0.75,  0.5 ],\n",
        "       [ 0.25,  0.5 ,  0.75],\n",
        "       [ 0.  ,  0.75,  0.75],\n",
        "       [ 0.5 ,  0.  ,  0.  ],\n",
        "       [ 0.75,  0.25,  0.  ],\n",
        "       [ 0.75,  0.  ,  0.25],\n",
        "       [ 0.5 ,  0.25,  0.25],\n",
        "       [ 0.5 ,  0.  ,  0.5 ],\n",
        "       [ 0.75,  0.25,  0.5 ],\n",
        "       [ 0.75,  0.  ,  0.75],\n",
        "       [ 0.5 ,  0.25,  0.75],\n",
        "       [ 0.5 ,  0.5 ,  0.  ],\n",
        "       [ 0.75,  0.75,  0.  ],\n",
        "       [ 0.75,  0.5 ,  0.25],\n",
        "       [ 0.5 ,  0.75,  0.25],\n",
        "       [ 0.5 ,  0.5 ,  0.5 ],\n",
        "       [ 0.75,  0.75,  0.5 ],\n",
        "       [ 0.75,  0.5 ,  0.75],\n",
        "       [ 0.5 ,  0.75,  0.75]])"
       ]
      }
     ],
     "prompt_number": 4
    },
    {
     "cell_type": "code",
     "collapsed": false,
     "input": [
      "# example generator\n",
      "g = np.array([[-1,0,0,0],[0,-1,0,0],[0,0,1,0]])\n",
      "\n",
      "print g[:,0:3]\n",
      "print g[:,3]"
     ],
     "language": "python",
     "metadata": {},
     "outputs": [
      {
       "output_type": "stream",
       "stream": "stdout",
       "text": [
        "[[-1  0  0]\n",
        " [ 0 -1  0]\n",
        " [ 0  0  1]]\n",
        "[0 0 0]\n"
       ]
      }
     ],
     "prompt_number": 5
    },
    {
     "cell_type": "code",
     "collapsed": false,
     "input": [
      "# generators for fcc iron\n",
      "gen = [ np.array([[-1,0,0,0],[0,-1,0,0],[0,0,1,0]]),\n",
      "       np.array([[-1,0,0,0],[0,1,0,0],[0,0,-1,0]]),\n",
      "       np.array([[0,0,1,0],[1,0,0,0],[0,1,0,0]]),\n",
      "       np.array([[0,1,0,0],[1,0,0,0],[0,0,-1,0]]),\n",
      "       np.array([[-1,0,0,0],[0,-1,0,0],[0,0,-1,0]]),\n",
      "       np.array([[1,0,0,0],[0,1,0,0.5],[0,0,1,0.5]]),\n",
      "       np.array([[1,0,0,0.5],[0,1,0,0],[0,0,1,0.5]])]\n",
      "\n",
      "# translations (due to supercell)\n",
      "superdim = [ 2 , 2 ,2 ]\n",
      "supshift = lambda i: np.linspace(0., 1. - 1./superdim[i] ,superdim[i])\n",
      "\n",
      "trans_list = []\n",
      "for x in supshift(0):\n",
      "    for y in supshift(1):\n",
      "        for z in supshift(2):\n",
      "            trans_list.append([x,y,z])\n",
      "tran = np.array(trans_list)\n",
      "tran\n",
      "            "
     ],
     "language": "python",
     "metadata": {},
     "outputs": [
      {
       "metadata": {},
       "output_type": "pyout",
       "prompt_number": 11,
       "text": [
        "array([[ 0. ,  0. ,  0. ],\n",
        "       [ 0. ,  0. ,  0.5],\n",
        "       [ 0. ,  0.5,  0. ],\n",
        "       [ 0. ,  0.5,  0.5],\n",
        "       [ 0.5,  0. ,  0. ],\n",
        "       [ 0.5,  0. ,  0.5],\n",
        "       [ 0.5,  0.5,  0. ],\n",
        "       [ 0.5,  0.5,  0.5]])"
       ]
      }
     ],
     "prompt_number": 11
    },
    {
     "cell_type": "code",
     "collapsed": false,
     "input": [
      "import copy\n",
      "comb_list = combs.copy()\n",
      "unique_comb = []\n",
      "multip = []\n",
      "\n",
      "len(comb_list)"
     ],
     "language": "python",
     "metadata": {},
     "outputs": [
      {
       "metadata": {},
       "output_type": "pyout",
       "prompt_number": 61,
       "text": [
        "35960"
       ]
      }
     ],
     "prompt_number": 61
    },
    {
     "cell_type": "code",
     "collapsed": false,
     "input": [
      "# without translations\n",
      "tol = .01\n",
      "count = 0\n",
      "# Loop until all unique configurations identified\n",
      "#while len(comb_list) > 0:\n",
      "for tmp in range(10):\n",
      "    \n",
      "    # use the first comination as the unique position\n",
      "    print comb_list[0]\n",
      "    a = positions[comb_list[0]]\n",
      "    count += 1\n",
      "    print 'Unique Position:', count\n",
      "    print a\n",
      "\n",
      "    matches = [a] # must include 0\n",
      "    nmatches = 1\n",
      "    prev_nmatches = 0\n",
      "\n",
      "    # outer loop, stop when no new equivalent configurations found\n",
      "    while not nmatches == prev_nmatches: \n",
      "    \n",
      "        # update prev_matches (is there a more efficient way of doing this?)\n",
      "        #prev_matches = matches.copy()\n",
      "        prev_nmatches = nmatches\n",
      "    \n",
      "        # loop through all generators\n",
      "        for g in gen:\n",
      "            b = apply_gen(a,g)\n",
      "            \n",
      "            repeat = False\n",
      "            for m in matches:\n",
      "                if np.sum(np.abs(m - b)) <= tol:\n",
      "                    repeat = True\n",
      "                    #break\n",
      "            \n",
      "            if not repeat:\n",
      "                matches.append(b)\n",
      "            \n",
      "\n",
      "            \n",
      "            #c = site_idx(positions,b)\n",
      "\n",
      "            # loop over the possible indexes\n",
      "            #for i,x in enumerate(comb_list):  \n",
      "                #if set(c) == set(x):\n",
      "                    #matches.add(i)\n",
      "            #print matches\n",
      "        \n",
      "            a = b # continue with the transformed configuration\n",
      "            nmatches = len(matches)\n",
      "    \n",
      "    # once all matches are found using symmetry operators\n",
      "    # generate all matches\n",
      "    \n",
      "    # Store unique combinations and multiplicity\n",
      "    \n",
      "    unique_comb.append(comb_list[0])\n",
      "    multip.append(nmatches)\n",
      "    \n",
      "    idx_to_remove = []\n",
      "    for m in matches:\n",
      "        c = site_idx(positions,m)\n",
      "        for i,x in enumerate(comb_list):  \n",
      "            if set(c) == set(x):\n",
      "                idx_to_remove.append(i)\n",
      "            \n",
      "    \n",
      "    # eliminate equivalent configuration\n",
      "    comb_list = np.delete(comb_list,idx_to_remove,axis=0)\n",
      "    \n",
      "    print 'multiplicity:', len(matches)\n",
      "    print 'unsorted configurations:', len(comb_list),'\\n'\n",
      "    print 'matches:', idx_to_remove\n"
     ],
     "language": "python",
     "metadata": {},
     "outputs": [
      {
       "output_type": "stream",
       "stream": "stdout",
       "text": [
        "[0 1 2 3]\n",
        "Unique Position: 1\n",
        "[[ 0.    0.    0.  ]\n",
        " [ 0.25  0.25  0.  ]\n",
        " [ 0.25  0.    0.25]\n",
        " [ 0.    0.25  0.25]]\n",
        "multiplicity:"
       ]
      },
      {
       "output_type": "stream",
       "stream": "stdout",
       "text": [
        " 24\n",
        "unsorted configurations: 35944 \n",
        "\n",
        "matches: [0, 3270, 1947, 3270, 3892, 0, 31115, 35890, 7151, 34880, 22438, 14465, 31115, 35465, 22438, 35071, 24318, 11333, 35465, 24318, 12655, 7151, 7839, 35890]\n",
        "[0 1 2 4]\n",
        "Unique Position: 2\n",
        "[[ 0.    0.    0.  ]\n",
        " [ 0.25  0.25  0.  ]\n",
        " [ 0.25  0.    0.25]\n",
        " [ 0.    0.    0.5 ]]\n",
        "multiplicity:"
       ]
      },
      {
       "output_type": "stream",
       "stream": "stdout",
       "text": [
        " 24\n",
        "unsorted configurations: 35920 \n",
        "\n",
        "matches: [0, 1484, 1246, 2518, 3817, 446, 31268, 27044, 25690, 27015, 32377, 26074, 25954, 34363, 22368, 34239, 16204, 9218, 18191, 24349, 13972, 8304, 7844, 35875]\n",
        "[0 1 2 5]\n",
        "Unique Position: 3\n",
        "[[ 0.    0.    0.  ]\n",
        " [ 0.25  0.25  0.  ]\n",
        " [ 0.25  0.    0.25]\n",
        " [ 0.25  0.25  0.5 ]]\n",
        "multiplicity:"
       ]
      },
      {
       "output_type": "stream",
       "stream": "stdout",
       "text": [
        " 24\n",
        "unsorted configurations: 35896 \n",
        "\n",
        "matches: [0, 4181, 1940, 3263, 3888, 447, 31251, 31035, 14063, 25230, 27743, 31637, 27475, 34704, 21584, 35026, 24303, 10994, 25099, 24311, 13954, 5871, 5801, 35852]\n",
        "[0 1 2 6]\n",
        "Unique Position: 4\n",
        "[[ 0.    0.    0.  ]\n",
        " [ 0.25  0.25  0.  ]\n",
        " [ 0.25  0.    0.25]\n",
        " [ 0.25  0.    0.75]]\n",
        "multiplicity:"
       ]
      },
      {
       "output_type": "stream",
       "stream": "stdout",
       "text": [
        " 24\n",
        "unsorted configurations: 35872 \n",
        "\n",
        "matches: [0, 4151, 513, 1010, 2056, 445, 31231, 29877, 29680, 33447, 32674, 31899, 28787, 34967, 9721, 34983, 24208, 11838, 23065, 24192, 13951, 8278, 7063, 35829]\n",
        "[0 1 2 7]\n",
        "Unique Position: 5\n",
        "[[ 0.    0.    0.  ]\n",
        " [ 0.25  0.25  0.  ]\n",
        " [ 0.25  0.    0.25]\n",
        " [ 0.    0.25  0.75]]\n",
        "multiplicity:"
       ]
      },
      {
       "output_type": "stream",
       "stream": "stdout",
       "text": [
        " 24\n",
        "unsorted configurations: 35849 \n",
        "\n",
        "matches: [0, 3832, 1932, 3235, 2810, 443, 31213, 28533, 29474, 8446, 11303, 24265, 29910, 35162, 22389, 34995, 24309, 12000, 20757, 18770, 13936, 7775, 7775, 35806]\n",
        "[0 1 2 8]\n",
        "Unique Position: 6\n",
        "[[ 0.    0.    0.  ]\n",
        " [ 0.25  0.25  0.  ]\n",
        " [ 0.25  0.    0.25]\n",
        " [ 0.    0.5   0.  ]]\n",
        "multiplicity:"
       ]
      },
      {
       "output_type": "stream",
       "stream": "stdout",
       "text": [
        " 24\n",
        "unsorted configurations: 35827 \n",
        "\n",
        "matches: [0, 2621, 1906, 3217, 2576, 434, 17235, 34448, 29366, 34419, 17485, 17337, 17217, 35364, 22376, 34971, 11990, 35408, 12285, 6680, 7730, 34442]\n",
        "[0 1 2 9]\n",
        "Unique Position: 7\n",
        "[[ 0.    0.    0.  ]\n",
        " [ 0.25  0.25  0.  ]\n",
        " [ 0.25  0.    0.25]\n",
        " [ 0.25  0.75  0.  ]]\n",
        "multiplicity:"
       ]
      },
      {
       "output_type": "stream",
       "stream": "stdout",
       "text": [
        " 24\n",
        "unsorted configurations: 35805 \n",
        "\n",
        "matches: [0, 4014, 106, 625, 2321, 435, 24136, 35290, 29631, 35726, 32623, 31844, 19801, 35344, 18477, 34913, 11877, 35389, 13889, 8074, 6834, 34785]\n",
        "[ 0  1  2 10]\n",
        "Unique Position: 8\n",
        "[[ 0.    0.    0.  ]\n",
        " [ 0.25  0.25  0.  ]\n",
        " [ 0.25  0.    0.25]\n",
        " [ 0.25  0.5   0.25]]\n",
        "multiplicity:"
       ]
      },
      {
       "output_type": "stream",
       "stream": "stdout",
       "text": [
        " 24\n",
        "unsorted configurations: 35783 \n",
        "\n",
        "matches: [0, 4149, 1924, 3239, 3861, 432, 22105, 35053, 10749, 35606, 32161, 31626, 22087, 35325, 22263, 34928, 10763, 35368, 8649, 5165, 6069, 35047]\n",
        "[ 0  1  2 11]\n",
        "Unique Position: 9\n",
        "[[ 0.    0.    0.  ]\n",
        " [ 0.25  0.25  0.  ]\n",
        " [ 0.25  0.    0.25]\n",
        " [ 0.    0.75  0.25]]\n",
        "multiplicity:"
       ]
      },
      {
       "output_type": "stream",
       "stream": "stdout",
       "text": [
        " 24\n",
        "unsorted configurations: 35761 \n",
        "\n",
        "matches: [0, 1115, 1875, 2720, 3796, 430, 19796, 34758, 27123, 35667, 32558, 29967, 24092, 35306, 22332, 34816, 9485, 35347, 13888, 8248, 7795, 35247]\n",
        "[ 0  1  2 12]\n",
        "Unique Position: 10\n",
        "[[ 0.    0.    0.  ]\n",
        " [ 0.25  0.25  0.  ]\n",
        " [ 0.25  0.    0.25]\n",
        " [ 0.    0.5   0.5 ]]\n",
        "multiplicity:"
       ]
      },
      {
       "output_type": "stream",
       "stream": "stdout",
       "text": [
        " 24\n",
        "unsorted configurations: 35738 \n",
        "\n",
        "matches: [0, 3399, 1917, 3230, 3846, 437, 31127, 4393, 3054, 4364, 3581, 3433, 3313, 35283, 22321, 34884, 24190, 11103, 31723, 24190, 13884, 7452, 7750, 35383]\n"
       ]
      }
     ],
     "prompt_number": 18
    },
    {
     "cell_type": "code",
     "collapsed": false,
     "input": [
      "# with translations\n",
      "import copy\n",
      "comb_list = combs.copy()\n",
      "unique_comb = []\n",
      "multip = []\n",
      "\n",
      "len(comb_list)\n",
      "\n",
      "tol = .01\n",
      "count = 0\n",
      "# Loop until all unique configurations identified\n",
      "#while len(comb_list) > 0:\n",
      "for tmp in range(1):\n",
      "    \n",
      "    # use the first comination as the unique position\n",
      "    print comb_list[0]\n",
      "    a = positions[comb_list[0]]\n",
      "    count += 1\n",
      "    print 'Unique Position:', count\n",
      "    print a\n",
      "\n",
      "    matches = [a] # must include 0\n",
      "    nmatches = 1\n",
      "    prev_nmatches = 0\n",
      "\n",
      "    # outer loop, stop when no new equivalent configurations found\n",
      "    while not nmatches == prev_nmatches: \n",
      "    \n",
      "        # update prev_matches (is there a more efficient way of doing this?)\n",
      "        #prev_matches = matches.copy()\n",
      "        prev_nmatches = nmatches\n",
      "    \n",
      "        # loop through all generators\n",
      "        for g in gen:\n",
      "            b = apply_gen(a,g)\n",
      "            \n",
      "            repeat = False\n",
      "            for m in matches:\n",
      "                if np.sum(np.abs(m - b)) <= tol:\n",
      "                    repeat = True\n",
      "                    #break\n",
      "            \n",
      "            if not repeat:\n",
      "                matches.append(b)\n",
      "                #print b\n",
      "            \n",
      "            a = b # continue with the transformed configuration\n",
      "            nmatches = len(matches)\n",
      "            \n",
      "            #c = site_idx(positions,b)\n",
      "\n",
      "            # loop over the possible indexes\n",
      "            #for i,x in enumerate(comb_list):  \n",
      "                #if set(c) == set(x):\n",
      "    \n",
      "            #matches.add(i)\n",
      "    #print ' at end'\n",
      "    #print matches\n",
      "    #print nmatches\n",
      "    \n",
      "    #for m in matches:\n",
      "    #    c = site_idx(positions,m)\n",
      "    #    print c\n",
      "        \n",
      "    #print matches[0]\n",
      "    #print tran[7]\n",
      "    #print np.mod(matches[0] + tran[7],1.)\n",
      "       \n",
      "\n",
      "    \n",
      "    # once all matches are found using symmetry operators\n",
      "    # generate all matches\n",
      "    \n",
      "    # Store unique combinations and multiplicity\n",
      "    \n",
      "    unique_comb.append(comb_list[0])\n",
      "    multip.append(nmatches)\n",
      "    \n",
      "    tmatches = []\n",
      "    # apply translations \n",
      "    for t in tran:\n",
      "        for m in matches:\n",
      "            tmatches.append(np.mod(m+t,1.))  # need to check for non-unique combinations\n",
      "        \n",
      "    \n",
      "    print len(tmatches)\n",
      "\n",
      "    \n",
      "    rows=comb_list.shape[0]\n",
      "    cols=comb_list.shape[1]\n",
      "    idx_to_remove = np.zeros(rows)\n",
      "    \n",
      "    for m in tmatches:\n",
      "        c = np.array(site_idx(positions,m))\n",
      "        idx_to_remove += cols == (0 == (comb_list - c)).sum(1)\n",
      "\n",
      "    print idx_to_remove\n",
      "    print len(idx_to_remove)\n",
      "    print rows, cols\n",
      "                    \n",
      "'''    \n",
      "    # eliminate equivalent configuration\n",
      "    comb_list = np.delete(comb_list,idx_to_remove,axis=0)\n",
      "    \n",
      "    print 'multiplicity:', len(tmatches)\n",
      "    print 'unsorted configurations:', len(comb_list),'\\n'\n",
      "    print 'matches:', idx_to_remove\n",
      "'''"
     ],
     "language": "python",
     "metadata": {},
     "outputs": [
      {
       "output_type": "stream",
       "stream": "stdout",
       "text": [
        "[0 1 2 3]\n",
        "Unique Position: 1\n",
        "[[ 0.    0.    0.  ]\n",
        " [ 0.25  0.25  0.  ]\n",
        " [ 0.25  0.    0.25]\n",
        " [ 0.    0.25  0.25]]\n",
        "192\n",
        "[ 1.  0.  0. ...,  0.  0.  0.]"
       ]
      },
      {
       "output_type": "stream",
       "stream": "stdout",
       "text": [
        "\n",
        "35960\n",
        "35960 4\n"
       ]
      },
      {
       "metadata": {},
       "output_type": "pyout",
       "prompt_number": 66,
       "text": [
        "\"    \\n    # eliminate equivalent configuration\\n    comb_list = np.delete(comb_list,idx_to_remove,axis=0)\\n    \\n    print 'multiplicity:', len(tmatches)\\n    print 'unsorted configurations:', len(comb_list),'\\n'\\n    print 'matches:', idx_to_remove\\n\""
       ]
      }
     ],
     "prompt_number": 66
    },
    {
     "cell_type": "code",
     "collapsed": false,
     "input": [
      "print unique_comb\n",
      "print multip\n",
      "print len(comb_list)"
     ],
     "language": "python",
     "metadata": {},
     "outputs": [
      {
       "output_type": "stream",
       "stream": "stdout",
       "text": [
        "[array([0, 1, 2, 3])]\n",
        "[16]\n",
        "35944\n"
       ]
      }
     ],
     "prompt_number": 214
    },
    {
     "cell_type": "code",
     "collapsed": false,
     "input": [
      "len(comb_list)\n",
      "a"
     ],
     "language": "python",
     "metadata": {},
     "outputs": [
      {
       "metadata": {},
       "output_type": "pyout",
       "prompt_number": 124,
       "text": [
        "array([[ 0.125,  0.125,  0.125],\n",
        "       [ 0.375,  0.375,  0.125],\n",
        "       [ 0.375,  0.125,  0.375],\n",
        "       [ 0.125,  0.375,  0.375]])"
       ]
      }
     ],
     "prompt_number": 124
    },
    {
     "cell_type": "code",
     "collapsed": false,
     "input": [
      "np.arange(15,32)"
     ],
     "language": "python",
     "metadata": {},
     "outputs": [
      {
       "metadata": {},
       "output_type": "pyout",
       "prompt_number": 38,
       "text": [
        "array([15, 16, 17, 18, 19, 20, 21, 22, 23, 24, 25, 26, 27, 28, 29, 30, 31])"
       ]
      }
     ],
     "prompt_number": 38
    },
    {
     "cell_type": "code",
     "collapsed": false,
     "input": [
      "run.pos[[ 0,  1,  2,  3]]"
     ],
     "language": "python",
     "metadata": {},
     "outputs": [
      {
       "metadata": {},
       "output_type": "pyout",
       "prompt_number": 53,
       "text": [
        "array([[ 0.125,  0.125,  0.125],\n",
        "       [ 0.375,  0.375,  0.125],\n",
        "       [ 0.375,  0.125,  0.375],\n",
        "       [ 0.125,  0.375,  0.375]])"
       ]
      }
     ],
     "prompt_number": 53
    },
    {
     "cell_type": "code",
     "collapsed": false,
     "input": [
      "run.pos\n"
     ],
     "language": "python",
     "metadata": {},
     "outputs": [
      {
       "metadata": {},
       "output_type": "pyout",
       "prompt_number": 54,
       "text": [
        "array([[ 0.125,  0.125,  0.125],\n",
        "       [ 0.375,  0.375,  0.125],\n",
        "       [ 0.375,  0.125,  0.375],\n",
        "       [ 0.125,  0.375,  0.375],\n",
        "       [ 0.125,  0.125,  0.625],\n",
        "       [ 0.375,  0.375,  0.625],\n",
        "       [ 0.375,  0.125,  0.875],\n",
        "       [ 0.125,  0.375,  0.875],\n",
        "       [ 0.125,  0.625,  0.125],\n",
        "       [ 0.375,  0.875,  0.125],\n",
        "       [ 0.375,  0.625,  0.375],\n",
        "       [ 0.125,  0.875,  0.375],\n",
        "       [ 0.125,  0.625,  0.625],\n",
        "       [ 0.375,  0.875,  0.625],\n",
        "       [ 0.375,  0.625,  0.875],\n",
        "       [ 0.125,  0.875,  0.875],\n",
        "       [ 0.625,  0.125,  0.125],\n",
        "       [ 0.875,  0.375,  0.125],\n",
        "       [ 0.875,  0.125,  0.375],\n",
        "       [ 0.625,  0.375,  0.375],\n",
        "       [ 0.625,  0.125,  0.625],\n",
        "       [ 0.875,  0.375,  0.625],\n",
        "       [ 0.875,  0.125,  0.875],\n",
        "       [ 0.625,  0.375,  0.875],\n",
        "       [ 0.625,  0.625,  0.125],\n",
        "       [ 0.875,  0.875,  0.125],\n",
        "       [ 0.875,  0.625,  0.375],\n",
        "       [ 0.625,  0.875,  0.375],\n",
        "       [ 0.625,  0.625,  0.625],\n",
        "       [ 0.875,  0.875,  0.625],\n",
        "       [ 0.875,  0.625,  0.875],\n",
        "       [ 0.625,  0.875,  0.875]])"
       ]
      }
     ],
     "prompt_number": 54
    },
    {
     "cell_type": "markdown",
     "metadata": {},
     "source": [
      "Retrieving generators:\n",
      "\n",
      "Example for simple FCC structure\n",
      "\n",
      "http://www.cryst.ehu.es/cgi-bin/cryst/programs/nph-getgen?list=Standard/Default%20Setting&what=gen&gnum=225"
     ]
    },
    {
     "cell_type": "code",
     "collapsed": false,
     "input": [
      "a = run.pos[combs[0]]\n",
      "a"
     ],
     "language": "python",
     "metadata": {},
     "outputs": [
      {
       "metadata": {},
       "output_type": "pyout",
       "prompt_number": 58,
       "text": [
        "array([[ 0.125,  0.125,  0.125],\n",
        "       [ 0.375,  0.375,  0.125],\n",
        "       [ 0.375,  0.125,  0.375],\n",
        "       [ 0.125,  0.375,  0.375]])"
       ]
      }
     ],
     "prompt_number": 58
    },
    {
     "cell_type": "code",
     "collapsed": false,
     "input": [
      "# example generator\n",
      "g = np.array([[0,1,0,0],[1,0,0,0],[0,0,-1,0]])\n",
      "\n",
      "print g[:,0:3]\n",
      "print g[:,3]\n",
      "print a\n",
      "np.dot(a,g[:,0:3])"
     ],
     "language": "python",
     "metadata": {},
     "outputs": [
      {
       "output_type": "stream",
       "stream": "stdout",
       "text": [
        "[[ 0  1  0]\n",
        " [ 1  0  0]\n",
        " [ 0  0 -1]]\n",
        "[0 0 0]\n",
        "[[ 0.125  0.125  0.125]\n",
        " [ 0.375  0.375  0.125]\n",
        " [ 0.375  0.125  0.375]\n",
        " [ 0.125  0.375  0.375]]\n"
       ]
      },
      {
       "metadata": {},
       "output_type": "pyout",
       "prompt_number": 168,
       "text": [
        "array([[ 0.125,  0.125, -0.125],\n",
        "       [ 0.375,  0.375, -0.125],\n",
        "       [ 0.125,  0.375, -0.375],\n",
        "       [ 0.375,  0.125, -0.375]])"
       ]
      }
     ],
     "prompt_number": 168
    },
    {
     "cell_type": "code",
     "collapsed": false,
     "input": [
      "def apply_gen(p,g):\n",
      "    '''Apply generator 'g' to a set of positions 'p'.'''\n",
      "    \n",
      "    # Check shape and value of p and g\n",
      "    assert p.shape[1] == 3\n",
      "    assert g.shape == (3,4)\n",
      "    assert p.max() <= 1. and p.min >= 0.\n",
      "    assert g.max() <= 1. and g.min >= -1.\n",
      "    \n",
      "    # Carry out dot product\n",
      "    ptrans = np.dot(p,g[:,0:3]) + g[:,3] # could casting cause a problem for n=3?\n",
      "\n",
      "    # shift all positions to between 0 and 1\n",
      "    pmod = np.mod(ptrans,1.)\n",
      "    return pmod "
     ],
     "language": "python",
     "metadata": {},
     "outputs": [],
     "prompt_number": 9
    },
    {
     "cell_type": "code",
     "collapsed": false,
     "input": [
      "a2 = np.dot(a,g[:,0:3]) + g[:,3]\n",
      "a3 = np.mod(a2,1.)\n",
      "print a2\n",
      "print a3"
     ],
     "language": "python",
     "metadata": {},
     "outputs": [
      {
       "output_type": "stream",
       "stream": "stdout",
       "text": [
        "[[-0.125 -0.125  0.125]\n",
        " [-0.375 -0.375  0.125]\n",
        " [-0.375 -0.125  0.375]\n",
        " [-0.125 -0.375  0.375]]\n",
        "[[ 0.875  0.875  0.125]\n",
        " [ 0.625  0.625  0.125]\n",
        " [ 0.625  0.875  0.375]\n",
        " [ 0.875  0.625  0.375]]\n"
       ]
      }
     ],
     "prompt_number": 78
    },
    {
     "cell_type": "code",
     "collapsed": false,
     "input": [
      "b = apply_gen(a,g)\n",
      "b"
     ],
     "language": "python",
     "metadata": {},
     "outputs": [
      {
       "metadata": {},
       "output_type": "pyout",
       "prompt_number": 94,
       "text": [
        "array([[ 0.875,  0.875,  0.125],\n",
        "       [ 0.625,  0.625,  0.125],\n",
        "       [ 0.625,  0.875,  0.375],\n",
        "       [ 0.875,  0.625,  0.375]])"
       ]
      }
     ],
     "prompt_number": 94
    },
    {
     "cell_type": "code",
     "collapsed": false,
     "input": [
      "# locating position by row\n",
      "c = np.where((run.pos == b[3]).all(axis=1))\n",
      "c[0].flatten()[0]"
     ],
     "language": "python",
     "metadata": {},
     "outputs": [
      {
       "metadata": {},
       "output_type": "pyout",
       "prompt_number": 107,
       "text": [
        "26"
       ]
      }
     ],
     "prompt_number": 107
    },
    {
     "cell_type": "code",
     "collapsed": false,
     "input": [
      "run.pos[ np.where((run.pos == a[0]).all(axis=1)) "
     ],
     "language": "python",
     "metadata": {},
     "outputs": [
      {
       "metadata": {},
       "output_type": "pyout",
       "prompt_number": 92,
       "text": [
        "array([[ 0.125,  0.125,  0.125]])"
       ]
      }
     ],
     "prompt_number": 92
    },
    {
     "cell_type": "code",
     "collapsed": false,
     "input": [
      "def site_idx(sites,pos):\n",
      "    '''For an array of possible sites, match coordinates in 'pos' and return\n",
      "    the index of the corresponding site. If site does not match, return None.'''\n",
      "    \n",
      "    assert pos.shape[1] == 3\n",
      "    assert sites.shape[1] == 3\n",
      "    \n",
      "    matches = []\n",
      "    for p in pos:\n",
      "        m = np.where((sites == p).all(axis=1))\n",
      "        matches.append(m[0].flatten()[0])\n",
      "        \n",
      "    return matches\n",
      "    \n",
      "    "
     ],
     "language": "python",
     "metadata": {},
     "outputs": [],
     "prompt_number": 10
    },
    {
     "cell_type": "code",
     "collapsed": false,
     "input": [
      "c = site_idx(run.pos,b)"
     ],
     "language": "python",
     "metadata": {},
     "outputs": [
      {
       "metadata": {},
       "output_type": "pyout",
       "prompt_number": 113,
       "text": [
        "[25, 24, 27, 26]"
       ]
      }
     ],
     "prompt_number": 113
    },
    {
     "cell_type": "code",
     "collapsed": false,
     "input": [],
     "language": "python",
     "metadata": {},
     "outputs": [
      {
       "metadata": {},
       "output_type": "pyout",
       "prompt_number": 152,
       "text": [
        "array([[ 0.125,  0.375,  0.375,  0.125],\n",
        "       [ 0.125,  0.375,  0.125,  0.375],\n",
        "       [ 0.125,  0.125,  0.375,  0.375]])"
       ]
      }
     ],
     "prompt_number": 152
    },
    {
     "cell_type": "code",
     "collapsed": false,
     "input": [
      "g"
     ],
     "language": "python",
     "metadata": {},
     "outputs": [
      {
       "metadata": {},
       "output_type": "pyout",
       "prompt_number": 156,
       "text": [
        "array([[-1,  0,  0,  0],\n",
        "       [ 0, -1,  0,  0],\n",
        "       [ 0,  0,  1,  0]])"
       ]
      }
     ],
     "prompt_number": 156
    },
    {
     "cell_type": "code",
     "collapsed": false,
     "input": [
      "a"
     ],
     "language": "python",
     "metadata": {},
     "outputs": [
      {
       "metadata": {},
       "output_type": "pyout",
       "prompt_number": 157,
       "text": [
        "array([[ 0.125,  0.125,  0.125],\n",
        "       [ 0.375,  0.375,  0.125],\n",
        "       [ 0.375,  0.125,  0.375],\n",
        "       [ 0.125,  0.375,  0.375]])"
       ]
      }
     ],
     "prompt_number": 157
    },
    {
     "cell_type": "code",
     "collapsed": false,
     "input": [
      "print g\n",
      "print a"
     ],
     "language": "python",
     "metadata": {},
     "outputs": [
      {
       "output_type": "stream",
       "stream": "stdout",
       "text": [
        "[[-1  0  0  0]\n",
        " [ 0 -1  0  0]\n",
        " [ 0  0  1  0]]\n",
        "[[ 0.125  0.125  0.125]\n",
        " [ 0.375  0.375  0.125]\n",
        " [ 0.375  0.125  0.375]\n",
        " [ 0.125  0.375  0.375]]\n"
       ]
      }
     ],
     "prompt_number": 160
    },
    {
     "cell_type": "code",
     "collapsed": false,
     "input": [],
     "language": "python",
     "metadata": {},
     "outputs": [
      {
       "output_type": "stream",
       "stream": "stdout",
       "text": [
        "[[ 0.125  0.125  0.125]\n",
        " [ 0.375  0.375  0.125]\n",
        " [ 0.375  0.125  0.375]\n",
        " [ 0.125  0.375  0.375]]\n"
       ]
      }
     ],
     "prompt_number": 159
    },
    {
     "cell_type": "code",
     "collapsed": false,
     "input": [
      "comb_list"
     ],
     "language": "python",
     "metadata": {},
     "outputs": [
      {
       "metadata": {},
       "output_type": "pyout",
       "prompt_number": 46,
       "text": [
        "array([[ 0,  1,  2,  3],\n",
        "       [ 0,  1,  2,  4],\n",
        "       [ 0,  1,  2,  5],\n",
        "       ..., \n",
        "       [27, 28, 30, 31],\n",
        "       [27, 29, 30, 31],\n",
        "       [28, 29, 30, 31]])"
       ]
      }
     ],
     "prompt_number": 46
    },
    {
     "cell_type": "code",
     "collapsed": false,
     "input": [
      "~np.all(comb_list - [27, 28, 30, 31],1)"
     ],
     "language": "python",
     "metadata": {},
     "outputs": [
      {
       "metadata": {},
       "output_type": "pyout",
       "prompt_number": 47,
       "text": [
        "array([False, False, False, ...,  True,  True,  True], dtype=bool)"
       ]
      }
     ],
     "prompt_number": 47
    },
    {
     "cell_type": "code",
     "collapsed": false,
     "input": [
      "np.all(comb_list - [27, 28, 30, 31],1)"
     ],
     "language": "python",
     "metadata": {},
     "outputs": [
      {
       "metadata": {},
       "output_type": "pyout",
       "prompt_number": 49,
       "text": [
        "array([ True,  True,  True, ..., False, False, False], dtype=bool)"
       ]
      }
     ],
     "prompt_number": 49
    },
    {
     "cell_type": "code",
     "collapsed": false,
     "input": [
      "d1 = 4 == (0== (comb_list - [28, 29, 30, 31])).sum(1)\n",
      "d2 = 4 == (0== (comb_list - [27, 29, 30, 31])).sum(1)\n"
     ],
     "language": "python",
     "metadata": {},
     "outputs": [],
     "prompt_number": 58
    },
    {
     "cell_type": "code",
     "collapsed": false,
     "input": [
      "d1 + d2"
     ],
     "language": "python",
     "metadata": {},
     "outputs": [
      {
       "metadata": {},
       "output_type": "pyout",
       "prompt_number": 60,
       "text": [
        "array([False, False, False, ..., False,  True,  True], dtype=bool)"
       ]
      }
     ],
     "prompt_number": 60
    },
    {
     "cell_type": "code",
     "collapsed": false,
     "input": [],
     "language": "python",
     "metadata": {},
     "outputs": []
    }
   ],
   "metadata": {}
  }
 ]
}